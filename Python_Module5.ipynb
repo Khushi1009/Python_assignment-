{
  "nbformat": 4,
  "nbformat_minor": 0,
  "metadata": {
    "colab": {
      "provenance": [],
      "authorship_tag": "ABX9TyNPo9SGm7IkAKVRfSyCtoVO",
      "include_colab_link": true
    },
    "kernelspec": {
      "name": "python3",
      "display_name": "Python 3"
    },
    "language_info": {
      "name": "python"
    }
  },
  "cells": [
    {
      "cell_type": "markdown",
      "metadata": {
        "id": "view-in-github",
        "colab_type": "text"
      },
      "source": [
        "<a href=\"https://colab.research.google.com/github/Khushi1009/Python_assignment-/blob/main/Python_Module5.ipynb\" target=\"_parent\"><img src=\"https://colab.research.google.com/assets/colab-badge.svg\" alt=\"Open In Colab\"/></a>"
      ]
    },
    {
      "cell_type": "markdown",
      "source": [
        "Theory Questions:\n",
        "\n",
        "1.What is the difference between a function and a method in Python?\n",
        "\n",
        "Ans\n",
        "\n",
        "The key difference between a function and a method in Python lies in their association with objects. A function is independent and defined outside of any class, meaning it can be called directly without being tied to an object. In contrast, a method is defined within a class and is associated with an object, requiring the object to call it. Additionally, methods automatically take the object itself (commonly represented as self) as their first parameter, allowing them to access or modify the object's attributes, while functions do not.\n",
        "\n",
        "\n"
      ],
      "metadata": {
        "id": "iOQNxkenXGyQ"
      }
    },
    {
      "cell_type": "code",
      "source": [
        "# Function Example\n",
        "def add_numbers(a, b):\n",
        "    return a + b\n",
        "\n",
        "# Function call\n",
        "result = add_numbers(5, 3)\n",
        "print(result)  # Output: 8\n"
      ],
      "metadata": {
        "colab": {
          "base_uri": "https://localhost:8080/"
        },
        "id": "oLcq171QXLqL",
        "outputId": "f2c705ca-029a-4393-ba7d-57382813fa5f"
      },
      "execution_count": null,
      "outputs": [
        {
          "output_type": "stream",
          "name": "stdout",
          "text": [
            "8\n"
          ]
        }
      ]
    },
    {
      "cell_type": "code",
      "source": [
        "\n",
        " # Method Example\n",
        "class Calculator:\n",
        "\n",
        "    def add(self, a, b):\n",
        "        return a + b\n",
        "\n",
        "# Creating an object of the class\n",
        "calc = Calculator()\n",
        "\n",
        "# Method call\n",
        "result = calc.add(5, 3)\n",
        "print(result)  # Output: 8\n"
      ],
      "metadata": {
        "colab": {
          "base_uri": "https://localhost:8080/"
        },
        "id": "AWQ0EN21Xeck",
        "outputId": "9f48a8ad-3fc9-493a-b76a-4f76740a59a2"
      },
      "execution_count": null,
      "outputs": [
        {
          "output_type": "stream",
          "name": "stdout",
          "text": [
            "8\n"
          ]
        }
      ]
    },
    {
      "cell_type": "markdown",
      "source": [
        "2.Explain the concept of function arguments and parameters in Python.\n",
        "\n",
        "Ans\n",
        "\n",
        "In Python, function arguments and parameters are terms used to describe the data passed to a function and the variables that receive that data within the function.\n",
        "\n",
        "Parameters\n",
        "\n",
        "Parameters are placeholders defined in the function header.\n",
        "They specify the names of variables that the function expects to receive when it is called.\n",
        "Parameters are like \"input variables\" for the function, and they are used within the function body to perform operations."
      ],
      "metadata": {
        "id": "CV6i8hDnXtke"
      }
    },
    {
      "cell_type": "code",
      "source": [
        "#Example Parameter\n",
        "\n",
        "def greet(name):  # 'name' is a parameter\n",
        "    print(f\"Hello, {name}!\")\n"
      ],
      "metadata": {
        "id": "nQJf5-Jild4L"
      },
      "execution_count": null,
      "outputs": []
    },
    {
      "cell_type": "markdown",
      "source": [
        "\n",
        "Arguments\n",
        "\n",
        "Arguments are the actual values you pass to a function when calling it.\n",
        "These values are assigned to the function's parameters during execution.\n"
      ],
      "metadata": {
        "id": "KtgREVDMllUC"
      }
    },
    {
      "cell_type": "code",
      "source": [
        "#Example Argument\n",
        "\n",
        "greet(\"Alice\")  # \"Alice\" is an argument\n"
      ],
      "metadata": {
        "id": "IVAMPIV7mT7T"
      },
      "execution_count": null,
      "outputs": []
    },
    {
      "cell_type": "markdown",
      "source": [
        "3.What are the different ways to define and call a function in Python?"
      ],
      "metadata": {
        "id": "DKC-XtDpmnvE"
      }
    },
    {
      "cell_type": "markdown",
      "source": [
        "Ans\n",
        "\n",
        "1.**Regular Function**\n",
        "\n",
        "**Definition**\n",
        "\n",
        "A regular function is defined using the def keyword, followed by a function name and optional parameters."
      ],
      "metadata": {
        "id": "nbVwSJUcmsbG"
      }
    },
    {
      "cell_type": "code",
      "source": [
        "# defining a  Regular Fuction\n",
        "\n",
        "def greet(name):\n",
        "    return f\"Hello, {name}!\"\n"
      ],
      "metadata": {
        "id": "xWJcrUmFnS27"
      },
      "execution_count": null,
      "outputs": []
    },
    {
      "cell_type": "markdown",
      "source": [
        "You call the function by its name and pass required arguments.\n"
      ],
      "metadata": {
        "id": "0wtTpN9Unn6a"
      }
    },
    {
      "cell_type": "code",
      "source": [
        "#calling a Regular Function\n",
        "print(greet(\"Alice\"))  # Output: Hello, Alice!\n"
      ],
      "metadata": {
        "colab": {
          "base_uri": "https://localhost:8080/"
        },
        "id": "nWNjKgLdnxR8",
        "outputId": "94cdd8af-5111-4f79-9941-c6fce439bdbb"
      },
      "execution_count": null,
      "outputs": [
        {
          "output_type": "stream",
          "name": "stdout",
          "text": [
            "Hello, Alice!\n"
          ]
        }
      ]
    },
    {
      "cell_type": "markdown",
      "source": [
        "**2.Function with Default Parameters**\n",
        "\n",
        "**Definition**\n",
        "\n",
        "A function can have default parameter values, which are used if no arguments are provided."
      ],
      "metadata": {
        "id": "HOybdTDBn_gT"
      }
    },
    {
      "cell_type": "code",
      "source": [
        "#defining a Function with default parameter\n",
        "def greet(name, age=18):\n",
        "    return f\"{name} is {age} years old.\"\n"
      ],
      "metadata": {
        "id": "S_FlFY8roLSt"
      },
      "execution_count": null,
      "outputs": []
    },
    {
      "cell_type": "code",
      "source": [
        "#calling a Fuction with default parameter\n",
        "print(greet(\"Alice\"))       # Output: Alice is 18 years old.\n",
        "print(greet(\"Bob\", 25))     # Output: Bob is 25 years old.\n"
      ],
      "metadata": {
        "colab": {
          "base_uri": "https://localhost:8080/"
        },
        "id": "jk7hAdZ9o8We",
        "outputId": "c2fccfd9-c446-4ac2-aa82-2e23e29b2774"
      },
      "execution_count": null,
      "outputs": [
        {
          "output_type": "stream",
          "name": "stdout",
          "text": [
            "Alice is 18 years old.\n",
            "Bob is 25 years old.\n"
          ]
        }
      ]
    },
    {
      "cell_type": "markdown",
      "source": [
        "**3.Function with Arbitrary Arguments**\n",
        "\n",
        "**Definition**\n",
        "\n",
        "You can define a function to accept a variable number of arguments using *args (positional arguments) or **kwargs (keyword arguments)."
      ],
      "metadata": {
        "id": "E6B8pahDpRS_"
      }
    },
    {
      "cell_type": "code",
      "source": [
        "#Defining a Function with Arbitrary Argument\n",
        "def show_args(*args):\n",
        "    return f\"Positional arguments: {args}\"\n",
        "\n",
        "def show_kwargs(**kwargs):\n",
        "    return f\"Keyword arguments: {kwargs}\"\n"
      ],
      "metadata": {
        "id": "EHirChIGpfB9"
      },
      "execution_count": null,
      "outputs": []
    },
    {
      "cell_type": "code",
      "source": [
        "# calling a Function with Arbitrary Argument\n",
        "print(show_*args(1, 2, 3))           # Output: Positional arguments: (1, 2, 3)\n",
        "print(show_*kwargs(a=1, b=2, c=3))  # Output: Keyword arguments: {'a': 1, 'b': 2, 'c': 3}\n"
      ],
      "metadata": {
        "colab": {
          "base_uri": "https://localhost:8080/",
          "height": 176
        },
        "id": "SpY92rfbp6NX",
        "outputId": "b53f204b-417b-4ddb-e2b4-b5440388ef0e"
      },
      "execution_count": null,
      "outputs": [
        {
          "output_type": "error",
          "ename": "NameError",
          "evalue": "name 'show_' is not defined",
          "traceback": [
            "\u001b[0;31m---------------------------------------------------------------------------\u001b[0m",
            "\u001b[0;31mNameError\u001b[0m                                 Traceback (most recent call last)",
            "\u001b[0;32m<ipython-input-11-096c7f2cbf96>\u001b[0m in \u001b[0;36m<cell line: 2>\u001b[0;34m()\u001b[0m\n\u001b[1;32m      1\u001b[0m \u001b[0;31m# calling a Function with Arbitrary Argument\u001b[0m\u001b[0;34m\u001b[0m\u001b[0;34m\u001b[0m\u001b[0m\n\u001b[0;32m----> 2\u001b[0;31m \u001b[0mprint\u001b[0m\u001b[0;34m(\u001b[0m\u001b[0mshow_\u001b[0m\u001b[0;34m*\u001b[0m\u001b[0margs\u001b[0m\u001b[0;34m(\u001b[0m\u001b[0;36m1\u001b[0m\u001b[0;34m,\u001b[0m \u001b[0;36m2\u001b[0m\u001b[0;34m,\u001b[0m \u001b[0;36m3\u001b[0m\u001b[0;34m)\u001b[0m\u001b[0;34m)\u001b[0m           \u001b[0;31m# Output: Positional arguments: (1, 2, 3)\u001b[0m\u001b[0;34m\u001b[0m\u001b[0;34m\u001b[0m\u001b[0m\n\u001b[0m\u001b[1;32m      3\u001b[0m \u001b[0mprint\u001b[0m\u001b[0;34m(\u001b[0m\u001b[0mshow_\u001b[0m\u001b[0;34m*\u001b[0m\u001b[0mkwargs\u001b[0m\u001b[0;34m(\u001b[0m\u001b[0ma\u001b[0m\u001b[0;34m=\u001b[0m\u001b[0;36m1\u001b[0m\u001b[0;34m,\u001b[0m \u001b[0mb\u001b[0m\u001b[0;34m=\u001b[0m\u001b[0;36m2\u001b[0m\u001b[0;34m,\u001b[0m \u001b[0mc\u001b[0m\u001b[0;34m=\u001b[0m\u001b[0;36m3\u001b[0m\u001b[0;34m)\u001b[0m\u001b[0;34m)\u001b[0m  \u001b[0;31m# Output: Keyword arguments: {'a': 1, 'b': 2, 'c': 3}\u001b[0m\u001b[0;34m\u001b[0m\u001b[0;34m\u001b[0m\u001b[0m\n",
            "\u001b[0;31mNameError\u001b[0m: name 'show_' is not defined"
          ]
        }
      ]
    },
    {
      "cell_type": "markdown",
      "source": [
        "4.**Anonymous (Lambda) Function**\n",
        "\n",
        "**Definition**\n",
        "\n",
        "A lambda function is a concise, one-line function defined using the lambda keyword."
      ],
      "metadata": {
        "id": "zv9ohXZxq4We"
      }
    },
    {
      "cell_type": "code",
      "source": [
        "#defining an Anonymous Function\n",
        "add = lambda x, y: x + y\n"
      ],
      "metadata": {
        "id": "rj0ffKFHrCWn"
      },
      "execution_count": null,
      "outputs": []
    },
    {
      "cell_type": "code",
      "source": [
        "#calling an Anonymous Function\n",
        "print(add(5, 3))  # Output: 8\n"
      ],
      "metadata": {
        "colab": {
          "base_uri": "https://localhost:8080/",
          "height": 158
        },
        "id": "llXc33UkrP9m",
        "outputId": "a326938c-d5b4-43a0-baea-dac052d0ce82"
      },
      "execution_count": null,
      "outputs": [
        {
          "output_type": "error",
          "ename": "NameError",
          "evalue": "name 'add' is not defined",
          "traceback": [
            "\u001b[0;31m---------------------------------------------------------------------------\u001b[0m",
            "\u001b[0;31mNameError\u001b[0m                                 Traceback (most recent call last)",
            "\u001b[0;32m<ipython-input-14-9c375b8fba49>\u001b[0m in \u001b[0;36m<cell line: 2>\u001b[0;34m()\u001b[0m\n\u001b[1;32m      1\u001b[0m \u001b[0;31m#calling an Anonymous Function\u001b[0m\u001b[0;34m\u001b[0m\u001b[0;34m\u001b[0m\u001b[0m\n\u001b[0;32m----> 2\u001b[0;31m \u001b[0mprint\u001b[0m\u001b[0;34m(\u001b[0m\u001b[0madd\u001b[0m\u001b[0;34m(\u001b[0m\u001b[0;36m5\u001b[0m\u001b[0;34m,\u001b[0m \u001b[0;36m3\u001b[0m\u001b[0;34m)\u001b[0m\u001b[0;34m)\u001b[0m  \u001b[0;31m# Output: 8\u001b[0m\u001b[0;34m\u001b[0m\u001b[0;34m\u001b[0m\u001b[0m\n\u001b[0m",
            "\u001b[0;31mNameError\u001b[0m: name 'add' is not defined"
          ]
        }
      ]
    },
    {
      "cell_type": "markdown",
      "source": [
        "**5.Recursive Function**\n",
        "\n",
        "**Definition**\n",
        "\n",
        "A function can call itself to solve smaller instances of a problem."
      ],
      "metadata": {
        "id": "NLMKQCu_rdbh"
      }
    },
    {
      "cell_type": "code",
      "source": [
        "#defining a Recursive Function\n",
        "\n",
        "def factorial(n):\n",
        "    if n == 0:\n",
        "        return 1\n",
        "    return n * factorial(n - 1)\n",
        "#calling a Recursive Function\n",
        "print(factorial(5))  # Output: 120"
      ],
      "metadata": {
        "id": "lkaMyr9jrtJV",
        "colab": {
          "base_uri": "https://localhost:8080/"
        },
        "outputId": "6d2f34b2-9017-4b93-f6df-f44a4a827779"
      },
      "execution_count": 25,
      "outputs": [
        {
          "output_type": "stream",
          "name": "stdout",
          "text": [
            "120\n"
          ]
        }
      ]
    },
    {
      "cell_type": "markdown",
      "source": [
        "4.What is the purpose of the `return` statement in a Python function?"
      ],
      "metadata": {
        "id": "1JRDDuCd6ARQ"
      }
    },
    {
      "cell_type": "markdown",
      "source": [
        "Ans\n",
        "\n",
        "The return statement in a Python function is used to send a value back to the caller (the code that called the function). It serves several key purposes:\n",
        "\n",
        "1. Return a Result from a Function:\n",
        "The primary purpose of return is to provide the output or result of a function. This allows the calling code to receive and use the result.\n"
      ],
      "metadata": {
        "id": "8w8v9G9a6TRT"
      }
    },
    {
      "cell_type": "code",
      "source": [
        "def add(a, b):\n",
        "    return a + b\n",
        "\n",
        "result = add(5, 3)  # The return value (8) is stored in 'result'\n",
        "print(result)  # Output: 8\n"
      ],
      "metadata": {
        "id": "37KcljL76gca"
      },
      "execution_count": null,
      "outputs": []
    },
    {
      "cell_type": "markdown",
      "source": [
        "2. End Function Execution:\n",
        "The return statement immediately ends the function's execution. Any code written after the return statement within the function will not be executed."
      ],
      "metadata": {
        "id": "Un1NzgxS6yjt"
      }
    },
    {
      "cell_type": "code",
      "source": [
        "def example():\n",
        "    return \"Function ended\"\n",
        "    print(\"This will never execute.\")\n",
        "\n",
        "print(example())  # Output: Function ended\n"
      ],
      "metadata": {
        "id": "by13kINq7SfL"
      },
      "execution_count": null,
      "outputs": []
    },
    {
      "cell_type": "markdown",
      "source": [
        "3. Return Multiple Values:\n",
        "Python allows a function to return multiple values using a tuple. This is helpful for functions that need to provide more than one piece of information."
      ],
      "metadata": {
        "id": "0dLBgqwe7TuU"
      }
    },
    {
      "cell_type": "code",
      "source": [
        "def calculate(a, b):\n",
        "    return a + b, a - b, a * b\n",
        "\n",
        "sum_, difference, product = calculate(5, 3)\n",
        "print(sum_, difference, product)  # Output: 8 2 15\n"
      ],
      "metadata": {
        "id": "jcpqr_c17dRS"
      },
      "execution_count": null,
      "outputs": []
    },
    {
      "cell_type": "markdown",
      "source": [
        "4. Return Without a Value:\n",
        "The return statement can be used without specifying a value, effectively returning None."
      ],
      "metadata": {
        "id": "AqdyUSN07etQ"
      }
    },
    {
      "cell_type": "code",
      "source": [
        "def do_nothing():\n",
        "    return\n",
        "\n",
        "result = do_nothing()\n",
        "print(result)  # Output: None\n"
      ],
      "metadata": {
        "id": "Y5PNEu7L7jj5"
      },
      "execution_count": null,
      "outputs": []
    },
    {
      "cell_type": "markdown",
      "source": [
        "5. Omit return Statement:\n",
        "If no return statement is used, the function implicitly returns None."
      ],
      "metadata": {
        "id": "6M3SFFdF7puV"
      }
    },
    {
      "cell_type": "code",
      "source": [
        "def implicit_return():\n",
        "    pass  # No return statement\n",
        "\n",
        "print(implicit_return())  # Output: None\n"
      ],
      "metadata": {
        "id": "DQRn3bGw7vpr"
      },
      "execution_count": null,
      "outputs": []
    },
    {
      "cell_type": "markdown",
      "source": [
        "5.What are iterators in Python and how do they differ from iterables?\n",
        "\n",
        "Ans\n",
        "\n",
        "Iterators\n",
        "\n",
        "\n",
        "*   An iterator is an object that represents a stream of data. It produces elements one at a time and remembers its current state during iteration.\n",
        "*   An iterator is an object that implements the __iter__() method (to return itself) and the __next__() method (to fetch the next element).\n",
        "*   Once an iterator reaches the end of its sequence, it raises a StopIteration exception\n",
        "\n",
        "\n",
        "\n"
      ],
      "metadata": {
        "id": "eaE_005a8kHX"
      }
    },
    {
      "cell_type": "code",
      "source": [
        "# Creating an iterator from an iterable\n",
        "my_list = [1, 2, 3]\n",
        "my_iterator = iter(my_list)  # Convert list to iterator\n",
        "\n",
        "print(next(my_iterator))  # Output: 1\n",
        "print(next(my_iterator))  # Output: 2\n",
        "print(next(my_iterator))  # Output: 3\n",
        "# print(next(my_iterator))  # Raises StopIteration\n"
      ],
      "metadata": {
        "id": "2z-f8eFv9PDE"
      },
      "execution_count": null,
      "outputs": []
    },
    {
      "cell_type": "markdown",
      "source": [
        "\n",
        "Differences in Irables and Iterators\n",
        "*   The key differences between iterables and iterators lie in their definitions, methods, state, usage, and reusability. An iterable is any object that can be looped over, such as lists, strings, and tuples, and it must implement the __iter__() method. In contrast, an iterator is an object that is used to traverse through an iterable. It implements both __iter__() (which returns the iterator itself) and __next__() (to fetch the next item).\n",
        "*   Iterables do not maintain any state of iteration, meaning you can reuse them for multiple iterations. On the other hand, iterators maintain the state of where they are in the sequence and cannot be reused once they are exhausted. While iterables can be directly looped over in a for loop, iterators require calling the next() function repeatedly to retrieve elements.\n"
      ],
      "metadata": {
        "id": "3U3zJdVF9UuL"
      }
    },
    {
      "cell_type": "markdown",
      "source": [
        " 6.Explain the concept of generators in Python and how they are defined.\n",
        "\n",
        " Ans\n",
        "\n",
        "\n",
        "Concept of Generators in Python:\n",
        "Generators in Python are a type of iterable, like lists or tuples, but with a key difference: they generate values on the fly and do not store them in memory. This makes generators memory efficient, especially for large datasets or infinite sequences. Instead of returning all values at once like a list or a tuple, a generator \"yields\" values one at a time, pausing after each one and resuming where it left off when requested.\n",
        "\n",
        "\n",
        "How Generators are Defined:\n",
        "Using Generator Functions:\n",
        "\n",
        "1.Generator functions are defined using the def keyword, but instead of using the return statement, they use yield.\n",
        "Each time the function executes the yield statement, it produces a value and suspends its execution. The function's state (local variables, position) is saved, so it can resume from where it left off when the next value is requested.\n",
        "\n",
        "2.Using Generator Expressions:\n",
        "\n",
        "Like list comprehensions, Python also allows creating generators using a simpler, more compact syntax called generator expressions.\n",
        "These are similar to list comprehensions but use parentheses () instead of square brackets []."
      ],
      "metadata": {
        "id": "HPLuUv4C9ykb"
      }
    },
    {
      "cell_type": "markdown",
      "source": [
        "7.What are the advantages of using generators over regular functions\n",
        "\n",
        "Ans\n",
        "\n",
        "\n",
        "Generators offer several advantages over regular functions (those defined with def and returning values with return). These advantages are particularly relevant in scenarios that involve large data processing, performance optimization, and memory efficiency. Below are the key advantages of using generators:\n",
        "\n",
        "1. Memory Efficiency:\n",
        "\n",
        "Generators are lazy. This means they generate values one at a time as needed, without storing the entire sequence in memory. This makes them highly memory-efficient, especially when working with large datasets or infinite sequences.\n",
        "\n",
        "Regular functions return all values at once, which can be memory-intensive if the dataset is large or if the values are expensive to compute.\n",
        "\n",
        "2. Performance:\n",
        "\n",
        "Generators can provide a performance boost for certain types of tasks. Since they compute values lazily, they don't need to perform all calculations upfront. This can lead to reduced processing time, especially if not all values are required.\n",
        "\n",
        "Regular functions compute all values immediately and return them at once, which can sometimes lead to slower performance if the full result isn't needed.\n",
        "\n",
        "3. Avoiding Memory Overflow with Large Data:\n",
        "\n",
        "When dealing with huge datasets (such as reading large files or generating large ranges of numbers), storing all the data in memory at once can lead to memory overflow or slowdowns.\n",
        "\n",
        "Generators handle this situation by producing one element at a time, keeping only the current element in memory. This allows you to process large datasets without exhausting system memory."
      ],
      "metadata": {
        "id": "TAbMjV5bCYRz"
      }
    },
    {
      "cell_type": "markdown",
      "source": [
        "8. What is a lambda function in Python and when is it typically used?\n",
        "\n",
        "Ans\n",
        "\n",
        "\n",
        "A lambda function in Python is a small, anonymous function that is defined using the lambda keyword. Unlike regular functions defined with def, lambda functions are typically used for short, throwaway functions that are not meant to be reused elsewhere. They are often used in situations where a simple function is needed temporarily, typically for single-use operations or as an argument to higher-order functions like map(), filter(), or sorted().\n"
      ],
      "metadata": {
        "id": "evtHPImzB_65"
      }
    },
    {
      "cell_type": "markdown",
      "source": [
        "9.Explain the purpose and usage of the `map()` function in Python\n",
        "\n",
        "\n",
        "Ans\n",
        "\n",
        "\n",
        "The map() function in Python is a built-in function that is used to apply a specific function to each item in an iterable (such as a list, tuple, or set). The purpose of map() is to transform or modify the elements of the iterable according to the function provided, and it returns an iterator that generates the transformed items.\n",
        "\n",
        "Purpose:\n",
        "The primary purpose of the map() function is to perform element-wise transformations in a clean and concise manner. Instead of writing explicit loops to process each element of an iterable, map() enables you to apply a function to each element automatically. This makes the code more readable and efficient.\n",
        "\n",
        "For example, you might use map() to convert a list of temperatures from Celsius to Fahrenheit, or to square each number in a list.\n"
      ],
      "metadata": {
        "id": "k19WkxqvB_E8"
      }
    },
    {
      "cell_type": "markdown",
      "source": [
        "\n",
        "10. What is the difference between `map()`, `reduce()`, and `filter()` functions in Python?\n",
        "\n",
        "\n",
        "The map(), reduce(), and filter() functions in Python are all part of the functional programming paradigm, but they serve distinct purposes when processing iterables.\n",
        "\n",
        "The map() function is used to transform each element in an iterable by applying a specified function. It takes two arguments: a function and an iterable. The function is applied to every element of the iterable, and map() returns a new iterable with the transformed elements. For example, if you want to apply a mathematical operation to every element of a list (like squaring each number), map() is the ideal choice. It allows for an element-wise transformation of the iterable.\n",
        "\n",
        "On the other hand, reduce() serves a different purpose. It is used to accumulate or combine all the elements of an iterable into a single result, based on a binary function. This function takes two arguments, and the result of applying it to the first two elements is used as the first argument for the next operation with the third element, and so on. Essentially, it \"reduces\" the iterable down to a single value. A typical use case for reduce() might be calculating the sum or product of all elements in a list, or finding the greatest common divisor of a series of numbers.\n",
        "\n",
        "Finally, filter() is used for extracting elements from an iterable that satisfy a particular condition. It takes a function and an iterable, and the function must return True or False for each element of the iterable. Only the elements for which the function returns True are included in the output. filter() is particularly useful when you need to filter out values that do not meet a specific criterion, such as selecting only the even numbers from a list or filtering out invalid entries from data."
      ],
      "metadata": {
        "id": "ItmS8umRBplh"
      }
    },
    {
      "cell_type": "markdown",
      "source": [
        "11. Using pen & Paper write the internal mechanism for sum operation using  reduce function on this given\n",
        "list[47,11,42,13] (Attach paper image for this answer) in doc or colab notebook\n",
        "\n",
        "Ans.\n",
        "\n",
        "![WhatsApp Image 2024-12-13 at 22.30.13_9bd7cbf3.jpg](data:image/jpeg;base64,/9j/4AAQSkZJRgABAQAAAQABAAD/2wCEAAYGBgYHBgcICAcKCwoLCg8ODAwODxYQERAREBYiFRkVFRkVIh4kHhweJB42KiYmKjY+NDI0PkxERExfWl98fKcBBgYGBgcGBwgIBwoLCgsKDw4MDA4PFhAREBEQFiIVGRUVGRUiHiQeHB4kHjYqJiYqNj40MjQ+TERETF9aX3x8p//CABEIBNYEBgMBIgACEQEDEQH/xAAuAAEBAQEBAQEAAAAAAAAAAAAAAQMCBAUGAQEBAQAAAAAAAAAAAAAAAAAAAQL/2gAMAwEAAhADEAAAAppmy5mSzxcecenvx+g+11l3LFwmnnzzm+cNeLOc98dY4XqzlacuocqFFvU6zq6Z2b7nFhy5r0c8SOrl2ObzZ1zebnriywsQKiiOhytObrxHLqVHQ4vUIQrrs4vo2l8PXv2l+Tfs61+fn6bW5/KT9lon4vf9hD8tp+kHwdfs0+Xp9AeTbWE6gSiKIoBAoIAgUEAAAgqSyIKmenBvOuRZYWUij5t37jxZ/R6r41+v0fI7+pDy9emnkx+il+Lz9xNfAw/TWvyuf64n4x+w6r8X3+u5PyU/XD8jf1nB+Wfp4fmev0aX86/RF/O9foEfneP0sr86/Rk/OT9KPzXP6hZ+Xn6qp+VfrOj8lP19Px9/YdWfj+f2vUfjPZ+nL+b4/Tj4PP3x8N90fG1+oPnae1WG1J1IEqJQAACgAAgAAKSoiwEW8XJd2WZ6Xnpu8Wpt5+KvqmOaexz0yFHNlCyAksJxpmejmwUgADy7ToAAUABSKIBLFz0y1LVQAFBFAAABYKlAAoAsACiUgKAAAAAACAoAAAAAAAAIEKB59+Ws8dul893GXHoE51Jj1oXmaElks6Zcx3h32vO2MTeWWSWDPTM3WAQBQZdY7AABRAAVKIheRctsdjq8k6cjqBUHQAAAKlAoICgCiLCgAAAAAAAAAAAAAAAAAATPCXaXYwuoyulXK9VJOhzOxnNRjNhjdhjdBzb5zuaUxs2ObjtTnqJM9Mz0SwCFlArz6+X1xFEAABLKAJRzOoueuO5Z1EiliiULYSpQAUCggAKFAAAAAAAAAAAAAAAAAAAAGOnEt0DjPfA3w24Mr2Xzb6isydc9UzajFqMrqMu+pWWmekWUQ4M9ue6ksSZ6ZnolgEKBB4fZ5PWUCWAAhQCklHM6LltlsFIAAsh0goEolCpQAAKoAAAAAAAAAAAAAAAAAAgKAy0z1lMtSZdcmvGnnXvrDhfS8+ibs4mrKmjKGrOGrMd3jsYbwrDJfVi3QSxLCZ65HolgEUAGXUosABYFEAspFEnUXHfLUKSUAItObQAKRRLKAAAUUAAAAAAAAAAAKRRAAAAAAAcO8JZ3OlrPpOZvTCeiL5+thi3Jg2GLYYN4Y3YYNx524x1qkpICSwZa5HolgEUUBnZQBZYSiWQoFgqUSxeNMtSoSkOpKsBQUIAAsoAAUBQAAAAFSgEUSgAAAAlEAAAAAAlRhn64s6KBAAAiKIFgKAKiyQKEAJLBlpmeiWKcYy+p5cz1vMPUvNyBRAEKRRzaJQTqLlrlsRakURRFAApFgBQAAVLQQAFALKRRLKAJRKAAAAAAEoRYFRAWURYoABOTtiNmI2YjZhDd5+T0zy1fTzh0dxSTocgkokokoc9eVfoY86phtuMdqsA5lkigABKAAoAli474biyoAAApQQAAAKQFAAAAFVLAAWhAABBU5O2fJsxhvMaasRtcIbvKPVz5+l7c9CKQpzO6Zc+npPJ36YYthjNxi2GN1GXXY5WFFARYgCWCWKlhMd8jdYgFABhy6lkogUAUkovXFO3ETVlFb+Xo9N8hPW8g9jx09byD1vIPW8g9jx09bxj2PIPW8lPS849Dz02ZDWZ9FSkUsUAAJRHVM2tTzPUXy31DzdbjC7ExbDJqMroJQAAACwBKIsAAAAB5zeKAAJYAICAlgy1yPRLACpibvMNrLCAKSgAKoolEnXJltjsKhWHVbIipQACoKgUAAAAAKAAAAEBQsAAAAAAAAAMqaPPqdnlNc7K9Ly+c+k8Wkeln2FgTA9GHOFeyeTs2zyHPo5pDyH0NsUasRsxhsxGrEbMIb5TI93OQjamG1oBwIAoAAKUSwxkV6eeuZeNM9AqzCbeevUy5i7+XY0ZU0c0z28vpKCWYm7Hs7Y9FcdndxprnmNusqaPMPSAICh5z0PL2da+WHrAIXGcmzzZG7Dqve83cbMRxpwrx+/ybnHbs8mvop83v6I8OvpHmz9tjGbjC7DHrSHNoAHnN+OsA3yrYQIAQCWCWDKjZYEosoB55tYwbUwbjG6DmodXgd3KHHXSptlyd6+TSXdgsd8wy76h5/TYZdaWs8t0YerinoYDbz9DrHQc8a08u2lMpsM8fVaxw9/UfO39Q+f6txi2GDceXx/VxrHXraMefQMWwx59A889Iz7oAAAc9DPQAAAAABkasdhx38894GO3JfP6fNXo8rk49zynrEYb+L2mWnk9Z5t/JK22w9EefmcV3rxobQiWC3CHoecbCAABaWWAJQAc9cnGuWqhYArg7AAAUSgAIVKAAFEvNKgoAAHn9HkN9AAAAGZevLobpydgAELzjzXpvn4PU8NPcwsbAJyd+d5z1Y59168c0eyYjbENvN3ge3zdcno8ugJoeXfSnj69Q8+Xth5s/bDxdenOsdojfLjcxuwUKDlEVBQUFAAAA565ONc9FJ5rPVxiPV5+eD2vNwey+KHucdgDPTxHsvile2fN2PX3LBMTn0eXg93Pm0LzjpXfXnG23m5PV350ehJHTjk1xY1o46NevLoehiNucxh1qJ5vRwb6ebs1nFHOnB5ePbK8+vpR5NNx5evQMWwx60HPQRQBFgA83pHKpQsAAgEsEsEsEsL1z0SygFEeZsMWwxb0xbUwbjC7DC7DBuMOfTwYdaaL5evQs8r1DzPUPB37B5OPcPN3sMW483k+n564np0j5/ftHn62GGPt8x3PQPO9A8nXpHnegefrYYzcY3VHF6EoBQAAAAAADHYeb0gAAAAAAEACFhQRAABSUQCWCWCWCWF647IZmrBG7EaAFFUAAAAAcd8rzpx2AigAsoAAA83pUAEC1M9QAAAAAABUQAAAAFWAKShFEAAAc8mjLk3YjZiNmI2Yo2YDeYjbnil566MptDJsMWwwbq870Qwbwwbwwbwxm4w661MNOqBAHMyhvfPT0Xz03YDdgN2MN2FNmI2445XXvz9mrImtxpqyGtxGzEbMRsxpqxGzEbXAbXzj0PPTd56bsRsxVsxGzEbMUbMZW7FGzEbXAbsBtzn0XnumU3pg2GF2GLZWLamDeGN1Rx1VAABAAAAEWADnrkoABKASiSiSiAneehAUAHAjqylAAAAlADjTNXXOhzVTl0OXQ5ttcukRQAUSgAAFAACkUQApCkWAAABRFRFEpQAAEURRFEWAQAAAAIAAOeuSigAIACAksAOdMtSOczdgN2CNUpepQAAAAABz1wt656Lnp47PXctRZydvPqdvNudPL6hZyduOiiABhW7Lo7TE1l4MPRn6Krzcx63n1O/F7eThpTJpTmrEBUoFBCBUtCFc8GrGRuwpsxlbzJGrEbMRtcIbzIacqczUZTcYNhjNxhPRDGbjGbjBurztxg3HnbwwbjCbjya3cx1BZQDi+bSPQxhuwpsxGzEbMYbsRsxG3GfK7d+bo28e/Nl9GA34zhOrmSd9mHfXAunI2wp6bjI3YDfzdYV6MtKY6Tox16GD0Uya0w59VM8PYMHoGDeRjdaYthg3hi2Vi3GDamDcYXZGXXYlKQAAAAAAAAgBAASwACgIACAgIDPbHYgFIIrjXjuAAAAAABScacLzrlqAgAUUSgAKASkATDbitRAAApCkURVRRFEoAAAABAUAEBQAACKQAAAAQBAAJYABQEWAgSFcioM98Ngxkb3z02YienPsoAAAFgoIC598LNc9AEA8ytPS8kj2eaw9N82R7mfmPa46igAAWUSiKAAAACKqWAoAkOmcNWMjdgN2Ct2FjZhTZiNmI2YjZhTTmdHPOtMWwxbKwboxm4wbjBvDGbjCeiGLZWE9A870QwbjFsMW0MmsMedx49rsc9AssQGF3GLamDcYNxhdhi2phdhg3Hn59Wa496dmDcmDdXhe7g+X6tPTXkz+hY8D3DxvYPJruMWyMZuMG4893GDcYNxi2GN1GTYYNxg2GLeGLdWDamN1Rn10JQACgAAAAAAEoiiAAAAQAEsAAAIABLBLCAy3w3IAAJaEoAAAAAKlGemau+NAECktPJ6wGZoCgAy183pBwdueoAAAWYV6M55j3AAz08XtDzegoMptgbgAAAAAAAAAAAASwAAAAiiAS8lSHTiGkzhqyhsxhvMRtMRqxh1v4/SdMBuwRuwHoSlAAABUFlEBc++FacdiCVIZ8741tlOjTzSHqvmG/OGp1v5PUYejw+w682uJrcuTvTDk29Hj1N559DRnmd5+XWuusdjfjx6jrOGvNh7Hl0j0YXA9rBG7AbsBuwG7AbsBuwtaczo5mlMbsjFsMWysWwwbDGbowbjBuMG4wbysZuMZvzGd0Vw7HF6HKiKEsEsEsPNtzucqAAlxbkxbjBuMLsMWwxutMLqMmox59Oa5dadmM3Jg3Hk79CvH16h556h5r6B5npGLceS+oYYevgl2GN1Gd7sZddU46ohaASiKIok65MdewEAAABQAAAAAAAACAAAAlgAlgAAlgAABASWGW+G5AAES9BKAAAUAAAZ6Zre+OwEAAUAFlAAAAoqIUAAAAAAAAAAAAAACgAAAAAABCgSiLAkOnMOmcNWUNpjI3YU2YSt2I2YDdgN5jDdgNpiLt4+z0MB6GCNmA9LEbMhsxGzAbsKbsBvMRtcBvnnyu/Xn6NrgTdgN2A3uA3YDe+em7AbsBuwG7AehgNmMN75x6GA3YDdhTZiNmMN2A3Yw3YQ9DAbTOnUtOJqMW4xm8MmwxbKwbjBuMWwwbjC7DGbjBujCeiGF2GN1VldIcuhFEXmKlAqAAASwSwSwy7lOlhQQSlIUSgKAACkWDjTNb3x2AgACygBRFEoADk7BAUAEUEoAAAAAAFAAAAAAAAAAAAACAAAEAAlgAAlgAAlgIAc89cmksKgCKBQEHXi9NaRwNfNqdc9Q7c8Gud5l6747Ceez0uMj0OIavNoa2WAJ5++67ZjR5fSXzaYHtYDfz509aeQ9ggiuNPLD1vLqavGPY8nRd/D6zu89QB5958+vpMBv57yel5oadefU07y0KIACgACCuYds5GjIasobMBuwGzEbMVbTGRuwG7BW8xhuwG7AbzEbTEbMBtlzie1gN2CN2BfQwqbXAbMB1je68vt45M/R5tj05efs37xprxznL6OvP0bebvzWeic6EvHZw0h1v5eo2yiuNfPuTjWHWXdJnqM7oMLuMLvTl1Yzx9VPBp7FebL25Hk69Wp4J9AeHfcYXZGM3HlnrleXvenknsHhvtHkvqHk79AwbowbjBurBuMG6MWysroji9K5VAUEJRBQDnrmKBKqLAACLBKICY7ZGoAAKIWUSgAABQWBnpmvXfNL59/FqenWoCEsLZ569CcmXp8fsDjsCLAHFd0gBL569Bgbueoeb0yqy6O2NNXn9AEAAAAAAAAABQAAAAEAAEJRBQDnqRLKAJZQAEAIATPTI2lhUBC9iQAAAAACpS5aZr11z0PH7PHqe6WZOevNXpvn9A8/o856ebgcejPI3z3wPSZRqvJ5e8rXtMzREc8Xmr1jybbY7AHi9fm9Bh6/Puef0eb0gQAAAAAQVyOnA7ZjRkrVijZiNmI1uFraYo2YjZiNmMN2A2YjZgrfnKRtcBvMRswVuwG7AbMYbzEbMRrlMT2MBuwhu86PWwG7AbzEbMaazgdIKCLTnjbhY1qeHj6SvN1ujBuMLsMcPcPP1sMePSrFtY893GDdWM3GHPpGLZGLYY3VXn63Rhdhg3HnegebvYYthi2GF2GDcYNxhdhi28taXUZXRGd7HF6gKRYCkFBAAACWAAElgsollAAAJYRYATHbI1WAEEvYQAACWUAsABz1wvfXPSBRBUFuWsAFE578des8h7FgA478p6gGG5ZURQAAAAcdVWegZjRjodJQAeY9OWoz0w3AgAACKqAACAAABCwAJLBZQKgAgKgBACZ6ZG065AIJeglAAAAAAA40zXuyJ35N/PXqy4pvxOC7eXo9OWGx1t5PQaefbM28/owNce+Dvz9dHWemRqkJvhya+jx+sqSOs+oebvPuvUzwj1shzw4r2Xyanfl0zL00MvX4tjTryam/j18p9GeXQm/j2NrgjeYjZiNmNNpiNmI2YjZiNmMN2A3YDdgNmI2YDZlybXAbzGmrGG7zq9DCG7AbzGG8xG2XOZ7eceT0MBswS9XWpi2GLYYz0Dztxi3GF2GLamHPpyWNqnj03V5Z6xhx6x5+fWPNz6x5L6hhn68zlr1GF2Vg3GF2GM3GDcYtkZNRne6ZtBne4czsTC61bURQy1UlRFhZRMdlAFRFgKQpFgAAABFEURRAAQgsoFQAAEWCWAgz0zNuO+QCCXoJQCFQVjtRz0JfKeplrFy0zXWypAGOlXrz8nrZagQAsFAAAAAAsBRFACUAAAAAAAAJQQUAhYCwAAAAAAACAAEBLLSUQACUQCWAEz0zNueuQCCXoIAnlteqeLom+OtcKO8O6enPS5uTXM1Ilcwy182tOsx36PNoasUbMRsxGzCm7z03YDdhTZgN2A3Yja+emzEbMYb3zj0MBuwG7AbsBuwG7AbsBuwGzEbMRswpsxhuw6NWUNmI2ZQ2ZQ2YjZgN2A3YDeZQ2Yw3mI2YjW4DeYjZirZgjeYjZgrdgNplDbLnE9/OXB6JjDZ50ujYmLang5+ha8r1DDH2+U0bjHn0DC7o8/HqzXm7ExbDK6Dm2nN6HNolAUgFlAAAAAAACiAWUAlABLAAohSCioiiKIUgAAAAAJQAiiAEAIUAgoBKIBLBKJlrkb8d8kARL0EWUAAFAKgoOc9M12CAAKCwUAAAFAAAAAAABUFAAAAABFACUCFQUEWUpEWAFhQQAAAAIAJYASyiAAFJYACCUTPTI3565ICCXoIBUFQW8w7Zw1ZQ3YQ2zzi+phU2uA3YD0PPTdgN75x6GA3uA3Yw3YDdgN2FNmA3YDdgN2FNmA3YjZhTZiNmI2uA3YDeYjZiNmI2YjZiNmI2YjZlDZiNmI2uA3mI2Yw3YDdgN2A3YDeYw3YDdgNmA2uA2Yw3YDdhK9EwG7AbzEbTGG+XOJ7+ceTdj2dCXNvExbDFsMetRm0pnexzaJQ456i6BBSUqiALLBQGBvQSwWUAAAFIKACCwWZ1rKiUEollEUiiAAKIAAAAAAAAAABLBKEokoiUCgAEogEoksJnrmaA5z1h53oS9kQBZQCpQAADjnqLoEef0cVj3xuaebTE9jjk1mVNXm7NvN1D0iAObj5a+ix857rkM/T4tTd4vQa5eTs9Onnh6Xj6PUz0BmasIehjtAgBUCwAAWAAAAAAAAAAAAgACAHNAKAAAQBACcd8HV56ICCXtOU6cQ1YjZjDdhTa+em7AbsBpMavpYE3mErTHuioc6cUuekO5Ry7GzJGszFktc5egZ3SGPfYzajjH0wybDG7QyuoYbw6cyNGY1YjZiNmA3YjZiNmI2YDd56bsBuwpsxGzEbMYbsYbsBuxhuwG7CmrEbMRtMRsxhswtbPOPQ89N5jDdgjdgreYw3ecb8ZQ278eptAgl5upM72OXQlAAogKDMLoZWasdxYKAcHZSUgCgAigA4laMtYCggAuddrIAAAAAsAAAAAAAAAAAAAABKIBLAAQlloBKIABKIsEsEsM++NDCbjzt0aAAAAAqUAAzIuuOts8Xr8/Va5d4nq7x4j0+TTOu/T5eo9DHcghLxVvg95TmObnpWfc4N8dczcB5cD6Ly6G3n65PRYjO54V7kzNL4vWc9cdnGvn9EAAM+vHXp18nqKz5NmOwEAcd5dV2z0ADzekMdgQz18/oAhLkaZ9eSvYQso55nmPa8/oAEsAAEsEsIsM9M9CAgl0Yk2YjZiNmI2YU2YjZiNmMNGK305Qlw70rjL1U899PB5Z9BHiezAz9GtPL3tYx49FrxvYMZujBurDn0083W4xbI8vPsV4+/SPDfaPO9CPNh7sqT0DFtDzX0DKbSOaFcwuHfVcWqvFpl7PPxHrYDdgOHGh1v56b8ZjPvrMd5dHPp8nZn7PPobzFGzLk7z8109GUHm9POZ6s+dDV5fQYoNvR5fRFQVBYCBI4Jp5PUURELopAAAAAAAPn+rJbXazjt2eXbdGOXu8x6mfRbh6AmZqlAgAYVvYipQAAAAAAAAAAAw3oICufH6cK2465NNPL2PR8/0R6HHcBSVEUAJVJRBAE40Vy6hM9RnNBw6HM0Gc0Hn00GU2GM3GDeGDeGLUYLqYN4ed6EugQAAAAAADOpbqeZNOfm/Rr0uO4Yb+M01mpjzh6S4erMz278p6e5YAeD3+KtbnT049DXjLo65yp6MLydenz03EPN6ZWW3zvogQ47wrS+LQ9bzwvo8uxoIGVXnz2vT158j1vN2X0+D3wEGfnrT0eYelwOzE2IZbeP1lRDHby16kolEIAQoBDk6ccGwAIBLCLDLXHYksIJdWBN2MN2A3YDdjDdgN5jTWcU5lqudrZ4uvZTz9bDGbjFtTC7DGbjz8+qmDdGDcee7jzvQrDj1U8nXpHnu48t9IwbowbjDL2Dxd+pWDdGOfpHmz9try8e2Hl73Gd6kTjSV4e/VDPjcZ9WHPpwpsxsdefVWXfWRLezmdZnXWdLv5tD0MbGnzPoeStJLXq8+nMXiWs2/Rlz1gerLrzH0ZLHny9flr2CBAQsBLDHbDYgIJdFJKCUAAAAUGdhdLCUACgAMjZx0VKAAAAVBQAAAAAAAAAAAAAAJRKCUAJYAWUQBYAJRzOxnNVYN4YNx53oh524xbDDn05HOGtOe9xhNx57vDzvQPPPTDw7dbHm704OnnS+0IAAAAABUpksXUJQAVKACF8++VZ+vxe0IigASw5mfFewQIVBQAEoAAAIUAAAAAhUoAABALBUFQWAAAAlgAlhAWUQUABAJYAJYY7Y7HIIJdWMTZiNmI3mUNmQ7c9EndMmtPNdS8NyZNaYXYYthi2GLamF1teeekY3VGN2GE3p57uPLz6NKwuyMWwxbjC7DGbjCeged6Bg2GF2GLYYthlNhldIcdIdXOGrEbMBuxGzEbMRsxGzEbMRsxpqz6OkoAIAAJYQFAlgFIACWAhSGO2GwhEC6KSKAAAAFgoM7KvYSgALCoLA5uHpqXjE9Nx2AiWBnp5K9nPXlPUIAAc3GtzzHpuWsAJYEyreeX1AQAAAUQAAAAAAACUc86DKbDBuMG8MG4wbjCbjztxg9EMG4wnoV526MG6sGwwnoHnbjwb3Yy0z4jZ5y+0IIUAAApLBUHFlXuwlQUAACXiuJMj3eb04jfilvKKkOvL6Ma9Pm0yPU5R05pUHm10teL2YQvow3AgCeXTqst+BsIAAAAAAAAAAAAAAAAASwAiwSwoIKAgAEACAx2x1IDkS6samrGmszp0lJO6ZzYYthjdR5uu+1ybkwbjJsMG4893GDcYN5WabmTUZNUZNRll3vWbVGTUY3UYthg3V5e25i2Rg3GLYYts64bowuwwuwxbQy66hbxDVjDdgN2A3YDdgN2NNWMN2VNHHRQAEFQAAQEBSAUBAAQAElhlrjqCEEuoSgAAAAWUSjLvPVaEWUAAAACuc9odPN6CgYddnVIAAAASyststQIAAY7Y1sIAAAAAAAAAAASjl0M+Nx57uPPdhi3hi2GM3GLUZTYYNhi2GLUZNJXLqEIWABONKePXvsMOo0C6hFlAAAFlABDLXPRaEAqCoKgrkdOB2zGmHcrRhybbZDVkjViNmNNWPRo4hpzzzV1y0KlgABjtjWwgAAAAAAAAAAAAACAWAAABAAgAAoCASwAQEsM++aXnqHmehLqyJrM6dRTl3TOa0xuoxbDFsPLpdVyupMWwxbjBuMmoyugzaDh2rlnTS4Q9C4mqiMtYOhy6HM7hxh6sK6ulMWyMWwxbDDP14VWyMGwxuoyajiuTRlDdgN2FNmFNmI2Yw3YjZj0aOaUgAAAAlEABAABSWACWAEAlhxYOoEEuwQAAAACgAx1z0WhBQAAAABx3Kx383qPJOx6cdsDfy6Ynsw7p2WBC5d41xfRkXSZm6WAAGG2VbCABCxQCAssFgsAAsAJxoMpsMZuMWwwbjFtDG6jJqMr3yLzyaMobsYbsBsxhuwVswh6JgN5jDdgNM+YehhvHIXcIAAAAAsFgZ65aLQhB05h3OYdsxqxGzGmszHXeSnfA2wo6cDTvEbMbGrJWuHWR6vH6MjtKbyWKgpDmc61URUFQLBYAAAFSiURYAAAAAAACFgAASWFAlUlgBFglglEBzxpwdYbjzN0u04J1FOGlM2gzmtMWtMWwxbQ8+l0XJsTJqMrrDO9jl0JaIolCUAGemNbJ0BEUTnuVOe/Oa5+gZddjJqjKbDFsPJtzvWLZGTUZNRneoLzyasYbsRsxGzEbMhqypo46KlAAAABCoAAAJLCigEABLBLBLACcd5mkDkS7WEKJQAChYlBz1ycaZ6LQgAAAFAAAAFKGG8xNxAA4rjrnYACAAAMdsdqCAAAAAAAAAEo550GU2GLYYNxhdhi1GV7gvENWXJuxhswptMYeh56bsBsxGzFWrKG0xGrGG7CG+XOJ7Jx2QS7BKAAAAAKS8y86ZalQlcjpxDRnDVkNWI2uI2ZDVlTRmNLiNuOFNvLT0sRrjluasrGjOnbkdIKADHbDeggAAAAAAAAAAAAAAACAAAASjlYFEAFRRzOhy6hyoiwZ6Zk524K86X2yVI6HF7GbQZtRjdRlNhjN+Vw067M7oTNoOHY5dCKIoKJQAAKIsGO1rlxqZ90RUczscTQZNRi2GLZXj2m5i2RjdYZ3uEsh3cYbsYbsYbsBuxGzKmjjoqCoqkioAqwAAgABLBLCgSwCkogECAgGemZ3LCCXcIAAAAAso474XnTjsqVAAAAAKAAACkLAy18+1O/D6DZ4djvTzek4eX1E1w3Ahx3kd9PPWvfn2OhAAAAAEURRFHM7Gc1GDcYzYZNRk1GV7hOuIasRsxlbsUbMRqytaThGjkUAUgAQEIAMtPMemIQS+gIAAAAAA565Wd8dFvJOnA7ZjRlTRkNWQ1ZDZh0asaashqxpqyHO2PVcdY7nPPOhdsOjPvuHHoy7OkReehk51ry789Gl56AgABLCgEKKCABCpQBACgAAAEoijlRxzojiaDOajLncYXVWM3hi2hjN4YtoZTbMy26wNXCX0wSTsczQZXQZNhjdRlzuMud+Vy667M2hM+uhzehy6EURQAAKAAFEURRFxrVz2cukZtBlNhjNvPV4y+gefn00xbSMrpDmuTRnybMaashrcYbzKmlzp3JQBYoIACgAAAAEsAEsgAKAgEsAICAmWuZ3z1DztkvpCAAAAAAOeuFd8dgJUFAAAAWAFAAAABUFBnNeK7Y7AAhjrluSgEAIFgAACkAlHM7GU2GTUYthldBm7gvPJqxGzCmzIasqaOLVSgCWQAFAQCWCWAEAy1xNJYcKl9ASpQAAlAAHHfCu+OwkTpzDRxDRkNWMN2NNWFNmVNLkNWQ1ZQ2Y01YjZkNWVNWY6y0ld3zbHWPfJp1EVKEFgAAAAAAAAAAAAAABQEVEUc86QzaKzmqMWsOGgyajOaKzdw5oSWCBJ2OPP7MiduSiN5nTtzROqcTQZtRk1GN1GfG/K5d9dHDQnDsc2iKJVIoSgAUSgAABKAIo5dDji7V5u+8Tu6IxbDK6DN2Oa5O7nDVkNWQ1ZDVmNHHRQAAAAAABQABAAABJZFAFAQCWAElEBMtczvPSHnbJdwiygAAFQCk565V3noAgACwUUEAAAAVKAAAAAAeH3Yb15p10d9+f0AQAAAAFAJROe0cc6qyaoxbDJqMr2ObOTRkNmUNmI2ZDVn1VAEBQElkUAUlEAlgBAQEz0zO5YQS7BAFgqCgAWBx3wrvjsqSzpyjpwO3ErRnDaZjS5DVlY0ZDVlTRla1ZcxuxGzGmrKmjinTmnPctTPUY7AEAAABQAAAAAQAAAAAAlglVxNEZTYZTYYthjdBleuTq5jRlTRkrVlDaY01mQ1Yw2YjXDrI17x1Al2YxN2I1ZU7c9EdDhoM2g5z34Xi9dmPWhOHauL1Tm0RRKABYKAQAURRFEUczscTQZtBk1GTUZNYZ3scUOnA7ZjVkNWQ1ZU0cdFQVKEVUsAAACAAtQAAAQQJYUAEFARYRYJYATPTgZ6CMUvsCAKAAACg4FmgBZngE9oAAWAABQABFAAAAAAFAABAAAACABIEgQHNC0OugAAUIAKAAAACEBAoAqAAgEBAAnAToORL/8QAAv/aAAwDAQACAAMAAAAhOF6+CBBmP5NBdESALcruqzIn880UiUAgUwpHBlG6eqSmOSy2Pd/rC/8A6wyfyWda689+LmhT72b9DHNBEAR0NYEOoivf3sjw4lDWU67wwQQQwwwU9+qvri9w/wCEq2k2F2P/AP8Awtjv+s//AKHMMJ+MNf8AvLDQ918xjFNtNd99/wDfTTTSQQQQxwxim3txomCphwfVYQ9w1ylsvvy32Ebz01ww3/ywBnPMNAQfTfffffffffffbGQQW8z6v33/AN+M9PfdxH9V+83LL7uMvfvp9fr66MNfsAP/AM4AABF999999999999o0gBei3PLCGWO+iUHS6QF/d/z/wBwl5x0yy6n8z35zw0+ywtvQQQRfffffffffffffbf/AAFMq+a6/wD7/wB94vwrjVd3fxz17v8AfP8ADjGvzvPLjLbzrPf+BBB9999999995x9999989bz37G+DPPnLj+ARpVXd/V988q7vjPLyTf3aeGHfzr/+zBBB999JBxhBBBBR999999/rUtBBDz++CA3pFpVLUWT/ABJA4+4470g+ww/zywx1/wD8kMP32nGkFGEEEEEEGHXP9Pb7rLsMMf8A6WiSKbLfeDmE8rjDjjDTf+rrDP8A4Qwx/wDv8N8//wBLDACCCOGOHb/jrCqa6yHHf7DDi38A1pVUE0tdV9Db+e6+KfSZn3Lf/wDwzzz949y+/uhjlso9ooo1zkgggggQUdfbQTR2dTVaXWVVfdRfQ3+4w2mkp/5kHustjjoggvvvgggggxjSQURXffSQT24+ijhdbcBOPdqeYYaRQQXeQfvgw3mkrtvoDBoqmLgaDGfp1zywQwR72wRatpCQQUFTVDewYJewh24aRacBFW6SaQUugmgrpk5eqNrkqIkjLFkukvFryQceM0QXccfTTUQRSQQQRQTvedLWKX6xGieQbbQUghuCg4w1+rDIDHPcYDDPPPMKBTbSRwXfffQ/ffeYfQRSRSxP3IQ1y1Qz15yU3bXQTjllngggg4gujngiQUlAFNDknILFKxzZifSd5+ZXU889XYYcQdfSevbQaVVVRRaVQ738msoost8jfAf3rQTFvjHiw80/ff39/XfffffffXffffbbQwx3a6/6UaVVVfWfU84+sk//AK4brb+MesMMM33/AJxFNN9999P/AP8A/wD9d5hx995x11xxDPXTbXzDhll1lZRJX/S2OCD3Lf8Aus607yx2/wDuO9v/ADx95z1zzjDbHbPv9p1Pd9tPP7DD3/X/AKxfWeUaRfVfXxvp/wC59/ZKvP8ApzTPzjDz9995x9551999xzzhBBBxxx1//wD+wx//ANf20HkGlWlHkE8v/wD+/wD/AP8AuWRltNNRlNDDF9xDRDNFJJ7/ACwQ3yRRQyxU/wDuPNcdP/8AzffBNBtx55dpBLXrSz33/wDnoXbQvnmgxyz+/wD8sPlVFesOf3FlGOMF3333332kcN/sP+kH0Gmm3FWM0/8A/wDv/wD/ALyqDDdwg85BjDJ//wD++88ccYQQQQQxRQwQQQWfffbTw/6w/wC0nUGGG2UOPMcL7ve8P8qoMPg/aIcMPPetPMMMMM0sEkkkccksMMduvts8XtOMf+M3nX1HWHlUGv8AHa+/u7jzmCTNaEbvdxDPPv8A3/7ww/58Rc444yQRTQQQQUcffeQXfQfaQfQVVeawfcnwkv8A7/8ALWaDR5hA9BBd93//AP7XyQYzyYxQQQYUUaQQQQUVffYQcfRfbXfdWWZSwd8+wjv/AI9P94p8+OZ6fe9/OMeFHGFGV8n0E88889OVk2MMEE1/8sMUkeEGF3FV0WHF0LfOOc+u8+bJP921U31GH232uuMkFHHHGEMMMMEEEGEkEEEF32kFX0FUFX20Gn0sH078MNfsMMMYoNf+P+sM9/3PsMMMMMsc8MPOMMMEEnHGEEEUFHU0H3Ets3Hm10nlX1P9/MM/stOMpKc/+P8ArHff/DzvDDDjHPn/AN/wz/1wwccQcYUY1z6dXWZzwffQVXXfdQflw72w/wBvfKpf9+t/POO98PsMvMscMscMckV301kE00EEkEEX30H0EEEFW0FUWltU0P8AjHFZtZBOCJxxNjDxVxLFP9jJ3/z/AKy88y83y9c88RSSQT/87z84TzyVZTUXZX9fwu46+7ywyZ2p7497/cxUw464S+8a9+8Y0xaUY88c88YUwQwfzT07SVw0dTQdUaVzfQX60wzx8775mMQ1xZaSf3/Yw1QQxe79fywwwwzx2/8A0FkEEH329P2lOsNX0n0Wn9U0wMNf/wD/AP239qF+SUWR+e8zwT6xxQZx6U4wwwwyyy+ySww6V884y87U508dYdUYeedf6z3619wxxhwa57073ax4RTX/AM3OPMMN+OPPONWGPPcvfv38ssNe8P8ArVtdpF1B1t9+DDHL3/fPqjBNNjXz1V19t9VTzDH3DRx1JBBBRBDDDDx99/8A7yx3w/6wfSwfRQRYfftw04xy/wD+f99/ud/dkEf/APGfFHfzDPjpv/FRFxxrb/7b77zX/nLzPnvb7tF5V5TNpCvfPT/DvLijZ1RBdtpLBxFd1PfLTHvFzzRT3Tt9z377nf8Azy8887w76waQQdVRRWQQnwxzwWdey4/+d3f/AO8MMN//APvzzDTDDDDDDDDTPDHfv/8A/wD+8MMf8OulH0lH1UlWkELPMdpAiRZNc9Z/FP8A77Lr7z/zv/3vDPPLPHLLzz7373/33/vPPTzfjvbxvbtNRNlV+D7TfHNdDzXzXPD3v7/rDX//AL3/APP+sOMNf/Pv3PPPv/8A/wDzy4w87x6+w/QUaVeRWXTv6w9+3zw6w0/97w//AP8ADD//AP8A/wD/ADwwwwww8w0xzw9Y9/3f/wD+MMeteuN/8lWkXkWn3Lf89uP/ADHP7jXf/v3nDDX737jLfT7zzjHX737/AP8AvfPONvfvc89esesPPOV2lF0UGULc8+dvP+/v9vU99ffuNeu//fv3X/e1ONOtvP8A/wA//wD/AP8A/wD/APvDDXbT7f8ASQUbUXZYZch/61yw9/8A/wDlXDNVd5jD9Zpv7P8A8eTRSx/z7/8A9/8A/wD/AP8A/wD/APuMN+Meve3kEF0WkGkEKf8AD37rDv5DJ3njvZNjb5VV9zX91hR/bPX/AM98++/y0/8Acd8MMu8N+NnklXPFU10V36MPO+/P8OuVG3H3nfcMPMM0N3//AF3/AP8A/wD/AH//AP8A/wD/AM/8PMcsMNMtf8emlH013U1E03O8c/8A/LDDnZwwncOR/tZ/R3JpXb3vZJ5Zb3/3331/z9JBJ5BBDXL1RzpJV99VVhRhCPrzD7z73FnVVE7Hh7Jpf9phfBNxzVRFJjrXTNZvBNbFZ/D3tf3N1rp4QLxlRZ9RDOfPLDHPPPPZFb6t5JNfrFvLTzz/AP8A/wD/APy16U8SRYTwzU8w0Uf77RUeTQXTXQRJWTRQv/8Asd//AP8A6R/1e68/3961613/AMt3/wB13R3VTDFT57jD7HBFFnPp9xFpxB5x9B5VhJV+P3LHHbbPPd7FdZFd97jztZRxxDDjhTfZVJn1/bDVzXrrvXDzjJ+cBJ4FVwFtdFN9CzjTHfP/AA7zw14w0xy4w/8A88MMMMMscsMMMMMMNONMNf8AT/3vP/BFxldtlfBME5lw5ODDDT3/APy99w1ywxzcTwy11Qxz0wywwwxwwwwwxywww/7zz3//AMNe9f8ATt9B8VwVapCH33Xn7/7nXL3/APy7XZ4+01f70ww087/7/wAsfsv/AP7z7zz/AM88+x/61/w18XfQRARnws8wx/8A+8Mv8N/c99n0EO+03/8A/pxrDX5V/wD/AP8Az/8A/wD/AP8Azz3zy0x/yz/9/wDE8E0Hm6M4McMP/u89e8/PPPUdGWPf3nfvc+/n/wDXt/8A/wD/AP8A/wD/AP8A+/8A/wDLX/LXD3XD9p9pcpoMp+z77nPT3vvv/DPvPp5pX/lTjn7xlPfPJzjjTzTHjPPPjHT7jDPP7D7/AB/QfYfAPDBfvw0w/wD+ttv+tf8A/wD/AG0kHEMMNPdHX/8A/dT/AAwwywwwwww040w/508zy4+y3UbXbXRn8v6w4/6wxw8/yw88+/7RQQzzzwzce840Qwww08wwwwwwwww/7/7w3/8Av8EGlWl1UcXLMd99ue+9IMdOMP8A/R95ptXDDHbpDDD1jPPbTTHLLDHHPPH/AP8AvNP+PP8ABVpVp5VOdCDDD3//AAw9j+www9/+e77e8ex21iywwxQwx2w/173/APe99+8vsf8Ab3zznDnJ9dVtrr+DDDD/AP727k/x1/3+48dSbUe4Wwz0xxwTzz73/wD/APLT3/8A/wD/ADbjHf7DXDRUI1dRozJCbrzPbvP/AJtz5z3w175z+dQ41a5Xb763dwwz0/8Ae9/Pvvvf8MMc/wD7DXNBdpVVUguJ+vzjDd7jXWT/AP8A/wDDTvP9hRDDBt9//wD7wf8A/wD/AP8Av/8APHPPDLzjL7b3DzXLDzl5dtFU9y/DDX3/APbug2999+69+86wTRQe899/83e/+9/7/wDMMcMMMMMMP/8ArDTnz/Nh4lJlApOf3nvDnPq2DDT/AH/w4z3896QUY86w4wYYx785xzzwyyzzRz/Xff6w11w1/UKCafcKQgwww3/61tix/wD/AL/DD3/HfPnnRjx7XhRzzDzDDzzjzDz/AHz78w9Tw+Qx88XIKLIWBcgw389896lqwz6w08y29+40W31cRV8+7wQww1wxwQwxyw3/AH32kFHG3s/9uiQU12iEL9ce9PcMIb++PMP89/s8/PPOWmONP3Fkff8AX73nbjX/ALf/AP332kEFX0P/ANo8Upho65yDDDDX/wD7gvzwww/9/wAMf/8A/PT1JBFBBDDff/8A+73/AP8AP/7PTP8AwyweeQ//AGDxTSihKnLcsMMvMMYJfcM8/P8AzjDHz/z/AAwbebyz3/8A/wD/AP8A/wD/AP8A/wD/AP8A8kHONf0s8OIjyljzRJkNett/c99rbfOd+vNM9tMMc98+/wDJ3n/rbn3Lzz37zzzzzzzhBBN99p//AOAOFAOaOPQv6ww/z+6igx/7wQw8/wD8sMPf/wD/AKw9f7ywwwQUUwQw0y//AMc8M3XvEH/elChQCimrULf+89POfrIUNvHVWUs9vkMct/Psl1XPMMMEEEEEEMMMMMMNc3/tOOv9/vkVBwyzKkI8P+cfP9JKMXGX213WEf8Azzznz/vjT3r7bzDHDLPLNLDDDH/5999rPrHDsI00UAqh+/8A43//AOMKIGOIH1330F38MMMMN/2F0MMMMN+P8MP98P8A/j/9999hDfjfA8A8ccA+hC//xAAC/9oADAMBAAIAAwAAABBGlOf54E+Fnn2HgcKr5a8Z9f5WhR19FQJ4QPYy1GyinFWllLpOENP78teuEejOEevOEtu0gnYyqkxqGl8w4aeMFM4o3NxE0BPiFX+dM83yw4MIBPfqsd+Bimt2bE3Gd3fMOh+8MLvL/B4sPaef+se/r60TT3CbnFHGW00cADDDjTww0McNwWSUXAq3OnpV3u358MAd/P8AyKO7ntDZRX/j+KBbh9x1A8BwRhB1Jt8tBBARk85nruS3eCyjCe/6bUZBpn7xTz/2i66p1sxE08z7j6BWCd5BFM4BBBNN9p5xgAAVJd83DGLs3uqjTz06S745FhXjPWDSKujjf1wfTjnz/X3KDL0AQM5FBFNtt99d9xEIQCB46DsgUV2yGGi/P+nlh0kX7zavuvy/LDYgfnPbzjzzDyi/B99BUd99N9995x95BMIBA2gTnFOjOOHmSb5RBoQgXhB1xHSGznPc4v3K6CzjPXGfyA99Bd9JBxhBBBBR9984AEPRgRNNDz+p+AnVNhpdg2qCJd+f7Tj/AIEOw101+89ywvyX/wARynGkF2kEEEEEGHXP9Pb7/s6IKKdr7aK/p6pIteEwNPd+POu9S+v/ADXhDHbD7/HjzD9LDACS7PDDCY6n/C+6gkJXCWuqzWgIhVR8Qzx1hMZ5woockxhyN84kMwCOKKyMm5J0scwcAhkckdaD/Pv+uBBR1NQ8ysbCxFUINl6AZQAbf7jH+4Swd26OGOKOOiS+OO+CW+C36x1Vt5gAA0+6qadVHMweRnf07Y00sAM64YAMf/CGjzXbeXz0P3djdA7/ALtZDBMNf/eBjNfQ33UsHCzNHbCENZFKQkwjBFN0SrNGafRy9y19y4Ibldw70T/TZ/U48zW9lqMLdLxEPngsIHj+5jTTdghbKsZbdIvN53hHvScL7+zb7ogqz0d58bXMIUdRTT04zkEJeHoBQQcqjQTXEKO8eTr4kSlncCmFdHOHolVQX/43484x+wkW44whAB7Wn/7++w1T29/h2gMLnuJWyKhq4fQ8gdSR2vUadVfSa86fQ+ku1/7y4y1stwsLXIOS08cVPAFElP4y4JBDDDTTUxwQQQUUW7xzV+/1cVFfVVzuf8nl47gg0+wh14+6zw19DHuJOccRfffT/wD9/wD9d5hx89pxlJNNnPvTfrvrB1dNtzqRLDTD7/8Aiuoljh64o81698rrqmshAMcwAhyz21sz/wA1kX+11HPMfOPetd8cX3FHk5L3kG6dvpJPKZJqrffk+9dONNeCAQjQznnX333HPOEEEHHHHX+sMfsf+tf1Gm2kH1YLR399aIMa5765ZZEULJ6TX/vA7KajSNIjhv8ALBDTBFFPDFXrHnTHHLLTzzTsJB1JaKB9xq+arCG2ys0WiAH/AA7xMx1KJLn2NlZRuw1zUSYU00XffffSQVey3z5/1SaafSexqdzdggg1vvu8aVvpMaRWAc/9h/8A/vvPHHGU0EEEfnk8000ln30lHOv9dP8Adlhh1h3GXrzanHGKuC+fLGSVSLpA3fPPrTzDPDDNL1phNrTlL77TjPP3H53f73TbNV9JNRl/GhjDirHOjayLPGvhDfA4mVPTzz3/ADww8z10cQ4335TWcffYSXcQTRaWYbUVQafUSbRAfTpl7wl/vil0gxS8lXAVQ+f/AP8A/pQCCmU0g55B9dttV99dpl15hRhhNVRVVlNVp5oB7DeXzCfPb/bCfL0rzuiMwYZmvdx+y4IQeOzvDPbzphNvzBx9fr3719Xddxx991pSRlCaGeaGK+PhoTHYsAW+Aie0Br7z5BRxZxsPPDPN999d159pBdpVhVJJptVtRBBVhBBOX2/ryDDDRID7/jXrDzjd77DDv/8A9+8/8z3/AP8A991NNZ5xFBRB1B1B7jlxtRVhdmxnz37GTTDfnv8Aow2524y541z95yz329/136x51w3zzcdReYcU579dedb2ybQbVddelfQq1x6xzu959s777588905r+z54z+7x87+9eYQcZfceXbdTSRaQYbfQXaVUfVbQSETfx997lqoqU8jc92ow/py5Lmp2zQQa/wDncv8A1PlXnPPN5F9lH/3fjvRv/wBSWaXeSXKTwi47+NugSdnuogGY5cL/AA3CGu/cPvsHE8NcsOHFX+/W19HOk8XNNmV9dnXGmHkG3l3Get8/PvefoZFgNcXHrk9/GetV2sHE0kPf9/8A/wA+5wwXZeYQaVe2wdU/40QZaZVRFTTD/wCsMMPPN5rHOE0JmybONEm8lFEGE1m99f8Avz/3HP1T3DpbPD3jDdf/AG+cWZRQQrYT0Q1+x4x+xx0tm476wSi7SeTy5c5y87wzz+046eY452xy3ax5z32y701WYVUZaT8Scs/29YQX85SwTfT685ccQRrPE8w+y+6TR+9cb3418ww8ffaw08xy6/7wad6abab9QQjw71+9w3/P6OPKCAEl/XLu1u89xIw2Vbb91a88Z38+33864x0x487/ANuNWWXBW21H6n99e9eMvdtzxdMLFT/2GlFl8uvec+uduHPdM00PevteNfOfPPNsu9+lUkGF227mkLc8coaQZ94uM4QiMe9P/wDjPDv3zf3H/wD/APuMftM8Md+//wDfLT/LHrrrZxp1Rp9h6oRy/wD/AAPOesa6Ot0aiP8A/wC20y08948+4xwxx7yxw++9/wDst+McNvMNevOPdOF9NGHV4V0IcPzBxaxNiNfouPuNv+vv88dud8N+sOMNf9Pv39NPu8t8vOe8PNs8dMOklEVVEnWnIPvd7vc8ORO8OOf9v/8ADfD3TrTzHDDDD/jzDTHPD1j3/dDDDf8A59/wy3+9VfbUa1YTi3y18w+x6+96x77x5zw5yyz3+743/wDuctPPfedPffd+N88cvPdde9+/8tVnVnVmh34e98d98MPm/uXP9ff+tetP/wDrJ9/3hTjTrbz/AP8AO8te8sMM9M98ddNt+nUFlkkXJ0UK/wDrrL3LLdD+W8qXBaDDnvLN9Jfz19NDH/Pr/wD2/wDvPf8ArDzHbzbfHDjxFJBNtgKchCP7fXzr/TH/ALSxw7U1s19812zTV50dd9y27wy8/wA8/OM8ve/Pc9ON8MkXlnK12ykdHLv98N8M8PVlMUXAAMsMPMPG+GMMUc++8vc9PvOMevMP8/vc99P98Me1Vl33GHSZVE9PvNf88MN0ocMp1ekOG/8Ajp3FFkpvjDVbHbDZ4NBzvD993F9LDXxLDbeiU8pM0i3ZyzTKT7zLzwPCGZWCxTNFDVpVD/ivvXJVlHfzlRhdxFdtFgHRLfjNmAal7kgYYs6+/O7D3LDz/wA3sy/3/U+ed8/b27zz8wwwww963bzaI6Zz4U9z2Uf/APHNt8dKOwiyHTp7XLOMfuMPOvQcjPJXsU0NfVelmVOfNeMvl091em28SNMw5PveUPK1ib9oij6j2zzR5ULI/f8AjnnjmlAhRlt9Jnb/AEWQTTSyw8c365/W4f31v+7T15hFD5tN6RKvWkDZFFCNqfu40+589055w+539x32ww8z081//wDfvc//ALzDjDTjTDX/AEzx3zy/HaQYzjpmCZVAC8frwx7y08y8y/62/wC9u89fe84Mc+fPvPPOcMMMMOcsMMP+889+sP8AXTXfTYgopQNot5y37/XnvbP2jLrDPr95/D/z3/PDDTrTPvf7PPjnf/3/AM5/9+/yzx/148wwyXIFBZLS/s01+xz7x5l059z3/wD4GP8Ajj//AP8AveMNPBX/AP8A/wDM/wDfvDX/APy054x6l2/9+ic6CEPCfwgx9/x+7z9pzz7zxSI6Y5xz7z62Une4+F8844880888584997w5w/5xw+BeAGUP70ft6kyx1z44k8x7017fZW97X82z5Se56wb3/wAes/dP/f8AT/nDf7/Hnr/3Hp44Ih5T3lCvDv8A/wC9/creuv8AzzxN15df/Hnr5BXrDxvD/wD/APf/APvDXf7HTzvjfrb3nH+ksE8IIJ7O/r3fTrD3yP8Az/wzy14cVf7y3/zYSw04c89/7w/+8w7844y/770w3ox6/IVVFGPpFQC176+6175b7441727d5xVZ4x91fb3z/wAO/wDDPbHDDDTLLLHzjHPbjfPD8U1VQgAVpAT/APy1/wAMs/NMMNNuNnH9/YfscSuFsMPIc8dsP9e88+c8+dPfc8sK4ddI7ayRgjARPGPvf9P+d8eM89vOs9OG2GfnsXBb1sscI88+9/Pf8tPf/vcs+d89+eu/5gWWTVhXhkDdNPftuOcMMNO+e8sPv91k/O2E+1+9esv/ALTnHLTjz3XvLD/zHP7Hr/woYUA99JlICvz3vl7jTPvD/wA31508xYRf/wCHZ3v/APTXf7T/AKxww86w0/48oz+8w7+3+i6iICMCN0Dvg16609fvy721+/8AcMvOs1eFd/8AvfjPj3jHLDTDP/7/AN//ANPMP+NctOOI7BgUCxBsXzvuc9duebdf88P9NM9OcMdk31/8f9/iNveNu9Pc9Pvvf2c/F2ENetcMNYDlVzig/UIMMd+NcvLPvsMMcMNc/wDHLBcZ/JkH/HLPP/PLDz/DjDzaTbb7/NnL0fHjAZZ5lYjp+/DjHLf7iOrH7b/v7bvbvf8A/Bd/9bwxOMM8w1wxwZyxyy0/cfVfWYeP2lkpVbNFP3Dg/wBo9Pv8pp+9f99N/wD/AE/w0w5Vb/8AtssHd9+cte9u9vOHN/2kFX2lW1f7xGn0Ci91rBO//esMMJbc9fP9ffcPvPP8+NnHWWr3+N9/+8t//vNOPOvfsvv+H2RfLAmn10H0GDDNPfvs/vLq99e8s8cudvss9/t+Gm6Ms9/v/wD/AP8A/wD/APw+4ww8QYhl3Vrjm0RYITRZcP8AdcN/t+frZt8s/s9/+tMcsPc/+/NAvMe88/s8sMvMc888893mEynBX5aWG2WlB3vjIeNf/wDP/rqX7znR/wAzw9y//wAtfvsC6JNPf/8A9pRzNLTrzXf7nGM4mM4/awx9VpBUpA+b/n/3vL3+NLrBx9pD/rxLHD7LDYRJPP8A/wDHF30328/8MMMMc1Nb6KJq7oSwVmEGhT4Of8MuPdMa/nElXzxWFt/fO9v9NP8Av3b7DvLDnLDLdLDDDH/595hCOeSq5lhlNtZ8y/8A4w344wwoQgXnXPfQIfw3/wD/APjddh//AAww3/8A8N//AP8Aww4/4XPQXY3/AIKGGGF12GGIL//EACYRAAMAAQIHAQACAwAAAAAAAAABERACIBIhMDFAQVBgEyJCUXD/2gAIAQIBAT8AQkcI0Q1JkdNLaRpfLdqYyEOE4BaBaBaYQhNsIQg9Jwi0iRCEIQhCE8NaRacQ4R6D+I4BIhCEIPTTgOA4DgOAWkhCZhCEJtiIuteuvnPw123v6qw+kx/UXWXx1ue5bV86dZdVi6j+qvi3rvZfNuLilKXpwhMTorqvy4TMITEJugkQj3rqTCxw8sTEJthMTpzZDhIJC08jhQ1lCWycnvXTWVj0QaIQa5YSpCE5EEiHDsSpBrKXLDHhGrFOI4hvZS4Xcb/rsnXoxYpS4o+2NOy4pR50dmNlzSlymc9yVIJcnhC7MQ+axOxOZORCD9dZdeE2Jj2IiJsWkg0NZ04T74QuzExPFKUpR8x9VCwkQmdCrOFU4VyGLEzBrKw8IuzT3G0kcRxFzS7L0n1UJlKcRxFxoHq5nFhFOIpxHE9l6KG/FeH4ab2J/If4BD/Avq+hKjXPEIcOGsohBIaINC678JD6qNLg3WIpct8s6SlKVFL8N+QvkvY+micjhEuZCD+Y/A0s1MpSj+Y/Be14hMo4SEOHkhr4D8D1hdyLD7jFl4Rc3kUYvBXVfgU4jiZSvFEylLmlKyl+B6/A+vwPrx58r1vhwjUJsSIQmZyIQS7kEhrk8IhCIhqmYoTliEH38+lGz1s0DZUNj7iH6KUpSl5YRRMb5lHmlKUo3heN662j2N7Xsg8JEwsv4HrraBiGLuLuM9YWxdsPF5LD7/AXbrJzpXNLso/kLozKWxLE2TMxCZQu4+/kLqoQksxDR6ELa8vttXbDwsPuPwF4tKUpSl5FKUpSl3XlilLi/ChDh5N7UiD+gt3DyFpPSWH2e3/WH9BbuLkcQmPVzK9tL/0dLoT6awkQhBLmPCRBIaIQhPhrrIuGy4uUylKUpSl+Eh9Rcxp9OfIXcfU0jXMhCcmND74Q1j0I9YSITlhI949DzpQ0cI1mZhMalMpEILTyIR7kPpwSHniKPvhF2XCZS4TzdicFhkyxFx7NWEI9DgmPD3PprsLK3pE2TotZ0rkeicjUt3PbSsrKysr3vppiY+SGL2PuPsehDxp2oeNJqwiE5j7YQs6/WEhohCDXJYS5ExCEzNz6iY9VxSlxc0pSlKXCY3hFKN4RxHEcSNTuEy7H2xp7bVn09z+fSlxSlKUpcXlvfgo1bF8p+Ohv5L7D8GchD75R6exLkQeZyo1PoLC7j7507Uyjz6H2899vCvSQ2XZfPfmIffYvgeh+K9yH32L38tdJrdBIeULxF1PXhrvhiEuWxLHrZ/j8D1492IQ/ez18D15rex9l8D14/fY3ufr8C/gvz0P4LyvE9IaIQg8LD8JfG9IpSjY8LD7j6i8R+chsb+C9r8l/CQ/OvwkPyl8Zdx+Z6WNXwkPzaN/CXcfVnzFvXcfURq+mh98f/8QAJhEAAgEDBAIDAQADAAAAAAAAAAERAhIxIDBQYBAhAxNBQAQyQv/aAAgBAwEBPwBuWPxIj4knBTTTBXQmyulJkFpDIYkfEkUwSiUXF6KvlRX8pV8kl5cTpkkuLin5cC+VH2pldUslEkklxey5lzLmS/5pKa2hf5DH88jrTY2i5EolFyKPkg+8+4fy+0faP5h1jqLi4kkTLkXFxJPmSWSyXtUqWKjIvi9n1H1QKhJjoUPzD/hRVpklksl/2QQUKGXIvLy9l7HUyC0/BrfRTlFXBpehiRAyXpk/C4n2h+nvrJVwSxJPijPirGv88LKHnW87Cyiv83F/N+LzRkgqpUEEEEEDQi1D9aFofhallFX9z0U4IGKqD7B1yXIuLiSSSR1aHurKK+CTFUN7UEEEMggVLF8ZYi1bNOUV8DBDLWWstLSC0tRaiEQvHo9Ho9HoVKZ6Q/kHWy5kEMjxGinJXvx4gghlrIZaWlpYWlpaiEQiFobRKLkXIuLi4uJJZJLJJJZLFW0S3p9Ho9HohEIhFK9orS9EIhEIhEIgghEIhEIhELR60yiSS5FyLi4uLi4kuLiSdxaFomfMklxcSUtyVsuLi4uLi4kkkklkkkkkslkkkk+J8zwyyVdARV/IxcXTkr5RblOSrUv5Fw1OSrxHmPL8RyT0U5KtiOMW5Tkq6BTkqz0CnJVz6KclQxD52gqz0CjJVyq26CrPlrnaMlWegUFWdlcvTkqz0Ckqz0Ckqz0Ckqz0Ckqz0CgqyPn6P0eR6lzNI8j59D6BSPPQKf0eegU4HnnJ0LA9C5adC8LSuWjRHhY6CsdBWOgr/XoKx0FY6D/z0H86D+cstt45Zbf5ofILwtt45Zbbxyy23jlltvHLLbeOgvHJPfeOg1Y6DV0GrHQFkqx0BZKugIfQFkq6Asoq5dbKyVdAWSroCyVdAWR9AWSroFOSrPLrZpyPjnsrZpHnoFJVnl1s0jzy62aR+VxT2WLx/8QASRAAAQMCAgYEDAQEBgIBBQEBAQACAxETElIEITFRU5EUMkGhECAiIzBAQmFicYGSJDNQY0NgcqIFFTRUgrFEwXNkg7LR4cLw/9oACAEBAAE/Ao24WNCOoIuRPkkoz9idM4017FfdqTJCSmHyBVVWLWi9GSrlKdafSiATh6UeAKtFVVVdaxrEsSJVfXR4OxDwHwUWremse7Yxx+ibomlH/wAeTkh/hum8HmQEP8J0z4B/yTf8Hm7ZmIf4MO3SeTUP8J0XtdIfqv8ALNB4ZP8AyKGhaGNmjtQhhGyGP7QgANjQPosTt5Wv1+P86T6egqQ4atSci7UtJDRHtR8FFGCXMaPABVYVL5NKIlF3gG1PR8FPDT0NfAfANvgKHiVR9FRUVFbNKqnhoqKip4KjeqfNCGY7In/aU3Q9Lds0d/JD/DNO4PMhf5Vpu5g/5If4RPTypYwh/g5/3I+1D/CIfamefkKIf4Xoe55/5JugaE3ZAPqSho+jDZBH9qDWt2MaPosTt/6Wz85/yHoMO0oxFw3LopHtKTQ3ybZu5f5T/wDUf2r/ACn/AOo/tR/w2Tis5FRaFNG+urmrTkInhGKXsA5p+i6Q7dzXQdKytP8AyCf/AIfpXss7wug6aP4PeEdE0uv+mk5J0Gkf7eX7SjDNwn/aVhO4rV4BTxAPGA8FNS7EEfDX0WrenYdXgDHZSo9HuMoQQfkugS0o1pK6BpfBKGgaTgpgQ/wzSNVQ3ZvX+UzH24xzQ/wZ/bpDeSH+Dt7dIP0ah/hOjdr5TyX+V6Fuf9yb/h+gt/gA/MkoaLoo/wDGi+1BrW7GNHyAWJ29Ynbz68HVe9u6noJX62UPbUoEEVWNtaV9Mz8539I9ABq8coD0FTvWJ29YnUOtV+SMcR2xR/aFY0fgR/aujaN/t4+S6No3AYjomiH/AMdneug6F/txzK/y7QeD/cV/lug8I/cV/lmg5H/cv8r0LK/7l/lehbpPuX+V6Fuk+5f5XoWV/wBy/wAr0LdJ9y/yvQ/3PuX+VaH+79y/yrQv3PuX+V6Fuk+5f5XoOV/3L/K9ByP+5f5ZoPDd9y/yzQeG77iv8t0Dgf3Ff5boHA/uK6BoP+3HMroeh/7di6Jov+3ZyXRdF/20fJdH0fgRfarUI/gx/aFRuVvJVKxO3lVO/wDSnENFSmuDtii60rvi/wClHJjqjK5zsLFLIWNbvKbUNecVdSjmOvF27AmSGkuL2VG7A81OpwqgxgnG4sqpXjA4NTWx6jjGpBwds8QuA2lVB9A388/0+gFdXqXZ/JukdRu4OFUwxY6tI1oHzDt5dRC4CKNpVSUxGrT8wvOWhVuLWhG7yqNw1FKIRtGHeAnxVL9fWpX6IwRmifE19K9ibG1uwKzHXqoADYPEezFTeEwtfT2HLG5uqTn47fzv+PoAPUSuwofyXUIubvXmdzVjjVxm9XWb1dZvVxm9Y25gsTd6xDeqhVVQqjesbcwV6PMr49lpK86/b5IVtuDCmHFVj9oTfIdgOz2fGH53/H0A9RK7EP5HMzAsUh2NWCU7Xq1veVZZ71Zjyq1HkCtsyhYW7gsLcoWBmUK2zKFajyBWYsgVmLKrEWVdHi3KxFlViLKrUeVYW5R4DKwK635J35kbh21ClFWGm0awmuxNB3+KPzh/T6CH2vUSuxD+RXytb81XF1yfkmOi2Np4wII1en1yn4f+0GgbB4LIxNI7Ds8EHUpuJHi/xh/T6CLXX1L2UP5Ee41wt2psbW/PwOY120JpLHYDs9k+CYa4/wCtamSGmzBUppfjaCes1NqyEazrdRR1qdfgqsbd6us3q633q78DljdkKrLkXntzVSXeFhkzIKb8s++g5oCgp4sHVJ3uPi/xm/L0GidR5+M+peyh/IbjQEqMaq9p8SbqtO5w8D2Y0Ixr7aoRtBqsIpSiAA2K033q2zcsDdwVBu9DN+Wfdr5IaxXxJHYWE9uwfNMbhY0bh4v8ZnyPoNBOLR6/GfUShs/kSXqj3keLLrwt3nwPfhLRSpKa+uIEUosTaVrqWNtDr2JrwTT0dRv8INs4T1ew+EkNFSm1kcHnYNg8b+Kz6+g0AU0ZtczvUuz0Nf1uXY3+oeBsrXfPwOeGpjTXEdvglxXIqe9OFMJd2u8pAVYaN/i1p7lTHeoKHye5Rg11tKMlD1XclcORyxScPvVZdwXnvhWGXOOSwPzq38ZVobyrTFaZuVKeAiqMbW7HlqLnE0Y8uKbDrq81Pjn8xn19AwYW09RK9n+RJG4mEJjsTQUxoIcxw2OKtDe5BjWovaNpV+PerwOxjirr+EUXSEflnmm4x/DP1WKbh96xy8LvWOXhFXH8Fyuv4TldPDcrp4bld+B3JXvgcr3wOV13CcscvZEqz5BzX4g9rQrTztkKsR7q/NAAbB6B35kf19APUuz+Rfy3fCe4p9WuuD/knSANqNddiwSO6zqfJCGMdioN3rruvH9fQD1Ers/kUgEUKo+PZ5Td3aqNJDmHZ7JTXYmg+vv60fz8e5HnCbsHqJXZ/I5a07QqU9ff1o/n4XyMZ1nK/I78uLmsM568wasOjja9zkLPZC7ktnqJXZ/K9QsTd4V2Me0FfizLpEfv5K+3c7kr/wAD+SvO4L1dk4BVybgHmrk3B71jn4PermkcDvVyXgHmrzu2F6vs7Q4fRF7XOjwn2k+VjNp17gqzPHDam2x+XGXneVhnd1n09wQ0ePtFfmgANg8B6x9RK7P5KxDerjMwV6PMrzffyV05HLHJw1ilyd6898KpNmasMnbKsO+YrDH2ynmqaPmPNfh8pXmeCeSGHsh7lidwVim4feqz7mrz/wAKppGZqwz8Qclgm4o5K3Nxe5W5eN3LBNxu5YJ+KOSppOdixaQPZafkVpBabeNhZ5e1DD/Cj/5FWq63nEfGO0+oleyP16oVxmYK9HmV5nvV34HclcfwisUuRee+FUm4g5LC7tmVGdsrl+HzEqsPDK1dkPcsUnZEvP7mqk2ZqwScTuVt3EKs/uOVhnxc1Zj3K1FkCwMyhUG71GYVt/1j0B2n1ErsH6hUb1jbvVyPMFfizK/Grwyu5K47hOWKXh9689ubzVJszVhf2y9yp+8V5rtlPNeY95XmOH3LyeyDuVX9kSrPlHNUn+FYZc45K0/iFWfjcrDPfzVmLKgxg9kevyez/UPQPu4jhw/Vef8A2+9Vnyt5qs2Qc1im4fescnC71ck4LlddwXq7+2/kr7dzvtV+P38l0iHMr8PECvRcQK9FnCux5wrkeYIubmCxCjdaxN3hVG9VHqNVVVCqFUb1ibvWNu8LG3eFcZmCux5gr0eYK9HmV+PerzffyV4ZXcld/bfyVx3Cesb+GVik4feqy5BzXntzV57e1UlzhUfxe5f/AHVRvFKpD2yO5rzG8815jIvNcHuVR2QdyrJ2RLz+Uc15/wCFYZc45K2/iFWvjcrLPfzVmLKrceUKg3D9Lk2D+oegwNfrq7nRWvjfzVr9x6tHiuVt/FPJW5OL3LDNxG8lTSM7OS/Eb4+9fiPgVdIyt5rFPwv7lik4PeFV/A/6VXcD/pa/9v8A9LV/tzyCOHgdy8mg813LzX+3P2rzHAP2rzHBP2qmj8LuK/D5DyK/D5D3r8NuPevw+496/D7j3r8P8XevMe/vXmPf3r8P7+9V0b3968xud3r8PuPevw+4968xlPevMZDyK8xwzyXmeEeRXmuEeS83wjyXkcE8l5PBPJauD3L/AOyv/srXwlV/DVZMg5rzu4c1573Kk29qwzZmrBLnHJYH8TuVt3EKtfG5WRmdzVlu93NWY93erUeVW2ZQsDMoWEbh+jvjkdK11yjR2eHZr9PJsH9Q8UkDaQPmukwZ6/JdJHZFIfoh6idi7G/yJJJha/eG1Tp6MY6nWZX0jHl0047G0CL6TMZTa0kqc+Zf79Q+a0dxwYHjyoxr94Wjy/hbp3E96mbghiLXESOdT51TW25mtxEhzDt3hTlj5YmOOoONfnRRj8XNr8lkbQrtdTBX39npZer9R4CQ0VJor2LqMJ/6WGU7X0+SGjxdoxH3oBo2AepnYuxviOldiwtbUpsjq4XtwnmPCCCKj9WMrADr7aKORsladhoQU3SGkjyXUJoHdiuNx4K66V8HSm0LixwZmUrx0WR47Y/+1I61DD5NdbWrSnmscTXUc89yMMsU8FCXkvOv3LHLJpNkGjQNZUchskuPVJFfkUwuIqR4lQtIF2FzGvAd2K/IexrT81HKIDK11XYnYg4e9NkDdKMhxEOj7B21QeXuxOa4U6oomdJDpD1sfamxTtaI6C0OztUjJXyROwjyOxETl7HDAMNe9YHMjOPAamvzKgilkk0g9RuOmFYJOJ3K2/iuVn9x6sjM7mrDPfzXR4t3eujxbu9dHiyro8OVWIsq6PFuXR4/fzVrdI8KUSMjJx4gKdmtYpXbGYfmhCK1ccR9/qgc6+W9mCqJpPHr3+A7Fu8JQ8lpPbVVxxB3u8BGpaP+QzxpXlgBp2+ieSGmijdiY07x4kj8Daprg5oI9KdiZPE9tQ8ePFLjdK3KUH1e5u5NeHOcMpR0h2KRrI8RZt+SOk4mOfEKhoqarb4mlYsMbGmmN9KpkguPjdqwkUO9QO/PnLSW4zRRsPlOrreoHB7Y25OsPegwTSYpG6hqaFG8O0cQtdR9CDXsVcTLcmEN7aOTzJ0ewBXDsdvAUpdpDhqewN1jV7SLXPON7XXK6nDsTLodiLS48kxj2F5awVcddSujzEnzgpjxYadqwy8TuVp3FcrPxu5qwz381Zjyq3HlCwt3Dx3ODRUqJhlc2R9dvkhaMatkdmlcfTS9Q+rf+SP/AI//AGnjz8P18Dti7B4h2KMebw/EQr0NcOMJ0MYHV7VHhjhadexCQFuKhTZo3e0E+VjNqDmluIHUg4HYVpX5TvFmkfGAWiuvYhPGRXZvB2hY2luIGoTJg80wkf8AtOla1wGtTmkZTKUDa7ApJCzYzEUJASBsO5SSOx4GUqr3m8VE9xayvamPDmByMzgepUdi6VHud79Wz0ETjcnbXUCpnvx0a+lBVOnwSULTsqCE2NpjecA117Fd8wzA4YtXiueXeSz6lMDbxw7GtoSopo72kEuHYopw18jnHU8VHzWjva2WVz+1o10VWjRnRNqTQ9ibM8jXA8K5JwSsU3DHNVnys5pzZXjC7BRMiLe1ur3VWhMcdHrcIq53Ym6Mxux7+a6LBtw6/mrEWVW2ZQsLdw9SdpEYxdbyTQ6lWoBT245mA9VoxfVOdgY925pWjNw6PEPhrz1+OSACT2eMySN/VeCpOofQGQj+G8/IK9+1JyV9uST7VfZ8XIrpEW/uK6RDnXSIOI1XoeI3mrkedvNY2Zm81ibmCxNzBVG/wNLnTg23CjTtRxXGebdqO1FxEjdf0RQ2BU8LpHcGT54UKU//AJRMiBu6twWIuhbTWU+ZllvlDcUCC2oeNakjwtDsIxb0ysk9aahUoarg+qa+OxiaRi11UhxQMwuxahWiuYntwEEHb4mkNe4MpmRiBmx0XlNxtwH3KOSPVVwBHslB7WSm4aZStKOMNwO1VTo6AO1GQdu9FznODmD5g6l5Yla/BqpvCY3zjnkjWNSe2TBQBvWr1tqc9pcHP8kI6TC18mF2pwr9U57C+Dyxq2pr4Rc84DiV5phwa8QO5X2fEfoVeGR/JXv238lddwXq5JwTzTzO4eS3D9Ub8Ur92rF2qzNja9uFp3k4qoDSMzFSfO3krT61xNB34Fbk4x5BWjxXqyM7+aOjRHrYj8yujQDVg1LomjD+ErUXDby9Ca0NNyiZbiYzcPUcYuFnaG18Rs0bpCxprQa/BD+bpY/c/wCx4GOfNeI1DFRjvcpJHvwwSDDXrO7CFibq1jwz6QyARl/tOoiKFNkDnSAew6ng0o+btN68uofLeneS3UNmxMfLjwS01tqCPBETc0kbpNSExbQTMwVNK7WlSMYJ9GOEbXf9KTqOQ2eONnj4RuCwMyjkrUXDbyVmLht5KzFw28lYh4beS6PBwmqxDw2qxDwwujw5EYIcisQ6vI710aDJ3ldHi3HmV0eLcfuKsR/F9xVhm9/3FDR4xsxfcUNFhGsBw+RXR4/i5ro0Q2Yh9VYbmf8AcrDcz/uR0WE7QT9V0WGtaGvzQ0WEGoBH1Q0aIbAR9VYZ8XMqxH7+ZViP38yrEfv5ldHi3HmVYiy966No/DC6PDkCsQ8MKxDwwrEPDarEPDarMXDbyVqPI3kgxg9kcvEqfHb+dL8goNTKbiR+gyPwmLV1n0TWOEj3E9YDu8MD5HaVOXMIq1pHy8QMaHOcBTFt8EX+o0r5t/6WlyER4GtcS7aR2BdIZj0eKLt2/IIgHaE+OIaRo1Gj2z4dPjD9H1+y8I7VEfxemN97T4HwaQJZJWTiuE7RsUDpGaFE4MxmlTrUXl+eLwSRQU7PBAav0o/unuUut0ExcS2o838+1S/n6N83/wDSf1XfJN6o8QzxD2q/JXnHqwuPz1LFpPDaPr6k7YVl/SY+vMfeoxQfM+ic9rSwH2jQKoqBv9E/FhOE60K0FdvgDmmtCNSc5resQPQT9fRv/k/9IPJ0iVnY1re9Tl95joxUxAlw+fYg5rmhzTqOxH/Vt/8Ah/8A9eJbN+5i1UpTwRf6nS/mz/rwP/1cP/xO8Dw0aVo/9L1M9ogl8r2CmSMtsq8dUdqm84HtGkR4XdivxdrwmdHjeXiVxqKa9adpTKtDdevyjuTp48Ltuw9iglDII2lrgQNyuQhxdhd79SZIHsfda7ynHVTsUQ0SGuBr9fzKB0XFiw6/kVdjdpXW6sXeUXNLTRw2JvVHyTpmbB5R9y8+7cwd6sM9qrvmg0DYPVHbFu8cvAIG8+mOpAgio9BVtaVCJoKqoIrVaj6AQSeUC4YC6urb6IiSup45KetdGrT81S0EsFfiQIcKgghCSMuwh4ru8YnC0ncEJJdTnAYCD89iM4cdHtnrO1q5+NEddTmd60edjpJWl/8AEqK7loVMMslNmrktEixRiSXyq7B7lBqa9mSQgfJAvEmEkEU5eGoWNmYJ2kRNLau2pz2TvDsZZg6iFWvc+OarndbE1NkkjphhLztJ2KAvZEBadWp704aQZA9jAPIw6yqzUHkj6lef+FUnzN5LDLxO5YJOKeSiYTPpfnD1wrPxv5qwzVt5qxHuXR4sQdh2Cido8TnNJbs7FbZkCwt3BUHjmvYaLDPxm/ao4sJe5zsTnU7KbE+Jha7yRsKZDVjcT3HUg0DYPV3bF2jw7fA2RjiQHCvgk/NhHxf9eGo2V8d7wyiqK08BcG7VJ1SohSNny8R0j7mo+S3rJrmuGIbESBtTXtdscCn2MYx4a+9SMwRuwuPy2hRHDCzEmMbCDroKrpAynDWmJY2VpiFU2RjiQHax48jn1wM27010oZR9C6tB71dfW3QCTuUT3GofTE00NE1wcNXiOcGip2KeWMmEg1wvqaa04NnmjO1jR3pobHOKamyf/kFEGB8bCAHtLqkouONmGh3+CoWNmYK7FnCvQ7MSLjhtxvLhSmtuxQa9DiADg4eUDTtVtzmnE12MuriGqiw+QG2GkDerXaImD5E/+lhm1eUwfRWZquLZ6YjU+SmwYf4j1ZGZ/NWI9ysRZArUeUKg3ejkgcXlzH4cVMW/UgKClSfn6idhUf5bfl6w7Yt3gNCDVRwgBwxPoDqGJR1o/aaU261ABhaQNla/NECWSjtjdZG9M/1DQBQAGif5UsTffXkmuJ0im5uxMDZZaluxPa1zzWurYmmgaCdfi6S/C+IatqDpjMPNj3a08yOnjGEajXrLTJKujY5tNe9YTGbYeSCE2lNR93gJA2lOl8mrWkoCSxsGvWnuA0ZuDWpXB0bGsNa0Qa1kraZeaZG2eR73ioGoLSXBkdFpDgQwNGIN203KV7JJYgDVhOvcpYi2JzQdVdQop2jDGwN1khPwRyRdgoQmeW7ECcPgxszN5q5HnbzV6LiN5q/DnCM0QnxYtRbtQmY6Suug2alibdx+V1adVOdLjLo4icTdddSYXNaBaescnCPNYpuGOarPlbzX4j9vvQE49qMfJqwzcX+1OgL24XyEhdDhpTWm6LC3qgj6ro8W7vViHhhWo8jeSwt3BSvtsqNpNAgLUbzXsJK0cUgi/p/SCovy2/Lx7ddeN/NWv3ZOatHivVt/GdyCwS8f+0LBPx/7Fhn4o+1YZ+I37Vhn4jftVNI4jPtVJ87OSpPnZyVNIzs5KmkZo+RVNIzR8iqaRvj71+I/b707pH7fevxFR+X3r8V2NjP1WPSj/Aa3/kmjSGilI+aMbiamCKvzKtu7IIx8nEK27gx/cU5kjqebaKbnIwz1q2gdvxK2/wBqGMnfi1p0cjqG2GkdofRWH1rgNd9xNEw9hp+b6qukZWc1XSMrOarpGVnNOE7snMqTRy57RRoO+pQEz2UdgNDtqQjBKaYS1rh27V0fSLuJ9p/zC6PIHYmWmH3VTGTtaBWPvVNIzR8isM+aPktIv29b2clg0gU8637VblBqHsB9zEIpK1xtr/QE6FzhR0tf+IQ0d7epOW+7CENH1k3X1Kbo+DqyPCdAHDC57iNy6NHmk+5WW73c1YiO0V+ZXR4OGrEPDCsw8NvJW48jeSwtyhU9TmaSGOaKljq0T7k3kYC1p6xP6VH1B6w/Yu0eo/xT7m/9qIUb8z4+k9VvvcP5Pi6g8LpY27XK8T1Y3HuVdIPstCwzdsg5epP6q7R6jZeZHEu8k+gssxA69taV1frNQsTcwVyPO1Xos4V+LMrzP/8AgrzPi5K8MruSu/tv5K67gvVyTgu5rHNwf7lin4Q+5YtI4bPuVZ8jOarpGVi/Ebo+9fiNzO9fiN0feq6RkZzWKbhj7ldd2xOHeo54rY8pY5HdVlPmrWLrvJ93YgxrdjR6q/Yu3+QarGzMFeiztV+LMr7Nzj/xV79t/JXXcJ6xycLvWKfht5rz+5gXn97Vhm4o+1W5OMeQVp3FerPxv5qwze7mrEW7vViHIFZi4beSwMyhUG71OEAM2dp9YfsXb+o4m5grsXEbzV+HiNXSIc66RH8XIq+Mkn2q6eC9XJOAeYWObhf3Ks+VnNef3s71SfO3ksE3G/tVp/GcrPxv5qxH7z9VYiyBW2ZRyVBu/RY9n18e78D+Svtyv+1dIj+LkV0iLeeRXSIs3cukQ5u5dJgzrpEOddIhzrpMGddIhzrpMHEXSIOIF0iDiBX4OIF0iDiNXSIOI1Omhp+Y1XocX5gV+HiNV+HiN5q/DxG81fh4jeavQ8RvNXoeI3mr8PEbzV+HiN5q/DxG81fh4jea6RBxWrpEHFar8HFar8PEar8PEC6RBxAukQ8QLpEHEC6TBnXSIc/cukQ5u4rpMObuK6RFvPIrpEfxcl0hmV/2rpDckn2q/wDtyfar37UvJXjwJFddwH9yuScF3cscnBPMLHNwf7lim4Q+5YtI4bfuVdIyR8yvxP7XevxH7feqaTxI+Swz8UfasE3H/tCtycd3IK07jSdys/uyc1Ybnk+5WI/i+4ro8OVWIeGFZi4beSwMyt5Kg3fqsOx39R9YfsXtbFQblQblQbgsI3BYW7gsLdwWFuUclhblHJYW7gsLdwWEbgqDcFQbh/LcXtf1esP2L2v5oi2v+fgc9res4BX2nqhzvosU52MA+ZWGc/xQPkFad2yu9Scu3wvfgaXbkDUA7x6w54btVyM+0mPcyB1KEhx2qJ+OMOI1+NpN4vZhqGjWSr8WbuKvM3P+0q7+3J9quHhPQJO0U/QajesbMw5q7FxG81fh4gXSIc6vx+/kr7cr/tV79t/JXTwnq4/hFY5eF3rFNwh9yrPkbzVdIysX4j4F5/ezkqaRnZyWGfiD7Vgm43crc3HPIK3JxndytO4z1aPFk5qz+7JzVn9yT7lZ/dk+5Wf3ZOatO40iwS8bmEx04kmbgB17a0WCZ3Wkp7mpsMQ9mp3nX449O9dvh0l5dDJg3dZQfkQ1yeFxo0mlVHpDHN8ogH5pr2P6rgV0lmPDhd8+xFzQKkgBaQQY/JcPofBUJz2N6zgEXsAqXCiBBGo+NPI5kdWjWmudbxOGtNdibiQc1wqCukCp8glva5PeGtxJj3OaS5hatF/Kr8RWIUrVXZevhaWd6fPIwY8LS081claW42toe5F7QaV1+Akage31XE3MFdi4jeavwcRq6RDm7ir7Nz/tV79uTkrj+C7uWOXhf3Ks+RvNef8Ag71SfMzksM3F/tVuTjHkFaPFerIzyfcujx/F9xXR4sveujwcMKzFkbyWBmUKg3etR/mS/T0A9Qeva8BFRRaSykB8t+zZqTGyebo91ABWtPCZGh1CaakxsbpS5oCaPLf8liFHNxAGqmFWjtYDrTzGSxsYbSorREYtLrlCMjWz1dUDeocMsj3baKTBcAeNXYoxhbsoga+LMCXRjFTylZ1EY3n6psrGxlhPlDsUf+lOum1aOz8M0bwjjLWBrCSw6wnuutLW4gTvCY4QMdE6vw6tq0Z7cDYXana1SQMtnDTNiCe1pEYusAb71PLHhBxjrJk0TnmQvA3Aq/DxGrFDeEhnbQbAukw5+4rpEW88ir8fxfaVeblf9qvftScldPBk5K4/gv7ljk4J5hY5uCPuVdI4bPuX4jczvX4jfH3qk/Eb9qwzcb+1W5eO7kFadxnqz+5J9ysNzP8AuKsRbu9WIcgVmLht5LAzI3kqDd+mM/Nk+nj238Z/chFJx3cgrcnGdyCty8c8grcvHP2hW5OMeQWCTjHkFbl455BW5eOeQVuXjn7QrcvHP2hW5eOftCty8c/aFgl4x+0LBLx/7QsE3H/tCwTf7j+0Ism439oQZNX8/wDtCwTcf+0LBNx/7QnQyOFHTf2rBN/uP7AsE3H/ALAsE3G/tCMUjtstf+AWCXjf2hO0YuNTM6vu1IQObsl5tBWCbjn7QnwveKOmdT5BN0Nrdk0oTYnsFGzv7kdGDnYjK+vu1I6Iw7XyH5mqGitGySTmrbuM/uVo8aTmrP7snNWP3ZPuVkcST7k6Ft+Pyn/crDcz/uViP38yuh6Nwu8ro8PYzvKsRZVYh4YVmLIFZi4beSsxZG8lbjyN5LC3KOSo3KOXiVP8gt/Nf8h449Rch1/p6tVO/wBRF8j/ACiPzj/T47fUXdiHW9WLQU2KjsRc5xpTX/JVRvCxNzDmsbMzeaxszt5rGzO3msTd48H8f/h4DPEPaqdw1q5IerCf+WpU0k+0wd6tPO2Z301Kw3tc8/8AJQhzRhJrTZ6i7aPmm9b6eNNecQyN+DtqtGfKQ4SOqQdviSuGNmv2v1nE3MOaMkY9tvNXoeI3mukQ8QLpEW/uK6Qz4vtKvjJJ9qunhScldfwX9yuS8E8wsc3CH3LFPw281WfczvX4jfH3qmkZ2clhn4g+1YJuL/asEvG7grcnGdyCtO4z1Z/dk5qz+5JzVgZn/cujs3u+5dHj9/Mro8W4810aHKujQ5AujwcMKxDw2qxDw28lZi4beStRZG8lai4beSsw8NvJdHh4YVoiduB5aMGvtVhh6xc75lBoGwU9WdtCG3xjhfUtJa5qMxERcaVU01I20NXEdiNxkYfdNdx2Jkj8QDwNY1UUoBkj1dqncdTBqxIwmBtY5X++qLqN1qScs1P2nZRDyWb0DUV9exNzDmrkedvNXoeK3mr8HFaukQ510iLeeRV9uWT7Ve/al+1XXcCRXJOA7mFjm4I+5YtI4bPuX4j9vvXn8zOSwzcQfasEvGPIK27iuVr9x/NWG73fcVYiy95ViHIFZi4beStsyjksI3foX8ZvyPj9Ii9/IrpEW88iukRbzyK6RFv7iukRbzyK6RFvPIrpEW88iukRbzyK6RFvPIq/HvPJX4/fyKvx+/kVfj9/Iq8z38ir8e88ir8fxfaV0iL4vtKOkR1HW+0oTsrsf9pXSGbn/aukR/F9pV9nxcir7NzvtXSGbn/aVJ0aXWWvB34VjZ7bnOA7MFFTR6F9p4NdWop0jHxsHl7MpT5R5OGOQ0+FXnXWvMMgA9yxh+LHHL7vJTqubTFMf+CEkpPnIXfQLyS4l8cjt3koav8Ac03UCuu4MiuP4L+5XX8B/crsnAdzCuS/7c/cFcm4H9wWOfgf3LHpHBH3LHpHBb9yxaTwmfcsWk8Nn3KulZIuZVdJ3Rd6/Eft96/Eb4+9efzM5Kk2dvJYZuIPtWCbjf2hW5eOftCtycd3IK0/jv7ladx5O5WjxZeasDiSfcrDMz/uKsR/F9xXR4cveujwcMKxDw28lZi4beStsyjksLco5fq5/NZ9fWHbQh1j48lcBUmqED3IagB7v0MkDaQP1x35kfrB2hN2+ORUUUcMlW4yMLdlO30T5mtexm0u9Ox7X4qeyaeK6RrXNBPW2eNLG2VmF2xQk4Sx21hp+tv68fz9YdtCbtPoy+jmim3x4xXSJHbgB4ZJGRtxONAmPa9uJuz0MolqCwlGVjaY3UKgkYZZiNdT2DxdL60fgP8Aq2e9iJAFSQPE6ukj42/9fpWpVG8LGzMFcjzt5q7HnbzV6LiN5q/DxGq/DxGq/DnC6RDnXSIc3cV0iLf3FdIi9/2ldIj+L7SukR/F9pXSIvi+0rpEObuKdLG50eF46yc9jes4BX2nqhzvkFinOyMD5lYZztlA+QVl3bNIe5dHZ8R+vqR2hN2u8aa5hGAnbrptTNIbTyq1+SJoKpkryRijoDs1pzmNFXOAU7m4WOBB8oJ72sFTvonvawVKkkDG127k+VzWDyPKPYo3yklsjAD7vBF+ZN8x4SBJNRwqGhA4XhlABRXBdEdNZFVLOWPaxrauKZITixihbtUb5JKu1BvZv8aGXHj1UwuoojTpB96iD2vjJkccY1goSuZJKHNcRvHYnSNEZf2UTHyYcUmEBaYQBCfiRuPYZ7hHa0DYi78XD/R/2tLwEta/KSBvKaKNaPcq1J8En5sH9R9Jr8OJmZvNXYuI3mr0PEbzXSIOIF0iLN3FX4/i+0q8Mj/tV39qTkrj+C7uWOXg/wBwWKbhD7lWfI37lXSN0fevxG+PvVNIzs5LDPxR9qwTcb+1W5eOeQVp/Gf3Ky7jSKz+7JzVkcST7lYbmf8AcrDPfzViPd3ro8ORWIcgViHhhWYsjeStR5ByVuPI3ksDMoWBuULCNwVBu9FpDGvEdRXywhFE3YwernrBN8UmgR1CqANs+8o1sA+5MaXYXdlNSox2keXTVsqtKFQ0NGqutaQ9uJjfiqStIeHNwsOI+5F8b5oQHalOcOF+47FFLHrcXiu47VrpsURnEsoMNXH36k0SU8raqTb2DvUYdelq/kn0jex52dvavKdKyVoq0atxTfK0ovOqjdVVLIxpk19ZvYtHngtNGNoI2g6kyeMjW9vNdIZew42UpvV6HiN5q9DxG80dL0dp1vUGkYBJVmt76jWmER4qSscHbQVHJgdV/latWHsTJYxjJdrd7ii/HEyOj207cJTpXSsLSwt99CUTcc0ysJDewNOtYIwRbZKPhLKt5LU6uOOVziduGnJOjxUNJ8Q2E0WLSiKGP6jUUHPAoNHP3BY5uD/cqzP0jVGPNjN2lYtI4bPuX4jdH3r8Rvj71TSM7OSwz8QfasE3G/tCwS8c/aFbfx39ytHjSc1Z/ck+5WGZn/cV0aLceZXR4MisQ8Nqsw8NvJW2ZG8lhG4fpUuxv9Q8fBLxe5YJuN/asE3G/tWCbjf2rBNxv7Vgm4/csE3H/tCwS8Y8grcvHPIK3Lx3cgrcnGPILBJxjyCtv4zu5YH8Z3IK2/jOVt/Fd3K2/jOVt2L856bGdfnXq0eM9WjxXq1+4/mrJ4snNWf3ZOa6FDWtX81Yr/Gl5roMHxc10OIe1J9yOixu6znn6rokdKYn03VQ0SECgx80NGib1cQ+qOiQHaCfqhokDeq0j5FdHi+LmVYj3HmU/RInbKtdvqm6MPaDT7wSujQZEyCG9IMAoujQcMLo8HDC6PBwmqxDwm8lai4beStR5G8kIYm7I28lgZlbyWFuUelJA2kBXHP1RD/mdijYI24R9Tv/AFuXq/UesHrBN7fVHAnYaFRxuaXOcQSd3q2Bla4RX5frsvU9YPWTe3+aJvyyhs9X9pN/k6qxN3hY2ZhzVyPO3mr0XEbzV6HiN5q/DxGrpEHEC6RDnXSYM/cV0iLeeRXSI/fyK6RH8X2ldIj+P7Sr7Nz/ALVfblf9qvjhyfar/wC1L9qvftSclePBk5K8eC9XncGTuV1/Af3K6/gP7ldfwH9yuu4L+5TS+afWOQatyGlQ4RR1fkFecerC8/PUq6QfZY3vWCc7ZuTVad2zPVhuaT7vUvaTe39Lp4arE3eFcjzt5q9FxG81fh4jea6RDxAukQ5+4rpEObuKvx/F9pV9m5/2q8Mj+SvftSclddwZFcfwHcwrkvBP3BY5uD/csU/Cb9yrpGVnMr8R+33rz+9nJUnzs+1YZuKPtWCXjf2hW38Z3crbuK9WjxZOas/uSfcrDcz/ALlYZ8XMro8W4810aDhro8HDCsRZArMXDbyVqLI3krceQclgZlHJYRuCoN3qkv5b/ko/y2/Lxr8PECvxZwr8OcK/DxAukQ5wr8OcLpEOddJgzrpMOddIhzLpEOZdIhzdy6RDm7l0iLf3LpEW88iukRbzyK6TF8X2lX46+1yQnj16n/ar7Nz/ALV0hmV/2q+3K/7VeGST7VeHDk+1Xv25OSv/ALUnJXv2pOSvHhScldPBk5K87gyK6/gPV1/Aerr+A/uVyTgu5hXJeAeYVyXgHmFjm4H9yxz8Efcsc/BH3LFpHCb9yrpGRnNV0jIzmq6RlZzX4rdHzK/E/t96/E74+9fiN8feqaRnZyVJ87ftVJ+IPtWGfi/2rBLxe5YJeMeQVuTju5BW38d/crTuO/uVp3Gk5qz+7JzVn9yX7lZGeT7lYZ8X3FdGi3HmV0eHJ3ldHg4YViHhtVmLht5K3HkbyWFuUKg3fqz+q75KP8tvy8agVAqDcqDcqKnpO0pv80HYVD+W31ftTfVQ5pJA7PEJA/k8qH8sekJDdviMcXYvcaeBzg0ElMkDxUeIdqZ2/P08Mr5XP8mjRs8X5qD83SKbKjxJ9jP6x474w/DWur0EQpNOPkVUbwqg7CPEmmMZbqGxbaEeJHqnnH9J8Ms7I9qdKxrMevXs3pjw8V1jXQg/qMPU9I+Bk7yXV8nUEKMYAXagNpW0VB1K5GdjgVo/Uea+25Nkjf1XgoioomMDBQIuYNrgPqr8PFbzTXsd1XArtPyTNnhH+p/4qQvDHFjalRTgijz5SklZGPKKujDUAn3I6VE3rVB3J00bKVO1AggHxJjSM+9ABjNWwKJxczE5Mka8EjYhpD3VcI/IHNBwIqmSXCaMOHNvUDWYpsNR5Sc99cLae8lNnid7YUmltb1aOHaVpDhWCh2uR7Vorzrafm3xKqQkaTDuOpPdKdIttfQYalCUscYzV59lXKxuI1EKCMSxBz6lx7VG6ebY/A1uoneVH5+DW6pBOvYtGe57TiNaGijbFLpM5cK7lZiH8NvJBrRsaB4jmNkGFwUN0aODddqkw/RSgPfGw7NZP0UQFZcIoMWpOxPkwBxAbtp71HUaTMKk+QxROB0nSPdhC0Z2qfyq4ZCoBimlc7W7VT5FTuw4JDsa7WoeqX53YkCD6So3rE3MOauMzt5q7FxG81dizt5q/DxG81eh4gV+HOF0iHOukQ5+4rpEW/uK6RH7+RV+P4uRV9m5/wBpV9uV/wBqvDJJ9qvftycle/bk5K8eFJyV08F/crruC/uV13Af3K6/gO7lcfwXcwrknAPMK5LwD9wVyXgH7gscvB71jl4Xesc3BH3LFNwh9yxT8Ifcsc/CH3LHPwR9yxz8Efesc3B/uUE3knzMnWKuS9kB+pVdIPYwfUrDPxGj6K3JxzyCtO40njFQ9U/1FPdEXec//iLWB1QaNO2mxOa3/wDSbQwgHZj8pN/MqKUA7Editxu21P1QhiH8NvJYW5RyVANgXaUzZ4QfxDztozYm6Qw9jg7LRPBwEkUqnUus7kQccYQ16S7V7KiiLWyFwNSe1Qfls+vgNaaggNIPWc0fIJ7H44xjdtT4S4Hyn80x4whlDi2Uoo/NMex2o9ihYWxAFYX4HsCieA0MLSCPcoKMfMCQNdU17b7qmgI8lUpK/CRQt3pk0NrAHCtNitRCMBrm4h21T8craF8bP+VU3U5pfpEXkjVTUr0PEbzV6LiN5q9DxGqSWPyXNlbUdlU57ZS0ukDMPVoaprmXHSOlaSRTUhJDjc/HrKvNA0im07NShc0wMDpSBlaD/wBoOEdcAqyuyhTS1lcL5ACakYE2RzWva2KQ1d1qKpbJGWRSUpR2pXv2pOSvHgyclddwX9yuP4Lu5Y5OCeYTg9xracD7ngJzZSwMbEBQg63J40l1KNY0jtxIXwKCOPmms0lrnOAjOLbrKEelCR0gdHUjXtQgnGsSsae0gbV0eXXhka2oodW1OhmeWm41pGwgK1MdTpgf+K6O7Ph/pFEI5QKCb+0K3LxjyCtycZ3IK27jPVo8V/NWf3JOasjO/wC5WG5n/cV0eP38yujxbu9dHiyqxDkCsQ8NqsxZG8lajyN5K2zI3ksLcoVBuCoN3r0Ox39R8as+VirPuYvxG5i/EfAvxHwL8T+2jHIeyPvQE42Wh9FTSTtezkhFKNhiH/BSaJdNXuFfcE2KdowjSNX9Klj0mlb1fdSiiulppJzasM3FH2rBNxe5YJeN3LBLr893JrJKfnHkrcnGPJWpP9w/uUMMrZpazGp7QmxuuOpM/YrLjtmeuiR06z1Y/dl+5Wf3ZfuVgcSX7k3RY27HSfcrDcz/ALlYbmf9ysN3v+5OgZfjFX/cujx/F9xViP38yujxZe9dGhy95XR4ci6PBwwujwcJqsQ8NqsQcJvJWouG3krMXDbyVqLht5K3HkbyWBmUclhblCoNyoPEnoIpnU14NqgFIIh8P8iw+3/UfV+0puzwt68zt1AohqJPb6LbpI9zPVdL/Kw5nAfyNF7f9Xq/aU3Z4Qx7pS2TyW4iaZvQSPlxta2gr2lNxYRiOtPbi2Gh7EXt0fW84nvPZ4Gva6tFq8Zzw0sGY+M5777GN2Uq7wXjU4YnH3prg9oI8NBuUkrYzGD7bqJ4kr5Lh9U2R9zA5orSuoowxO2sC0X8hvzP8gxbZPn6v2lM6vhm1aTCfED2GtHBVG8eGXrw/wBXgJoKqNlyS84f0hCRpkLO0IxROOtgWjtaHS0FPK8VxPToRvYVP1oP/kHiveGNLioWOFXO6zlG8vdKMpovJiZrOoKAEM19pr4mmsxNhNdkgT8fsEA7ymh8BFSHhx1nt8Gjflf8j/IMfXk+fq+ZM6o8M48/B4j4QXVtRn5qOPCfyo2/Lwy/mwj4vBOyV4AaW++q/EZo+RUIdflLiCabkRVaKKNf/WfBDIZATSmvwOcGipNAmyxv0mrauoympTSML4hXWHjwNkDnPA9nt8MkbJB5QVmnVkkH1UALXTitTi2lEOZIHyHGP/xUslGtLTtI8SUaRJRoY0DFXFVOxdmvuWB73AyUoNjR4NF/K/5H09RvCxN3hYm5gsbM45q4zO3mrkedvNXY87eavRcRvNXos4V+LOFfhzhX4syvxZlfj39xV+P38ir8fxcirzNzuSvs3O5K83K7krwyP5K8Mj+Svftv5K9+1JyV48J6vO4Miuu4L1dfwXdyuP4J5hXH8Iq5JwTzCuScE81ck4PerkvB71jl4X9yxy8L+5Y5uD/csc/BH3LHPwR9yxz8EfcsekcFv3LHpHCb9yxaRw2/csWkZGc1XSMjOarpGVnNV0jIzmVWfKzmqz5Wc1WfKzmqz5W81G+a7MLNdmwrHPwR9yxaRkZzX4r9rvVNKzx8isOk8Vv2+gqN6xNzBYm5gsbMwVxmcK5HnbzVyPOFdiztV2LOFfizhXYtflhCaIAeWukQ50/S3tf5DMbeSe97nxyYmDD7OtDSW+1q9wqukR+/kukRe/kukR/FyV9m5/JX25X8lfGR/JOkcZWuEEhDfchM+muB4V08J/JXTwnoGjnOEMlSrr+A/uQe4bIHdyc57hS0/mEHvAAGj0HzCuS8HvWOfgf3LHPwR9yxTcFvNV0jsjaPqmidjaBjPnVV0jKzmvP7md68/wDAvP8AwLz37a8/vYsExcCXM1bNSppGdnJUnzt+1YZ+I37Vhm4o+1YJuN/asGkdkw+1W5jt0g/QUTIHMFBM7bXsVt/Fcrb+K7uVt3FerR4j+atfuSc1Z/cfzVkZn/crDN7vuViP38yrEe481YiyqxFlViLIrEOQKxDw2qzFw2qzFkbyVqLI1Wo8jeStsyhYG5QsLcoVBuVP0mP82X6eNYZ7+a6PH7+a6PFlXR4sq6PDkXR4ci6PDkC6PDkCsxZArMWQK1HkCtR5ArUeQK3HkbyWBmULC3KFhbuCzIAU/Vw+WOWkhqxx8k7v1Jn5r/p6vvTdnp3vawVcaIGor44eDI5naP0CVmON7fcon44mO3j9Rb+a75emp6Hem7B6CN+IvFNh8eRgmmDTsaEBQALSTR8H9fjbNMpvZ4dI/L+o9Mx4eNSqK0rrTn0kjZTrV8BliBoZG1VxlWjF1tifLhliZh6yc4Nw17TRVAIG/wAXS62Ca9o8MOq63dIe/X+ot/OPy9X7Chs8MWlsc57Xi2RvQc13VcD8lJMGHCGucfcgaiqux48GLWovzJvog8Fzm5UHtJIB2bUZjcLGMrTaVJO2MgUJJ3IGor4INYe7e7wS65If6inOwtJTHSjruB1V1KOTFHjomyT4btRhyps7XOphcK7CpHEaS2g14UHSMfR5qD2oXXjFjw+6ikqRCD2vUkjY24irzqDHGW1NPFkLww4BUotkiYZL7yRyWih1rG7rPNfFi6839SH+tf8A/HrWqvgNtvlOw/NaNRzp5AO2jV5w6Syob+WphKWdUeS4O1e5PkZJNo2B1dZ8BfRzG5vDp/8Ap/8AkEfBH+dpH/H/AK/UR+cf6fV+wobE4kDUmOD21CDGyaQ55FQ0UCYA2dwA2tXty/JdSP3rRi212Vr5ShkYDMXuDfK7Vozsb5TTt7k2WNrpzULRh5oHftUjsMjhm2KuBoTuqVo4803wSdeM9ik8thDdabiINWOqU1srYiy3XcQrLujiLtontpa3NKLaaQ6QtJyry3vq9hY0bEC9vkYHH3qUGscnY0qRzHSsNMbW7lO7EGOb7LqqqqN6xN3hYm7wsTcwT4zMTdmaGdjQUx5ZRpcxzRsdiV2LiN5qJ8eKWTGPKOrWr0XEbzV2LO1OMWLEJ8NdqifC2Wc3B2KR0TzGRM0YSukQcQIyaO4gkg0RnYybEDUP207CrkN3Hc9mmxX4tuLuQmhM+IbGtoDh2kq/H8XIoTNdLjIcABRuoq+z4uSvs3O5KcGRrhcfStQMCbpD3a3xOb8hWqvtyP5KGZvnH4X+W+o1divftycle/bk5K9+3JyV79uTkr37UnJXf2pOSunhP5K6eE9XHcJyuu4Tu5XXcFyuO4TlcfwTzCuP4J5q5JwTzVyThHmrknC71ck4XerkvC71cl4P9yxy8L+5XJuF3rHLwu9Y5eF/cscvC71jm4Q+5Y5uEOaxzcIfcsc3DHNYpeGOaxTZBzWKbIOaxTZG81imyDmsU2Qc1imyN5rFpHDZ9yxaTw2c1i0jhs+5YtIyM5rFpORnNYtJyR81i0jIzmsWkcNnNYtIyR8yq6RkZzVdIys5lV0jLHzKDp7/AOW3qZkXz8Efcsc/BH3LHPwR9yxz8Efcsc3CH3LpEfv5K+z4uSvs3O5K+3K7kr4yP5K/+2/kr37T1ePBerr+A9XX8FyuS8E81cm4Pesc/CHNYp+G3msU/DbzVdIyN5qs+VirNQ6mLz+5i/EfAjASalsfeg2alAWAe4J0MrnNdeoRsoFYlxYukGv9Kty1rd/tXRyXYi4V/pRhcTUvqf6QnaMXmpmf9NSGj0pR/cF0XXW9IuiNzvPz1oaK1pqHGqMJI/NfzULKspdfq1Kz+7JzVgU1vfzQgaNhdzVluZ/NWW5n/crDN7ua6PH8XNdHj3HmrEfv5ro8W7vXR4cq6PDkXR4cgXR4eGFYhyBWIcgVqLIFajyBW48g5K2zIOStx5G8lgZlbyWBmUck4Na0nCEGt1agtHFRIabZCqDd4piYT5Wv5nV6Bwkk1dVnbvP6kB57/ij6t7KHp3RMJrsO8akBT1iy9vUlIG7amMDGBo7P5A/ij5I+pAg7PE9koeMHAitf5j/iM9NLJgA+fgLmt2uA8OiGsbvmptcbvkhsHy8HZ9fFleW4KdrgE/qOUID4GV3J4tt/Ok17G71E17WeWST/ADCeuz0WoCpNAg5p2GvgqNS0zF5mmZOlczW5nJYGuD3uQlLDG2ixl+MM1U7VobXC43GdTk7YrzOyp+QV2uq28L2fFn/h/wBYUnUctG1QRgp0Eb3YjWu+qYXNltkk6qiv8wu68fz9FM26cJ6rdfzKgkZQjUKKV4fI1jT2qYgaRHiNKKaRriwjWA4ElaT+U5YZCI/IGEDZVPhlea4w3dTWoqxgtLXOO9aNXzlRrqE4hoq5BHYvZHgqFUbwsTcwRvOc3E6EAHen2HijywoDRh1cAVwf7gBMOjsqblXHaSVfi4gXSIOIF0iHOukQ5l0iLMr8W/uV+Lf3LpEXv5LpEfxcl0hm53JdIZudyXSG7ncl0huR/JXxkfyV4ZH8lf8A238lfPCerx4T1edwXq67guV13Ccrr+C5XJOEVck4R5q5JwjzWOXg96uTcHvWObg/3LHNwe9Y5uF3rHNwu9Y5uEPuWObhd6xTcIc1im4Y5rFPw281in4beaxT8Nv3LFPw2/csU/DbzVZ8jeaxT5G81inyN5qs+RvNYp8jearPkbzVZ8jearPkbzVZ8jearpGRnNVnyN5qs+RvNYtIyN5rFpHDZzVZsjearNlbzVZsrearNlbzVZsrearNkbzVZsjearLlHNYpsjearNkHNYpsg5rFNkbzWKfht5rFNkbzWKbhjmsU3DHNYpuGOaxS5BzWKbhjmsUvDHNY5+EOaxTcMc1im4Y5rHNwh9yxS8Mc1im4Y5rHLw+9Y5uF/csc3CH3LHNwv7ljm4X9yxzcLvWOXhjmscvC71jm4X9yxzcLvWObhD7ljm4Q+5Y5uEPuWObhD7ljm4Q+5Yp+E37lI7SKx+bZ1t6xz8H+5XZO2B3cr37UnJdIZ2h/2rpMOY8isU+RvNVn3NX4j4F+I3s5JrpGPeHSMFd4QiMsmLE1wHu1J8MjxhLwB7gmQOYKNeOSMch2zHktIY4RfmOVp1B512xWncV6tHiP5oaO0e07mujs3u5qw3e7mjAynbzViOg2810eLKrEWRWYsgVmLIFZiyBWo8gWBmULAzKFgZlCwtyhUG7wUH8uyex/V4uvxSAdoB8XStbWN3vHjlHqj+apNg+Y9WOxey3+apNn1Hqx2Lsb/NUvV+vqx2LIP5ql6npajesTcwVyPOFdjzhXos4V6LOukQ5wukQ5u5dIi3nknaRHT2uSvMqNTuSvjI/kr37bldPCcrr+C5XJOEVcl4Pesc3B71im4Y5rFPw281WfI3mq6RlYq6RlYvxHwL8R8C/Eb2Lz+9i898KpPmbyVJ87eSpPnbyWGfiDksM3F7lgm4vcsE3F7lgm4vcsEvG7lbl4vcrcvGPJW5eOeSty8c8lbk4x5BW5OM5W38ZytP4zlbdxXK07iuVt/Gcrb+M5W38Vytv4rlafxnK0/jOVp/GerT+M5W38Zytv4z1afxnK2/jO7lbk4zu5W5OM7kFbk4x5LBJxTyWCXi9ywS8XuWCbi9ywy8XuWCXi9ywzcTuWGbidywz8QclSbM3kqTZm8lSfM3kqT5m8l5/ezkvP72L8R8C/EfAvP/AvP/AvP7mKukbmKukZWKukZWc1i0jI3msU2Qc1imyDmsU3DHNY5uGOaxy8PvVyXhd6uS8HvVyTg96uScLvVyThHmrj+EVdk4J5q6/guVx/Cd3K6/hOV13CcrruC/uV53BerzuC9XncGRXncF6vHgyK8eE9XjwZFePBerx4L1ePCerp4L1edwJO5XXcB/cppJLTvMHmFefT/Tv7l0lnayQf8UNIgP8AEH/SD2HY9vPwW38VytO4jla+NysjM7mrDffzViP3qxFlVmPKrMeUK1HkCtsyhYG5QsI3Kg8L+qV2t/mqUebd8kNg8G3brRhhO2NvJdGgyd/qL+qu1vqD5HNmiHsn1iJ5e3Fhp/IUnUd8k3qj5eqv2L2m+I8yvktsdhA6zkI4cZZrJHaUwYZMPZTwT1DmP7AfQaT1WO3PHikhoJOxDWKjxYNTpW7neLI3GWtOxRx220r420fyG/qO+Sj6jfkj6o/Yu0eJhFa9qwBmkNcPa2oN8ouJTZY36mu1rSMdl2sLFRtTsoo5WSCrVfizK6zAX11DamaRip5BAOwqR0mJrI6Yj2nsQkIHl6/KpqWl/kn5jxdI/Ik+SYJNHYyhqHdnvUTnOb5W0Gie6Z2J7X0Y00A3qR+CMuTLntkK41k03aSRQK95t5pRzRsRgw4HtccdRVRvc/GabCaLRo7rXOfvoE9xGiE117FN1WVPk18pQx4JH06nYmSzTOfg1AK7LIcLBQjrFRvxDXtBofC+5qwU968/vYFhn4g5JrH1q6Un3fr7+o75KP8ALb8kfVH7F2jxKtrSoqntcZGatm0rTG4mRt3vClYGiPCOqVpHleRT3qQg6M2uztUA1F2GgOwe5Rs87Jq1KYfnj4QizzDQOwBeUXBzCK0RjkGDtodgU1XtAwkDFr8NRvVRvTw17S0lERkNqRqO9DE1zqYSCa7U0O1B2HCDWlVI0SihcB9U2XsdzUbWCSSVxFa6k7CXYg5u4iqAZxPpVUYK4ZqV7FDgjjDbjeaMbS3CZxTsCu5qUpsBrVaO8Ud2N7KlaNRsetwqSSocMbTikaSTVF2F5e2hB2iq8l5Bc4U7Gq4yhOIKCQuxEvCxN3hYm7wsTd4VRvCqN6qP1x3VPyUP5Tfkj4lRvWNmYK4zMFdjzhX4s6vxZlfj9/JdIj+Lkr7cr+Svftv5K8eE5XX8Iq5Jwu9Y5eH3rFPkCrpGVqd0j4F5/FtYqT528lhn4o5LBNxu5OgLutIeSbo9P4r0YKkEyP1bEYMW2V66MNfnH69utdDipTyua6KzsL+a6Oze7muiw7jzVhnv5ro0W7vViPcrEe5WI9ysRZVZjyqxFkC6PDkCsRZArMWQKzHkCtR5ArUWQK1HkCsxZArUeQK1HkCsxZG8lZiyNVqPIFbZlCtsyhWo8gVuPKFajyBW48oVqPIFajyhWYsgViLIFYiyBWIcgViLIujw5F0eLKujxbu9dHj9/NWGfFzVhu93NWW73c1ZGZ/NWfjfzVn4381Z/cfzVl3GerT+M9W5OM5W5OMeSwS8XuWCbi9ywzcTuWGbiDkqT5xyXnszeS89vbyXn/hXn/gVZ9zVWfK1Yp8jeaxTcMc1jl4fescvC71cl4J5q5JwTzVx/BcrjuG5Xf23K7+29XvgfyV4ZH8leGV3JXhldyV9u5/JdIZuf9qvs+Lkr7Pi5LpMXxfaukxe/kV0mHeeS6RFvPIrpEW88iukw7zyK6TDm7l0mHN3FdJhzdxXSIc3cukQ5u4rpMOfuK6VBn7iukw5u4rpMO8/aUZ2EGjX7Mqg0htptWvH0V+E+2Prq8SzHlVmPKFbZlCwN3BYW7lQKnon7F7f81wflhOAdtFV0eHLT5alad7Mz/rrVNIzsP09RfsXt+CSTBQBpcT2ISOBGNmGvjseHivp3uwMc7cFG4mNrnbaITRntp8/QseH19xp/I8HU+vqr+z5r2/BKDqcPZQONsrq9upVo0Eq7Gdjwo5fNOcXVoUx2Nodv8Oiurj+a/8AL/4eO5zWirjRNex4q0oODhUGvhM0Y9pNka7Yn+cfb7Brd/8ApOkpJGym1YGnaFB1padXFq9BD+ZOPi8MsoiZiIUjxGwvPYgagFVAWJuYeCY0hkO5qb1R8lA4uhY4+O9+As+I0Ur8GH3uAPomva7YfSMeXPlFOqfHc8NcxubxsQx4O2lfUYdjv6ij6o/s+aHXPhhaKOoNWNTTQNOB57FG1mrDTCoo2PZJiGrEo5GmPEG0ATHPON1ezUoXYoWk7lof5Z97lD5UszvfRROLpZdeoagonlz5fc6g8VzA4tr2LSdT6N7R5dE1rWtAbs8DthQcR1YSEztJGsowsJrrB9xQbTSBrJ8jtTyQ0mq0dpbENe3X4Z7pcyON2GoqSrmkQhwdVwrqcpnvxxNaaYkwvDsDjXcVjc55DKUG0qP8/SPp4dJaHQv1di0qQPhwMNe0+5DYPkpur+XiHasGi6vNkU9ya4OFQptcUg+FMIwM/pWi/kM+v/fjOxaqfVaVcpFr9paTdtGobqc0quuh27lJK2NtTU7gFFM2UGgIptBTdIic4NB2+M62CyvadSc9rKYio5GSAlp2bfE6QwMYXHb4GTwvdha/X4ajeovztI+Y8VoeK1NR2ImnYpX+e0fURr7fBs1k08FE/FTydtULo0w62HzXyRklEsYLPJNa/P1CL2/6kfVHdiHXPgke8amsP9SiDWMw/wDawsdphJp5LVFJG1j3Fw2pj3sa7UDi2KFwDTG8j5oEhuG6yibpDGR4KVPYmyvazA3D/UgbX5cg+qbaYKid1e0rRpI2xayak1V+P3q6Lo1nDTXqV9nv5K+zceSfP5JwVr8lHajZSjjXaaIYBsuj5K98D+SvftvV79t/JXv23q8eE9YzcDrT9lE6TE0ttv1q6eE9XTwnq4eG5Pc+oc2N1VIZHtwmIhVeZI3OjPkhPfioRG6oOpNfKzF5omutMc5skjix3lAK/wDtvV/4HLpLe1jlNNHaoGEVcOxdJi+LkukxbzyXSI96vx5k/oz+sj0dzAw7BsV2EDrCgTJm01vHyV2POFcZmCxN3hYm7wmPxF+zUVpD21YMrwXe5aWfM0btc4YU6Dyaj8wa8W8o+UIpW6wNv1VxmGaSvsoMI0KOm1oD1tFRs8XSf4Dh2TBaQA+aBlPaxfQJ/kzRuzeSf/Xhe4NY4ncoIfM0eNbgo6nRhvwUTA02MLdgrVHzkmD2R1lE6Qvb5dRrBHyTmsPWAKiiZibt1x11JjS0ULifn4pkaJWx9pbVTdaD/wCRTXPIYx2EuJ1/JWr0csEslcJFH/NQP0zR2viMYeIu2vYoo7oj0gO8o1+iilLnyxubRzNu5VPTWHswFn/tPfhdE3OVM4sie4bez6psbIDIWjYNZ3lYOjhr61BNH/VM0lj3YaOFdhPb6SLbJ/V4t+Ler8fvV5u53JXhlcrp4blddwyscnDWOTIsU2QKs25q8/8ACqTbwqS5lgk4iwScUq07iuToiC3y3IRDEfKcrDferMe5UivCPDtFUIIRsYFYi4YWCPcFhZuCBYZCzD2VVFRHCNtE94f5uLWTtPYEGhoAHZ61Q1qFge97S+mFuweLQKgVBuWFu4LAzKFbZlCtR5ArMWQJ2iwuNcNPkujw5AujQcMLo8e5dGh7B3o6PH7+asMGoF3NdEjGwvH1Vp3FerT+M5W38UrBLxe5HRakkybUIpQ7FdqaU1hFkrsPlDUa7F5/exef+BG6drWlVmyjmqSA1a2mvYHINkafJaR7qomUNoyLvUNyEOrA41O0J8hewtEcgr7ljpIDbfTBRXhlfyV9m53JX4/fyV+PehpMB9sJ8gOkXmlpDW0pXapJg5odSmBwNN6nnhLQ5kgxtNWqCaHAXGVuJxq6upCWPFpj8Y6oA5KA2XGNkseHCHeV2EoMaHPf0ijndalKIiO2AyUAtNQSe1Gk7mmQhmDZR3anW3xljpRrG1Plqx0bwMR7RsK0kh5hixjWdevctIfHhZR7fJe2mtYm5hzWJuYLE3eFUbwqjetW9VG/w1G8K5HxG81HPDdmBkG1Ah2w18Sg9Qdjj08V1sk2J7gxxPIIulmNI3YANpTZZMTGEV16ypB+LhT3gaSwF9Bh1q+3BL5ftavkoGtDnYD5KlHljE0lq0duHSJPJpUeGgO0LZ+lv6j/AOkqEyRxRPL6tcQKbqqdxawUOtzsITGSRTYcRcxw7ewoSxl2EO1oEHYVH/qNI/4+qUToonGpYKrC0bAFQKg3J0Ub+sxpWBlKYRRW48RdgFSsDcoWBmUK2zKFbZlCtsyhWo8jeSk0djgAGt2hWYuG3krEPDarEPDC6PDwwujQcMLo8HDC6PBw2ro8HDC6PBw2qxDw28lajHsN5KMC5LqHYnQRH2aHeNSwSt6s1f6hVY5htir/AEldJj7cTfmPUdK6sZodT1H52cy0IA6tVbkaTgfQH3IwuJa65rHuVgONXuJKbDE32AsDSKYQmRtZWngBdflIbWgUcjZG1Cc5rBicaBN0mF2wn6jwwvxsr7/QQvc/HXsdT1t2qeP3gjxpq2pANpCka8QMqerg1KdmLB5GIA6wmRt4WH57VpTmxxim2ur6KDAyJvlg11n6prJH6Q8mRzfIqKblZfx5EzHhGLb+mN/Of8h6q7a1DrO8HvQmicaByje6Rzj7HZ4kG2T+taPtmpsxJ8Yfhr2FTYRE8nctHY7AHvNXEIzND8FHLRnhsVKHaexTvxM6rtoUv5L/AJKL8pny8VpcZp42up5VShiicATVpT5XBzg1tcI1ppxAHeukMxltDq7VUUqrjMOLFqT5Wtp2k9ivxhtTy7UHtLC8bioZJiW46eU3EKdi0g4TEcXteLjmcTgAoEJ4vJq4Ans8V72sFXGiY9rx5JRcBSvafDpJwtjdlkHjB4MjmbkHYpJIyNlCpCRG8jbRDWAhG3GX+0rcda4G8lIaaRB76jxpXETQa9voJJmRloPb4sElyOp21I9bb+c75I+qHrBM6zvBpMRliwg9tVpOkY4xE2Ihyju22BoaNSaH+07w/iQ17GMpUny1C0tiaCPBJd0iR8exjU2UAUcCEHVUH5f1RAIoVKwthcLhpsATRRrR7vFfcjlfI1uo7VcvGnVANde1F4Dpm162z6rqRUG0NUGqJnyU1XPZH2HWVhYHxtDRTatGoXzO96bR2lSGnVFFh8qZmYVCikaalxApqou0veK9gCgrRwoaV8mviVA1nUAoGCWRzqag+vijXO8n2QKKXHibMPJaCB81pdaRAdr0GiKUAdVw7wpS58gia/DqxFTt8wGVJq4BRGsTCd3iUkz9yuW9MOMgBzNqEsQ0iR2MUtjWnaVDbcWvqaal0p3Rw6jsVNZw6lHpMhoDA6tKj5IzTYsLYNfvKc973QOdHhLZcLvElfgYSntdGLt1xdUfIrSB5ejn91SzljqNiL6danYrjMAfXyaJkjH4sLq08DZ4nPwB2vw6VQeV8FP/AH4ujEefA7JFt9K5xA1Cp3KJ4kbWhHYQewqGZstynsup6MfnH+n1KoWIb1jZmCuMxdcJssdXeWFfizJ2kMANKk9mpQ4GhxcavftNE2SRuoCo+SEu9pV34HK6cjldfwirj+EVjk4XesUvC71il4axS8NYp+G3mi/SB/CB+qppDnNc5rdWxqrPuavxG5i/EfAvxHwL8R8C/Eb2Itndtczkrcn7f2oMkbsLeStTVqJKIwzYg67r+SDdIrXG2vyQbMNhZyVJ8zeSfHI+lS1Bkg7I+S/EfAvxHwqukbmKukZWrFPkbzT2TSEYmjCPZqnNmqHMYGn56li0ntjb9CscvC71cfwirjuGU4knEGuaVXMx7kAxr2uty6vqnSNeOq8bjRHCTjqbm/CrjSQXHZs1FNliDQMWxXY8wV2PMFcjzhPkDaOqC3tT3wyaVGX9TCdZ3qOOJ8zpcLcA1NG/3rqGVgZUP6tPemOcIBEWOxYcPuT8UboaAnzZag4MlkDzQmhB3qb2MOwSBzvElZjjc1M6PXWC1w7HFTEuo5uxnlIvEb3O7Htq35qUGPQ8HtEKVtkRujHlDyfnVMaY5WVdXGCD81HR1tvD2/NaSa24gdbj3KMCKQxjquFW/PtWmXDEQ3DSn1Ub8bGu3jxIsRnmhFAC8kn5KWNsYa9mpwI+qk1iSTG6oNGhOdhaXHsCY2V1JC8j4VK51WsZ1ndu5UexjyZC40TwdHo9msHU5v8A7RdNA8NJMmPZ7ioXSFz45KYm05Fa5W4rjmjXsUJJiYXHXRRPka7BJrq7yXf+vC04NKc07JAC35haOMOlaY34gefo/wCP/wAfFunhlXH8NY5cirNlaqz/AArz+9qpNnCwy51gk4hVp2cqz8blYbvK6PGrEeVWY8qtR5QsDMY8kJjRV2oLCNyp+oUWEblgblCtsyhW2ZQrUeQKzHlCss3Kyz381YbmfzR0drhQucfqhDh6r3K2/iuWCXi9ywzcTuWGfOOSpPvZyXnvgVo8NlN1SsD/ACfNN1Go8pYpeCOacXOFHQnmsLmkkNkqdusGqBIluGOQ+TRSPxt6jw4GrdSEpc4GRhFNmqqbNC0UqeS6RDnV+HOFeiztVoVc9sjLmIkFRvhNHPk8sdh7FQmTGyjmE1Ir2pwMjHNpSqa57RhfGdXa3WE5stwTNFaasHuTjdAADh5QrUUUsQkwVOx1UWAvDyNY2J7ZRK2WNuLVhc3Yg3SQJG2DbLq0qMQqrzBqwvHuwp8kVmbGSC5xLRQ1TcRY0nbQV8D2Ne3C5tQoo2x6XNhGoxt9Gfz2D4Sj6oesE3af5NosI3LC3cFgZlCtR5G8lZjyhdHiyqxHu71Yj9/NWW73cyrDd7vuVhuZ/wBysNzP+5WRmf8AcrX7kn3KyDte/wC5Wf3JOawecLbj9lRrVk8WTmmxnpUnnXdQLo7g8ubO8V2q2/jPVuTjOVuXju5K3NxzyVuXju5BWpf9w/kFak/3D1Zdx5FY/dl+5HR47zK1dqO0oxEdR7h7jrCuSN68f1brTZI37HD1I9cJvb6SYkROptTAQxtdtP5RkYXYXNNHN2LpDm9bR3192tQRvGJ8nXf3D0bvzY/qj4Hxsf1mgqxlke36+o/xPoo/TOlfjwsGzar9SxrR5Xb7vQk0BKjkbIwObsTZA58jR7P8ov8AzIvmUfVP4n0Ufb6ZxbCHPprPZvWjtc2Z+LrEV9CRUUWjgMxR7iof9TpP8ov60fzR9LibvCxszBXGZgrseZXo96vx+9X27ncleGI+S5Ml8nqOV1/CKuScLvWOTIsUuRVmyhVm3Bee+Fee+Fee3hUmzBYZs45LBLxFgk4iwP4hRhcSDcNQrc/bKrbuIVbOcq0c7la+NytfG5WfjdzVj9x/NWfjcnQRDy3OPNRw1q+rhXZ8lZ+N3NWvjcrXxuVo8R6tHiOVo8RytO4jlbdxCrb+IVbk4pWCXi9ywTcXuWGfiDkqT5mrz/wrz/wKukZWLFNkHNY5eH3q5JwjzVx/Ccrp4T1e+B3JX2fFyV+Per0eZXY84WNmYLE3eFUfqcm1n9SPiVl3Bed9ypNmHJYZM6wP4hVo5yrQ3lWW+9WI9ysx5VajyhW2ZQsLdyoNyp4PbKZs9ZttrU6z63QLC3cFajyhWo8oVmPKrEe5WW73c1Z/cfzVo8V6tv4rlgl4vcsM2cclSfM1ef8AhVZ8reaxzcMc1jl4XerruE5XTwnq8Mj+Svs9/JdIizdyvxZ1dizhY25gqjePXpf4f9Q9V9opmz0r3hjC49iaatBVQO30N0XRH20r4GPDxUegxjHg7afpFAsDdwVqPIFZiyBWIsq6PHuVlu93NWf3H81aPFerT+M9W5eMeSwTcbuWGbiDkqT528lTSMzOS/Eb2cl+I/bX4j9vvVdIyx96rpGRnNYp8jeaxT8NvNY9I4LfuVybg/3K5Lwe9XJeD3q5Lwe9XZOCeauScE81cl4H9yuT8Efcsc/BH3KukZGc1O2d2Crmt8odXaj0hvtCTuKZI1+zbu7fU+0pmz0s/lYI95qfA9geKFGMtYfOO1BQCkTPHk1aXAfBon5ThuefHJAFStHafKkO15WrehM+RxttFB7RTH4qgijh4x6p+S0d+OBjj9fojdgxOBxR9oO0fr0uxvzRTomP2j69qwzN6rw73OV5w68Th8tfqPa5M2ekJABJ2KLXWU+1s+S0iUxtZTtfTwTPdheLZpTaoXEtHk9njyfnQ0I8EIpLP/V48znOdgwOLRtomzsqKgj6LRBWOWuwvKAoNSZ5c7nDqhtPr4x6rvkVoTaaOPeSVOyeQihbhBBpvTH4xWlCDQj9dm6o+YR9U7XJmz0jgHChQgYNlR9VLG0GHWT5XgnPmX/JNIwt+SxDesTd4WJu9Ym7wsTd4WJuYK1o+KtBVOwltMdE2GNtfOHmsTcyxN3rE3eFUb1Ub/E0b8ke+pUkDna2k/070JKarTh8vGlbM6uB4FRTWmNcyNra1oEZXD+G4qFrmtOLa51T+uzdX6+iqN6xszBXGZgr0eZXo96vM96vN3FXvgcrpyFXH8NY5OGg6XyvJCbeoNTV573Lz+YKk2cLDLxFgk4itv4hVp3EKsniOVn9xys/E7mrDd55qwz381YjXR4yWncrLNysx5VaZuVmPcrMeVWo8qtM3KzHlVmPKFExr8ZwDDXyVZjyhWo8qtMyqzHlViLKrMe5WI8qsR7lYj3KxH7+aZFA5tW7FYZvdzVkZ381a/cdzVp3FcrcnFKwS8XuWGbidypNmbyXn/hXn9zVin4Y5rHLwu9XH8Iq8eG5XhlfyV+P38lfizK/DnCuxn2wsbMwVR+pzdTxcMmdYHZirXxOVobyrLFZZuVtmVYG7lhG5UVPGzJuz0xFQmHB5LvQE3SWjqjafSaP+UPmfQtfWSRuWnoKLC3cFbZlCtR5QrMeVWGKw3e7mrPxv5q07iuWCXi9ywzcQcl5/e1ef3NWKbIOaxy8LvVx/CKu/A5Xm5Xclfj39yvR5ldjzBXGZgqjeP0Gb8s+q5k3qj07mhw1oOLNT9nYfGcTI7A3YOsUAAKD0kH5TfQ/x3f0D1ug3LA3cFajyBWIcgXRot3erDd7uas/G/mrbuK5YJOL3LDPxByVJ8zeS898CrNuasU2Qc1jk4fesb+GrjuGVdPDervwO5K8MruSvs+Lkr8fv5LpEW9dIhzq/DxAr8WcK9FxGq7HnCux5281dizt5q5HnbzVyPOOaux5281djzt5q9FnajPCPbU8wdC7ACT8lepS5GW+/aFt9T7HJuz1AgEUK8qL3s/6QIIqPDI46mN6x7kxgY2g9Idh+Sg/KZ8vQ/8AkO/oH6nQblhbuCwN3BYGZQrbMoVqPI3krUeRvJW2ZQrbMoWBmULA3cFRTfluXYrbma4/tQlbWh8k7j6l7LkNnqRaY/Kbs7Qmva8VCc4MaXFQsIGJ3Wd6V3Vd8lD+Uz5ehH+od/QP1+XqOQ6o8BAI1hWB7LnN9R9kobPQVVQsQ3rE3esbd6xs3q4zMFdjzBXWZldZvV6PegYQ7ECi9r5RXqt7yrzN6vM3q6zerrN6vM3q9HvV6PerrN6vR5lcZvWNu9XWZgrjMwT3ttv19iiIEbNY2Ko3+gH+ok/pb+vydRyb1R41QsTd6xszBXGZldZvV1vvV0birvwlXHZCsb8ixy5FilyhVm9y8/8ACqS4OssMmZYX51gdnVs5yrXxuVkZirLferLVYj3KyzcrLMqsx5VaZlVtm5W2ZQsDNwWBu5YRuWEblQKioFqVAqBUCoNywhYRuWFu5YRuWFu5YG7lbZlC0hjBA/UFZjoPJCss3KwxWW+9WficrXxuVt3EKwP4iwy5027dl1jsXnvhVZtzVjm4ferknCKunhuV4ZXclfj96vxZkJY84WNmYKo3/qknUd8k3qDxLfvKstViPcrTNytt3LCNywhU9D7CGz1ES4i5reawO7XleTENutRaS17sOx3gk1uaz6nwue9rzkwoEEVHoNI6rW73D0UXWm/r9BQblgblCsxZArEWQLo8e5WRmdzVr9xytv4rlhl4ncqT5xyXnvhVZcoWOThq47hlXv23K83tDh9Ffj3q9FnCuRn2wqjf+iP6p+SZ1B6p7CGz1B4JY4BQlp7KO8Ac1j5C/ftUcWKW6dQ7B4Ga5ZHfTwN0islsjX4IdRkZuOrxpJAxhduChfOfzB8k/XPAPmVM8sjLgK0TXBzQR2+gg6rjvefWcLdwVqPIFZjyqxHuVkZnc1ZPFesEnEKwzZxyXn/hVZsrVjl4Y5q4/hFXf23K8MruSvx+/kr0eZXos4V2POFjZmCxN3hV9Sf1HfIqCRr4m0cNmv1T2fUSaKWmNmHrV8B8674QmeTLgB1U5eCH2/6k+UjyWCrv+lo8eGSbFrdVPfh1DW7sCjZgb7zt8aUVwN3u/wCvBG8PbipRanN9xUGoOZlPjnUD8lB+Uz9IosI3IxsyhWo8gViLIFYiyqxHuVhnv5qyMzuas/G7mrR4jlbfxXLBJxSsEnE7lhm4ncsM3F7lh0jiN5Kk+dvJUnzt5Kk+cclhm4ncsEvGKtv4rkYW0NS4/VMijdGzVQ01EK4WHDJ9Hep+yPUSAU1jW7B4LeqldSaxrdg8HUe401FNwnXRPia412Hemsa357/HOudvub4D5uOVpG+i0dpbBGDuTPzpvp48n5b/AJKLVGz5fr52KL8tqIqsDmdQ6spV9o64wn3+o9g8aoWJu9Y25grjMwV1mYK7HmV6Per8e9XmK6xXm+9Xm+9XRuKujcVdG4q6MpV34SrvwlXvgcr3wuV4ZSrwyuV5u4q833q8xXmK6zemyMvSa+wK7HvU8rLLhi1nUnzNY0UNT2KOjR1qk7VibvVR4s/5LuSGwfyBF1B4lViG9Y271cZvV6Perzfero3FXPhKxnKsb8ixSZVWXcF57eFSbMsMmdYX0PlLAcLfKKtnMVb95VobyrTVaarLFaZuVtm5W2ZQsDdywt3LCNyoFQKip47Hh+zx6LtVAnxMftCEbQ2gCs667Smwsb2K23crMeVWWblab71ZGYq18blbdnKma+jRj2vCpLmC898KrNlCxPyK4chV34SrzferrN6uMzLG3eqjf+rRdTxLbVaZuWBu5YG7lhCp6Ps9Xe0tONv1TSHCo9CyfFIWYdnb6OXrQ/1egoFhbuRjYfZVmPKrLFZGZ3NWzxCsEnEWGXOvPfCqy5QsUmRY3ZCrnwlXm+9XY8yuMzBYhv8A0iLq/X1M7F2D1j8t/wAJ7vQSPpqHWOxRswNpz9G/86L6+r0CwN3K0zcrTVZG881a+NywScQqk2ccl5/4VimyhY38NXfgcrzfer0e9XY8wWNuYKo9ai2O/qPqbthR9n1ggEUKY4tOB30PjPeGNqo2Hru6x7vSH/UM/pP6JQLA3cFajyhWY9ytN96s/E7mrbs5Vt/EKwzcTuVJt4XnvhVZso5rFNwxzWOXh96uP4ZV13DcrvwOV4ZXK833q8xXo96vxZl0iLMr8WZX4syvx71fZ7+SvjI7krsh/hH6qITjEQR1j5KY/F2UI2j1J2xHs9ZewPbRRvPVd1h4hIAJKYC92N3/ABHpf/I+TP1eiosIVAqBUG5UHiR+181IyusajvTZdeF4ofUXdUo+z4ahVG9YhvVxm9XWb1dZvV1m9XmK61Xm7irw3FXPhKu/CVc+Eq4cpWM5SsZyrGcqxnKsZyq47IVcOQq4chUmJ2sMNQmz4vYNRtV05CrvwlGQSuGo4RtVwbirrVdarrN6uM3rG3esTd6qPGH+ok/pb/ILNr/n4HNDhQhYZW9U1HvVRvWNu9XGb1jCuBXPcsZyrG7KsT8qrJuXnfcvObwqSZlhkzrA7MnMNOsUY+rrKtjeVaarbVbbuVtu5W27lgbuWEblQKgVFT08jSDcbtG33ppDhUJ1cJptoo2YWAeGioNywN3LA3crbNytM3K01WhvKtfEVbOcrA/OgJb8nleyF573Ksu4LG/IrjshV33FXW+9XWb1jbvWIb/1hnWf4mALCNywhUVPRu2LL64yIMLqdvqEf50308aiwjcsDdytM3KyxWfiKtnOVgkzrzu8Lz3uWKXKsb8iunIVeG4q61XWZlibvVR+lN67vU3bF2t9alkwYPe6irRB7HbHeJJK2PBX2j4GSMf1SpZWxsxFRSslbVvivdhaShXt8DWBpecx9UosLdyts3K0xWRvKtnOVhfmXnd4XnfcsT8quOyFXRuKusV1mZY271UevN/Md6m7Yu0etaR1W/1hOAI1qKFrovfvULy5prtBoqSP0mWjyAFHIcbo3bR3qYVm0f5lHWCtJFuJuHU6tFbBja12vYqYJtXt/wDrxZvyygtGc92MP2h1Fo8t1rt7XURdQgb/AF+gWFu5GKM+yFZZuVkdhKtnOVhkzrz28Ksu4LE/KsbshV34SrrferrN6uM3rGzeFiG9VCr6e6xszq7KbfU3bF7Q9a0j8v6hdn0ULg2DEdihG12YqD+L/WUDj0nVsYE/82LwWS7EX7ez3Jsh2OaaquOVvw7fFcKtIUTqsCLXh+Jn1C0RmG9/Wpvyyd2tA1AP6VRUCwjcsDdytt3K0zcrbVbCt/EVbOcrA/OsL8ypJmVJcwVJd4Xnd4Xnd4VJswWGXOsBzFWwmtAkPyRFrW3q9o9ScvaVVULEN6xs3hY271cZvVxu9XWK41XQrg3FXPcVc+Eq4cpVx2RCR2RY3ZVjfkWJ+VY35VjflWN+VY35VjflWJ+VO8raztWN2RWwPZNK7FcOUpw2kYhXamYWNoGlSOqNQNQUJQeyiuM3oyDsKZhb261UeL1JDud/2nODRUqAHBU7XGqlNGHedQTRRrR7v18fmH5Iogs1gatya9rthWIb1jbvVxquNVwK58JWM5SsbtyxS5VWRecVH71hfvWCTOsBzFOZq6xVvytpVoK21W27lbZuWBu5YRuWEblQKgVFT1TV4KKgWFu5W27lbbuVpqtD3q38RVt2crASCMasP1ecrTei6UbiqS4sRAKxPyK4chV0e9XWb1cZvWJu9V/Wf4v08L4mk/8A6WBu5YW7lhCp6Ry9r190flYxtTXV9CXPkqGGg3qGAs0k+VqA8egWFu5WmblaYrI3lWznKwvzqku8LznuWKTKrjshVz3FXWq43esbd6xDf+m/xPoj6k5e1+gOZXWNqa/sOo+PM46mDa5NaGgAKnqmELA3crTNytD3q38RWF+ZUl3hVl3BYn5Vj9yuBXY8yxt3qv6F/EHqbuxe1+guYHJriPJfz8aLyi6Tfs+X6DhG5W27laarXvKwOzlYZc6877lV+5YzlVz3FXGrG3esQVfVz+az1N3Yva/QnNDhrQcWHC76HxJTWkY7dvyQFBT9LosI3LA3crbVbCwe8rC7MqSZl5zeF5fuVX7liflWM5Vc9xVwK41XGb1cbvWNu9Y2ZlcZmCxt3q4zMFdZmV1iue4qTE98fs69SDnVo/n6kdoQ6x8FVULEN6xt3rG1XG71cCuBXPcrvwlXPhKuHKVcfkWN+RYnZViduWJ+5VfuVX7lV+5VfuWJ+VYn5ViflWN+RY3ZFcOVXPhKue4q4NyuBXGrG3eiWOFEH4HYXHV2FY21pVPeGtqo2Ea3dY/rVFRYQsI3LANywN3K2zcFbbuWBu5YW7lQeB/WYntqE13YdvhqFiG9Y271cbvVwK57lcOUrGdyxP3Ksm5ed9y87mCo/MsLt6LDUa0GazrWALAFgbuWALCNywhUCoFRU9WoqBYQsI3IxsPYhBGOxWfKqTq7Fg+IrC7MqP3rzvuVZdyxOyrGcquDcVcasbd6xt3qo/W37W/PwObVXKanq37ysAWBqwN3LCNyoPRHaENp/RHytY5gPteAOaXOaNoUekMe7DsPoKBYW7lbbuVtqtjeVgOZUfmXnPcqybljdlV34SrrVcYe1Y271Ub/ANQk9n5+Ej1A9ZDaf0TTWEhjh7LkNg+SjH4id3yU2AGIfFVNe12w+pUWFu5W27lZZuVv3lYDmVJcy877lV+5YjlVz3FXAsbd6qP0aTYPn6n7Sb2/omkflH5jwRdeb+pWWVqjqnjplNfXaLA3crbdytDeVbOYqj96857likyrGcpVwK6zesbd6r65L1fr6n7Sb2/okjMbaeCgRxjYFHGQcTjU/o+EblgbuVtqt+9YDmKo/MvOe5Vk3LG/IrnwlXB71dZvWNu9YhvVfUJzSMpj2uGr1L2k3w1VQsQWIb1jarjVcargVxXPcsfuWP3LGdyxncsR3LE7csTtyxO3LE7cqv3LE/csTtyuPyLG7Krhyq58JV0birgVxqxt3rEN6xDeqj9WosIWBu5W27lbarQWD3lYHZlR+ZUfvXnFWbcFWTcsT8qxPyrE/KsUmVVk3Lzio/epY/J2ot2PG3t9BULG3esYVwK4Fj9yxHcquXlrylR2LamtNNqwe9W/eVbCwBYGrAFhCoFRUVPU6KiwhYRuWBqttWBYPesJzKkmZecVZFidlWM5Vc9yuNVxu9Ym71UfrsnVKGwKuD5eAmTsC877lhkzLAcxVv3lWwrbdywhUCp43tFM2fptAsIWBu5WwsCwe9YXZl5aq9YnZVj9yutVxu9YhvVR+pSdQpvVCIqvKZ2VHqHambPEkfgFUydz24gAtFeXOfX9SosI3K23crYVv4isLsyq8dqxlXEHrF+lv6pTeqPD/8QAKxAAAgECAwcEAwEBAAAAAAAAAAERITFBUWEQIHGBkfDxQKGx0TDB4VBg/9oACAEBAAE/IZFUNKxAGJEDuUjosq7pmh4mSPArvMaCkbBtET6yGSWplKk7IBojYlvIRG01BMHskTaCgqY1jkiajG6E0GzAQ3LJ2sw3EhrbAxbGxDMBx3I2DEIIZo4B7NjMtPUjeTtLjN1xvoYC8JZiZ9uYv8MX6Fi8d+g+fEssTL2OkR5InM/X+0L34hViHlDmyXAnWGy5DCZIu0zUrRVIBAuAxPUcOuwhO4IgYgggS2JiQ2IS5LBW2DexcOIEYjDCdNkCII2QQN0iQhgFChjRGyg9hz2JM1RNwUl5fAPmbD5ND4P9ib85BqpMlLFr8g/CYCN+P+h8gwWV8j+T2qlRqSW7t/5envpG8ghs1CQiOjISBOxqug0p24lHDeQNE4S7Sp7E+UizCR92HITkcsR5cgGLPdqRsfAl6veC7CSdU8Qa7qXAmN4JWaNQbTdxQOHsEqjuKrLESipI6sYWF5WIWLLxsVyBow2KMymZTNErgIKMiMk3yGMfkPxRp0DUzCskS/dBCtUk8UOtksVNyEjP0G7Fb7szP20QWM/iLASLF0D+T2qka9cKHkiXnsj1dNP7b8psVDRJGlhPgWfzoe+qOokQJIastrPBVIL335eZBiHmeorwJtKVzJFxfdkeLEoaH6y6ew/Z3v8Asb8ez+8x2rL2X6EkfZfo0+/gd5fo0O/gU9tPHzvZ1qO/XYvu39ndP7Em2xb8MFbKBKsrlEi1OCg8kNl2/wApoZCJKVnBVqgUsMGMKFS7YnaZ2A7itV00EG7S0QKtW5e4tr5ymxUTMHqPvKq8ZEtzsAqlpW5F0JEhRz+D2se/aTbeqJR+J2FCfixW/wCMvHcuEVdFTTgOUEyepiYcibwoKsTeGMJU66qTyHXTOqE5iwka4oqgFsWcjXlCb5hdRE8IW5V04sCZlUysxOqC8Jbb938BSRG5H5LButxLEL/imjEgVSBJaoIMUafY5cJpzyhoDR9RZyIZmojRDTfqDTgG9xyIaXCSdRuTKqPIgKTc1WY7U6Wu/W93+I9xbXl7I/PaY51LVvr/AH20rjiJl6GX9WYBXBEsScdzNER2Dw54o8YeKPDjbfo7Ibnb7l/9mJH9neZpyPAJdugQlgkMImXoLHniIYNN6SN+4BCkeCd3tdd1bUaqz/O9lhj5lpJJOydiE/8AdU3nIiFXBBewfvtlK4mnbZOmp+dVEwlhawaTuhyXCkySK52uo9r2Lua7q2skfX8L3miBjuEoiCCNkf7+bC+hWInM9iKFsmrLKf0PZJwSfBjnWcHRwLSbXwZJLy2lTGWFGSiGY03XqNOEy5cESdugS2LKTmyQZiSTCuRJJSx2lLF1AhCWW4lLRVh2113flj33blX9DMo25lmySSSdySSSSf8AW0cRDNmPcXUPrrGxSJS005TFFOxDkXkmVapVQQ8CzoJW27tRHSbdIjwfhVt6xLqSMkJZrcz8dURTgLeJ70j2aP8AJBBUclRKCVoSoQQR+Sf9S0yXuLcqZa3wVdkINIjkSmb3zqNVNqE9i1BvR1SmN97KErM0gmnbZ/KRo9s8YQipjyW8/YD3245+z8DII32qMs4rb87Ek7sf6lzlsnEWyPZi1ciVvsMlswLMXj77gFkqIqAaXFMOge5MpQXlIirYqKTgMrpE9upDyZGZCW5Hie01j580n12NIkJbEI01KOgJNPcqRirig76eX5+ShcPQ2EwwrEkk7kEEf7TEV4pxVRCfFCND+c5MH3i0KubLSow0z4IbC6AZJwKPVCrqt4sjsqZvtnmk9uFm9M8SM679B30SW+AbrvN7LR/Yn6GUClltxJEEIS09AlnoXYiSrf8ACX5vygSESohNM+Qp/uBdwsrjObzdRIsi5fkfob/X4fgsXobC2/ZOyf8AbYESmYa+gcDEZS6XQUpTU/mZj6D3f43nS9OI0X6p7L88EFhgFv03J/27asSJCX5n6RbOLS7MSPUPpARKlwZiEWaL8UbKkiJJGoxOjbUqQQQQQQQQQR/xDaKl0R/cO46w04TJbcxkuEMCZJeVR4gasa3YrPBHYe5F7kIZWcbMFZjmnGbNSX7RjCqihcfVIvoLhs976Gww94/8TKIcA0fYaYyk/BiSzuRreo8mhOVeLNH5Nn8FHdoaX+uGnG5jjuTZOFhbEhYDexoOY0Lmca9TwW22cwtVsZCODE5NDuuRPkQW9n9ZQ6O+xU0vUshJKiUbvuPQ2MX+6ysyLFDRcGjAZUuCNAHg+yS4FxY55PcmungHjPRDX+0Ti5hsWC/kxY+9xFkPREtgcWTYXJk9+kTX5cI1N5mY24jj+LeyEu3THkOhj6BCSwd+D3z9DYy3+fyjSDThGq/WHkTUfQms/gxPbmk33Ql8LiJMPkzJOQaK/sI1gcfMZTZnzCeKKXg9EZCwmXa9Se6uAkv0zU/mLFnxGh51LN0xJKyJef5H6G38GdrRxfo53Qaj302b0vSarpPMIzU8ka0nN644XmM6PFMTxT/tF/RPKnm0Qn8gqsuGJ5I03U1ESiUSSSSSSTtlEolEolEMyGZrI1zTEWHqee2d5Ag+7Z2nMiXI0+tsAndgeMR59HeTZiWwOZwPUzOnsiHj7UZnXWwGnE5haj5MWRmEi50Gm80iciGmxTqzPJmchIqv1TMbjS85YlW6Z471T9FTDfbk0zk/sEqPL+h2qPGDIfmplB8yITEE+RmoHSdBnuCvDMU+AVXATO6R1jaaVLzD7DncY13QIyY9xbCVjhNmPCU7Ouy9gLtiqf49gkf0CCCydWVVl59u5GF+g5+iKrxOH7Gg6rYxvCZZveyT+h4JkmyR2KJFUqbygWY6jSe+xPAEP1EL/GVRoFOMbW0knCzJrGMTy/N3jPd9xhA0YeA2S2DlJY39FTPK2y9yXmS89kvcl5/60iSchOQl9UleOQqmLWKw/BbZj31cYqP9jWSFJNZWJYtYVZ5L8hKYyL5/bDFMdH1Z6jF0hNTc5EycaEIcVH60U1K+L1s31CVmSs0QQ8tnba7I4kzZhay6DL/JRJzqlZREuC2L0N4VcO25AaKy4lNbbNOTZKQgMlPH/WbFcUlmL6qdgGhDR0suIZ4U04lL4RMkVTOMNB5xSkWRMz4YCOOhWCDBa85VpqmO9jVXo4EZ+37Y0CPpTZabZGi7QmhObN5C6jnNchJMihlPUIHjNVxUg6MsjzFe1KhuoaVoEiYyZvNMES1O2md2T/GJLkJPZL2lTIP80pGRXaRCkoJLKB4ZEnfrQebnfc1PUavqO02aHqxv/pmr6shsl4OU/MT8jryjNUXEa0zrZUpmbxW/NPLmm4yQCUNLGy8RTbsFay6p6CtuZPoJ0THOEXPav53qqCgnp+J1XpUGN7ob3ESU2WkmvytDPIRsshuGnvyBE31imKgqx9xA7wMxFEk30EEeGDkJpE1Z13Gac0toRRZCSWCU1qoqxmxymaaNWtCJJw1qXVg6I3l8kpKBHDXSKoTSJyv1qaUuJNmfFdiUUqSsKHESgxhNxAUUSGkHNlvjikT4FwGb7SIYtC1fMacSvqIrdISixz3GM1te+gqFGnyUrHd/0/Ms8sVl6WOsEj8v12XBfDuKpKCtSkchIotW7Drmul3Zlxd3ZG1C6dxEorYMYVtcpI83mJuBxc9kLctHdPMtBlk2WSBGAdNCbVOAYFM24pU4sI1klMrGxHJzLIfBNs9AknMdBuldJmGsJHlcEwJ+7qujyF+9cMnWTl9t3ESnEOU7b7lYRjSRBJXmNCGjHEprkx9ppq1F7RESvyK432tpKW0lqPL75CF5K4nOZGFBDhW6SJ+VHqyUhj0HKuYKXMgrUtsXLMjJ5rSP7xlwOYaZb4Q2QdFVY1OIiIo40kzFsKrJRXQrSZ5mOy2ePEq3SIixX0DWlpGqxoSILNSTewDOQvMZ7E2Xqb4xCEkt6Iuk9ylW3a5d/wAk67PhvvWqTGRGoeYjnNBCgu67sjT9GeSJPrniAmfUPOo84abqOw+kHPNJPaGTRFhZThymy/YrgSitCWTIeRDyYk45po9pHnanq+Qydrf2KkJyPSjfIQVE0oHxsSxW80crRCmWcRajzLrmGCPYYcLiDy5SYi4QmYOlWKmTNsqwtxYK7ZJ5SYyxKVZblkpTHFESJIa6jLqVUs5MrpLRD91aROgmFUciS6jUJNGTSmU4iIPoyamo+ziMAoFEhwbTryMQ6KMWjqqrO9R2zafDIjJUi62YkpKaFy87G2Dx2iPCiDMfODHgk5156h0RKhsQMVu95wypPuhUfLCSZhnbJEl2FHCJyaxIQXRLE1KRc2NkTTtQJJWSXBbJee9Mu5skWw/MabdPhue1IlQJGVlsowFYRJOhKZdXEE86q0GXEVEspKds0EVmWpIIztjsc7xkWWISvDSE9hSNNmmuGnsZecyVaolnaBjAmi3hqB7YsD3rW2pXZCyPDE31ib6R4ceFDZc3gBvv0jvGaPqyNMerJlrLEdj7NnXen7NTva7MpCjLl4jGLaHdtQpJmeZTkys06POjyAcpulZutHumuGJqxadDJ1q8PU1NqtbS2YDvMN13c2eWYvMbRbwGzHhhYOmOS6ELZqMrnvKnNaJ8xGx3bOH+C1dSUvhBO06DYUTUhmkdNNxL1oUYxssdfqMDER2MUPypQaaaUIIQ1rUjNPA0W1Xzvk3DLiImMj0jZJMoLqRZDKk9GpyLJZJIW8CTbESf1oWoGlhgQsdTkPfD2O1tKraRT6mVRE58yKd84r0Psj9v8l50ZdEPa3dj/FfeIamHWz8SOpCwtl+pwq1TYxRp3JOwgTSO0sy35R5v7COtQ5jigwSCZYuWOqfcO/aKZNokslP2yShwqFUddBwwWpiJ1X8YmlUUsqqMmj5VEkzZKU6FqQp0x0fZRE5Uq8UKETTrFEO4sepQEsVKYIJUo7mworisIxxj3knEVYj9MIOrkVCz+oCklmapLWLh6S4Y79yshfmZJLFpkp/gapFPKRDGshIEozE0SmmtPwNPi4zQ4fhlGgsnIz8yDzZKtT4C42MU5G9yuau8tnZjfIQhrCFZEhb0KzRKYE6ZwlZLUWCTknFoIUkobPWqShxrqyC5X7nL5HWpS0PRsZqIavsLeEqqsQQijy0VbxbQreKpSXbFQVtZ6tzGRVIjBSkc8ZtkNzKEhCpKJlKsvUlwxnqK36AhKqscByVSTNm3as5Go6sz7boqJBRWsM6nhRKt0iDBb86us7jweYWpt2ToC9FeSjAwvOk0EcIXp7h8v62SldihE1VPEcJSxkMl0JN2Jvj75ZJ2VKE5Tv1Qm5aXUxyuyKlFYKCiWjcwHynsJbarYCCWSRJUi8MdVvLYOdQUXgihJNZ5k1oyVRNcyWm0lzRC0iezuLfhXpOplZIboTMVEg5WKFiyzEa2iB6j080bmG5d5ECChyQSzcCSVttq1Qh4LWsl9gyO9SN8GQBkOY3jXY0XaPNjV942JsjTUNZyX5w1TgkVY/k1P6Gy00uUiyMDBlY3bkeMCeIUKJBKEkxDbMKq2oVVabubme7nNU+b2IkW6YlWTp+NfeadUZZCBomN3ofaHtXqL/Aiuh/rYqKxojDtQMkQIlTtVKqHIClk1XIZNqwEnYwVbxMpRuk3AVSuczHpJqTXWBsV1lE2qtlQaHxuvuquryGs1qtTKeqFiloF/BeHXKY31FSXMPQaJSR8Ni+UJFSjZ2XuLNrlcxENZhUXjpqCORKWXII4NwaibrS4FGMm1UJiUvCcQxU820XxIEVMHVgyteo7zQbSu11Gi6uQ8U2If9Mly30OE0xlnExaswh7CkIxoFgGsRbnPG1z+8h/aLwE8xxpyYsXKI3YVwQYGPhCFilcSX5FD4Mx3xYSBSfoCVbpCMAnFYucNpk8XA1Z5H1r/kWP8AOennBRS2X59fRBbnsMti0vQd3+ztn2du+zzL7PP/s87+zzLaQB4ccZUeYZLqDadGkhUb1joKxTq25VbJfmYoHPYNQqzUzSPgW6Ab1+jimq08aCfET0vYOEIESmjKw4bs18/A3mRmxvg8mPNvo8g+iGTSLT9BWbU1jtmxeTTqgSFmSptvcTkehJ5HQ4oqDJiO09KnsUrptrWsqugYUJbUdpExzARIhGrMpiTJJkJWId6AgkSoboKR1+8Qv0M7VvJCQooYJuZreLjUh65MZpOEsS9nZK+oZfRRBYIVPRUcKc2DGQ0y46ZI0Vv8h2Z7cf+SzrrAlHmPft8n7ju/8AcfoXsT2UZM5KrPcc6DAcU5JbDh6Je4eioi05UV3GH4FknBiOH+zqIa79VDX9h5MeT9zVfUaXVMl4mbJ9g8UPNQeGbyT6PODyLJ/sEhN/2DP6o1/h9iD26AtRt1ormVmf1J9EKBVCnL0twVv/AALRYoar9dEP3HcTMvgm2HJb2iez812Bl/3GyHw+TZn8hDM5AZntI1PPnZrXxY/t1Em3QEVumaYhbY/PTiLQ19SJU/5sPIh5EMlZjXfqDR9Aa/sOI4Js4jgUtnDL6KRPbmgmYVxQlsrizOF5MTYXAyX6UMz2UQxec5cZxJ8wl26YSrJsr6F+iv8AFvtU2gZiubarJeUO6xoejNN0ZpujND0ZoPc0HRnds7l7LgLyQ1+wUmrieS2O8OPBtkPENgPDzw7Z7yB5A8xu9Jr3DND0Z3GO79Bqu7Qyhu85rHBjz8SM3e/s8Kvs7X7Hm/ts67Cnffo7P9Gmd2RwDx9I0znP5/8AZnNy2XUt/afo1Dmv1ZnS4h5LYjUm3QEdukIMHTZLz/1AP8EvNibzK5kvMl578LIjZCyRDAiFCjHA0HQ0HQ8cjwyPBI8EjwI8aPFHgjwx4I8QQskQsiCm3mVzJeZLzJeZXMl5/wDHfKHvMWxL836Bft/1DbP7mDPgZR1Z3HuRjOw4mYei2r89otuZlKSRC6yH1/BKV36DEnRsVCk+PkaUAFIfFDX3lSPSFRdRyUZ8GfomszgUHZoyeekv2KJbocP49fD2NF06jRfphqv0B5E0HRmu/BzJZzEBdsjJ66Hhdamm9tDTeY8izk9SP7h5D97LeEuwLxYz+uls5La+qXb/AEZHXT/RHZnwRYH0uEqh4L5H7Gsw4g9/TJQhbaLsnODgiechtaooKYJAnXQXNpFkNfMY0GoCG4G9tVVh46EpQm6/JUiVORC1DNicjzNkgQ1mt52Sc4Q2thqhaYRJEE1mNDIFwjAl62Go1yJYjS+YpLpRchSzSpdOYqSFCVpCgGfFG54hNdZYbEWwsizFCskvSNd080Nd+iGr9TkymfBhJZnBjQ4zW5rQ8tDS+s5PUSYXP9k10XBDMEb79dI1rmMxvxCjHzEQpBEr6UaboR6lOp8N97C/PYuKF8dinNZqB6qcqEzh8CqSwohayhTtR8YJuiLVTVpUmRjQu8ivgdG4Ju6BRkSamk6kNmG+BCVFRRKksytNsyNaolGrwNkcLcpREIQlN1H2lgItjivoXkks46T2jTixMxye5osNKLiZislTRUwq6VLFplFSeBMIexIimqYvTkpTSsFbWEbSabgX57OJPieeGxjIxTvfQd9fo0iJ1n82w/CPs80n7MvnKPCfo0jm+icnzY4fkx377PGU8VGZ1Uv0Rzxms4hrXxZ7LS/oCXboBIsi5EvP/L7DTflwuW+tFRQPdPfCGMMsMo1wa0tcVLeHJT22tWMXkqNdteOWQviaRpJU5REGfN9Qu+VPcRZyXRHwN23Du5VSkA4fQ4yUy+J22jU+REvk7/6HjX0S7/62lJSR0zdsEefFeWneZVZcnqwS6QIOw2dwxK+s8KPBBL+uJduiPEiFkumyXmajK/8AA4e8ksSp6DDxOxx9NCYkrRk32/5H27fT0N3EfH6ZTD6q4q2QOFFy/wCEh5EPIh5bZWa6nnjwo8EPGCX6JJbrolYNCpxfsPMcR1i9j54YfoNMfpchL7gwpxFz0PtQlb3jIG0Nr4SIr1ccrcoVZVk7I/1YeWxo+kXbpNlu0Y8y+AS2T7Bnin3tJV/WGi8/0aPzEfzjM6nYbsoawpf1Bmv6fRLYJ8uPOjPRvIDstnbM8WeO2E8IPBB/yQyzFas9N1NSZLnuoK4Umm7An6D3BGfDekOTjvQX1BPBuw5SsX2KtbJS+Rj3JvgUaW4FUKkSVlE0QaZDtqwhFSERqmYIQjMvVw8tkrNHjRHfpjxI8wPXcE2ZbeBS2dzmhwy+ml+yXA4qP6C/RonN9HCvURleYluvgM7kF2qX6NQ5bvDPZ8WbLSbdAJNumNERGyvr3vtqGRF21+jX7Lrvr9beuuxv0ecGsbWNqd7TZ7vL9bIawGNaCrZAecGgTTN5tsQViTNlaRpSjylP7ClzBsMkUUaSnvQmKy4jZgOq2KkBa08TkASnuKEBLMcl1tTILUUexJkdJL9nd/Y8t9tpkmrLuKeH7Ux7P9bItG57Oj+Ux/aPOfs7J9kmTZOd+/o7f6Hlfoa130JLt2Js6XH7DusLZDPCjw4S7J5CFkiuZLz/ANT2++5ldiKlSuZLzKlcyu5Lz2S8xnzx8TBEvMqVK5lcyXmYi7DpM8i50JSFkRLzJeb/AMFHKDNuC3+2tTiP0/vi9wW+hjWagSQ/9Mn8UHHZJfnaLnW7BObRsablWVU0cE9JrGawf+37h6j3Z8T8c/0PE76Gaqo0naxwwQmOWaj8L8YxVJpESQxWv8DYHCiX3I3IVVjTqOalFS7TgQZmbcbjqcGp8f8AHw8ts5keeGi/VR4INP1DN6Y8ueQ2VoffZTX92hqbIjtfQanY0OF4oEGw8PI91Zkr4Q6s7z/I7w/Mk+Y/QzXxH9Hvjb1gFGg0HVTrKG26F4gggvCkyFJzbGk8vIWrLTqJX0EyLlYsRmaKYsxM8rZ33LbHhKQ8yFHjNQoGqQkyMErZYqROEOUPLlhIq3mY43pHsnAzNWblOQmA3KqdBJ2VktSSXHURM1H1tXyKCW4WaiG50bb2F7CUgxYQ5pdImJUFhfZ3zL8cPIjIyGSs0uZFfpBo+mNRuwZks+H1GUn4Blt5if8AAv2ZXV+xrQ8V+iay+LfRo3McLyHmf2af31M32iW53hvoZnUS/RIec3mPKDvua7qNJ1eyvAii/UPGjxA8QeEPDGm6ELIgjdrsTC0Ti2fl6eYXPdXM0xrpRmSKtxfBI8KAuCDECGlPMYlb0ISoTunEMEkiPhjrKaCwsEvYp6G7BqWMxB6TQgpIxR6CyqCE7b02RK7DKG36GkNsrEvsWbrk11RtJkHCZJxUkUXPCFC8o6q8igNqi4kSNco4y39vMeDHiw+JNFNKz0MTAdCK5mI6XGobyaL+Rg9UPYVMWxuFSJIuDaBtOhoQ9YaQKXVZmzck6SKsybOpDSnWBxoxxUEMubl54G+u8ZfIKyxLMF4MiHDYnP6BoPM/0T/aOwh5H97hnSfzEn6M5vJ9ETTXaWa3iSVh6s8cJVumEn6Ak26RH+SgGG921Owh2kNF0HbQ13Sa3eOgmntPCbGHhEeCH8FJFJ+g4t6fR51HmV9E/wCbYCTUMCRcMw3ugKQ5meYVkgKIQK0mp4WihyYid0VjVXeHQh605WmOoiZy0zz2WVUfKG9xWmnCyS69WWliUKp2z2X4ASRePnhwqhPkb9zxQ8QhKMFsgrmVzJee+nlZm3A/1kJwzE2V4su2b/27XdUw9P7Jl/F6RdbLPDmZYk0L0zZI3M0n/dvcV8mHp7PBnzf9R8H5LHD07+Ji/wCLhkPLZDNHkkeDDRfoDw88WPPbP0/RnY+gT7d1oave0GI0xeaHnWxUdg/wL7PAr7Oy+x3f2PN/Y8gO3+xgu3NI9mOyFFmMfUdR9z9pN/AwAuF+zOfRGc7m9E/iz5v8uWTIeTIghmjySGj6B4BsJ2jO/wDQa3u0OODW+bZvQ3vqZXSS/e3QjR9JpvfQ7M/Qs8RH977O+fZ/GU14ePGd119bIQ/oPKNms9nMabq9kQ/XswlW6Q8CPBjwxoOhCyIWyufoFlebmZwfkFz1q0hoejO0md1MzvazWdR3WNT1behtQEj6HjFlmMx5seRHkx55uS157Obxg8EjuUdyjym1R0iLuKeC7i/V86PKidjNH8IjHykPKzz77O7fYsZeg7amhbJDxn0O1+h4ASPD+0z2cxqvtGsdwzxB4UJFukI7dFGg6EFiXn/hr0CdYe1b2gjQRoOhoOhDJEMkRuRvSxzewJ1riVK/9N7QaeEP0zv4Fr4+le5W/chJcS/zynMO1/xyq1tf/Vs2B/jWS8LbgPJq6nLYwqiUsrZjcucCzaSpjH8j5dqfPdbSUsktSLcydwtx9+GzMs5UONyNy8V+ohrurmK+XB7iDUTZtvTBCaRijUooqtwsxNNSmms052L3ZKJWxikrecCm0lCCVTegwooMQJr/AEfnf5Gvxam44sjoorAogDzJyhTaZkMk1BTS7QT1JvAhjWZXr1k99ZENIvZ1GS5xe29XuyNhqiIcVipAiNlbJKWPg4QqUB9Hli59ElcUiztuPgXoXMVkkIE1CUy6ZD+3BtTwLhRDchXV0iTmAVuBD2GFmRdUlOAQssNXTp8kfCRmJdBipJDQ6SduiTHkm6yx4rcaJpN3sM6aLCneQyWh7mdNaiqso5TUw0NCzG6RkSuTTLQVUyAlqlC7kVjvzEJHUXCsunPYQUblUhP2EeqGi4oKozwM8Aq5FkVqUGbR9N3ht2IRgdVR3IncmRA4L/K5bOT0ImUKVVudG8NRIrecKNRBKc/gh5EPLZKzNB1Gu/THhB4GeKbDeZ2VoPc730GrDV26UHk2ykQ9r+jwT7O/+x3f2O9+x53dYbUAdxTvqdp+jvf0d2+js/0dv+js30VVT0/Q2OopIU+422HBR+12Et+E+4335KjO6y3rC1xqcxgVcKif0FFphRwBFXVLDSKy44ipulYtn6GSZtiXnmWLF7ght0QpUCnJF+D+y5xe1ETRuMi+HiEjYnVBbG2JjCcqOgWiurbfyK5L0esEyUI0DJKbq3Bc9jo1R4IScmc/kccdORIQTZPawo7AVwQgczeRyLWq6vmU7hzfRiRFQ1YTzjvNCTVopNwnA7l3NFyLtc9Y1GaiZBmF3FpHYqdpRJBnxqeLHjB5gabbo0yTdfKSZ1F14qJHZCqjNKVnRLkORG2OErRcjQV4lXEPkmpSpD7HaBToTrQa1SY4uG02H4Mdr9jz+xkjxDFgIJaDRZM2nSR3wsQaSNf0UnEg7ixEEcZIZUsN1CLTC9zU4ZlfqIgRhmnGQ04Lk1rxHJReyxE6hW0OI71fW2T+RbEM9G1vUaP32X4g8EIfqHhB41HjDTEIj1iwrePKM8uyfIJye876mt9DG0t7CaHRo41IZWU2OZcaBrZtjD+xHQhaVJudVdCnkFdT32Y0B13SQOtbIfXA8OFJ+n6FK8JwL3KEWK2Y0IZ6Fp7iQlVgWAblBLRB5sR26o17mMSBPFga+yGluz5thKNnVnmGZ7eR44RKlAPCDwM8QPBjwCNN0NBdNyjqoniHOMhUrtj/ADncX+IUt7nw7k8YRAer088sPxdVe/pWbjuTEUyp02ppzDX+g7+iu43p38O4PYbVMUP1+BR/GsSKkA8bQ1FQHLaiLQYhbK6WcEyiVO7SYmo8qrAt5yO2BOparyhFuJ7WxqUcOVKsLNdgNUSMElMmFt1Mh43LeJaZJ6P/AJhf0ljbCCr/AHcr5w4dSdwnPjuqhjOiUsTwO7LMqKilk4cZAukFurITAmh26WOV7vIgHXl6LIeNRRCwBnD60ieGSe5AEH74nx5YmCkGOOJsxO/1/wA9i9C/p3jybgmz2491uQi68Xa+B0vHO52yezFrimUlXoRSoOAKxsaqAtazycCIbbznOxp1ROly2MqyLtko0ViN1bKEr5p7FIOGh6tqcpotWBLYOSn8kovwQZmtpxEuBAo4XFMe2OULoVoUFcTzqE86Nm3nNsVy5p8/4YZBXbKzR5w8khrv1UeNHhB4oeGbEeT2v2n6M7CZqw1NiF5meZnmezKdtJB4dHgkdojyOxp59bLPETXdI8x0i8cafoNJ24bK9z+jJ7fDZDsX0Pu36PLzzIf9ts084POjzQ82Eqgmxi2ppXFf0S2XxcnQ6jQdkeHtpmimaJWaJWaNN1PKo86jy6PKnjh50i+482eXKbZRTod5MjKXZSyYzDLSq3VjqmtkN+jX65rdc0OueennOxcp7MlWXiskp2W8eieHdseWFmVcGGdlJ3hTGIkWRZL9JpegpRFyEl38VY3pplmVTXmerFidUT/eJy9bO2pFdmsMXiMeWZpx8nkv2d++9gPGDtIPIOoalHww5xrapXM8Ijs/odwtpNWpOf1x5Nst5wTf0zuNk902V4A8ZsZ4oSfoHhyH6UeMNMQyIRGyPRv0SRqfoPd1y77HabO+2dxmg3AL/Dnjzwp4E8QPHiX9KFf9oUYERFNkvP8A1WDnCbsn/gMXofYB/ln8KNn89D98sQhLNEqlb23kwspvntbSUt+tzkdHEzDTPHH179F7cP8ALdP4cOI9l+CWIUt+cKscZsQsslA5mYqHd7qcnbW39cW/KyOVHFSvwkxoNWTuPKNj+syNlPo3Kiti5CuXlA2R4puI3g4dm7EkyjaLp4nD14/Rexj9N8ha2obNuE11YXSjzaRJZdYwLUWpJ4Mt8saPf/EW68J5kzx/MMMGcQkMngLAIQlmp2cZ/tsRJtYnsaYlRwiSI0MGL04D09bgw4i7nAsyFJvFN4SKK6NIRDWA8BDgkusj1xfwDpLeiV2xKkRKc91q5Kh11SWnBr63I8MNme2xyX4FtWS9REDxstkRrRK7JGijmohXKxTO0sqiG56AzbEEkmvSmOxUY25Ry23e+pc9nu+r15+i9sH6cscBhaSxa5iyZfFqWliLCqQqWYm+SS5lX3cPcTk2kjzTI5KVQ0ONBK9lKRIjPxEawLi1btsSYlKQzIJ3sqDQzQg15fV7Fh9wjdRJQmwIAsqG4oTbNDkKK5yQqNKg2WRUA6LaEiV9RNBGKGpbeuQio00VYCcRqunJ4ilvdOpJiKuSGmhDNGk6lSK3E8kedMohtXVsVpAhCJpapkSl9EOOpgSNJhY7EeaGXm4UNQ44jT12ibd4KrUeOwXwayZHSLlScoxHEwKUs5IFUSzkRudIGzFiO4nWBMvTdmn1zzsT2/XEsG8h9RasyQTcksY0ZmxEdzjqyJMniQmfSjuUdv8AY7VHnFs08SPEjxQ1fSavpO2p2EO6hodndENNveBYWL7P+js/0dt+jt/0dn+jtv0PB6j6PPzzz6PJfoyOvPJfo8vPK/rY153ts8mpfohjqdl/o7X9bB+AnhhqtzGn1d2CvNP+Z3iPMI88jxQ8jdhquXlGcaniycPunbUlSPkENBw52HDPh3IKuTeqDmDzRF5NFm3FatEWfAYqNpaXMSpkQ3eHBVbbGbfsR3c1BmTqoMpBvJJ7Jkg0tRZmj5ieYHkJJd9Uh+2afVNT1GdPi2Jdl9zXtqX4MX8s8CjxI8KPFDxw8GLMpZH1EhTdLSmVDTdCFkiFkKhLzJ8j0s9hLhKywS2S89x2EM1NmnS0KJJJQkoS9e/RXnau8hZegZFXEs/PR95gFrCnm59RUJ6xKjgTbwl3j/nP0Scarbp/mWy0obSUt0E01K2fMyxbyIiQ7f8AIv0T9pj/ACvdSmVWyOrFpex2MpJfMWFqFhegdhX8QrblnKpOotHRkNg+StQqG2FpNLly5jT/AI9+i+YP8LbCCLtimVpmhtK40NG0m7ErSMYdRXCwltRdSBUzaciaNpzXQc1dmxKUHCmakJTY+9zJNdMWYOLFbcrQnVdpUxGT4pr8i6qNURlAwItZd/x79E/byHuPdW+SmyQO1y1rE7uiWrFHFc7khqAFRRqKmUOTVHYlk+sqxf2FfmYVcyozI5Fui1LFBOQ/c2aiPPHGeIrydkKTY0FnEuRixTqOytdCbKYcYzPK7A0/RnZTO0ma3qNZ1HZc7TnlZ/D3bwIo6jeDPDo7NHeo8ujyyPJo8APBDWdJqek76HcU7qmUuyzQbvLwt7J9HZvrYvO2o7/Mzy/c/rWWLzo862/P5CLvP6PNDzzZTzQ8w+jvP0d++t8Ehdi3vf1+Ge2xyP8AXtX0Z6NmujOh2GaEaDoNDst0R0A0p7B9HYPo7J9HbPo7V9DwuZ/BJsLROPK9J9BbFN09Y02fOaZx2VNP5s7akf1Bpdg5oMfK4Qy5FICBByz7ieGVlAZW3RZUgWj7IzutstLRVDddnFiW/UH9aKrHUO8zTHjzxp4EX8E8eeLPFnjDTdCFkjQIRH/N/B2PbOZ7vu6KTTcmtcROW/YxPY+f+YfpLPa/xZb94/X/AMw/RWdk/SXj9P8AzD9F8D52P0l4duB/1VDPVGA/x6bqecPInl9n6YrwXdY86P6KTisg/ZRPb2TI6iMrrLYmmK24BvzDPIMT7WcXuOwmdxM4xLh7WO5hdIewp2EO6hrug1PQeIHjR4lsU8AiPF6HYo79Hbo7lHeo79Hdo7NHYo7ZHYo7lHcI7dHiR4vYo8KPGDV9Jqeg7Kmm6TtKaXpNB07RkeDtjlR/cO4mcXSzi6WTqdScvuJ8w8kzzDPNN47jzboz21NZ0mu6TX9B4oedR4EP+ojzQ8kjt0M52COwR4pfZ3aPHI8WjxiO1X2dqvs8Gvsf81bAd79h+GzNc4opTwbDQ+s/QsnDf2LsOCF7bG1Pmd97LLNfmNDqYiZ6bG8aeOPCGiNBELIjZn/zC/QRsU0j2w5zGlYXEpL6+j4HpODL0NwjlR6CJNWHx/GmnZ7rhKWJpqU01vNpJvJN9Cdrjis/6D2L0Huh7cP0u9yakl1mVwQ7HTS2SMiuuSWWy5V1z/BTnIY7j64RVYyQyU7Pdl2Y9xtK7SIwN1yKhs+O80mJ2YkkklZf8F7weyeqLFGoClhM7riEmZVshq12FWRypgQk0kk2Pc8aldq9PIaarhBczv6xIRXDsIQ5k91IO0ZmC4LcjUUlsUym1k2Q6KExim7IEt3SpxFjLTjBRBFmmkLxJPFQDMSFbvIsiKFyC0ya9AnIg0j5mNlcLgNZaIqp31JApu+YohXlVJ6DnwiIajaSl7IpyZGOduQbNH4FFYBkSX+/7we1eqN7RJIDpaQ5UAosQQLDSnoOa7HKh7XnyQPS69ShhFKoukPDH2mILa94hLUQqglZkrNGg6mk6iqMPUWsJTXAM3yOU0JxGYRFvqQdqqqLjlCE2sDoTkZq2qIdBtKlXIpLEstk2g5iuSfIp6ibilaaU6k8MMWhINMmC1UjTlXyvQgDQs0xDmtzkrFEroXE+RqsFN3GrMqcE8jyR5I8kecNJ1NRErNf7fvW9TTdRov1Ty5H9pDgO4jX6w8hginG7C+TRq+g048meRHopcVrSpk9uI9xS7rkQy0pazzrD0i4m4kNpXcxDbI45TIVCSyKse4K7bmeoox8hq+oSf7Jf7Z22dmTTbmAkX1nhTxp4s8aJH1nhTxp4IeGIbdE8cT/AFngTxZ4U8WN/wBJ4I8eeH2vWmNAdts1/UQW941OqeXnm+wsNpTvIndI8cjwo1vQdlTQ7a7QBBnH0snuZ5Njwn83tJ3RnuqeIGd0x5hHdIn/ABO4txAm8rIb9aeWGj1xrX2ndY1zJ32TvL9FMrMK13WarYM77DIdr6NjNVshE6zViFLfZ2hORE+y4nNVXbpzwx4w8MJGA0kQyI/DTzmDhur/AJqPxS8yuZ875E0KTVSPAnzd/Aa7LkMfzHXx6G1xMOi2SrSaCYyxpzvvCJ3j869WBGFUmkRMqzwo/CsdKJf+HfK+R+keFwBfHZmu0xmhdaKAStMUUimTY1IlJ2Yi02Da5ZmrudKt+BVM2PCLSvoRRJmtt7Wcrjtp3TNQUiYX6Q9ZOLl5JDoksRJNqCcPwUZGfXa6uNSlCLdkPcRmCT6juGlxEyzODWxytw2E2/Gv2GoS2t9KLVKrIarxTRE/io1SJj8j6whS33muzS5b3cKPQ22XpR8Y9ltdokjLkzlEDSrMKgTElSmhSIjpwLyk+EmPuptIrki4PG2ochmykSCTXTdBmJM5Q8tOFZCkUZSqbElVbYFL1ygjqKZWXLY71x1cEnUoNRSoQm5Jwl+zbfyGhJrpVloEZrN16pzxwiNh2eRbce2QZRJEQLOGLAhYXkvwWFdUZCQ2xC8r4jhAmbToTltKUvwJLjR4bywjeoWBFpr1krV0ibzL8C1FIpIY3CEtsbbK0DGbwOKTlvRVIcfGPkgmY5F0AhHdbUKuBXCrC1OfMepCYWnhtaLojA963Xq1SrHgyJMnwEvFGyNjaRoIsW4Mng1KeZLIeJRlCXgJNMNXZ0SRCFo19Gy8w04vFfzP7npV9OImyYXjoFhG9XiYm/jBVq5Gppnf4FUr9VETmKcFFZUqQ7RQnFSu5CabCuJV0nNRSISHJvB3zKEl6ldiVdRQ1+gb2KFzGzmCpyT0TlTUVpX79qiWumEgO+tkdpHiRusQnPlQiwoISoO8Wz2o0qIdmiqyXdyCOnRFZbGXRzQOYKNoqQl1gsUdxEf5n6wSts2iRo/qeUCbj6M7SJcxbtNUx3CorpFFpKKLgMyr3NVkeVPLnnjyREJanQZupNkke5ya2D1IKB8qLrgM1iRMLpJHsSKVSUY0RAj3FdkpFZlKe7Wv6Kx00dTaBBaor+fatvJzGBimSdh9UeZKCXovoZqIKZM1v0JCg4RRJUITNSWYmONYlxlo7t2ELldJe8HVDNldMwkkbMZ6Ch0Yl0DyVSqIYsMJqsERoJQQZJ1TkOl8a1QptMq6Iw6UcTQPTJRvd8SOnQNfuFdKxEpD8jGe5rejMhty2Y8Vsh/1zKfqaPqabz2oZnTNP0Kt3QztiMsdc/bA1esWc6kbOFVdS2oqzV4CwuWRKq0JKkqoiGSIZDXicRS8qdjiWikjbHp3UFcUSuVkpxeb3IWRoGgjTHjjwA2/QeNPAFWDYyiRJUFkA/LYlOquDDSh0vUJSDURE7C9ljmV1jsUeNQkYnyE/EtNsR2zMtIrSnpqR2EycvuIEJuJWkyfsK5NCJ5jZFu8LQyxm8WIKhknTfNFvSG3Cg2TxcHXZ2D75qdQ7aYpmLR0gSMC6NGqwL3c1fMNd4HnmmO0Ci0k8q5DaULrF4wD2MeG2oSgWXjIdS75XnNxFTeR0bcsUMzqhWpnMpbCE6dbQp2Z3sEqsUSWsP8AnjyB5JE/3Gg6k5HU0HUlZrqSs11H/eQ1/TF0DTE2E0qTRztZpEIhfmlFIqyeRCiW6IxG3jmNshZkyF9F4MXtQ1TpJIqdan6FbSC1qJbo3hgxMN1kSe12gxJJCULT/Lz0fQNkTxwWtMTkSjMpxKyQuqqCH39hDKGpihKHjXv6SBKkzCQSSSyRpGk6EVTc0N3J0Iyk0uMjwh4g8GePPHnhAp3rNxghvYH/ACDxJ4XdG+nxWzysukE13Mg3mPEXsY60fMHb+r9LIXCu1f16GaRY1OFkPLqMInuJzQxMOQqkLeA4x2qCanEdWOUPWUIoDCdYw2WTArnLc1kx9TRiMI4qDa+bnXQbSq3G/Gb3+rTdmn7nekUy6khewJkjoysuXtd6odThiJNFSaoa6jnETUpMzIXgjOuN/wCbR7a5+hWeMT2DaSbNJK7YsStcBRaJTVuJOqwikya5HGwHswpQLMKK+CyK0TjBUJmOUVYk4JqBxnGlue7i5K3QZlaVN4MVCqHZG2AcYbkKUNTM4SQmwJqGCqbBBzA05jWKoCTI4YCCXkQkskxLQphbcfEasWOK1Hi3YIUwG5yxcqJgLiUwaezUEvgx3e7AKqpt8RKCpUWoUkPKzSEYEtSXWFoRQSZwJZFjeD/q3aiWVDNNZz+CQ+X6K07iH4Uc5er9h9MsqmeymrSyzgTiDuBAoqxVFXKHolG1wckHLB5EWxrZAueeeIlOCUWoXKTjUVpJUVMekSmKRKi4NLEW6i4N6hEtkU2+1rRkOwk16rBcsHERQuLiJ9LtYET6pvggBK1LRZES/sBvChe6XHjURLOtCFJ5KAphFmK6iNyG3KobIB1EZvFct2GB1omrYzKOIiTcVm1YZ2YJGHLqrxkiq62HcfekZ3HPROAapaQamjJa9szREZJsdxvTUk6gS6HlKFOapL2tOjCnMoeuk5VbPcge9EuLMsAMzA4LRdRkopxAmK1EcvUbopr9jtKwZOMtiqpTlEVursryacNxOqHG5Kb7ialDTjL8K3HNtipmEpHZxJGBTf8AH+q/YfodRGi6nkxw8nMQYw7KYwlwDMI12KlNCqRWbDnXhUieGyryZ5zZkdkGl6mm6mUD4RBxIcZjmxy/vJ8g4PcdlTj9xGBXIul4mlFgt1LpXpSoMoLFRLCdfgVrSEuWECw8tGQsSIz3M7anaM83sJpBhc9SDNqMxZMnpxQVr+gzeotnosKw3RprUd1tiqUFg5cJ2Nkdbac4FlYLR0miMoFUXlBRS8RX7UWYjvJnmSNrQqctaiMlFGC0I21BJBVwyHFSiGmLSlwJ6jCCeM6CDjLKiSIjkM2rsKcY3IKu1TiiBc5JCegpZlqbWGXxrszSkEo2CSzbZGXJyMwnWSnhjRSyiM8ekDpsl5jASkXVksEVjPVOLQZT6TptrgNBIyvGAVYolGDJiRVMhwk0xFiyMczRWFoE4Ko5YFiNvIonB6FRjKceLshGZLhin9F+RFGIJU37XiYxY/Q2qeYwPgxayxbbLGU+A0Vap+y/HgD2vZs9n6mQvU7xmh7irA5H8xGd7TM2B6uoZjeZoPqI2n2Q15BkassjRCTIj/PaPA0R4Q8OeOG27eRp3ChDb3HYYSLI5xUSlnIjwmsqHYIyn6DQ7Jmy7lqFDNyY1yk/gCIKmYw/ZblkFniL0WU80JA+46gSXGShCIkIwMwIfJkkg5Cl4sTTdHsJf0hIqMA76czX0G3aIy2AS40Oy6rDbafwJ2DlWF+iWGDIb06ly8JVCIGxK1xgoWNpspJHpViTV00VgiggLkJdUaknkUnxtAasOhYZ3FGyDKaYeYs4Gkaiacw04cPT8MPIaHMYN1H/AD3MDRHihu+kbL9ANv1GnNZ1HZYZt58ecHnB58dxhqQyJFnLs3ZbPYyHW681E7y06nfI8Wh4XQHh+0BjuUeXQ53cOb1bKv3hVMRdJ0LptMR+hahoPL/IdKtwhQKvCT/yLCoKWDTumNqGcEYMidDJa6C/HcbTqyNVGq6UpL39C7RY+P5phF4jJ1kunIvwoYWSllxIY/WH/wAj3DL0phbxfmQKb+YQBu31+FDGs1DECaW09TlJUe//AD3pSxR5Ig+w8sac7KNToZkgq2BFjAB5FCzQ7bNJ1K37zyZJcYj+U8PsJ2karoWsDQyy8xM+VbB83sKX9jvst2YI/wBRk+KivMGSIi7jJ/3PNHmTyJU/fsHs0eA2R2k2KX8YjN7zT8jyj2GaCWL0g1fwM72CGKRp9QT8fRmjE+3UPICZbrGov9P2b8D4k+PoZ4Zj+ZndQnv7hI/o0wiEkNKaQhkQLqI+f1KvbU9VCNJDdfpHg9lN7mBke40DgNIMvqGR7BkN0bAeAOb1Isfm2N7iGb1EZ3sGcocDzGq6jTHmyVfsPOElfVsaGJ+k+D81aEFKIlDgSinYmmpT33RtRIkvKmPwVeBJ/wCNBBoIbfqGy/RG4O+2ZLLmzTODkcEnzh2CPBiHF07G/wB4+WET/eF3Jk5Q84POjy/bUGao7SnbU1/SeGniI8H2NhJcEaTzCCOKtKrmLbSya94mpQl3onL0fxlzj+VV/NCKKi2EGqo2QjjpTv0AqNNNiuOuzJ32BlEpYwlb7lgTBuEK7Ei86MBj2x4r9706N5x0HOkuI4qBUVSlrof73tOxnXkp1GCTIr1Q/Ytj7eh+D8u1CEUsV4zYywDdW0GLrvo5aiTkoTfdNrSlpiI4rb5RSJOK+ghfNUYrtMFwFQIoQys9Tz3ncshk/DeDEjWQ5Mxb5GGQa/58RXu0xPDcATFrLG0sRKqoXUrDRHmjS9TzR5484e4qSSvMU6jpk1t1eISVZ1NL1PJGkNISidRRItXN1GSFylyhByp4tkkoVrRurFVSkhHaylbIsDmQ0YTFLCf934Q7bXuysyPD1PMbO0Q850O4jK6Zo6Gx9R1NJ1IF9XEYxeY/lNI5Gf7Chd02gPlCf9SOze1i0n1HGjQl/o02zyYTTmkNOaA4IO2/ANnaQ0xpyCy7Ssn3ms6nYYSJckN7aAmrCeCCVj8jIboNJsc4/eN53myLFGf0nN6qPBkZM6PFjvrZasOqJluoai/07nFGC3M/2DcUnfrGucyxTY9Iac0RDIgQQRtsjFr+ZzEnEjGm4N4/gxA3EeSEkkkrfiVzuGf4aK2QfH8EMjxQ236R4LYm3B9WeUESR258M1/NNiITH5MlMXrtfGfy2iWK+Q1XSNcuYWXEy3XPLifZ3P8APj6KnkGC9Jh6DI0H/cc95hdHgULSYS/G6JvJM+d+FLrHv6ubAS/UNv0jcWrXMR268irK2YeG3Qf0jAbndTyTI8c5pazqjs0eKIijuvnM5Jzmt1Cp9WaDbry/YeX2M8UPHDxIafqbOeSLsvIUNOQ5QTW0/NQmkTTTTs/R/KWfQMSJTMmZrYhKZKe2X9FZijznm/yU8d+JF2Wf+a9yEQsjTdDxR4Y8QNt+mjww8IPHnh0eLIbdISqxLkEJrjQbNGJq9nwyG6ngvol7pa9E7aZlP70KDf4WwF7jBmD00/L75+L+y6/5r9F7I9hsjymtRotmScr39DbiFreklZkMzWRojS9TRjVh24Wi2/s8Bu+RLhxzYE3+DtLbJCOytv8ApjQmn2J54nkaPiIu0uJpiVnv16H+/e0PZ7Xt1EQYTzA14Nm7yKX6xSN4WyGh6nlDQPEFKovkJq+osdhtxEo3/sPIiRj1EufUU13XY9ELIEOA0p4A8Uac0RojTRDI0BpbwaCNJGkjTGiaI0hpjSGj2BCM0QuotEhtOi+pr9ZD+xL+hkrNV0O6hZFuNskcQabO5kOF8BndYiueiDMacmaFDduqJ1uqJ9k6/wCp7gPLdNxzv1htvL5iQdGaM0xoEMiERvqZcSx6FF8pUE3wKCkpu2rUVnsW2M1uIJRsccSkhSZKf4KstvxVP4Oi34NAN9+gPYCPBZcGyKyhP+plewZWylbd+prvMWL7iH9cEsemR+4BN/nZCtOqJ9k6kr0L9F78ex2v0KpzFjh6ByFWqErYUa2IpctmrqE+vI/3s4CcORXAXKYNy8CDSHTb0KpqQSUKmsB8pUvwVUhVaFgZJX+AQhDdfpDbfomiNR1MhAyeoRW5yRkc4U5+qI8TmZoM3qomr9DYjMhzHDcnsjypN9wmW6xDNC9D2bImmNJDFbX6B2MPEVvQLhOZU2wXGWxFE7vVmKVaNjBxmPFK+nEc4HxRGSJApDcsl9d11OsbhUOErE70G10IjXQcV6XDfeXkzEjWUvn/AI8EHgaIY+gb/pGwGSvd1ZkR5jzjYWQnmd0jx62J3UO8u6XCbaceIRnHhjMQ0lAwJoWDvJfHLY/QOzPkF6BBDJ9wN47FFkdM7CGItjmbOvTBjMhzQXFyTgnWqtdqvfpuc+pYdO6ztnJeeRaYrU8432hmTiQ9P+a/RXj2whGmqH80OTLRnSdfQOzH725JKzNZGkI79Q8geUNJto130ON0O0jR6Dxp4s8VsGH8SI9hEP5Gg8jxB4E7yEx3fQhx2SWPL7DESWSEYqygsdoxL6mgNREona8asdQiSMl/mv0Ts9mexpO6T4kMzRDTdRowjQe0hN+g4w152maLap0PQ7SHeNiXMjMcd9nmDjdTj9TQ2HTkQaE0hojSNIhkQyIRC2wigmblRw09yCEQiGQ1Og0EZl5qjG6ISXWHZchRY27tmjG+6CTb3D8g0HmSiF1iKxyPOJYc36jQwlXbzI/62JdXombDls2mNGJ9k/w36OxtZNc0IsoaM0CGRCII2RuuzFRePp8UODMWbT/CyU5sH41lXH7b8GkjS9C6IaQ43UisCOwwWbmjRdCExEOLzGv+ylUlnXyIbw5Gk2Am4CVn6R+jucW1+gucB+76hzN/d+B6pM0EF5y7Zv8AHWnJP6WCDSQ23UeTOOuexShbqGV0kRWZxFGYgxuZHduTKb9AWOk5CeUz7jyhqE7z9G3QB7H6D2RZ6g9WGf0bb0wclmLN/SMvyV6H+HQaCG2/SJNldZOZDAiR+8eD0iPCxqfIe5exT/rGcXcR4oT8F5HG6HZQ/EZozSmWo/HJ7T5jLaEwoWFjnMzfpiZqVwYbH6C76pcG5PIeb+83HoQkQip2P8t30Pf/ADnvRshECGRoI0jSNJ0NJELb8so2Q2H8A3wH6GfOWJWZqI0xphowmhNGd5GucfoeAPDkdgJxtiDWGvNea/crMdCSWn+hyNZE2CvDElj9F2eIOIapDdULImjNL1NREr/TE/RxjRZXyRa5MsBphocRGi545ps4plvt+0AmEbJG7+DVibkls3mDidRIw2JLspozQmmNJGkQyIEIgjbBBGyNkbeEg5BMZKZ0WFL648SEQiGRpjQjy5pdn4y5nmztsyz1/QplaYJxuQ4xDi6kVyhj0zsLYdGLJEon/Dfo/dIexmns2gQIEfivmPB6yZFGmMvQVt4Om7BAbboPLjYW/B9SCt1dnwunWiP5htcHGjC+ZnvyZBcc1PI1RMwCdh6mov8AK+CP0V8+D1WHWg0SW6FsnucIRDaSllnWMVkaGWcNZbugg+wUS8j9FBBDIbrqN2E0h/0yKww29o1h6Qml0If7ILksZfIiu45GiE+yidivxv0fsUP0XzI+L1XTtHyEqH8Cy1Kdt8QiMaak0puozHlMWnkI7hN7CwM00LwMpFLmouc5ohIlEqtd18D5MGxu1d4h+hDbg9ZGyBswQ3XUuhcNwMt8yGwx/wAEJj8hYgd9mcWpPIzvZs2l2VojWRDMn8raGoNUmZLiSmk05T9F8x8HrGEZsSY6HKKkFbzlUmsG82LX4jmHBNalySoma6ZSUnFXNu6tqCb4qj4omEpcSY6jllejoI4F3SchCyzX+RBCIGkPJGnG3DtBrPqcDzMkNSdtD8U8MeGI/gI/mPEnYRnlx+ogUqFrfRNUJpqV6G1cTBwIZmojREVylsppdm1tnxTxBHbQHmBnEjV7RUPssqlYnv2HWklSdRH0FnBNKuklgQ0E9vKsh0lSELcBNUF0ttiRaUkK1td5muiVmTtVJrLQMTrCEGGH5i0NE4mliL/gVSUrF9BBMxohqGucboaDJRIT7J6A0UV4pbWdbs5qTMOgGqxZGzaUSMBpjRGkjSIZECCCCN+NsEbsyiVORBA0kaQbdjaJq9R3WZQOvMSLmEGkJOEt2jDQz36mYKy05bAsiaUSZkr/AGEbGSaGnnRsGkNAgQiEQR+DBxP19e5pZrqLXJ4r8NxJh/UiyVc852QtyEaA3YBtwmkPI+ZHYdcJGMTkDRm5ixCj/ITM+mxJmETcBP8AmYdo/QYOJ+v+BeELZkrj/bw3+oJkiwUhJPo4RooeQG4a/UTVjit7SDEIMUWN7yWcz5E7AJtlIZ/4TfRGMfoaMvP/AAVGTVmP8TDNu8SrMUcL/AhGiHkhvwghgrmZYQZuQoXbEZz3IYhxuhNgNQhn6d/cHsfoLgrv8KABdbKfh3GPc9IIQllb/KhEBvwbJpmoyWBa876I/kJUaU7rL8uQKO89DX2TRmgNJsTTnlDRGU2+CI4ElzZNIVppwSz2P0XMkMzW24a24sjF2yJ9kWp6mo2ZbnNq2X6Y77FENYaw1JKYCKLWHFNQTg5s00yMWbeNmBJgYm5cSZ1nTT/YgggQyNA0xoh5TZWjNOaUiwIQlTURF0GPIDJNY0RoBmZtYu2Aml4RTsA9QjKchY+xbnjr25xttNES8BomkaRAgQQiCCCCCNkb0bYIRCIZGkaBphBDVosnuKnYhECYZb7HzhYy7PnMZwJ2JpxNwmsv9u9DOGasyVJDzVmVbKzkJGAWSNAhEIj/ADNH9xKFsaBN1DdVgTjvwibA0hoxlFbqGSxHg6bCK6mpKL9A4grRTTifZCf8/wCDtk9BY4HvP8TDeG+A1fR8C42geapO9kjF70MEMhuwGjGwRVuoZbjVZOgoZtnjxGvZKZgNdE/4t5o2v0DsLv8AELKAVkMpzd1LYqXWJoMvWQiGRoBvHkCF02XpwYizGcgxmnsCfhIZkr1bRyDDY/QN+w+Z/wCJcEVTFYcTUXGVCG8xlnKjRf40IbcBpB5A0wZEdtlqcw1K1kQnig0ujZNOLLEMyV+dzaumvklT4VWK9FWfAtfEkkhmaxqmmNYaFccRIRyZxTiEs+w6v8DJaheDspYzizBTsA0ma22bRGsSv9OCEQHkI0BpjSMhtcyasWr2bRmiNg5ymi2Dvs05pSWyQ2lk23mSNo2cyE5U7sko1BowGrsdBkswnnTJEZyR9iEnjLySNjpEOBoGkRyIECCCN6CNyNkEEIhkQyNAZtA0CObOIa4arBa0QYLYtQQzbCULKGoSv9xS9kOStzvkPYlzxTkSbHanbFA0DSIEIj/QCCEaBpk2wxzZJWchEJiNOCI7im7nEE0J+AkxX+CvQ+xPYCEaaHM0slp6DELDbkjCaDSghSJzA3/owQJ8A3h65TYIrOSLBYsHAJeAkZPqV6H248v02M//xAArEAEAAgECBAUEAwEBAAAAAAABABEhMVEQQWFxIIGRscEwodHwQOHxUGD/2gAIAQEAAT8QcYo0NhHcWMEfOEiwOtgt7XLoWsW4bURzMgAMW/fNyuERNOC29yXZZSBDH2NJYCLatKrfiZOIadDPKSxshpAlM1SuCkqEdZbxLy8TRJz2cS/Ss7kdtebLVZGyiK695cLcsSumk1xWLRDQuFCMRaUuLcLMaGiHODwkc+CS9lDFxwLQVFiDmWEwmTLQ8AtI0i9tQNkVWoZy2qydZ0o95b/tbpBs0eaUPHG796MOh1cfiz2mn9iXDtVHvGX/AH3zQwH625JS+p++wegen4ZSYL9wIqV9xFnLd2d7ZXBPpOsPosYxInBLmG78XgkONyaiw9MS8dCWqOfMx7aAyYUIzXvESDobtHeO1nZalSyI4AV1qOkSw85bmFot+YRevVrGZVVbvvC3UwGYwBuw6DnnBAzKVKEqyiEKJWowyszlShuUwUo4RQG0owhrMjEtNnVwWTgjsSEzC5BHKXqVx7RWJdmO1iCq3qgkiLpM5ZIlaS4ggiBqJvCDk1aFfZABHdFB7SgE9VPrGraWKdz1i/aF2INW/OT7sPXaYX7sXaRAUdfcWUFpva9Yftnf2oi+z3jql3ZRKJRKPBUSVE4kqV9F1g/SeDE4jhZ4EONBlpVG8fUsa616RGGyK3cswYpSSnDzgkowN0Mb82z2i0wx0UJLeiKztXF2Q6YC0tiARJyjiG7/AFBRNYAoUL6ONKDMs3GifvCwPYYzEgGzl7Zm7AhfbA+JdpzVXREtNdcQdx60QDGJAERcpBkEhKkUkGqBGiNiXsjlmly1JCLRywToEKEzaJZpUSBhSsRxETCBjKR0cIamkH+9GtfYvMBBZR5wDeK2U0jIrDcxeFXam3kCI5bVMw0xdx7piWqL1l6MpgryW5QC06q/QmpB0nUL0qn3gOWOnxYev33YJr/bwNJruuiox+T4QnM8w+EX/Mira16sq+KpUT+PsiZdt+O4BMNMQkBg8w0IJbIvMu8bfoMYxjwt+5r4BDgssdHNMMW5hi0lzRq2wCYJoruTY7yjavmfAcLgWihph7LBAmqOrlLbznnLIrBqvcmS77Ne58s46qbTHq5qe7fBGtivWo9CPtBXkdo7Q9oGS388ctFBu/f8Y0Tz4UA9H84v19FIMEbX00rU86Qub3U/3nCskwZ9z8EBc/n+SAFHmt7zXpC5EXe3vC2/VMDKCmdXavxT7TQ/EFph6Hsn+smrjuzO7KiSiUSpX0n+SNYIKrsjoxiDhK+gj2Ka66OSN7utTqoK0ZqUVs/IUWK17wNImYX07EogBkpXNNRXpWnIXjAPoidlzAYZEGpKz9w8B7Kyi4YTHTi8GPC3R+V8epchhqgHAOJbT1gDH0nlNC0WPrczECH0Dxn0jxV/ywAd/aDMHE0JS6GBwsjf/KGhAAC2GrFN+2/FjmRgb0Gs5R4u2580MUp5Iqs+pAhuVar0jxYblNnlBQYpS3mRmsrCdgrwMrOq0xkpGNCqaXnGtJWEGiUu+3BjGMZ5mvvHxiOK4W/VLKa80PtZ9ocFf+J1AEShq1HSLgCaMRVrtzchy6w0TTnSH/Agxf3yK1VO9J/Zo7OJpct71IXYfJNd8rPtLEfkjCKecVOUrpRgsKNEijlM2toI9OyrrgtfBjHhbt8QMqCVOhElJUOFfRZcWcLqJV37Xj7T7Ih4VqK/++BaCUR02Uzbz2Zqug2QcPLKIGijbrija3dWCsHygGnoYf0yLar5J/m4/wBQmqDyxVvN5wgvqRoKgwwQ62vP0qAc7usCYnps8kBYAbFSsHtBZzPsEjDg2I5jT7R6w9+a85oFDwJHgC7naHxht8J9Mh4IsyhEOgtpHje3BaWlvBcVRX6J4z/mpBSGAuFqoXRcVvUQs2Wn3cUFoCCWhOnAVc/D6DrDwrVq6ES7HoPcwagQxATZhVNxu6FWTAXvGj2p2Xwseqz0h414BnNavjuXFC/A8QEGZ5a1lXa4FS0plpTPKBD/ALbAV6jkJYZLXM8HZB9TswSxpGtGvWOA5rkI5gxWpR1aXhldbTQMCaR3oXIGApVfS2GtIg6kR1E0d9EXwiW0dBGcx+9Y1nzeIJof35Sx0/Ngp6ELGhfbSCrENY4iNzsAMPWgAPBQt0Iwz7PL4MeDV/739An7fRdSqZY8L4PBlMxzotpo9pZwUlOC5bLZbaW2l9uCn/WB/RmPzk9TwYDjzCsPvCLYjNySBzU78wlVMIlq+girEZXkzDEGFGO1peoLle6s0deSCMH5HBjDi8BAtD8iHVsCdnwVFsm+EhiscAYxiPQ8QycLkKoX0HjRwW3lboIqEXmWo0V941LZXgpKJRAlSvDRwJM/9NXyqnZtAUeDC8vQj5QjYnEPVMdBJ2ZCRa6jWWLgL09C5TsIlrT49RCXuJ00R1gDaE3IgiIIlJBIqT0rsBEEROScK4+tzraODM3cr5uvFjGOvHyiBQpsne/jIOJSQeLwJlT3Dptc0vEtSsICwXB4VKRIPgP+dqGi3za+YGhGl8zXMpqyWTHNnoYy3px9hwFjCA5NCNJpc2SuVcrmRx8NIuXaOjmmi3LPeKSFRZr0CKLgdUT1lms70myDoILqXa/xLPzmcou0YVvkSDVs+YQ5qyG3c9UwAyHurCggNA4BWQyJLJJ1QUeUGq4YNTvKVleB+wcWMeGHXIfG+tml8ZK8GjwbmduGrGwXf3iw8AuXHJBRUOAj4T+Af8LcNvSJo7m9nmTHRZeoUUezMCCNic5buLeBAgqHqMthDRa+80GG/m2IERIjZq5pa9COuGusadTySIVuaEiOvkNz9XMOUWSXU1DzQP8ASRNoO9LwF9/ULfYYTbB80Ct9mXlov7hQIKxu1joOIV4GMeALevtIx4H0YlcXwHGpimUc6vvBhKJRKJRKleCyEcMPAw/6OjBb4L5vanZhlVAvPlHWG0MATmYULV5R6xqw87KgIFdAS3d+lbFkgt6st+mxjwHYfehjwPBrunC+JwYeA4nClofc+YaHiSEHBZaEIkGXFg8D/pGgBSMoh6Su24iAYrzu65aMMAC6dT64+mYxjwt5c8DxBWgWbsG6r3itD8so1bPAEOKTJL8FQ4AbzGriBozKZmZmZnhXBiWQEuYZREhDPG/+l6naZhQQGgfXGv1GMeCruz1IylwECVjb7BBFH1tnoQhrUzjSLncFVgBjetPeVBnjU7cHgeNTLEttFwHBV+PkQWtJmVARaX34ayspKSkpwXUvgH/dvxKEBzIhRJ7x1heSaQfJCLX7Wwc9EgloXRx54i0thdDgjono0bYTyvRRLVewZlbdb6oafkxLIdsD2xrF7zcI6L0EG3Iwyu+BjFUXepOqwYC9dM92NXpnqvOZrcCQID9hXBjTvjwD6DwCBKlQ5xM44wkGkPqspgV/11lBrEStBrkh1tXQMT0btmW/fRKXt33lunoogx3xfaK6E6r7Et17WTnAdRllt3QoS+J/blKK+5aUf2rtAsdft8wJfppBrU9MG0A5URXRXV/BP9qF+T5mL0pdpcr634S3ROxjdj08eX6zLWFOsXPufaTJCc7F6QpI4QMiNwlBObYHfOWAVRafZEIAA0DwvPrn7xgfTDwoWHZ9G4aH1q/5qhE9QRpKUZoHnMcwsa7FGDS0+YmxfJUfMND1f4ZQw+vCb1k+YJoPQCa4q5B+IjnuclwWe/7yhEZ51PWE486y5LuV9om90R0YRqV5VA/EhCy1d0hzF3KBfjmirywNV6bgt8L4Hix4CgE9HGJjx1ODH0iHhRoitD7w08Nf8hSdSU6+oTVvXmiHyQPM7Zjyl7OEmr4kBC9VNqEbld+PsRoX2KRTAnYT3YH7aS/Ao/aNtfOftBVtu/7zRp8h7yixur7cXwD1/CJYTumXMNt+Vij7IQDrnQEDq7owLn9z7oJheWYIDsBGirV9Ua/UY8fQJHTxojLXEQDl5kAPZI94To82n4lDl+pJPndo0OX7L8wH3g9mVFO5L4laA+8U9XuTqaDsHxww0ZYRdP2LLvwYJVTl1aOtYOpDQUaqsP65BtH7Bn+1OoQbmQDoykCuJSU3lJSWSydaG5OuRLVJi1nResz6J/rTpZiso7kdd6Kf4yf60pgWUg7Mf6kfnDM3nsTB2hv32jThXo5hFdlBNPMD5mz5w/MXceuTyx7mct3j+CI/zkPi8oam9gfmJtJ5BGhsboEbsjzHtELS92bPWqwNvrF/me8EoXYLbxmJJmpO7wGbEbECFd0KPO3kPiGLzJQDmd32FmkryQPQPJCjSZ3f49O3Dz+k8HwA7PuTkj4DgfqW6A9E0Ls3SPKPy/iPIPuP4lDjz3iOfNL5Ij98o9maGY7cNJ5Yx5ouRR+5AsvZo9yVlLdvlqGt6/loT9fyiC7dknf+5lthef8AMGCnV86FXk5TfOSVqeRgK5LyPaU0PIRYIKDMhiIomT8uCMfbk0hOkLM9qb5QecVXK92aWsfOFrz+c5MO6iI0vC6KxvXQ0a8qQSj1Ga+duxsq2nVk9WlP5BFa3WMMkperSAjNPWTQ8lBxgbtE1j7DBOgycspZRPQRYUu/4EsMC9E+I8hbVaNhCdQXaCnL8h+Y87043H8wgllRZqnf4oPn91+YBp5ioFXK3LgX48NF6CAaAca/4OAV0C2YQRsSzsy1U+xydtxRUG0ckyOkaiHCmiIC3Ks3tV/QYxl8GfNYdI8Lh9i7h7pdgg5I/YmI70/JMF1trWl/SCEqV4CKlqzqs9YaS3edRlu7Bd5buzqp1EF3YpzZbuy3dlrzgGilt6st3Zbu8Ld2Zlv/ADmA/MKYwuXMDZaLFpY0WDOlQt5g+goLUCwt3eDXfufMBUIo54p6sTgrKUwj2mHYY+4Rj6/kwAhK3Wt8iOkJB6CuiYdxgxdZqVCrGY8t2WjijXpLgO/Pgyq1JS8mMU3Iu49Y7T1ln5CCdC4hzRjAO3s5yjHekqXSpP2tWC1Jts+rLrtyk0C7AcLV9OoeCp9swaDiOIYEuVKA3UQPtws3hGEdQwEOUDR/5R9Om6lcyZ5FJdEZ8Lpb1PJg2YkZtsTRtRwDdIdSWCzWRyUZuVhgtlt0WGS5TUu+UB7wrFtTRYExN2b1gOYyoh1VIGMLUaWcO+8Oxjn3YX1SMLSsvdL4INUg1i7oRTcTird0zWecGZ3BHIqa0RiuiVKbQaB6RwTWpmWjFW3ZgxuhCUASpukApze1xu3SvZ2lQjksAJY+ku7JK8+gluM1B7cEAcJQHGfKdgiq39vijX7sFVVff4WLleb/AHzefvD/AE/m4ECUr70cVyhF9iPzLn2bgtSghCuiQwwxrAdgiAK6JYdiABQUbHhCC/okOLAG1A1kFWO2GyKpY8PtIB6dcRbIKQLdZQuFlrlgU5KlzOYRUnWGm+J5Sk7DPEKb/RS0sqvo1DXEPNCfe/IfA6CXoS0TKB1Pqi2NC2pXFrYGwJ4jUjG6oE5ulgZWpeUlK0L+pcfcKHq7vVOcYE946wY0AA9fAsQJGqC0g7mUb3mswq1cGVpG1KHJJoUjKKy6gqfzL2m5zrlQ5rCKBtgVGmFtUQS4kpq9jtapKVfDbkWsGoTCj5qqqg1jzJU1UgAia7a1LdFGkYHowkg6ntuXNp7HsQf704DL5jQHm98wWj0zDTPsSAaAdiWnNLd3hU0y0raNVyHVnKbtOWI23g7lnw+ixjHhU9/kQuZtqPiPpHB4JXXSvrcdxHgHoSrTgyPAt1hNO8oaoVegdcuQmoLq7Y0lmG7bJuOsGmyIIIPIWojG5HQjWZSCU2NVFxWbP2QXQd0ixQVAcjDef9pAgDqB4Lxel0Kcrc4O9O2xskAiSgTdho7bo3QkQhXVMZ1CHtEhp4tgBlI44IC1a9ZqTVG65skySQtlQBbpAMrtfRKzQV0vQuoTZLQcjVbJLMvZMY5AwRxYqejmzaAEALRzGPhNYwG1PRhRAq1eLu3hC86AHORKPTMDshlS8Bs6KIKCoUyEWZ2Y2EtVURhXvpXusb6ZvmeBp8pQKGSUuSZnNdUBJIBOQrKUJkGsIQKgaCLFJftSj7PxHRdynsS31BWSzRNmWgsVlUC9Wys+Ko2yImZVzF2i7relwEqj3X3YCVd3L7zRl2MBsdsS1zeFfRrwEEK6hpqbYjLSFlYS49eDQ5yC+hUQqAT3MPvFDUh3H+XB8JnFXcgtYIBkQSPBKigAAKnQAtZh/wBpBDfZPsjDJ7R4nEai5In3leQ9fsygfP8A4Inr3xfEVV36A559w+J/hyGkWI+k7RG7fnhyG7S/wcGyOdkSKi8WAmYGHUEBLFMbwdsmBpjMH4PgF6lNYtlPOUmWafSf406r0jyWdiC61tYX1sqEFRSt6joCJThfTR5HrM5LDFMtuwg/A+sCZw8ArGbZrWJ34NajV9CUXcC2Uc2YrMZzdFiAs8rFVvDBPUvFXIG0IqIxgFF1or4FlTRHpBCIWufIPlMtW5nArUjNZeB/NSBVii83LWzRiYzQf1rG+svazjW9hUrSqAHOLNxBEn6GFFLLJXe0Yi6lBZqabVujfOU3tsaI73BE40gFAdjrEhrrzDVIiAgghs5RxNURGs4bAhpAmoA6r7QTRPKnsGB7sH088PzBuX3GEb11iTamLxDVJHXjBCNNQL0SY7kXVlyHUxqT0b3YBo7mKFvM6FLdV7PsESV35ToAg0ciLXEZcVXdFd9rg1zvNUHo7YCW7zqI34QmA2OlpROcCprS3L9ay2xZVnMvTiIG3bYNJwYigc466uDmVTwtzUPSS3ydiNeqKoBjyrbxa3XXKHJUEM9AjwyabVoSrXrGRRpqEg33Vq74DSqB62W3QqW5RrNFML6QMndcCEBwcHjiwAoQyhpMjELNFgidanZMXEFwK06eNRfcvhmXuZY0UltVcU5PQiuq9zHXPB1icDJSU/avJw2PX2Sf749mAFH6vWDosLcfllJXovZ7wLRnaR5AeR7MA0itoewxgfffmV5BQFW45msyZZgXn9bVZcfcsZqiglI0RVvLVQ1G1I9hgVPccPAupT3qIqWuPzUxXX97rP8AS3zN4/d1gJj9rrP0r5hU23o/lnqPK/MAKKtlfdg/y/lP85Z/kMJwHT0zA9AgpZXpACqBNgE6B6EroTBX3pfMvBUolIrRW4JZMHLtcf8ABDAF0UmG/YWrpWJzDnS10Jicl5jmxrxSPN4LtR6qFcuMabeZr2yk0tz5pXxF9U/22APvMoeRNWnXBsg8MJu02cI0aDoRhiXaFWKU5kpqXLIU2jic2B+s0PSGbG7bvgoCEANsA2oSWyC4hbABqk0jU8uJA1GuD0ivsY8AaRutRm3QK/tBZ2IB97g9nTMv2goPoBA+h9wiN5cn1q+lX8A1ir6B2Gu43z+k5bZ7gQtJZXei36SqsYNhAAPAJRd6gKgSr+2YbTV6oIuckIiCJkR5njWxr9WUBV9502yim1imsI61bDxE9I/JFVO78vAaudZQoUxiW00D0cQMKQWubAetY7hEJS86gRpuKUI2KJzrIsXYYxyptzQ5EQMtSk/slAOiEEsqksuCBDOnjMVG0MMqgGkPVdZBIKlrMwTmhzgkETVv0IjGPcMMJAtmAdwdICt9BRAt+0u+hMB0JY3KzPaKugf7nQlEXbguO7HdcbQEB+wDiODx1D6OHbYJ5oHp4z5bBur9ZS1BOR2T9AQg6IC9rjY0FrDrLLBpUzhpLQ5PGNMF/RZIHKaDAwafRTykfvSJK81VkPMikbddQVLNkQELOWJcBqyNHiunwlsLjAhUFJCsdm32MFo4H98pn7yX2GrVtGbskAGdQDWvNilbPV2/mOYrcGpgXlC7Hlz64VKInBBqxLUu7NYPyQxFrpt4xdbwiHobp1TkhKGQyStSeiMtat6CLvweBY0ITgDl0M5kwJJYJo6Ev+6T4kb8y/PkTLQodCL2pFwFCow6H+n2ibxotgMOcvdovWVI1QxtN4uC1Ip7t0bbp8s0J4rBIaQvKVFaq4WZFIq82WmixV1WFY3Jp7GU6N2X2Yu1auAKAJd+iAIXohLqQtT0EBCTY4nEcHiDgH0crNmIeTqCIFAAyrRGlgBBkRiUlETvtC5JohZ1xZdIgUW6tcMdC7pAWtiBbRr4jHUaGtqJFkd0b1LDnDkYQHqwt/bHWdAfBLuFJtYbdEf2qiS2I/KtVwSjtaAKQ5YKJwz+jWyXknWZOg2hU+LICV1ULAlbkSztI8kIUwrpRrc38arhQN7phxvA9iYnSnlVeRhPFk0KWCWhULzHgQWiHSPNiUHTtDYFz58qsCDxW/0ikL8po0ULdRjWvgWwqwIzO00ld0iN2HlmqH5Y6LRBaCkxAohURGsUZYsKQNAieaJTQTQQDN0qCF1cWa99GW04qinSjQYAs6jgNrYHGLkEMEuUKudsBUsz3iBrLt1oB8pcZsXkmjvsIqyvo6nJ93SLMx2kirrXdm302MeIst3LLbyeJxNDwkIcb8b6uUBn1s8+AQhSJ0SoHxQUCrmEbIWxWsy/8qrV8Lmtr2oww1yCMtOXKiOaWUIRj9KI6Wsi3II4C2t6TGL5rIwaRESmK3ajPG+AmzBjc2BAY+5FgDToOhMlFNwQNXCVQO2oMdqiXz7akMJDMm+LwXmRlWOtCUVO9mRPvS54p0VCr1LTtbrglSmBa7uimDpwExYD5uIhB7ec2UxgFtPwS2wOu9wlAmFHVgDKcToRy5DMzrHNY6wXGOsQ0Xl3ZZnACzpyAmjvuJ9wQIjqM0vwoJq/taJlUam0I0R1NXItmqUSykdSijcNpAxbRCU5xba2tdWXXRdn7XBdD/XkRH3JPYmVh3gJjv3Zzmp9rYwNBWZZBX9Ih9yOJR1Xb9kKa7v/AJlNXozQCgFQ+xICIAOtZ35Y/EQVNghX8Z0+q8HgPSYhp0pHicQZ19mcNip09hv7keQfmwGr9RZqZ1EbKzZ8wfZhvXcfEAaefL/UR17Mm/DI6N3i/W/mPJ/S6w5v6HWPJ7U633lPMcvNAncPsdoNaf6yx8ZdV9kP5VR9i10gBnC6N1uBB5KttY+RqNwnXPq9BcC1yFxJaSzLA7lUGQ27LdIvUSl7R5OSiQJ0pj0lU6mg0OkiuQ/baPI86YszPboMpvkgqH7GGi025I3dqZqZ1JjlSXO9ck1doVbowD44lEGJmBbW9Mqy3kdliz0VF/PCcKcVbzjCsqQahT5EMG2pa+8dL2pvqg0jAGwTmOpFr5iqdxUdnACqmwI0QcIVhkvlCsMFCL3wEJBxqMIXCqOFaTNKLpdndmIMJpg+80bzRYE39hAqB7QCyDtIVYXYInQpFXmypRK+tXovZUoid6KIk8iUABQAOxg41/EdJt4XwvBjx+wmIH0gIcD6eKejDOLm+3CuNSvBXjN8rMXZVe0RDXyF08bUPwjAruP/AHNE2+ox46JYt2eCov8AqqwQVWygfcnvj39oemb874AhCV9MX3UDP1fb+BUG4Nb6hXaSg0KOR4w1Ukpp3Cj/ANanZlkQ1LuhNAXcpqheWIv5E0Az0FMYj9k+IM4kukl0ZB6RvIe7LtR6fmDaecMvWqHQT5R/rM+aOkGz+l0lhgHq8vMnDE3b3jkm6MA2knQWUa/suQnJRuh+0vvWRLr2I+2C9BNVZ8z7RDwE2HiIQgfUVSpr7/za/wCDfCuk1Iu6S3pd5Os9KxEvPs3sR96jAOn2Xuw9wA/M0wILHBd/xJz03JPBHE/Rqy32Ki+q7fEQPvv4EWq0es8RfVL+ZntZ3HymimBph2MC0HyIlyJWkqUiSpUrixjweDG8JrFQ83ILW0TgcDg8CEIfUteUJ/y74CaKdROgxLUHdminuZqkQDPlWjyx+mwR5Z3l8Q+w1S/3PvGHtipo37BoR/cabBEZEOY7ofdnPAdLFCl9j2iXFd/Z7VL/ALxfmP4XufKaG4aGewEMaYl7mUSj6+jgcHxPBjHwED299Y+J0YmrGj2SVtdSVPsMOdTv+KdH7h8ROrP12iOte/4Z+5/EH/b+07Vv/TMiJ/rtMNjnb8JXr+r0mP8AR9oJp+ztBtPVYkz6kv0ea4N2lDR65MRfhz/KcLhdG7NP8tBtH7Q/w3A1LWd/hJ/m5pxjaR7KecR19Wf7LP6a32JzR+x+M6h2f4nRfr0jv5HlTG+O34oNyjR07owcKWGhJ5iDdPSHvF+kMfnaRkx3E4H080psHz/DB+T3EWrQ91FuncJ7Rb5Pmoi5X77y72TzePsJ94v9kYqZ8kZULz0fYi3Men2I64d43+6PzMlt+792C5vcuKWNgaBdoBqD7AgVpOojbqrKlfzngfSY+Bivpn9/EZ5sF3YHp60TzQdydVHcQvdmZbvG9blTWdJ6SmxADaf5BKckMcjeCm5Tlbkr09FN/wBF4Rljrt9O8NsuwQ/p8/y8/wAfA7oOxn+Mn+QQLk9JTYlbD0iDqXLd2F7pe5OonUTYUvmU6jw1K/6zwPovBjxYwAGlvjaoIfXiuGt+4hx/4SuILoPGvpV/xHTgeJl+B8DMDt8RjC7J6RDA6ox9hH1PIvpBldKksyl39giWwhtgfWdDuTT7PEmFFBsS6Og3sL+g6IO8p+uWLI8z2gw1zY4cvZHrWCFfiY0hfS/FqyzDzIenK62npB90h+J86J7stx+gtYsJdxPuf5lks4CcmU3NCPkmiHuE0IyT5/a3tHkt2T2JYY7w/EfYeOJpP3uzb88PzF/dn8zm3yftcs9x+EXfOvif7PM1z2Bw/VfeX6l2kV1LsPli2qOzm/5YRcp7wHxN09vYE3/LJ7E3n/fSU5+vjs9UzY9JFem7+/i3fR0+1RzadtCuk0c6P+/MFfuEuDSvCQV9fQK1PeH7XgEEcSbctZ3WX5GpvjdsOL1dGkSUPsFZmqWRd1L8YEA1m7OmmMM95R185OjDlChttBQaTFzm7M1I6ioVj11VABuAmLRLHxPmYBL1YdECowKNS9wi6ZWCVEaWQACSJSYmS6WDXsji/wCNLZNiG5mLjOA2ISl2FBAjFeU12U9FNDskczRlmdKMs/rBy8DYG4n2QjRHQCKrlf4GXkynZjRqh3alp5gU0RS5pfo0jfX6qaQm0/4b7pP0APOX6V7H2GXNHUq9hLfL9DpH20T3hZ+tN2GK32Kexn2hDnd4HtUu+8iYSsdV92GgN7TQvQM0QpBaH2BAGkt3lu8qUcKjp9RjwrgyrrN9sTxLMzmBL+tl+nmFtnmx58Lz7CpppmZdsgHHIsVaIBUGjDzLwuCGSmRKaQXnEOgYNZ9EK3K/soZqLJnkA8qjWDBZyGnTpMsOAQo0KTVM1BoGX3rtVgwYGIiGBuxauwYsuZaBDBFd8m0UUS2OzfjTwrFglBdHOY2Ko4pLegJXTG+N+ZF8gGwI2ZmNsrzihGa5dR0aDKZYYediVBnTLcHUGLjfFA9IVSnRgeyumHLfGZsolBsmIjmrbUCU6bcCbiX6J2vHIRKWjG2i3Zo2k6EA2i9vxwZ7ETdien3YLp5oQ8rzoi5cKWaB3+KLjHcJ7Qt+qeRK+I98ku1Ds/mOlOvyVlurdoryk9vZRv8AfU9ggktb36iyw5rdxZoXrk0QdofZ6BKOaK7v8h4H03wM+0cPE4r7CLg0/tBk1nNnJk+b8FAmyvx8w5hv4iP9zFWDXoHmw5nrs1Kju1+bOs95kyeRyiaDk5ncnXwCNcG7XWIWPGDAQ62J+bRBA0cB5BgQaAx6Q2SCAD+6IBu/q5rAN9qhgrLLp29xgz90bPepKTFry7b3i8LWr59spcJpXTtSNX5BPoWL1fkI9o/qihfCvlikVWnqIAh88I2SyrU2ZrdRC73lrIjbQL2WCiC0Cr3nKSnVPmd9/W8Cop62imrSBKJmifs9Jpr7fgizan6bQPQuwIKaNQDREwVi7y9zG93jR/0nwvhwLr8RxeA0fwAsxvGXt/GuSL2gtD+jfVr/AKTwPpseLGnX+2seJwZgHc/guu2Isv3r9KpZdWX9N+L0Sh2ZXqX7CB/Lr/iPA4U7MQLVOujuJTsxw0x/r0cvsYk5mI6l3L5j+/8AvDSP2X5hql2aWFo7I+0vlMAxgKaN3BH9W0MG0nII9C2GpLsp90jnL6BR9ZHwZbmDu05phwzf1wNaeQ+74nbFGW/IgfjoCqWeAi1oIyrnZAZar5fSPqV/MvhTszqI9aO7U1IO8NE/eSFvoBmWr+wvYg6QW6vYh9l0HkJ5ptP5HvG156PmWaecUWyB2fgl+ndN7RbqjuE1cHn/ADBdD2/JL9R7f2nY9or6+TBJkuoPiDaF3Mf0x/Epzbz/ABF9Wjk1e8bNR1fzQ5zd/wA8U1t3/PMNXd1fMIL/AD8r/ClURqqcurlo1ToiL0J3CpQMxGSnLnUeoJInoogLYwBwODNdksPqJ4L4dlw2azTxN8m1Ap1Oal3BC+UwSVMiCwArPQEJpZFdoJQpc3d7DAlVz4XkYYZWDLS4iQT+z6o5fdnFZrOCDMQysU7MJbVq81cwnCAIOufoH0Ll/RB2Z10p2iepd0IlqcGxS7/nifwtEtfJtB6H9dgl33N/EGV2mN/YPyZdre/v4NNJF+gfo0Us98ntAvUXdot7B/dnsAPllnsF73DnJ2+KLuo8wehHK718DFv0A3YHq3cuaO4aA4AaH5EAKMECskvcyjhRKlfQeB9R4MYKfcvRj4WY7/e7S7+56TFcMjr+50n7t8cJH6J8QQ/W9OEA/d/afqHxP1D4hOD+8+OAhHn5F+Inr+z0lGCA/pUpdq5PxT+3mh+59p+1fET2d40L6xLkM7O7jhmK2RMeWQS0iCiBOjNCDbkHG9RN/eIC4OYjOD5i4SXF2lijvBRg0ST1Tl6ukM0sdJTOxQYFMuusdQeQbHYcoFRT6++i7T0xCJds2PHmH8y/Tz42aeZBrwR6/hg8sXl9z+IbH1V8E/1nxwACa+cpa2euKaHA55dn+SHM8uW90e35QgqnYnuze8qamvkFBzPJgsewHtIWvWJ+IUX3xw5i9/gSWgQk82/dfdgP7WBfOGUaF2KB6TPsKBAtA7AQQ2Ii+r9eFSpX8F+ufSYxjwZiu5x4HFlq6pe5lu7Emiy9zL3MvcnUS9zB3Je5lu7M7szvOolu7NHKWG2/xjuTcOql7mXuZe5L3I7j1jpmo5zVakR1R+UFoHOdioBooDp6kbdV40QCUSiUcalfwq45zyFIW94iqf5VfzWMYzsRPqcDDiyv4POuw9Gavm+M19Uuzid7ZpTk9PpLlVo8G79dZG0v3PD2Mil9ZSYll5F1dXmvBWuw2sCRiS2rv+l/1ngxjLWDvekY8Dg3zHgfwBfQ+EVhseISvBrYAX0as8dvxvdm1OIzvNL0CPIaDY+jQ5UZd62lynDC5eijDJwrH7DEsFo8WUpYtM6pBMid8x6jqeSlMoBCkLe8RGuIovlKP+HfCl5RHZlmilNpTFIlqXdCV/gzRF3kzbUg7wT0HeT+KLHmy9f7W+xHkr5fhOo9T4iJfpwO/wDb8M5lrt+CI6s6zkdxh5i/QZJUoSw00reHegpMZtSvsIWQrk3faT0TC/ds9ih9iHN7d/A/ge/hbuTh6eIPC+LHzUMJUTOioURHToL1uDj3iWOVkd3aGFawlRcezWo6SFKLp0RAoOxbFdjdE20lQjq9wXdIbz7FULrnwdHfNPVxM84BCmi5S+yawzMfwN6AOUJXzoAjKawuTclaBuwerd48TVLD06mhjHWr6hHC9sB2pCL/ADcfWOSEFhtoQ6PIWzyDGBQFbsA3QGGByrqsNxPI4NWC6RTQoAxD3fPwJniXS5Xw0e/onHfgvwdRP8qIGRiJb3wPeOkXcvmagf67zV/SQZofsL2I++ZgT7+/iXelUe8Fced7iH5gEbSdwl9UXf4IcroyPaFNO8aUj3DHZOy+8KmOyHzA57Bx9kT+ODJTVfu0hcy3p9ifMEltV7xB5vv+Wbj93+Z/YJ7sxZXuTOv2fAoB0mA6SOX9vP8AFSnQOwn+WgegJSUmTmx7sZbuxdzGZC4DskcFM0arHgcGXCEv6T4LOnftNTys8LpgNiGrBGLYZb2gDpogYtLL5JHmPvhCr7QsRYIqvo0XBAwUqNXKKR8WZ3nGliAKuq8RSHnnMYG+cNoHK0XQjby0AAzo7yuEKWDBqIQgsA5jPKK0U2C2DbsdM7tiW45YWYvWH6R1UDC2W2P0jNIQqh6KdV7LCzpUyteTlUI1/B0eaa3vDQQh8paxjYNza4M8qm0C/aGHQyAHJ37EidhlYmzWRIDcj8KujZKaLCFKoMETJJdrQMGjLj0DVrWKpiDlhXNsCoqNtOi4pPNMBb08yAsxKFnRoSHFqwoB2UDNB1xGhr9vlGvyzgeqQ6J3Hso6d5sz0Hz/AJgnI7P7xbqPb8mK8p2gX2+VG7U/1sQO35Qe0Xav3fwEfvKhb91fzFLteq/M/vLRGwMtGKQVAOgIE0CFmixV1WVKlSpX8Bm8NPqMYxgNnJOB8DNuvnQXZD/Sk2Jb/U44exzW8qPJHrD9B+Jjy8AtX7/gn6l8S+7/AEOkWMehz96+IvqH6WkSDKjz29orEGl07Y/xX4jDn658T/K/iLy48q/iDhX0y+5LgeuUrBGueUDCAdJi4PUmiBa+xCaaqlox0Q0LzvUrA21CO9SFPUjkONTPvNe13v8ANCwi0dvoFyQwpHMTuLUcJf77xdqSsoKw/Iv5TLfu8N6B6LgKuJrbT61QqHdszZLsHBYBgOwSoU0gjml706v1md3jRKIEeEGoh94aubwk9ncqLBkdQOvgK/428PA/RYxgy3VJHJHgcH+Ed2GS/rHgP4Au1l6nYOZEb2XcAd/r14+oaI9SS3m8K/5DObD6T4GML2n9BDR2j4HgfwNlpIhj+q8B/wAOv+e8D6jwYxUpyt6CK+2jCH8T7Dg+/wCif8a/r3L+nTszoM6zgjqXdCIan3KIajDRl3kjh4JA/j7SrX777Ef3P2jc+yDXl24Z8M5+34INp2oDz8GG7Q2n7Repk2/1Lt16I+eHDmsU8nziDBmWseT/AH3jzvLvNLiK3Qp5qTSFeX/YixTbRJh0Hrp9k5R9vdNlv2J9siuXd346ly/pvE4a0tHR/O3L8dy+kzwR2gvxE/zorUV3xEdS8yJlp95amckdYyevomO69rexEcIg217RbT2Pwxox2kzlOdHLfDYs1Hf3UWl09/yzJjzgl2nnfGQT3lvaLtD7t7CJOHYGzpvnwryuy+YvMh+jVYKZPtE5rdi+Jfquw+0Nl/p7EK8rBTVYq6qd34mLfdH+Z/cP8zrPe2BqJv7UTRVALSJUURAdA7An+agegOxwsl0staqVKJ58ElSpRK4URiEqIShOTfSXAKUWMRM+B4Qf200PeiGvqME0ftc/cYiK+mw/QfbgoXS/78yUFoSZyPz9svpU/d/if6B8RP8Aa+0y0L2/BMT6TPL01uiwcxwsC/SC7x2gPp6iAmw5vaRhr0H5n+V/MeW/ke7P2n5m330PzBA/f6zZ/Q6zZ7SHy8BqOhJfT1fhm35n4I8nzB+IJyNsWD8ru32J/afig2p+f8R5fmwqmaeudKmfoV5s2R7r8wqz5cPSe35QL2c+rneU9l+OB6t5fxGKt/7L2je/U6RXVe/9eFF33Se/3yTdTv8Akned0+Yf3K92A87uWAaFL9Q/pDSDsUD0HyErtBdDUdxLd2Vxo/mMdX6x4MuPf247TeT4GBfiIaWLsQLQfJD+tTHWLaoCFF5EpsekDhi7gONSoruwDRYqCsqOmbXL3Mvcy3eZ3nnwOFSiVKJRKOJK8L4a/gV/Dr+Q6w+o8GMNluoCfDPA4HgPpI81L5d0foH0DwANWA7WXweGDeAXzfHYUeKuAoAqoDo/TEQBVQ2f+I6w+o8GM1O08iWffwnxXDpGaFat2IlcFpMxqHBCrs5OhG+s4XwU15HMu1x5gYXXOvpqAroEMi5o5Y+FcQaqoImChMhYZ8FWXUfvEyhv4mYngDWxjXTr2lcXLUGfyk/XeCS+ETWh9vA/w7qa6epL+B06JFBAGVNB3WF37QA9SXBCXKJtfMiWWVZ34dVhBj11ZaJRd5KCj8xAK14f57rD6jxY5jx6H6MfpXLM7FrDMCEgm4aObGVm0N6hKCvqFCLWVKFoiWudha2CJBZVOaotZUWV+mhritV3Ba/rMZgdCfXhcwzctrtI4sr7ykNtBcjmbiuwQouWhRu1Mov7hnEuI1Eto3il2NrwEJWjvYQeodm9RfqKLURbAMRNQSpuRNiAzvklIoLBQQ1szUc0QheAo3AJun+A5AarHt4MRI94aREhqBgeGn3MlLRBYI3Z1z/AGgVQ3lyVxOuWMaSqMh7mGoGlBSt3SIXD7ISX5nRXaR0QmjaCGkYG5b+UuI8YAFWjJAn5JVVaaRiyxfW61rt6eBZyuebcWMqpMD0jnBcE1VeoOgHpGYGuBhEhKT2XDauwTSPgfI60EBsh6AjCMMxVpUi4BQb0qRNnyyCQOzFYi6UQNJjoShIWlnTx07Q3Ed56Sk1GIag84mfGmjHuEbYCGofrvMdszLX2EZJBr3WIa+n+E2rQfs3xLP0vtHqO34pst2lsrPbTsoJp9r8x2v2MZOXUB/Ww75B5aeYh/T/eXlyHl+YU16WG+HeHXT6Lz/FOknZDi9pDImHl9W+Uh5o9gyVC/b5ofiHgRd6ZEFyUs0H7hwSjSXXa9UTvt5Cup7F8S/CqTBvAo2Vcx0wbza9U2dZlVjIKxk0tgJTphoMmKCI3Cwd+adDZD3pNAZbqKBAGspRUpp7OghND/ce64YAiuQQjJ1tBb1qDR/eUDk/Z45Gsh1bcEFjePRmiMdsNtAbEYAUOQdYD+Zf3Mx20WxyYphXpQyq44uA06rION7MVEreoxA5vCU7rgpzQre0Q4jA0H0EHj1IX1sKqARXa42ZK0FhkuciqQ1qQXW7h7hIqvw1sSpyaydctqVC0B0rrABFicOeZWT9WbO7GrUyQ9hMRTbDQErNh5SdpI6xKtfTxyWtog6gZhYIBd7Lg5AZw5jZGiUbo5AqDit4wnNYgjHqMLYqZpdq+t1rGYgsULJa5Akz4asAa1N4tyKxpDYmYq8N5PzOu+V8y3TzqQ8jzC+Y30THEMoqD0YxoZszdnFtxVzCGCKegxm3GKc70xZrLPINUahndN3YO0vnHYbVrRFRNeyu9nWOWhjHcVyQ+IotBTYOYu2/avvUMcCoFk82MLOevYfib/lJhVLfyHsQpzu8nOfvM5i95Kanv+adW7r7s3W7qhv3clLj08D0KACiAD+19uHX+Un+QTpEBAje7K6sqISiUSiURC4VKOFEqUTH0WaIzvtercTwPBLpkTazvHTPXG+nrmnq+gc7+wPgk6OgAS8eaonos6mayQ/uq22Qq0ATetA0hAHbCw6UwqG1m8Sx07sGWufTzmodonmFZtYgtOUo5bFXMVIXyjhwYfQUujIjbmM4Z2qiUo6/sgFNS20y+4RcbAUW2pawdS/6RIqHXOe5o+CL6+nw98mhze8jZLCcron6B8w2mdfzR9cC/zMtqe/5pdRq/fnANP0Os303Y17cd7wBR6CWaD2Qvuccr9HpAXH7/AElf7n2gekbc9NAND7CAkesolGA+YBLfhHe7mXuZe54VwVKlSvoV46leN/4IeDGCjCD4HjR4KlcKOJY2SxlXixxt194Me778bQfRjqwZgx2xwPEa8VBBZijzL0vX8QgVT0ctsRQ6EH2cKmSKmmkwwpBER0TI/wDJfGH12PDD4H6hxHgzBOnujs8WYd7mDFQ1yAOR4HgS0uVa2cquBVSxKGUEc2IdXSFkjC0R+IuLrlKkyuhKbIMywMg5PCtFFhQvKEVg9heJRaFhtrlwUnWqXlXrLg6dHUdmPBJauQVblxehstoEV7C30EQXNjA7iYjSBOhLd2kgRgX64/8AHeD4nWH1ngzA/wB4I+BleKvCS+Aw4NI5i2VtzxeUKFPTGOrxRClbXDDogAV4169eFWpSdCVsUGqpEZKyYwl1Ovsmx+ySnYUToX4LhYVh25wEtj1mOLG22Tm2gglUA/SjVnkNkjWtYpdqvLqxV7DZlGI8XxgvF66lZFWTKugc4iFezLSXKJKqkxJtl/i3+E/Q1TU/wGFSamXpHwP1xgzXhLNzqcVWXY/d3i2vfjf02R3pDOvrXPuONBGqfQ4AzJwKml7IVJWAtXzHKsMLllMR7y9SKdtWsqAMrwq9BbdnM8A1hegInekjM5lX4Ckol5xKD4swK1Di40q6JC9pVgxxRfawwuBM63qaqV4GB70GLX5jr0E1JxaL3MtLzitamKUHvqMViwuwrWXQVdxNTyfgXxLjc6DLXoyuQY4lm5P9SP8ARIhqfeWgLuUIIjrCJunrO/yU5+GP9SJa/fYJdMH6aQf9/tHkp2b4mO/3O02v1dpfpDy1P2IyXN/W7AMH3REBh+x/Mv8A0PzH9I94O4/Z6zpnd/OWv7HrOk9/yRDR569L5Udli8nzzliPk4+f4J+tfE2vMMbHmj8Tonkh577mN0f30mhg7/jHID5mFP2ftN8PP+Jyfn/GTe8v8XA3c/Z6T9X+I/o3tK1DZQC90KuP0DRPdIvYimgfWSntEi3J7X92dBlO0bIP9gl/2CY7+8R/vyUa+miWpdyiOWUy5HX0cJY/0eOo9Lw0QiRsrSFSNGzEmkep8Q0AjI6ya0iJLiNYzgl1i/8AJ0TDZJuMLPbbtM0hO3C+H0fs4YhKBlgovOJh6qR/qX5jZj0j5hmxBbGjbPBIRDGzRL9ZiCkGRtcKr9DUR+Zzb+V1eG/u6BPsR9X3wEpIChXrrQTEdqtFnVonL/tF5fqXxBdT/XaO2OVAjqL3vBsTv/MZbbNiF5wu5DqSf06hTXyv7Q5sB2B2mNDdEllIstT7tllqtS8upmop8X4Zv+nC7X1Pwm6/o9iLRvy6/Epy984o2qO8veKmv7O8N8Nn88dd+7vOng6p+swfHD5Cs/zMC0LyT/AxDEj/AAsNNK/ycC09AgPJ6QLQIh1lERtKJUqW7seFEolEolHCiIeHVDXxAeF8KTrJJ8qQkCVKjKyvu4pqLvDFSnu3zN2IFwPVFnKebA3EqdJht/Y4WD09HAivt4f0vgQFp6eCYLsUE0N3DBgzWGnSZmcECigDsQAq0zuzO7wt3YLuy3dhwDhXGpXhx4q/lFWXDROg1aPIMSmv5+qavpvhZo+p4LH6NL+gOIx6MT7H6J4q/LaOanICWOUkvZiSECqG/ivA/ohxVCA5v06/hDzx+Vkl0ewePuP5+ohr9ZjwsbT4Ox8J4K8Q8Lgg+cT7T7ZDxrYM+4cj49bnmA58MeUB6FGO0xLq+F8k5+1+LDW2h6oFA2K8dOzKQ0fCY5FwVBqCgXPbnKRMqzSdeBoFqUSICOR1jU4jA6rZVYXRS76GLUh3SPgSaFY55jrBpGFR9noPf+C/UeGqH12M0/7X4LH+CmGAlOf6SnlnASy4I76iCeZnQBBP2hOSUOC1UwuQPcHmMzgigAoLml0uO/2agtEQrelwtSgGzCtYl4tTOSyq6brE1wB5ywzLpagO2PCyRXoIu8tFg82IIhb61IBVQDgKfTs1o4sgekGPXRIGXXnFkQC1ILIcIHKtpFw3Q4xlEKElX0YZytAjYNaojNV4AaCF2neG6YT5FMAFiu5LAjLFFlhkvJfBi6WgdExn5SkURsQa055yhwZsVbd5LDSVsEw/fcbi2/3Jq205jTyqJFaAkYKMY5A8Dg/2JRWK2rwIky1YRh3uCMWn1Mv6b4niNfqPBjGVu3958N+jf0dHrKvrUxHYSpYChHG6XZDUSDyJDJNb6Q+qQAFwuRqFQXNCSBqqM6bZQuVXzjihYCiYQ5biAVpwUFXLTUZGlisDrBpd2S450FiglhUwoRlmG3DYmNwQGdj8mSZiCIGxTlHinUU1oCcpa9A9YAVCrP8AOQttjG4gKGNKlB8rjnqKFai7IX63OmiGRiStRXSAGDoNIQoF/v2y9Edhdac4qqMOTM3PRQdBxqViRk+5l/4sLRNl+2TF/QA5oMioEBayCdmcp8nWf4KJ6+lgbjC/7KFBg/7BW8d4FjZjbCD87LNKYkHWqqJINBWBIfXUus56EbsBzCetRGA+nGZFIgtA73xFdiddqriZUh9b7TJXQWbxqIqPOfR53iiOOEFqugIZfiwVACRx0k1/NSUZP3j8zaXsfzB+T3J8x5H7nWX2Lo/mjyvt/mbD+cLWqO7+c/bfmZcL5HzDZJ7Bd5ux95vIgasTqZI/hG+6J+m0/wALLNB6fxGvS8j8Tovl/EOZ5R/Ef6D+I7p5fxBNR/fSdE7/AIEt8vujJjz3H+0g5x+aND3UN3zIPru8H6N8cBBz/X4fkf4Y/hpnlfs9Izduh+m0/RfiZv2vSNvKia8kawxqwnJ+ljqPlIu08wfiJOqdPwRXk/ttHBXbQPxiz/T3MVinRzJQ3Wabnojy/QkE0eP74Zjx55Qbld5W3VXYCWuPPMt5PeT5S34hsPnY1u1IFnnWpZCko4NWUdl+mV7bqhZ3pICKNE/mKEpwfmNuYsu0BQT0IMBPRwOxCgTVKPIbwVFRjyHD1ioANIB5pGV7dMr2JlOtRKCg9oBv3IwlYaIcC6NKqKSlP1sR6NNb7kBDZgj2imvllMVYNo40V7/njrCRFWWb/wBsW1/d6wPT9frLBKGyj3glBNhiy7uajcz4H1hGA0mE49HLZxwk0y3wKiyogR1SgxKitp3hibdlU0gBp6aB4PQnSekDoanUQcWGxkeqpQBoKwANgJndnUcM7s84kTS1yImvTOgdlaGABAAaAaBKJXCjhUolSpRKJRK4YlEo4PirxufgfG+FJufL6QMSswIkQnTekDjRxeFSpUrhUJoY2PTOaHjOFeJW3dVp71ArI3Rer/EeNCIliUkAGcgE23KJEEXUCcq93/njXi/RYx4MqH+LgdeD9dR/Ylm5HwgasIJYljFwylA1h9l4VAVQDVYgpqN+IfyT/gP8Zz8D9FjGMwTfg3WEY/RzdV4vWJSkyGXQIuWOmSC6TDBToYpfVo71OhgPcJqRnkjNLwF05wF0KGwXNEwezrL+uMpTkWRK5KJW6If9o/4R4MZq+o+00R14MeN8DHTaqCWuXRLINaDvHRi0WlraV4xRXNYLhGkEW4LS0LiJrVPl0RBB8jkGkuFvBQKhrAD2uUHUoHtWZph5YRC4VGAPVCXXVR9ZoeA1b5rD066lXOE/oIKZpTEXRk7Kj4ykrNVhf559Q+jf8l/gmMZX1GeqmiOvB4ninaDnIyD0COrXl6VHnVa9VOsLBA/fUy6v4tS3d5YjhHJzJlMor6sLiAjTWF43i2bzSRJz2hu2ZLDRgaRAhuxagoIIBWGADTBlaL+UsDKRLX1yJ6h5I5wXkEynr6xRpc6QLSHvK8dLLvqViAy7RKZPSqL0DkREuJ/E2w5KdoENbpNr/s+UxWPAa6X1nU1T7PBzE7YfuMt09dOqyUWT3NDyJSyBPx4SgVwvkIh+WMMjNUe7SXyro7UPb8+KGjeWTrSO/wChoI5IQcF7uSHMLsI/0P8AE2qe0+IN+n2jyf29oX5/X2jy+yqN8PNDyqO9+IfEn+I8jzl+If3z8Q5/7nSZT9Tym/37T/axxV6+PzJ/ifvfxBtfJ+Yn+y/EyZ8pQ/Uvac0PmY7h5XtP274hVn1v4jTi39uUKswn+wh5fr4/1P4mb5f4iGj+f8RoKu6r8T/Vfif7z8T/AEUcg9R+J+n/ABCrPl2+IP8Au9omft+05J3X+sOcP76R5b/vpGID/YrfEzoelnd9q/iN/wAL8Q5/lD8Ta7qPxG3D9w+Jmz6P8R27y/iOOk8v4jyvTPxBHI+X8T/OQFr6SNlPKRZoPcw2Y9DHuSvxBVuFVk2JzIZp7wsTfVTbaM7B9mWhQ7/DG6lGwH2hsfmlvLdxlvZ5QbP5nzHUYiCgqiVXALhZ5F61BfMQGx5SkJ5oy7tlnK+Lgw5FUellrlG4dDxox2l9W/KTdaNculo81vAwNu6UR1ylbmQGkE0M2ZnY2p7qA5+6zrHeAtC7Qc9u9oFx6GH9Vn+JgenoYFVejhd8af5xOklHIlNpRLd5buy2HDzeF8KlEqVKONfRr+RX0a+jXCiMeJwojxrxsYcvaKFQlwCK7sf7qBK41BUaVU9YAAAA0Ao4VwDXTVHI2xAaDAAeXiUrRN6eiHiIfXP+CcH+FX0Xjom38Bmq296OnExeI8FFrmNjwPD9nEUb5/akPGcD/wAQ/wAUx4Ol29yM18GP0jx/ZxrYDD1h4jif+O0fwGM1f1wnImvi/SPEz7eBGVd+MeA/jXxGXxvhfC/GMv8A4jp9djGPoHvy8Jr4vGnZmeChLNz1lGvpohqPliWvp4n+HH3LMG0f1iFlmwMyUJ7Qd47SagMmshFGMAaO1zBbgdPmkYEv7BLNR3KY7t7S2fUYLoPcxRme/TsNZaFWdV+Jhxd1lfqPZIg0Hrlf0ZCQq2YAc3psVY81ZuQvLgM/ozBjPoCPb8A2+2WMhWGbekHkH2m8qbhj/tnxDTe4AwueuI3fT/GB8zvCqoMfur4mp7E/4UdIiv8ADCpQcEB/iz/n/jMdft8p1HufjAz9z0n618cHGMgFLd4/vLOm+fMFSY0ydZdFDCff4Amw3cz/AHv5nyU/zMPz/wAwyW3mOAFbwl+78sKz6HTyjMnK73h/Yy8iLQa3aTnqYczyV+I/3v8AE1/eHxP3P44HR5/YEQwvuQ6h24Cu55Miya0S/wCjjR+Lm6XZvmH6b7z/AGvzg1PMv8p+B/3Ov9v7yjWS3PR/KI/kfmNWn3/JPwR+WYlfQk9H6DhtmhGF6U/M/wAj8ou0eYiKHVC2BQZlbwP9WUB/rp7piwPVX2kBvuIlO52zDnegHtCy3fXFnWH/AFMDd980OcneQuR7rL9VCuvWIB+BCz4UAqvRw5fpkC/FHbekAaBEFmgRZ3XHs8HiEKlSvAw+ifTr/lUeKjghKlcKICpiURCUSiUSiUSiUSiUSiISiIiERxYxk+5iGiJ9va90HTywvZFYK9vmvGH0nULJbF4XGuIHBTBeXwnEpZBeowRKX6VvQ001v4UhADKrQQ8saI2PA8DP09EXA4rkDIDr/wB4eDGFaZK03T1ONi/wQrqWMHIPs+BlYVV3zI1mzRpuKl2WN4bXwRzAmeKw0jh8BxB+hNR1eAwN0kH4OwyPG5pLEuiTtnwrNYvWrzwpm0aLQhpYuTS6xcKGRW8KuGS+W/hMawROjDaAKA/6DpwI/SeLHgD9dtxMf4OpmP2iHG1vBSmL7wLARSmydYKBYWQB5yuzGsOepesV77zB1loV/KAETBFwilib8gJaDYltZIdp5T/s6KTXLOWDHQCRWK9Jc7NA2rzb1PBlanJC+FdvJ2M45k0aiNJDa1aXEoAIgOi8BKpuDVZMNeo+HX2CAC7RW6XAy1yrFQ6ooqBzpxG9OjXAIdwsBlJNBXViui+kfo5m5eqdiAdPxGHtMisg6HFRn9LkqcyKkANV4OoULujlUGfZC57xU9F8qwbmNHnVf8p4v1XixmQftUd5PBH6V+C5fBaN0jp9PBVYW6Biq17kASPWLSdxEkVh41NLfphojEIwZ5oxqFzXSDApMvYmgyIaYrIDdlwl+UJcMozoemiRGq+xSnnbEyG6dqMx5IrvK/yE/wAlMvwocjhaPKICYzGdEM9zhcJnU6mFkz2gRx0jdK1tBMJVNQc41LfFdQlkbSJdMKF9mFYAbUrZy2XSBZUSg1Vy11EiVt2ucac1iK3m3BF+FXiHatpTUgJxbUE2X5rMKm4MAwEF51FAKnOSo1IVLo0inkMLBF2J/n5/n4Jp6eCaekjo/bSzT1iG4eZO010OGWZ2hboS4dpTs8Kdpf8AAfE+N0+o8WMZkO/tzQ2tEvtxMYg039kQwu5jbX2kdVI6yOWsuyZnoTtIWnbOLCkxycTy9IIJg+0QtKfqgS3QDqUtGjes3OOrc/7OUrkVqrlB2usJu+XOrgOxl6ZHaOvqGpAO4nIECW+NeAFvghRMKGmsbePLVGlYl+G9uEwoq9AqhzQ7VRRC1Fz98wPBXZga4XaGjKtlRrW4FWU90zbHrHLWNlYrrwyJZpoMKQExmPZxTX0Ees9HFvxZf+LwIP6rBmH2M/xURUt5YG2d2tw/os/w8/yk1D0sXmUVVYtm/wAyKAMbysO2SbZ9lmwIKTDKEbMatCjpP3iPKLso1V99Kf24qsShaeeWN9h+qBInr8DrN3m8meBv7zcdeaJsl++sA1SXH7j8zNhjqvzK5JiOg/TDnzBewUcdP5yV3flwgZ8ofiZ82OnAbL8Hss3u4Tw3+7zlOvpmD6XbEk24Pmmt7+M8WIKt5ugwRjS3H8csiT7gYp6/vdJoPn/hies5kP7HaJli/TaP777S7977QbAr2/qnKv8Ar0gtX+3Sb6mR5v26S7R+yfEd77L8S0IjZtdZffWLWKdyU/sll7IRtBuNxjN+IH40A0kC09JNE9Mn+dOggJmUSpXA1lcGA1dBjXXfbCPA4jxBD6r9CvCfxK419WuNEQlHCiUSpREiucxBIE82ac2JcqUmkojnVZVlWyqKJRKldYx3EWw2uXDHRr6o42sL3TKesN+6D4nYh9wjoOqY+76B9G/cEypu/fhnpzS6brBrDCp26DA4nEnQHl0jV1Ze3hPosMu8G7oQrJHBlRMNaFIIiOiZ8YWhEEWAen/MfoOnA+sxjCFNh4rH+CFnmEpbW23xwp1lzV6OTEVbLM5CQxeuOAaheInOicuqqdCmzgpUbxWVHmw0jDUvAOA4V4VIC1ZNZX7TzXC7zpocLiddKWvtLdEFirPeBz5VnrAPVrCmpd5JcuSBXLB1VwuDmZONxABXsPEkyuAOZaIl3NqCATQ3sLhAmrQoCI86pFcFxIBIl7aK75S7U9vZTxvCQ9Y6MyDpWx1cSlPor0XoDX1AHHrax8TBgXoxS7fA8Dn3y1fTeLHg6qcUY/TPEBy5Ud7Jlk00Q4D4MoNzEUPoI2xHq6wpxKD66YR6HCJN9K0MSZqgnopFLp7VhsrRfpDMTkZAiBjwcijwlLui5LcR2ueOYgoQErwJwQrGCwLFir1fWGzPGfnCapxIWdYQMZ02JAlr5S6ojCyarAefPF3wbBBqA3AoWObWVCzS7avxCT0iAEGo9SP0HAtaWiLT4uzuPEaNrbmkYzt0yzdTo+fSLqg1eYNwgfcqAOYBzi1aWO8I9FLmCypcyUGsEN3O4k8SbUCrModCGIMgqm4pY0o0ltjaksgavKpvRwg9uFXNTFIJYx7AkvDBeW/irfVcKSlwLrLt02xnThql1LNniBZWGKwuVVxgdFa5YreD+tUhwaxfB8GnS0JVsDnxnmPCTe8sUR9So9ToxbE/KFF2cNehRgebExcIgIgeYkt8lwZlVqw7pDwHiERVvXMo4aqGpeRkgKgEACsFWFHZr6TGMZiG0FwY+Jlw43Lly5ZM7QqdtLMzXJlw4onOCdpzYjujbgU1YnzyGWgAY4pnpSPTS2EsaqW0IrzOyODikqg9sRER59e4ysjBC6nW1WWG6dzYHQIWrQtq1VpIeMUqlbmYr1sNE5kroIm0C805BeyYDW9YqvrB2etstl+gLkWvRg8ae+U1/BlWK/8ARiGjeWDLIoo3uZpEkFwwLAAocELD2Pyibj0CWXWYljlH5arZgm1QI85ApquU07UNXsyjLaeRFM0bhb61SAdQOspHP2lMQHJQSy6A6JdxikPeA84LT7lBdPuEder4WptiPdhArAQdRWO3IEaGrjUbQYM0enn+Ag2npIJ+BLDYvaqyFZCQZDBmYC+4RW0v72uNcjuNI6tMsrAe6jZih5DuDHdjrj7RlD7TBlUwciOfDmoavoDFnNql/wBioAcMCVbV32riiVfdSoxUWxBrqSl89yvSUNKQCspMRfnAlLXS8MuhJdKhO6wWvFcQAjr0g7W3WJMdunQB5XxeDOQkmgQRcFgH3oZlUZlsoYhRfDG2iTIv/SulLZdsEE3rwkhu5m2HShyRAHbZ0isUwrLtVmsjoUQ2wCw5k1KtLacYiYYg3YPZmKx1S+sHxseDGUB+8cTGdQ6jTAeQObDbVGSh/RBMHmBLGE8hHF6gkt086RE+4svMfei8ifVguj7KXYffxVPlAlyPkgItr5CEwnVpuzFGpRl54ZaXe2wa23dxA0tRyByEFcw2tZWDmyNFhgq96HxG5sGqASmR6ARvtAzHpS10ekTPOwEpcogtXmAkKIoiDqSgxAGkouBKJXBgErhUqVxqVKlSiVwzvCqugE0aipYiVd0YlqypROknQ+k/yos39kl348W/HmqemimvoYsA+illKAW8W9St6+d2r3WUIjTRLJZFfpRk2/I4/eIAIUlFkMhtAqAVUf8AsAgGxxktQ/1UwUH1n7pJO2bfTWqwGpUs1BVtuio9hRVshEK0h1/POtemJr7Vika6MDyLe4+IuOWaLWgRwyuSzuXVQONiy6ur1YWMc5j5QsjgELK0gGC8ThCmIX1S9XEmR7zK8j0ZG7/bpEIYairug1jUBQt2rH+EFTaAE1ZTyuFbKyFgMJp4x5IbvW65uMaxp78R82u5mlRpXLUcN8Ysde2K0XFg2tyCpRgtMwGzHZI66OXdfOZko0cgxY5hhxVhNrAdmWWol+D0coanGmTywTT0US19FP8ABS/T00f6dB6n3lrHqPsx9pY1SK5M6weIfaEXgNpOmQLkSiUcK+jUCsiNmDKYRj38K5dZpcdHOhDctUNhsS5aD9rxK5XIQLS2BlgxlFTlcUrnSabsw/6qHrkhLpVzE5cC6A6lyo7YAH28R4T6J9SvpqntTOamUWm2G3AgGG3rWuEPPO3My95cTagZpGzox7eSyHJqSrOqgdz6KpUqVwqUSiVwQbudCYx9mtL3qrglUoAIplHpAVQXsmv8WJ2ecv7CAxqIGcxFe2Nf2c/y8V19DH+mzdbyzUkUldrVFvFRovpovWXp/aGSf9aUFYe0/wApimrdxgJR99KtPSSmT1tICAN0CtIZfKES+2AigOU+1mWFXtn0pY9Ac91b6DD6HN2XuhuOYlqyjrSWu5MYzoStOe5HEB1pTsEpDHnlu6w4I6KolAu6joXmEFGVZBNaaEI3iKvUIhlsqGyLaEF82aNdLi0LWgsVkfLVD0Q3YZ8JqSohSk28B4L43/AfKYXUx8Qc+4ssEIXmOkWszd1uQqE7MTDnCtWbZWiG0EOLALYS4KsYd5DtKhrWhmhd7QCUTvbPSpdfAsAC6cNH8R8W8PCfSYyp1Ghzwal8i/gp0bY3c4vHAHbWgAOqwjN2qj98bvJLeOsrhzjLr8QqVqys8mCKRKolikF8HgGqaEQZZWjlCM2i8i+q4EsVkE0XBOuzFQL1Yn2RiOURvUFjx5kboVCZ6BiC6NXmBwv7BzoqAbwCHeDtmpnczZFeRL2d6bVTAWHXNUOfaHXXHL8iORbqwiXKVtrAKwAGWqiVs15llrKFZE0R8CYRKE6TklrBgevJXgYLUGtz2IUYqhoncY0aKOui4KtyFYRzwFto6AwsNdzwiBZ8Y6I5EdQjn7M1QLzckfmattSM+tB5StpBQJ5RAr/b/lnQ8JVLplMy53RPoXgeWNRyebERTjkhKbAAhWV4Hg8HgcX6bGMx6vBMY/wdFBY0aPV4HgVQCh5MTDq3IU0vBCQIBZ9kU7NCOJsA4eXO8EsWqG3u9eF1Spz1UCFLlYsq7TMKrhFLBZUqvVtlBxUkXHs0MlwCwKevDgdPTQjapY4XkjcgDK/c18U4eUaSC8JlaQb1oevnmZ4DTi9OFtEkDFGFw3RWG4XAMFDo9cY/Zl1FRyg32PzYrcBaW/liCEcRpcN8EMytYAmcBUBmwdIu/Bawo45oIK6b14fkzaC8DjmB5kMNKVLdfnJadanbtRDPYFzq7ieWyW6YuXxy1Pd8pUy1ZxgJZ2aUsUqpVnGBJQQM7dY9GE3SxHpozWluE6GkQrlwbkDHV4pWk5OltFzK9UY5NVJghlrtIpe5LRCNAyGQwzEK5RGAspYouFc1aAsQANCxsxNNupdFgq07g+vC5R3iHbVmwT15Cw1Kdngx4U0PJ5x4WfAS0JNpYaXBDVjVrCmZherwpvT9BjGYZtH7cVj9C4vDy4XELsvMiOvponr6GcrhAYgtBuO2gMhmFNxk/wCBVsEFNGyRPMlsGmjvmOa2dglujeVSlwvkgn4cusF5iVUPbeAWzfB6mXmO3LhAd4oAYj+zBpmUrguYapFug7r4n4q4tugdIv8AygybA6EPy4YcBeyP3YBW9CLJWdUylxbdY1tSxcwwejKDbSA+HqZa84C8ltuRMMiEsBpzVjD8a4bXHdXlF7G9xEdH8xC/Pkqf6gj+lbKBvONsT1FFoEKohZaRajcOxUgV9A0KVdfcgcIAGwgsVAc2AvIQLMHMjAEtxDhL3DXEcMk8QVccmKDpoIBVrl6EGyV1F6SF09JBNPRzOBEUJ0AQQA6QdMYSgqcC5omUnqKjeXIGM+LVaXiwQqMiZ30jItYwFBeagKBjK9DClvFFQZ10usuPAlNxur4YM+rGbk0dghbaLnA4iHDYsah6wiji6wTZs5igxpcDoxJekCqoGF+i6WR1ieAFi8Ndx1mM4LyriW6aVtxqxzXLdrNTmxCgntUo071xxPg3CKQmv0uvUIstPO3AymwHINXFfDLNC6QTapzTj2TcIwncDV665YqR1QD02ZmU4B5qWSnEldQNCwXKPauT8EYwW+gME6bFJshdDS8bwYzTqv343gE07qhAZ6sxzeqkzFJuqYUtm9CED3CK1Y5ifhTBl9EVFNXjYLsll90cs1buoHkfNhy4gaelMR91KBowI+REA09MgeSFGBKIBKOASuBK4HjPAkPBXGuNSpUqVK4USiVwqJc1IPcjzPSIvr6Cf5GVq/bQZBupZs9IPhDknspiSiOwQdOyS0wBFX7kfo1mntM9hdxfESbP3SG89xDmuyUGzlhfQtgCWgJaWSbwQSqfAWkhayKsxw7lkWisBMLIm5MxIixGxiHBMaauUplYxm2B5NOiS8q7UC5rKEOgNZa9oJ8w/E6X3sjUTW2w1XFyBzoYRacVPXrRjsx1qhWoKzERvnADXFpf8ACqsDRlRRzVovjKnfLiIDUM6QwHaBZyhj5VMLQ14hqWUGzuHFjHoRxLLCaJLPImEg7FQgDqYMGFY0iohxsspTDwvQOm4TRlDz2y0GucDekAjbZ2ZfBixZfBGO4lmqWBaWnMVYTgxgOFHjrwnAFlbwuhVp9E4nieBwP5r/ArjUqVKJXCp0SK6v3Bi+vpJqnpYzaHrDDMzlcz1ZTinsHzKmwE1FVdvzcNatIrY4YlYegExKB6ku7DKWN3z4MHu4lqPJm0XScnmMgkXTSEgjC0M0WZ/tJ+MeT5/wCGciPNl2s3a7kMtkBVz5Ificp8gIfv4QjkqVRvEsUu7Z7iBWwH5R1EMz5ravQ0wI/WOOgOZnZSZh9N0ZA6rWMnZ87L/wDDvgYeAQLExfoDYur3nn3gpvR3eBeD4GY1NQfYYIYzNSv9BmHAv4AX/gl83L53Wx4zx225vI8qInlloKfRTd0pO0YRdG9YQDYJuvjP+s8GHBjwFLpfG+BiTbo9Y0cGP8GqHadVbWjgeO5cxLlx6RNDKspYpN3y+ThfA4ZriG9qDozVcSgGozqM0W9vjEuXLl+C5cv/AJzrD6DxfCwF3b6nEx8dSzcjqi8yJah5I6z0EHmfwOYKoX7KaVJ2kLqOzgpmobsoy1LjtiCtHmBE8jyQQ5WXkebF4qjeNj1U6I9WZ/gZq+W2hzAzynX9KLBv0mf4WD2bdGDCyRU5EquxkK+0Ky164JbrEGrr9eC7ZtO81sWrzsQQ35TBEnzVqsnkEHASA1oaXHDAE5svIDtIekOLMIRR5sq2PSQGsvdJY57dQjp5wgbdnuIu4Mnk+ZITK+cju3ch2l3RAnKHQpXqnad2+SWsc6JENbs/nAdB5KU/NInqHcppYdyg2nm2Rmkxdp6eagPJBNG7MsxKduF8b/ksdYfTeF8LjpNbtxjGCmR81gurS9rJbyTYh1RHZBisnVAIe6Sl+r85Fip+eaQ/VC4V3dLgvxTRA7ED09EgenoQPQQBoEFLsvxL2vdKgQOFeGpXEjxvxMqgFouw7Etf4deGiXagz/CmrruIvr6SbIdiWBdOap2RHBXeEwcGafdljyh3F8RPV940YG6sUGF7sljQ71Jz/YBKNV7f0jvfJofCmhy95L2ZR6k39mbp3JFyIJuPxNwO4wfT7KAiOOwg+npIB0SVsfG8GOsPpsfAp3hwpGMqV9apVP1ynr8R48jwGN1ipuk1tHhcMW1czdVCQE3JXiGRKU8jOkyQmpA7aZPoCAVJVoDv9OkrH06+rRKJUpEOoM/ypqD+WfHjANHsVHaHYJT9kksUdsJ8ZKUFHcbwLJf5viVNnbVhpE7rKzDdz8MeR+7szTz/ALbxwDzvyxHnCG0t5iI86XWvL+I8v97pEuZ2f4jfqnT8ybT7F+I8qztIYyvWjZUzQueL8ww6CO9hP86/BAmq6/iRowjq/sQ2cIBC28CCN1OvYYWGhkVmjrDH+Cro6OXofCIePmrSEygCgKCJRxyTUl++1omCUbKil6+Jl/6tbTRlZNofVPgviKwcnQjLLBNr4TeKZCit48ajVsNoW9gE2I6DxMrpL3Cl9HTbpaDrAsKFpvMcmz+MfUr6LrDx1KJRKlEolEo4MJmmMEzGDo6XYRe5GVSHaeuldDZ+f8BcxZCsPhPGVZJOhOVzDY9EISrMFMa1mggIQZ8x0j4qjgwRRM5iryYPIo1tg8dghH3J2TCDUaIO0rGrZzpDJHKMBHPFLykrjevEwRaMj3Usw0B2bEFvtmi8qRLyUHnnj/jPF4MPovjY6atPc42J/BG6ORCgHd8Ny5cvwDaOoQH1UmajDnqF5jMQRGOseTFTXdhbC6kQLfVievpJ/gp0fuYlr6SbXoJdbmr1ZX42mCWlrMYMAvkZ/gp/kIPonmS/8pOuQOz1joWkM56Sj+wgy4MfYzWEx9CH6RKFSTR1PClUll15jNFZrQoVRLkEmBQL3jrjOwLAPp39C/Bcv6B9Nh9d4erh9ZocHwriBkHdjrh8kRtT8kRLad7iAOJ0S2C0Xs2dB9mwQbPniHUzkaeZwMnNpD9SxOG1OQ5xVRY52sXpYc7smiLt9pmsGS3tWabJvSWNvYoi+Zq6zXNsd+vrIc71Uu1buoFq/dR0Wq4dbKjrk90xqRonRR1jQNu3vGeGIZpuvMKoDK7QbKguZQawFv7Ex1MHSCuGJplDaxdtD5sp5PZR/tcrFQUNsFVbsQtIXKD5/mBUgdmQ90be8e2PpiVvqBHNQ8yU8/uZXdN3ihzYGY8sTK80QHoeRCq+yElDSMOsLrJrIeinMQd0QTld2vea1Owlpb7Fg5Y3ZIZ08F8b/kusOL9NjFlsXL3I/a4MYKlqdhNQm6pSE290maC6HJbhzRrcDby9oB+GBQNtOiSmxKSkTgCnvEmbSpUr6bHEKs1Ica76+A8IXLOOCWKoCxQKDY8RK46Aw0XIr7W8FeFH6idyrfGiUROFZiuofKKlPpZqB8kW/Ci3IdlJyZ7FKNA7SbGj6XfeH2UoShx2lTa82eS7wvZhUvzAlWr9l+IEZ9JlXuFMNqbIYB94sEae6CJjr68kE/Hn2eizXmRJnWpfEfoOiH13g7NmH3RfQ4MeB4z6F+3DX1yiXOx2Yca00vt4n7w1daB9FQH011ZehMOqL1b+iRQVbuuX1qleGpXCiVEIhHVJ3I6hu4muelmqD2K9o32dlApUIXL7co8vzaZRx3qkS0boHxNYN3Us/glEKXewjyW6U9yFeg7BZvdsaImfJVEGn0n5mfI9GLyedEMr3aAvJ7y0Szv+OYLQ7iR/uE94KWUb3AFieWC6L2Mef6aWacMOZpqx94IltXZH+uzXD2LFcctEW92B49BRPO0IdYLBsSMX+DVPzV7yvk/XIcHUDKdRQXqJ5nSF7FYnEWQuL9RTQ2MprzF+o7H61L+W434nYVuer+XXB8T46lSiAuESIR2otyRbX00V/Hijbf2RbD6eYRZs8LSiRX+LNbnS5eDthoH2M0MHaYIYCaASIljjZihw0/e3mgzpoy7Lhjyf4Oo3cw7H8GhEZdedgzrCwsJpz6GaV7pzXIO8DvM9M6D6rp9vbmXYfR6r+7/mHgNfC+FPEwWEZr0xj7aoXMf/AE7havHf0Vmp3+Uwv2l8L4XiIOcH5Ii0j1levrRPU+6RNz6KZK+6TVD84jr60z02d4ixpTHMswFjvy0CxSsVQigX4Io5+qO49UHv4MF/oxcDXyYk0r1QRqt7Uz9wz/OZguGv78Rc+tBNPRQQ10II37hOGsG0fzIPoJZwvjcR0S936V/8NhrxfC8XwsA3b59j4PgJNPrRZSL3mO/QEBVpnWPYn6nEUidCF0ecBAarzIPzlnNjgruzsn3UEuzxjWZOQOzFWdtTIwJjpB1sdKnJHtHWaHJqXygxI0pGfL91MRIjOqgbWd2zCFccEBpEFRHPc8fwIFp6Sf4JP8+H9fAtPShtp0sMsA3YP+KN0l9Zf5E6GL6+nHmenLfxz/Di6ud51K19iMpmUrmwYNAQLI8lJ/rI4qKtnKFoJDpJG++hUMr088xAwfMxxmQrfMAPM8kn3RER1HaMC9iZy08hmZHvlK/vkt7uBmoqNZXlmrPsJY6JM/zr4P8ABeDOsRjFjANN7IlrjdVMSDhQP4YHVelAeWG2nSlJRKJRKJUqJY/23CHY/gNc2aBDU0biHaaYo1P7kVYAImoy4eOizYuiAANDg3aE8ZGGYAI+F4o5h5cNswWGhg+gRm6PyAcHjUqI2i+qeRG79AiBvL0ihmHsXUEDKAtn3EzWLyXuRKrPMSl1zqoVVo7CB69oyBv7Ria188yhbRfIx+4Q+IhV76qNtJuy1Cs3ywC19gwTRP4Q1439FjxeDGeX4P0B9F0mS3yVAYdKeA+pX2aLrBMISlSVwIGSZR5Qj3fI84UcG+AO3jERSyxZUwOyIREEcJMObd2Ll4mVlBuTQl/OJpEvkxsoD6REswhdzmlyVWzrL8RqQ2kyn0a/i0SpUW1ICiDqGKNvyx5R9sR5QO45X9vco0HcMNSu6lDkdfxRYQiK85JTqu019VyaLiic0DMBY31PtKtXelht8wILp682/Tw03o5qo7CK6N2YrcMZfgvhfBl8HixZM4aGwWhSzqcH+C1Jg1nE+9Q0T+AGlQglWWaOvG24kXZvJQTeWCtcGpMVnC3zzAapovHWgMZqHqnI6Q0JNB7sse4SrwLEwOyJ9YIkOQGh0lfFit0FFuwc2ZE1gXP71PH/AIiRLxz82yf5dfQo4USiUjrgxXX0yam/czUPRzXr9wqbB5KRROttIP2BR5QyqInbYS1LpeU/hh5XmVwOs3oiN2AFwdv6kT08yd2VfX7b5m9PcafYzfpld7CiMfO9avQgmSHJUIJngfSrqliCIjozV/A+2ZVXhkY6zQeG/GcHhWmyIB6jmeF0cFHWVAW1dV7vDR7qraGGWNjuprBtiAWk1vHAuoFngeGJi/Oe7hAwBVDAzJowy5YMgN2ZeM97f2jqa3sv/iV4X65IkfBl2WVxaFIUZWo5GOWTa1vyCK+i2p2GH+A/SlAfXBwS5ZK7zeBM/wA0/wBOOEDpSf56JqN3S0Qw2TIlcawvq/owQ+ZLixfmibouyiDTActuzn+viLFtehDau8WXTV0h3UVa9qBhcbeM9SlVod3BeQdlSpFnVRRS/RmNdHZlKRsdRMy6gLcGtgCyqsSDgK89LYzXUrq4No/mQbT1p1IDjQdvqQgJ0APoD/xnP6j4T6DMDqqOBmME2Azoo6r65NPfnNUhqnoFWI3V+zilHm0ihKzOUXLPXI2YVdYuaC7sVbAlLkeUudM2lfUdanMMy0IoMZpujJBc9IZVc+VSHPfqpnUu87XA+T80Nz6x2EC7VQVZ6BP8WH9WSt+CAFAqdBOi9J0UNsjsEoiDOlEAqQ/A0BSJAJUolNo7E5VTpotGMYEV9iAFFCjQIUIPNyyhxqoEp6CMRbWIVjSlfYqIWpmr55o4ci9lFjHZOAwCxfZtMv4oVjFZuAVNmUOoOoz7VSJWtv2jd8rMoA+6ShodxwotqdRII0W7XBtPVilJ7JBHRvhf1j+A/WPgeDoz75IxeByBcDbkHSQX4YDoSB8k6UrARIQErhU+2ZXCUINDwB4j6i0HO+SYrmDx1EYL0Lh8xD6Xfp6ERtXjUqVEOoRTL6UXy+igSJO0V5HbEV5HqKGg/mfeBvvUYObXZYi4XuZaKQ84OyDpKhqKyhlacE5UzKeZQoo9RdToHfEE/JLCk7M6SWS5cx/DP0WMfA6M0Ww/eMfpDxun2UddV2Q0hxPEfVab5sn0G7sfyGVjSl5hPpi20/hjUqUlGK6+lNRPlEcqL6HYRFyq+yIrxe9/eJN9spP2MeUvd/MmZfbTWFHYYrRO14z7s5sHuJEKNC4H09FBtC+cpv4Lln0TxeDHix0lh8gnlFGL+Aq7iFaN1/kE9YQUncwA5eJReugaqUWPn9B9TEbv1eBwfAfxHjXCpUQ6kUKW7kt7V64R3h2j03ZY10dkyJaPzR1pDqGa03RCQoeoMB99LOljzI8lXuIGZR6QXZZ5GDrMdDDkXrQkVSvagsycvUsrmydU43z9igsMGUxeTLbZ3NI8moPRvZMLFexBs9CcoCHmgIG1UfRuIjdVL8jwDwn0XXZgwR3+ufSQNOYarclFx9jueCjo7WXrmheRuN/qidDvW/8ANrgrhUqISkojsR2SO2n+NG+032i+pjhta0sMA/FKuUoIhEPZDoTd7O5LKjl2+u/gmZNphTm7tJZzRLUHd4VrB6kR19Saj68twevMyEEkL+Smpnjoy8sud0Sat7Q4q9fBmj0aIo0eDJOzEOaQfhOghwXH1OIC/c4PkCaeCu2vNKhODbYVK+hBdQgjItF+mQMJO27kE5/Rjjd0xFIEz+5Jfp6KDOG851iXwuWTX1+jxv6T/wA4+J7AH3OBKBo4e7r895JUMLIs2mkkELMOzNj04WFFiq+oY8lestqid2/aNeLYgyFl9YvKKXiZ2nMh0AzFmaDs4e8Sl8vOXGXzzcxpletqGUKq3nSxLAnMU7krrk9CGX25X+KVck6aA8iG1KykAJRKSkpKJSVKSiVAR4A5P5SD+AJCK5dHew3RQvrWs6U6ZHbRb8E/xYgb9HhlWQD3Y22Pahy0ECGwYeQfOAaVdREFfC3rywAV6ZlwwujFlLdoPZOFFijSsHmgqWDvBmj1YjT1INzJSXLP+cY8HjhhM+xwvADIeaXMt1uB8oBygIhAlSpUrhUqHB2iYXkvo8/oB9NvbHPTs+jXjRtTxVEqInQJqI7kVfswIERwauyIIxIBVAg8qmwx5S91FCvVRD7Kko+QR0W7AyguYN2Y5k+SWpo3ooNpIb0+lf1H6TweD4XwVj4z6LpOpG6up9Kh9Q+qhRcQ6XHogc2M0nsOccM7cHxa4zJsBa9IY43UJoJGg3YwXXYivCxZaMHVxEmANctOCpL2N/AolSkrtF9RFrS9pZXNXRm1KRLYPZw0c75j87DBUp6Mas+yx11+0Ir7ARiS+kqfaJLXuRB0DP1mtvzgVjdmXcxL8V/WPBj4Fj68UY/wLUk4N2+/gPrHjuEur8hAcAaoYs6WbIqZzE2c4DhYCw1MM1Ya5W4SyQQvyh7/AJ53Kgchk1ZMWURKGoWGuZi4Fo7V+j4bYS0X6CAcOZiB1F4elDL7gkK5OVDerMXUzXjv+HUqUlRE1Ru5ManyJQWK6R5PmEiF+QuGmXmMsNF7xnX6FB0P7MR1v2is+wRlR90e0oLAOqgl/BjSwGqs2mYNp6kF09aW8kpuSyWS5ZLlyyLLI8RapEZmDlrakCgBYjYxi+E+nkDolKn0T9W/BXuKPWYViy3tDJ3ee7iWzWzsIW1u4Tmrg5uamkO+VMLaaJRMKtSVyVAwzKQPUDEHUlErsh4C0i8d2I5odnAzKtdFEY80FyDapsqHe4xfxNMRp/xa4VKcB2IpqI8bfuRfV/ImoQA0JnlFrw56zIpMuqOwiv8AswP5Qlbi3eFaU8kr+Ser8Hs2T7OWa+VKzpDoZbd+4GFrrdQJthYm7F4Zq6+cRbCJYkfq3L4ZDuSaFsYjqCVSQ19SOkXW4awdmIDyIjmtE0c/RjcgrXSZaq/aPKbMJPK3qW/pg2DS54gjCu1xNxt1mIfvkFco87iXV3lBuu2YxMqjXeJHCwJzeszPvRNyE06sCTOS4LP2Uu58B1LW/PnHclgJZxld2dcIyckl7VzEYQpNtNDdVLctFulqDaetBgQSkslxPNN+8HnBoAL7xdVAbRq/DcLhFRbWPI/5j468LwSMeNjaQ/eARiKTtnqdYoY3HM7kTahZWY4EvceVbso1WNiOGaF6vOn9GPne8FNOIWqi3JKR+MWyzFM6EBbHnVZR6KLcMFrW7Dc0y3W5rv24JQRP8SGkehK/xTpYHySjkSu0rKMpKIBwqASiUiEAlJSUSiUSoIzRM2zKSzkRfWS2vpTkGYaCRPRnAlSqCHJXio3UoUI/cGgLIee+RZNqX7jtuBY8gGVjUqJ17yBC/YxFQ/2SJyB4Fkvw39J/iPFh43i8WM1Mmn343VUku96gXJwjoobc6U6EpKSiVK8Na7UNHZ/PqIwuzaJsI6mp4niTQVqWu5Nhhy2qohDSBKgWyuFEdqLcvpMo+lLm7pjq/qxLjsHD3iblZhO5FX7WojzMQG0rpHJ/zGJlsSXL5uAGsp7zQPUlF1Jcs/jv1XwMZp1XwP8AB1W+kF3OVP4x9G4TPWQ6MbCzk6dXjIHU1I81hcUdECkC3X+DRKi2pFPxRZTV2mzeykcdFWygL3UdZvcMAPrCLtB0UYD3wMoqxiHI8mcmG6ziYFL3nRQR0+s/UeD4GVDWrry4R/BIG2lzQc8PZD/gZleidRmGho5XhKAugLYEC1UPL8nA/l1KJRFuUX1fyIjX0pnhdikYMSGv1cw5JsuBpV0KjcsvnKQ7mFZSe0w6+pC1yoLoYbKCMvwHgeDxY8HwcogJzPtIo/wZE05sz6dH8Z+okLG5qREmqtHq8CNc5HK1h60IDof8iohOlHbJqSeUbdEWmgK9WVXSO8dI7yDElopswcxINUKJuE85Rl9EV8n2RuCGh3IuAG+qCNWvsy68cRrvD34clr6s2vWj/fy7R+0NDGy7TqRUyPKottoi5tOZGxrpw/DHguXwvw3CXwXhcy86Es6ntKRHUE6eI6iDtAmRJuaLRHf0nTZmN/YmqiCzV7EabEmdqAbkd2XnK9WIc1jyCy40EwYHrObPrNo+sV/NK5atz7xH80TQ7rNWxYZwuvKc96ELSx8pf/SJ6o7k0AQB4ZzkjtJpu7dSWAurAIzIFyBqrQIA66HpchwuXxv/AIGfqvAJUoZTaUnQjto7OL6+hKdIJ1lVp6Ucvtk0uTpiVfhIaAE6UoIbYisjhRqJLAa1jfqcFJQ0mf6EQqAdRBiloOpA2FmATNNCevOBLHssSLGdAi+nqEUPsxSs5UuW9IxXDBctwYdYXWiU8s0YPKdLOkgHJ6Tpk6ErwqykpKykBKlJUJRKJUpKJRK7TpTpTpopqIryTbCdFIJNSx3tcTmGAdE5xvs9SVZ82DHlHzI00YFW2dGV6q9hhRhww0O5FktjWxg4sFKFe5BJDLJcv6F/xnw3HgeNj4GPgw23CAiLoiF8BVWaaaX2BqGm3LirZp8hVQeU6SGbBOlKSiUSpUOF5iuu39M/k5twTqRKagsaHnQoORyyu3hqUToR1BYs2t5RV5naI5PrDAF6pRoZyzd4a815Q1j7MTcweTe1ogW07jw4EcTI7MAyyX4b/ivA4vF8LHi8Kl8ydIwtRxPFXjyPkWjF6yI8R4T+AfRHQzd5Wlm6dgrDa0diVxa0GQIy1c1Aw+vRKRXURS2/sRURydI0MmmXqlLYO+Yppusc0wo1D2Y67yoCrF3IPqp3Jo0htG85Rl58F8L+mvgfqsZjnY0usWyP1F+F2XQlV8Zf+IghlA9YSmqKJbqDh6EWVlKq3dw2FANjJ/KolEdiL6iKN/Ym1M8ovoHZQtuyWIaFzzIukDzJzB7GVzKynK2lWtO4kqKW9MwfQTqS5fieB43xPFiAnKzzYIh6R+uvhR3iVGm56vguX9a/o39ALK1TtBQOkUYFraxmcqqC0hX9GYHY/g1/EQi3KaonlG0fSIiPYEy1ZOkqMW6pDFncmCO2upapTujD+xInqUb9O4wcxBpj1oPoJ1iWS5fhXhcY8GGVaIXSwDRgWYTZIseA+IlweN8SxcqTHJar3lJTeJ6iJ8s6XhiEoH2QFraq4AsHzJS4aASyK6w3DWkpLBKljw76y7ZNSozcBzuOkMHrzBmoxEy49Qe3WWEYL1enCykPJYbJ5Q5iG9pfoIPyT/QgjQZ1iWQf+ZXhRHaiuoROvpRfX0ouSaqt6xsXs0Pzlc2Ih6esieieUcW3nlLyL3YGsKfM85+xjYFIUqsvWX8uY3tS2xPKLYyHOmsx8EgCukwjGiR42Sm8qdYlqIlTrVjMRNM1aV7FwbRhIo0Q5qJa4JFXQJm06TGyYLluXI3h9WUQqYrWaFfrDamS5NESG2gXLAdBOgToSvACUSiUSiUSkBKJRKJSUSkqyqdFOmiupi9ROljnqdv1Je8T2hghS9yADnlrLk3oSMxNN9CZsqdyCABFYGe8G5IJzlkuX/xngfRQ4ISjhRKiSwu3vMtDTAMvpuRO/TgyaK6swa3mqYCkehFeR2h+cTTsWt2bNNoQLkgPKdKUgHERw6UWRji8CPER0Yf8GuFSk6EW1PpFdTHVCdF9Y8sPOaaMuUk2YclZoTytlezFySymr1IggLNRmjetDSepLl/8RXjY+DW7N4EXZHDL4kcFz6pRK4PiPFdKc53aj9g4XGG40Wq6g1VaNukWfkg0IcL/AOXXFDLTQjqoXVmJMI85RWF7wtPmo6wdyUymiCrMg3eaMMLS5cvwL4L/AIa+D4HwsNnu4VJqIwz/2Q==)"
      ],
      "metadata": {
        "id": "3XeHE28g6tq7"
      }
    },
    {
      "cell_type": "code",
      "source": [
        "#PRACTICAL QUESTION\n",
        "\n",
        "#1. Write a Python function that takes a list of numbers as input and returns the sum of all even numbers in the list.\n",
        "def sum_of_even_numbers(numbers):\n",
        "    \"\"\"\n",
        "    Calculates the sum of all even numbers in a given list.\n",
        "\n",
        "    Parameters:\n",
        "    - numbers: A list of integers.\n",
        "\n",
        "    Returns:\n",
        "    - The sum of all even numbers in the list.\n",
        "    \"\"\"\n",
        "    return sum(num for num in numbers if num % 2 == 0)\n",
        "\n",
        "# Example usage\n",
        "input_list = eval(input(\"Enter a list of numbers (e.g., [1, 2, 3, 4, 5]): \"))\n",
        "even_sum = sum_of_even_numbers(input_list)\n",
        "print(f\"The sum of all even numbers in the list is: {even_sum}\")\n"
      ],
      "metadata": {
        "id": "XVHlI5j45jFZ",
        "colab": {
          "base_uri": "https://localhost:8080/"
        },
        "outputId": "38f8e796-7f7a-44a4-c26d-587721d9b610"
      },
      "execution_count": 28,
      "outputs": [
        {
          "output_type": "stream",
          "name": "stdout",
          "text": [
            "Enter a list of numbers (e.g., [1, 2, 3, 4, 5]): [1, 2, 3, 4, 5]\n",
            "The sum of all even numbers in the list is: 6\n"
          ]
        }
      ]
    },
    {
      "cell_type": "code",
      "source": [
        "#2.Create a Python function that accepts a string and returns the reverse of that string.\n",
        "def reverse_string(input_string):\n",
        "    \"\"\"\n",
        "    Reverses the given string.\n",
        "\n",
        "    Parameters:\n",
        "    - input_string: The string to be reversed.\n",
        "\n",
        "    Returns:\n",
        "    - The reversed string.\n",
        "    \"\"\"\n",
        "    return input_string[::-1]\n",
        "\n",
        "# Example usage\n",
        "user_input = input(\"Enter a string to reverse: \")\n",
        "reversed_str = reverse_string(user_input)\n",
        "print(f\"The reversed string is: {reversed_str}\")\n",
        "\n",
        "\n"
      ],
      "metadata": {
        "id": "mBo9WxXn5jeS",
        "colab": {
          "base_uri": "https://localhost:8080/"
        },
        "outputId": "7b0f20f6-6970-4eeb-cfe0-88822608bbef"
      },
      "execution_count": 29,
      "outputs": [
        {
          "output_type": "stream",
          "name": "stdout",
          "text": [
            "Enter a string to reverse: Khushi\n",
            "The reversed string is: ihsuhK\n"
          ]
        }
      ]
    },
    {
      "cell_type": "code",
      "source": [
        "#3.Implement a Python function that takes a list of integers and returns a new list containing the squares of each number\n",
        "def square_numbers(numbers):\n",
        "    \"\"\"\n",
        "    Returns a new list with the squares of each number in the input list.\n",
        "\n",
        "    Parameters:\n",
        "    - numbers: A list of integers.\n",
        "\n",
        "    Returns:\n",
        "    - A list of squared integers.\n",
        "    \"\"\"\n",
        "    return [num ** 2 for num in numbers]\n",
        "\n",
        "# Example usage\n",
        "input_list = eval(input(\"Enter a list of integers (e.g., [1, 2, 3, 4]): \"))\n",
        "squared_list = square_numbers(input_list)\n",
        "print(f\"The list of squared numbers is: {squared_list}\")\n",
        "\n"
      ],
      "metadata": {
        "colab": {
          "base_uri": "https://localhost:8080/"
        },
        "id": "KLm1u2dy_XZd",
        "outputId": "1f6c93ee-02cf-49b8-f53a-17ca7f5d14d0"
      },
      "execution_count": 30,
      "outputs": [
        {
          "output_type": "stream",
          "name": "stdout",
          "text": [
            "Enter a list of integers (e.g., [1, 2, 3, 4]): [1, 2, 3, 4]\n",
            "The list of squared numbers is: [1, 4, 9, 16]\n"
          ]
        }
      ]
    },
    {
      "cell_type": "code",
      "source": [
        "#4.Write a Python function that checks if a given number is prime or not from 1 to 200.\n",
        "\n",
        "def is_prime(number):\n",
        "    \"\"\"\n",
        "    Checks if a number is prime.\n",
        "\n",
        "    Parameters:\n",
        "    - number: The integer to check.\n",
        "\n",
        "    Returns:\n",
        "    - True if the number is prime, otherwise False.\n",
        "    \"\"\"\n",
        "    if number <= 1:\n",
        "        return False\n",
        "    for i in range(2, int(number ** 0.5) + 1):\n",
        "        if number % i == 0:\n",
        "            return False\n",
        "    return True\n",
        "\n",
        "def primes_up_to_200():\n",
        "    \"\"\"\n",
        "    Finds all prime numbers from 1 to 200.\n",
        "\n",
        "    Returns:\n",
        "    - A list of prime numbers between 1 and 200.\n",
        "    \"\"\"\n",
        "    return [num for num in range(1, 201) if is_prime(num)]\n",
        "\n",
        "# Example usage\n",
        "print(\"Prime numbers from 1 to 200:\")\n",
        "print(primes_up_to_200())\n"
      ],
      "metadata": {
        "id": "qoS9kAbc5j3c",
        "colab": {
          "base_uri": "https://localhost:8080/"
        },
        "outputId": "1075c9a4-a64e-4707-a398-a1793446ed47"
      },
      "execution_count": 31,
      "outputs": [
        {
          "output_type": "stream",
          "name": "stdout",
          "text": [
            "Prime numbers from 1 to 200:\n",
            "[2, 3, 5, 7, 11, 13, 17, 19, 23, 29, 31, 37, 41, 43, 47, 53, 59, 61, 67, 71, 73, 79, 83, 89, 97, 101, 103, 107, 109, 113, 127, 131, 137, 139, 149, 151, 157, 163, 167, 173, 179, 181, 191, 193, 197, 199]\n"
          ]
        }
      ]
    },
    {
      "cell_type": "code",
      "source": [
        "#5. Create an iterator class in Python that generates the Fibonacci sequence up to a specified number of terms.\n",
        "class FibonacciIterator:\n",
        "    \"\"\"\n",
        "    Iterator class to generate the Fibonacci sequence up to a specified number of terms.\n",
        "    \"\"\"\n",
        "    def __init__(self, num_terms):\n",
        "        \"\"\"\n",
        "        Initializes the iterator with the number of terms.\n",
        "\n",
        "        Parameters:\n",
        "        - num_terms: The number of Fibonacci terms to generate.\n",
        "        \"\"\"\n",
        "        self.num_terms = num_terms\n",
        "        self.current_term = 0\n",
        "        self.a, self.b = 0, 1\n",
        "\n",
        "    def __iter__(self):\n",
        "        \"\"\"\n",
        "        Returns the iterator object.\n",
        "        \"\"\"\n",
        "        return self\n",
        "\n",
        "    def __next__(self):\n",
        "        \"\"\"\n",
        "        Returns the next Fibonacci number in the sequence.\n",
        "        \"\"\"\n",
        "        if self.current_term >= self.num_terms:\n",
        "            raise StopIteration\n",
        "        if self.current_term == 0:\n",
        "            self.current_term += 1\n",
        "            return self.a\n",
        "        elif self.current_term == 1:\n",
        "            self.current_term += 1\n",
        "            return self.b\n",
        "        else:\n",
        "            self.current_term += 1\n",
        "            self.a, self.b = self.b, self.a + self.b\n",
        "            return self.a\n",
        "\n",
        "# Example usage\n",
        "num_terms = int(input(\"Enter the number of Fibonacci terms to generate: \"))\n",
        "fib_iterator = FibonacciIterator(num_terms)\n",
        "\n",
        "print(f\"The first {num_terms} terms of the Fibonacci sequence are:\")\n",
        "for fib_num in fib_iterator:\n",
        "    print(fib_num, end=\" \")\n"
      ],
      "metadata": {
        "id": "CknMXsVr5kLz",
        "colab": {
          "base_uri": "https://localhost:8080/"
        },
        "outputId": "8da69cae-6057-422c-8d45-1b79ed85c4a7"
      },
      "execution_count": 32,
      "outputs": [
        {
          "output_type": "stream",
          "name": "stdout",
          "text": [
            "Enter the number of Fibonacci terms to generate: 5\n",
            "The first 5 terms of the Fibonacci sequence are:\n",
            "0 1 1 1 2 "
          ]
        }
      ]
    },
    {
      "cell_type": "code",
      "source": [
        "#6.Write a generator function in Python that yields the powers of 2 up to a given exponent\n",
        "\n",
        "def powers_of_two(max_exponent):\n",
        "    \"\"\"\n",
        "    Generator function that yields powers of 2 up to the given exponent.\n",
        "\n",
        "    Parameters:\n",
        "    - max_exponent: The maximum exponent for which 2^exponent is calculated.\n",
        "\n",
        "    Yields:\n",
        "    - Powers of 2 from 2^0 to 2^max_exponent.\n",
        "    \"\"\"\n",
        "    for exponent in range(max_exponent + 1):\n",
        "        yield 2 ** exponent\n",
        "\n",
        "# Example usage\n",
        "max_exp = int(input(\"Enter the maximum exponent: \"))\n",
        "print(f\"Powers of 2 up to 2^{max_exp}:\")\n",
        "for power in powers_of_two(max_exp):\n",
        "    print(power, end=\" \")\n"
      ],
      "metadata": {
        "id": "7YevXC0k5kiE",
        "colab": {
          "base_uri": "https://localhost:8080/"
        },
        "outputId": "5219ca71-e759-41e2-8021-7ed9415c53ba"
      },
      "execution_count": 33,
      "outputs": [
        {
          "output_type": "stream",
          "name": "stdout",
          "text": [
            "Enter the maximum exponent: 6\n",
            "Powers of 2 up to 2^6:\n",
            "1 2 4 8 16 32 64 "
          ]
        }
      ]
    },
    {
      "cell_type": "code",
      "source": [
        "#7.Implement a generator function that reads a file line by line and yields each line as a string.\n",
        "def read_file_line_by_line(file_path):\n",
        "    \"\"\"\n",
        "    Generator function that reads a file line by line.\n",
        "\n",
        "    Parameters:\n",
        "    - file_path: The path to the file to be read.\n",
        "\n",
        "    Yields:\n",
        "    - Each line in the file as a string.\n",
        "    \"\"\"\n",
        "    try:\n",
        "        with open(file_path, 'r') as file:\n",
        "            for line in file:\n",
        "                yield line.rstrip('\\n')\n",
        "    except FileNotFoundError:\n",
        "        print(f\"Error: The file '{file_path}' was not found.\")\n",
        "    except Exception as e:\n",
        "        print(f\"An error occurred: {e}\")\n",
        "\n",
        "# Example usage\n",
        "file_path = input(\"Enter the path to the file: \")\n",
        "print(\"File contents, line by line:\")\n",
        "for line in read_file_line_by_line(file_path):\n",
        "    print(line)\n"
      ],
      "metadata": {
        "id": "Ekweq08-5k4l",
        "colab": {
          "base_uri": "https://localhost:8080/"
        },
        "outputId": "6a30edca-98d6-41e4-ffe1-cb4abf1acccd"
      },
      "execution_count": 35,
      "outputs": [
        {
          "output_type": "stream",
          "name": "stdout",
          "text": [
            "Enter the path to the file: example.txt\n",
            "File contents, line by line:\n",
            "Error: The file 'example.txt' was not found.\n"
          ]
        }
      ]
    },
    {
      "cell_type": "code",
      "source": [
        "#8. Use a lambda function in Python to sort a list of tuples based on the second element of each tuple.\n",
        "# Example list of tuples\n",
        "tuples_list = [(1, 3), (4, 1), (2, 5), (7, 2)]\n",
        "\n",
        "# Sorting the list based on the second element of each tuple\n",
        "sorted_list = sorted(tuples_list, key=lambda x: x[1])\n",
        "\n",
        "# Output the sorted list\n",
        "print(\"Original list:\", tuples_list)\n",
        "print(\"Sorted list based on the second element:\", sorted_list)\n"
      ],
      "metadata": {
        "id": "gJCPvsoZ5laQ",
        "colab": {
          "base_uri": "https://localhost:8080/"
        },
        "outputId": "86e029f9-b10f-410e-e361-a9f86e86c3c1"
      },
      "execution_count": 36,
      "outputs": [
        {
          "output_type": "stream",
          "name": "stdout",
          "text": [
            "Original list: [(1, 3), (4, 1), (2, 5), (7, 2)]\n",
            "Sorted list based on the second element: [(4, 1), (7, 2), (1, 3), (2, 5)]\n"
          ]
        }
      ]
    },
    {
      "cell_type": "code",
      "source": [
        "#9.Write a Python program that uses map() to convert a list of temperatures from Celsius to Fahrenheit.\n",
        "def celsius_to_fahrenheit(celsius):\n",
        "    \"\"\"\n",
        "    Converts Celsius to Fahrenheit.\n",
        "\n",
        "    Formula: (Celsius * 9/5) + 32\n",
        "    \"\"\"\n",
        "    return (celsius * 9 / 5) + 32\n",
        "\n",
        "# List of temperatures in Celsius\n",
        "celsius_temperatures = [0, 20, 37, 100]\n",
        "\n",
        "# Using map to convert Celsius to Fahrenheit\n",
        "fahrenheit_temperatures = list(map(celsius_to_fahrenheit, celsius_temperatures))\n",
        "\n",
        "# Output the result\n",
        "print(\"Temperatures in Celsius:\", celsius_temperatures)\n",
        "print(\"Temperatures in Fahrenheit:\", fahrenheit_temperatures)\n"
      ],
      "metadata": {
        "id": "T3xzbAOj5l3I",
        "colab": {
          "base_uri": "https://localhost:8080/"
        },
        "outputId": "e5c2655e-1209-415b-a733-e6fa66c38491"
      },
      "execution_count": 37,
      "outputs": [
        {
          "output_type": "stream",
          "name": "stdout",
          "text": [
            "Temperatures in Celsius: [0, 20, 37, 100]\n",
            "Temperatures in Fahrenheit: [32.0, 68.0, 98.6, 212.0]\n"
          ]
        }
      ]
    },
    {
      "cell_type": "code",
      "source": [
        "#10.Python program that uses filter() to remove all the vowels from a given string.\n",
        "def is_not_vowel(char):\n",
        "    \"\"\"\n",
        "    Checks if a character is not a vowel.\n",
        "    \"\"\"\n",
        "    vowels = \"aeiouAEIOU\"\n",
        "    return char not in vowels\n",
        "\n",
        "# Input string\n",
        "input_string = input(\"Enter a string: \")\n",
        "\n",
        "# Using filter to remove vowels\n",
        "filtered_string = ''.join(filter(is_not_vowel, input_string))\n",
        "\n",
        "# Output the result\n",
        "print(\"Original string:\", input_string)\n",
        "print(\"String without vowels:\", filtered_string)\n"
      ],
      "metadata": {
        "colab": {
          "base_uri": "https://localhost:8080/"
        },
        "id": "6HuxHuB-AygM",
        "outputId": "62801065-bb78-45d6-a617-61116d55967a"
      },
      "execution_count": 38,
      "outputs": [
        {
          "output_type": "stream",
          "name": "stdout",
          "text": [
            "Enter a string: Khushi\n",
            "Original string: Khushi\n",
            "String without vowels: Khsh\n"
          ]
        }
      ]
    },
    {
      "cell_type": "code",
      "source": [],
      "metadata": {
        "id": "uCmxsaXZ5mUV"
      },
      "execution_count": null,
      "outputs": []
    }
  ]
}