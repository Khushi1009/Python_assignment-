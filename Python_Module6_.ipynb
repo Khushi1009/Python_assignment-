{
  "nbformat": 4,
  "nbformat_minor": 0,
  "metadata": {
    "colab": {
      "provenance": [],
      "authorship_tag": "ABX9TyPAFyxD66Wp3mlYzYdM0HOY",
      "include_colab_link": true
    },
    "kernelspec": {
      "name": "python3",
      "display_name": "Python 3"
    },
    "language_info": {
      "name": "python"
    }
  },
  "cells": [
    {
      "cell_type": "markdown",
      "metadata": {
        "id": "view-in-github",
        "colab_type": "text"
      },
      "source": [
        "<a href=\"https://colab.research.google.com/github/Khushi1009/Python_assignment-/blob/main/Python_Module6_.ipynb\" target=\"_parent\"><img src=\"https://colab.research.google.com/assets/colab-badge.svg\" alt=\"Open In Colab\"/></a>"
      ]
    },
    {
      "cell_type": "code",
      "execution_count": null,
      "metadata": {
        "id": "ktkmHpBn-c76"
      },
      "outputs": [],
      "source": []
    },
    {
      "cell_type": "markdown",
      "source": [
        "1.What are the five key concepts of Object-Oriented Programming (OOP)?\n",
        "\n",
        "Ans.\n",
        "\n",
        "**Inheritance**\n",
        "\n",
        "\n",
        "1.   Inheritance allows a class (child or derived) to acquire the properties and methods of another class (parent or base), enabling reusability and the creation of hierarchical relationships.\n",
        "2.   To promote code reuse and establish a natural hierarchy.\n",
        "\n",
        "3.   Example: A Vehicle class could be a parent class, with Car and Truck as derived classes inheriting its attributes and methods.\n",
        "\n",
        "**Abstraction**\n",
        "\n",
        "1.   Abstraction focuses on hiding the complexity of a system and exposing only the essential features relevant to the user.\n",
        "2.   To reduce programming complexity and effort by providing a clear interface and hiding implementation details.\n",
        "\n",
        "3.   Example: A car class exposes methods like start() or drive() without revealing the underlying mechanics of the engine.\n",
        "\n",
        "**Polymorphism**\n",
        "\n",
        "\n",
        "1.   Polymorphism enables objects to be treated as instances of their parent class while allowing for method overriding to define specific behaviors.\n",
        "2.  To allow one interface to be used for different types or classes.\n",
        "\n",
        "3.   Example: A method draw() might be defined in a Shape class, with specific implementations in Circle and Square.\n",
        "\n",
        "**Encapsulation**\n",
        "\n",
        "\n",
        "1.    Encapsulation is the bundling of data (attributes) and methods (functions) that operate on the data into a single unit, known as a class. It also restricts direct access to some components to maintain integrity.\n",
        "2.  To hide the internal state and require all interactions to occur through defined interfaces.\n",
        "\n",
        "\n",
        "**Class/Object**\n",
        "1.    A class is a blueprint or template that defines the properties (attributes) and behaviors (methods) of an object, while an object is an instance of a class.\n",
        "\n",
        "2.   Classes provide structure and definition, and objects represent specific, usable entities created from those classes.\n",
        "3.   Example: A Person class may have attributes like name and age and methods like speak(). An instance, or object, of this class would be a specific person, e.g., john = Person(\"John\", 30).\n",
        "\n",
        "\n",
        "\n",
        "\n",
        "\n",
        "\n",
        "\n",
        "\n",
        "\n",
        "\n",
        "\n",
        "\n",
        "\n",
        "\n",
        "\n",
        "\n",
        "\n",
        "\n",
        "\n",
        "\n",
        "\n"
      ],
      "metadata": {
        "id": "P1w1RZOxBTsR"
      }
    },
    {
      "cell_type": "code",
      "source": [
        "#2. Write a Python class for a `Car` with attributes for `make`, `model`, and `year`. Include a method to display the car's information\n",
        "\n",
        "class Car:\n",
        "    def __init__(self, make, model, year):\n",
        "\n",
        "        #Initialize the Car object with make, model, and year attributes.\n",
        "\n",
        "        self.make = make\n",
        "        self.model = model\n",
        "        self.year = year\n",
        "\n",
        "    def display_info(self):\n",
        "\n",
        "        # Display the car's information.\n",
        "\n",
        "       return str(self.year) + \" \" + self.make + \" \" + self.model\n",
        "\n"
      ],
      "metadata": {
        "id": "JrL-nldxJQzP"
      },
      "execution_count": null,
      "outputs": []
    },
    {
      "cell_type": "code",
      "source": [
        "car = Car(\"Honda\", \"Civic\", 2023)\n",
        "car.display_info()"
      ],
      "metadata": {
        "id": "hPJkQe7yIe7m",
        "colab": {
          "base_uri": "https://localhost:8080/",
          "height": 36
        },
        "outputId": "fc7c5def-15bd-4a95-cf8b-e835c254a173"
      },
      "execution_count": null,
      "outputs": [
        {
          "output_type": "execute_result",
          "data": {
            "text/plain": [
              "'2023 Honda Civic'"
            ],
            "application/vnd.google.colaboratory.intrinsic+json": {
              "type": "string"
            }
          },
          "metadata": {},
          "execution_count": 5
        }
      ]
    },
    {
      "cell_type": "markdown",
      "source": [
        "3. Explain the difference between instance methods and class methods. Provide an example of each.\n",
        "\n",
        "Ans.\n",
        "\n",
        "Instance Methods:\n",
        "\n",
        "1.   Operate on an instance of the class.\n",
        "2.   The first parameter is self, which represents the instance of the class.\n",
        "3.   Can access and modify instance attributes and call other instance methods.\n",
        "4.   Can only be called on an instance of the class.\n",
        "\n",
        "Class Methods:\n",
        "\n",
        "\n",
        "1.  Operate on the class itself, not a specific instance.\n",
        "2.  The first parameter is cls, which represents the class.\n",
        "3.  Can access and modify class-level attributes, but cannot access instance attributes directly.\n",
        "4.  Decorated with @classmethod."
      ],
      "metadata": {
        "id": "hAycfCRDLsNK"
      }
    },
    {
      "cell_type": "code",
      "source": [
        "#example of insrance method and class method\n",
        "\n",
        "class Car:\n",
        "    total_cars = 0  # to keep track of total cars created\n",
        "\n",
        "    def __init__(self, make, model, year):\n",
        "        self.make = make\n",
        "        self.model = model\n",
        "        self.year = year\n",
        "        Car.total_cars += 1\n",
        "\n",
        "    def display_details(self):\n",
        "        \"\"\"\n",
        "        Instance method to display the car's details.\n",
        "        \"\"\"\n",
        "        print(f\"Car: {self.year} {self.make} {self.model}\")\n",
        "\n",
        "    @classmethod\n",
        "    def display_total_cars(cls):\n",
        "        \"\"\"\n",
        "        Class method to display the total number of cars created.\n",
        "        \"\"\"\n",
        "        print(f\"Total cars created: {cls.total_cars}\")\n"
      ],
      "metadata": {
        "id": "VaCHrQLcVg-c"
      },
      "execution_count": null,
      "outputs": []
    },
    {
      "cell_type": "code",
      "source": [
        "car1 = Car(\"Toyota\", \"Corolla\", 2020)\n",
        "car2 = Car(\"Honda\", \"Civic\", 2022)\n",
        "\n",
        "# Using instance method\n",
        "car1.display_details()\n",
        "car2.display_details()\n",
        "\n",
        "# Using class method\n",
        "Car.display_total_cars()"
      ],
      "metadata": {
        "colab": {
          "base_uri": "https://localhost:8080/"
        },
        "id": "-wL000mxW7AO",
        "outputId": "dcc72c99-33ea-4b21-86aa-dc7412bebf02"
      },
      "execution_count": null,
      "outputs": [
        {
          "output_type": "stream",
          "name": "stdout",
          "text": [
            "Car: 2020 Toyota Corolla\n",
            "Car: 2022 Honda Civic\n",
            "Total cars created: 4\n"
          ]
        }
      ]
    },
    {
      "cell_type": "code",
      "source": [
        "#4. How does Python implement method overloading? Give an example.\n",
        "\"\"\"Python does not support method overloading in the traditional sense as seen in languages like Java or C++,\n",
        " where you can define multiple methods with the same name but different parameter lists.\"\"\"\n",
        "\n",
        "class Calculator:\n",
        "    def add(self, a, b=0, c=0):\n",
        "        \"\"\"\n",
        "        Adds two or three numbers.\n",
        "        \"\"\"\n",
        "        return a + b + c\n",
        "\n",
        "calc = Calculator()\n",
        "print(calc.add(5))\n",
        "print(calc.add(5, 10))\n",
        "print(calc.add(5, 10, 15))\n"
      ],
      "metadata": {
        "colab": {
          "base_uri": "https://localhost:8080/"
        },
        "id": "mCdiw2QlXUpW",
        "outputId": "d7be96db-5d20-4d9c-afa8-430417d32272"
      },
      "execution_count": null,
      "outputs": [
        {
          "output_type": "stream",
          "name": "stdout",
          "text": [
            "5\n",
            "15\n",
            "30\n"
          ]
        }
      ]
    },
    {
      "cell_type": "markdown",
      "source": [
        "5. What are the three types of access modifiers in Python? How are they denoted?\n",
        "\n",
        "Ans.\n",
        "\n",
        "**Public Access Modifier**\n",
        "\n",
        "Public members in Python are those that are accessible from anywhere, both inside and outside the class. They are the default visibility for attributes and methods, meaning if no specific modifier is applied, the member is considered public. Public members can be freely accessed, modified, or called by any code that has access to the object. This makes them ideal for functionalities that should be openly available.\n",
        "\n",
        "**Protected Access Modifier**\n",
        "\n",
        "Protected members are intended to be accessed only within the class and its subclasses. They are not strictly enforced by Python, but a convention is followed by prefixing the member name with a single underscore (_). This serves as a hint to developers that the member is for internal use and should not be accessed directly from outside the class or its subclasses.\n",
        "\n",
        " **Private Access Modifier**\n",
        "\n",
        " Private members are designed to be completely hidden from outside the class where they are defined. They are declared by prefixing the member name with a double underscore (__). Private members are not accessible directly from outside the class or even by subclasses. Python enforces this by a mechanism called name mangling, where the member name is internally changed to include the class name as a prefix.\n"
      ],
      "metadata": {
        "id": "KlVfz7boZKpp"
      }
    },
    {
      "cell_type": "markdown",
      "source": [
        "6. Describe the five types of inheritance in Python. Provide a simple example of multiple inheritance.\n",
        "\n",
        "Ans.\n",
        "\n",
        "**1. Single Inheritance**\n",
        "\n",
        "Single inheritance involves a child class inheriting from one parent class. This type of inheritance allows the child class to reuse the methods and attributes of the parent class. It is the simplest form of inheritance and is typically used when there is a straightforward relationship between two classes. For example, a Child class could inherit from a Parent class to extend or specialize its behavior. This promotes code reuse and reduces redundancy by centralizing common features in the parent class.\n",
        "\n",
        "**2. Multiple Inheritance**\n",
        "\n",
        "Multiple inheritance allows a child class to inherit from more than one parent class. This is useful when the child class needs to combine features or behaviors from multiple unrelated classes. However, it can introduce complexity, especially when methods with the same name exist in multiple parent classes. Python resolves such conflicts using the Method Resolution Order (MRO), which determines the sequence in which parent classes are searched for attributes or methods. For instance, a Child class might inherit from Parent1 and Parent2, gaining access to both sets of features.\n",
        "\n",
        "\n",
        "**3. Multilevel Inheritance**\n",
        "\n",
        "Multilevel inheritance creates a chain of inheritance where a child class inherits from a parent class, which itself inherits from another parent class. This type of inheritance models a hierarchical relationship where properties and methods are passed down the inheritance chain. It is useful for representing relationships with more than two levels. For example, a Grandchild class can inherit from a Parent class, which in turn inherits from a Grandparent class, allowing the Grandchild to access features from all levels.\n",
        "\n",
        "**4. Hierarchical Inheritance**\n",
        "\n",
        "In hierarchical inheritance, multiple child classes inherit from a single parent class. This is useful when different classes need to share common features or behaviors defined in the parent class. Each child class can also define its own unique attributes and methods in addition to those inherited. For instance, a Parent class might define general behavior, while Child1 and Child2 extend it in their specific ways. This promotes code reuse while allowing specialization.\n",
        "\n",
        "\n",
        "**5. Hybrid Inheritance**\n",
        "\n",
        "Hybrid inheritance is a combination of two or more types of inheritance, such as multiple and hierarchical inheritance. It is used to model more complex relationships between classes. For example, a class might inherit from two parent classes (multiple inheritance) while also being part of a hierarchy. This type of inheritance is powerful but can lead to complications, such as ambiguity in method resolution, which is handled in Python through the MRO. Hybrid inheritance offers flexibility for designing intricate relationships between classes in a program.\n",
        "\n",
        "\n"
      ],
      "metadata": {
        "id": "UBthkaGXaXzx"
      }
    },
    {
      "cell_type": "code",
      "source": [
        "#Multiple inheritance example\n",
        "\n",
        "\n",
        "class Engine:\n",
        "    def start(self):\n",
        "        print(\"Engine started.\")\n",
        "\n",
        "    def stop(self):\n",
        "        print(\"Engine stopped.\")\n",
        "\n",
        "class Body:\n",
        "    def open_doors(self):\n",
        "        print(\"Doors opened.\")\n",
        "\n",
        "    def close_doors(self):\n",
        "        print(\"Doors closed.\")\n",
        "\n",
        "class Car(Engine, Body):\n",
        "    def drive(self):\n",
        "        print(\"Car is driving.\")\n",
        "\n",
        "\n",
        "my_car = Car()\n",
        "\n",
        "# Accessing methods from both parent classes\n",
        "my_car.start()\n",
        "my_car.open_doors()\n",
        "my_car.drive()\n",
        "my_car.close_doors()\n",
        "my_car.stop()\n"
      ],
      "metadata": {
        "colab": {
          "base_uri": "https://localhost:8080/"
        },
        "id": "h2U5tK_Ubops",
        "outputId": "b4656ffc-5b31-484e-df7d-cf88dd86adb8"
      },
      "execution_count": null,
      "outputs": [
        {
          "output_type": "stream",
          "name": "stdout",
          "text": [
            "Engine started.\n",
            "Doors opened.\n",
            "Car is driving.\n",
            "Doors closed.\n",
            "Engine stopped.\n"
          ]
        }
      ]
    },
    {
      "cell_type": "markdown",
      "source": [
        "7. What is the Method Resolution Order (MRO) in Python? How can you retrieve it programmatically?\n",
        "\n",
        "Ans.\n",
        "\n",
        "The Method Resolution Order (MRO) in Python determines the sequence in which classes are searched when executing a method or looking for an attribute. It is especially important in the context of inheritance, particularly multiple inheritance, as it defines the order in which parent classes are considered to resolve a method call.\n",
        "\n",
        "Python uses the C3 linearization algorithm (also called C3 superclass linearization) to compute the MRO. This ensures that:\n",
        "\n",
        "1.    Child Precedes Parent: A class always appears before its parent classes in the MRO (Method Resolution Order).\n",
        "2.   Order Preservation: The order of the base classes specified during inheritance is preserved in the MRO.\n",
        "\n",
        "\n",
        "\n",
        "\n"
      ],
      "metadata": {
        "id": "75cacm6fcXJj"
      }
    },
    {
      "cell_type": "code",
      "source": [
        "#MRO\n",
        "class A:\n",
        "    def show(self):\n",
        "        print(\"Class A\")\n",
        "\n",
        "class B(A):\n",
        "    def show(self):\n",
        "        print(\"Class B\")\n",
        "\n",
        "class C(A):\n",
        "    def show(self):\n",
        "        print(\"Class C\")\n",
        "\n",
        "class D(B, C):\n",
        "    pass\n",
        "\n",
        "# Checking the MRO\n",
        "print(D.mro())\n",
        "print(D.__mro__)\n",
        "\n",
        "# Using MRO in method calls\n",
        "obj = D()\n",
        "obj.show()  # Resolves to Class B\n",
        "\n"
      ],
      "metadata": {
        "colab": {
          "base_uri": "https://localhost:8080/"
        },
        "id": "zeGgVOj2dOIu",
        "outputId": "2c6fdb77-f126-4261-b3c1-2c45be14cf49"
      },
      "execution_count": null,
      "outputs": [
        {
          "output_type": "stream",
          "name": "stdout",
          "text": [
            "[<class '__main__.D'>, <class '__main__.B'>, <class '__main__.C'>, <class '__main__.A'>, <class 'object'>]\n",
            "(<class '__main__.D'>, <class '__main__.B'>, <class '__main__.C'>, <class '__main__.A'>, <class 'object'>)\n",
            "Class B\n"
          ]
        }
      ]
    },
    {
      "cell_type": "code",
      "source": [
        "#8.Create an abstract base class `Shape` with an abstract method `area()`. Then create two subclasses `Circle` and `Rectangle` that implement the `area()` method.\n",
        "from abc import ABC, abstractmethod\n",
        "import math\n",
        "\n",
        "# Abstract Base Class\n",
        "class Shape(ABC):\n",
        "    @abstractmethod\n",
        "    def area(self):\n",
        "        pass  # Abstract method that must be overridden\n",
        "\n",
        "# Subclass Circle\n",
        "class Circle(Shape):\n",
        "    def __init__(self, radius):\n",
        "        self.radius = radius\n",
        "\n",
        "    def area(self):\n",
        "        return math.pi * self.radius ** 2  # Area of a circle: πr^2\n",
        "\n",
        "# Subclass Rectangle\n",
        "class Rectangle(Shape):\n",
        "    def __init__(self, width, height):\n",
        "        self.width = width\n",
        "        self.height = height\n",
        "\n",
        "    def area(self):\n",
        "        return self.width * self.height  # Area of rectangle: width × height\n",
        "\n",
        "# Usage\n",
        "circle = Circle(5)\n",
        "print(f\"Circle area: {circle.area()}\")\n",
        "\n",
        "rectangle = Rectangle(4, 6)\n",
        "print(f\"Rectangle area: {rectangle.area()}\")\n",
        "\n"
      ],
      "metadata": {
        "colab": {
          "base_uri": "https://localhost:8080/"
        },
        "id": "ZNtzo4yWeVfx",
        "outputId": "b1d1f76c-9324-4f40-95a3-5a8ad434fb1a"
      },
      "execution_count": null,
      "outputs": [
        {
          "output_type": "stream",
          "name": "stdout",
          "text": [
            "Circle area: 78.53981633974483\n",
            "Rectangle area: 24\n"
          ]
        }
      ]
    },
    {
      "cell_type": "code",
      "source": [
        "\"\"\"\n",
        "9. Demonstrate polymorphism by creating a function that can work with different shape objects to calculate and print their areas.\n",
        "\n",
        "Ans.\n",
        "Polymorphism in Python allows objects of different classes to be treated as objects of a common base class.\n",
        "The key idea is that a function or method can operate on objects of different types and provide the correct behavior based on the object type.\n",
        "In this case, we can create a function that calculates and prints the area of any shape object\n",
        "(such as Circle, Rectangle, etc.), using polymorphism.\n",
        "Since all shapes have the area() method (either directly or through inheritance), the function can work with any object that implements this method.\n",
        "\"\"\"\n",
        "from abc import ABC, abstractmethod\n",
        "import math\n",
        "\n",
        "# Abstract Base Class\n",
        "class Shape(ABC):\n",
        "    @abstractmethod\n",
        "    def area(self):\n",
        "        pass\n",
        "\n",
        "# Subclass Circle\n",
        "class Circle(Shape):\n",
        "    def __init__(self, radius):\n",
        "        self.radius = radius\n",
        "\n",
        "    def area(self):\n",
        "        return math.pi * self.radius ** 2  # Area of a circle: πr^2\n",
        "\n",
        "# Subclass Rectangle\n",
        "class Rectangle(Shape):\n",
        "    def __init__(self, width, height):\n",
        "        self.width = width\n",
        "        self.height = height\n",
        "\n",
        "    def area(self):\n",
        "        return self.width * self.height  # Area of rectangle: width × height\n",
        "\n",
        "# Function that works with different shape objects\n",
        "def print_area(shape: Shape):\n",
        "    print(f\"The area of the shape is: {shape.area()}\")\n",
        "\n",
        "circle = Circle(5)\n",
        "rectangle = Rectangle(4, 6)\n",
        "\n",
        "# Calling the function with different shape objects\n",
        "print_area(circle)\n",
        "print_area(rectangle)\n",
        "\n",
        "\n",
        "\n"
      ],
      "metadata": {
        "id": "TKadNoWlfAfz",
        "colab": {
          "base_uri": "https://localhost:8080/"
        },
        "outputId": "ea5ddcd3-a8e0-4d20-d83b-4a333498e100"
      },
      "execution_count": 15,
      "outputs": [
        {
          "output_type": "stream",
          "name": "stdout",
          "text": [
            "The area of the shape is: 78.53981633974483\n",
            "The area of the shape is: 24\n"
          ]
        }
      ]
    },
    {
      "cell_type": "code",
      "source": [
        "\"\"\"\n",
        "10. Implement encapsulation in a `BankAccount` class with private attributes for `balance` and `account_number`.\n",
        "Include methods for deposit, withdrawal, and balance inquiry.\n",
        "\n",
        "Ans.\n",
        "Encapsulation in Python is the concept of restricting access to some of an object's attributes and methods.\n",
        "This can be done by declaring attributes as private (using a double underscore prefix __) and\n",
        " providing getter and setter methods to access and modify them in a controlled manner.\n",
        "In the case of a BankAccount class, we can make the balance and account_number private,\n",
        "and then provide methods for deposit, withdrawal, and balance inquiry.\n",
        "\n",
        "\n",
        "\"\"\"\n",
        "\n",
        "class BankAccount:\n",
        "    def __init__(self, account_number, initial_balance=0):\n",
        "        self.__account_number = account_number  # Private attribute\n",
        "        self.__balance = initial_balance        # Private attribute\n",
        "\n",
        "    # Getter method for balance\n",
        "    def get_balance(self):\n",
        "        return self.__balance\n",
        "\n",
        "    # Deposit method to add money to the account\n",
        "    def deposit(self, amount):\n",
        "        if amount > 0:\n",
        "            self.__balance += amount\n",
        "            print(f\"Deposited: ${amount}. Current balance: ${self.__balance}.\")\n",
        "        else:\n",
        "            print(\"Deposit amount must be positive.\")\n",
        "\n",
        "    # Withdrawal method to remove money from the account\n",
        "    def withdraw(self, amount):\n",
        "        if amount > 0:\n",
        "            if amount <= self.__balance:\n",
        "                self.__balance -= amount\n",
        "                print(f\"Withdrew: ${amount}. Current balance: ${self.__balance}.\")\n",
        "            else:\n",
        "                print(\"Insufficient funds.\")\n",
        "        else:\n",
        "            print(\"Withdrawal amount must be positive.\")\n",
        "\n",
        "    # Method to check account details (account number and balance)\n",
        "    def account_info(self):\n",
        "        print(f\"Account Number: {self.__account_number}\\nBalance: ${self.__balance}\")\n",
        "\n",
        "account = BankAccount(\"12345678\", 1000)\n",
        "\n",
        "\n",
        "account.deposit(500)\n",
        "\n",
        "account.withdraw(300)\n",
        "\n",
        "account.account_info()\n",
        "\n",
        "\n",
        "\n"
      ],
      "metadata": {
        "colab": {
          "base_uri": "https://localhost:8080/"
        },
        "id": "JQeql8dxglwe",
        "outputId": "229dfb45-eafc-498b-d08c-8b164a93d65b"
      },
      "execution_count": 16,
      "outputs": [
        {
          "output_type": "stream",
          "name": "stdout",
          "text": [
            "Deposited: $500. Current balance: $1500.\n",
            "Withdrew: $300. Current balance: $1200.\n",
            "Account Number: 12345678\n",
            "Balance: $1200\n"
          ]
        }
      ]
    },
    {
      "cell_type": "code",
      "source": [
        "'''\n",
        "11. Write a class that overrides the `__str__` and `__add__` magic methods. What will these methods allow you to do?\n",
        "\n",
        "Ans.\n",
        "In Python, magic methods (also called dunder methods) allow you to define special behavior for objects.\n",
        "Two commonly used magic methods are __str__ and __add__.\n",
        "\n",
        "__str__: This magic method is called when you attempt to convert an object into a string (e.g., using print() or str()).\n",
        "         Overriding it allows you to control the string representation of your class instances.\n",
        "__add__: This magic method is called when you use the + operator between two objects of a class.\n",
        "         Overriding it allows you to define how two objects of your class should be added together,\n",
        "         such as adding their attributes or combining them in a specific way.\n",
        "'''\n",
        "class Point:\n",
        "    def __init__(self, x, y):\n",
        "        self.x = x\n",
        "        self.y = y\n",
        "\n",
        "    # Override the __str__ method to provide a string representation of the object\n",
        "    def __str__(self):\n",
        "        return f\"Point({self.x}, {self.y})\"\n",
        "\n",
        "    # Override the __add__ method to define how two Point objects should be added\n",
        "    def __add__(self, other):\n",
        "        if isinstance(other, Point):\n",
        "            return Point(self.x + other.x, self.y + other.y)\n",
        "        return NotImplemented  # In case of trying to add a non-Point object\n",
        "\n",
        "# Usage Example\n",
        "point1 = Point(2, 3)\n",
        "point2 = Point(4, 5)\n",
        "\n",
        "# Printing the objects (calls the __str__ method)\n",
        "print(point1)\n",
        "print(point2)\n",
        "\n",
        "# Adding two Point objects (calls the __add__ method)\n",
        "point3 = point1 + point2\n",
        "print(point3)\n",
        "\n"
      ],
      "metadata": {
        "colab": {
          "base_uri": "https://localhost:8080/"
        },
        "id": "YMnOMolkhmCS",
        "outputId": "949ed695-9538-48b6-f965-b362072e3dd5"
      },
      "execution_count": 17,
      "outputs": [
        {
          "output_type": "stream",
          "name": "stdout",
          "text": [
            "Point(2, 3)\n",
            "Point(4, 5)\n",
            "Point(6, 8)\n"
          ]
        }
      ]
    },
    {
      "cell_type": "code",
      "source": [
        "\"\"\"\n",
        "12. Create a decorator that measures and prints the execution time of a function.\n",
        "\n",
        "Ans.\n",
        "\n",
        "\"\"\"\n",
        "import time\n",
        "\n",
        "# Decorator to measure execution time\n",
        "def measure_time(func):\n",
        "    def wrapper(*args, **kwargs):\n",
        "        start_time = time.time()  # Record the start time\n",
        "        result = func(*args, **kwargs)  # Call the original function\n",
        "        end_time = time.time()  # Record the end time\n",
        "        execution_time = end_time - start_time  # Calculate the execution time\n",
        "        print(f\"Execution time of {func.__name__}: {execution_time:.4f} seconds\")\n",
        "        return result  # Return the result of the function\n",
        "    return wrapper\n",
        "\n",
        "# Applying the decorator to a function\n",
        "@measure_time\n",
        "def slow_function():\n",
        "    time.sleep(2)\n",
        "    print(\"Function completed!\")\n",
        "\n",
        "slow_function()\n"
      ],
      "metadata": {
        "colab": {
          "base_uri": "https://localhost:8080/"
        },
        "id": "H7iWlTcxitz8",
        "outputId": "1ccdeead-98a0-449d-e02a-760535f8dc48"
      },
      "execution_count": 18,
      "outputs": [
        {
          "output_type": "stream",
          "name": "stdout",
          "text": [
            "Function completed!\n",
            "Execution time of slow_function: 2.0030 seconds\n"
          ]
        }
      ]
    },
    {
      "cell_type": "markdown",
      "source": [
        "13. Explain the concept of the Diamond Problem in multiple inheritance. How does Python resolve it?\n",
        "\n",
        "Ans.\n",
        "\n",
        "The Diamond Problem is a complication that arises in object-oriented programming when a class inherits from two classes that both inherit from a common ancestor class. This can cause ambiguity in the inheritance hierarchy, particularly when methods or attributes are inherited from the common ancestor. The issue occurs because it's unclear which path should be followed to access the inherited method or attribute from the common ancestor.\n",
        "\n",
        "       A\n",
        "      / \\\n",
        "     B   C\n",
        "      \\ /\n",
        "       D\n",
        "\n",
        "In this diagram:\n",
        "\n",
        "Class A is the base class.\n",
        "Classes B and C both inherit from class A.\n",
        "Class D inherits from both B and C.\n",
        "\n",
        "The Diamond Problem occurs when class D inherits attributes or methods from both B and C, and both B and C have modified or overridden the methods they inherited from class A. Python needs to determine which version of the method or attribute D should inherit.\n",
        "\n",
        "Python's Solution:\n",
        "\n",
        "Python uses the Method Resolution Order (MRO) to determine the order in which base classes are considered when searching for a method or attribute. The MRO specifies the order in which base classes are inherited, and it is determined using the C3 Linearization Algorithm."
      ],
      "metadata": {
        "id": "oTzAA9nUjEnM"
      }
    },
    {
      "cell_type": "code",
      "source": [
        "'''\n",
        "14. Write a class method that keeps track of the number of instances created from a class.\n",
        "\n",
        "Ans.\n",
        "\n",
        "\n",
        "'''\n",
        "class MyClass:\n",
        "    # Class variable to track the number of instances\n",
        "    instance_count = 0\n",
        "\n",
        "    def __init__(self):\n",
        "        # Increment the instance count whenever a new instance is created\n",
        "        MyClass.increment_instance_count()\n",
        "\n",
        "    @classmethod\n",
        "    def increment_instance_count(cls):\n",
        "        # Increment the class variable instance_count\n",
        "        cls.instance_count += 1\n",
        "\n",
        "    @classmethod\n",
        "    def get_instance_count(cls):\n",
        "        # Return the current number of instances created\n",
        "        return cls.instance_count\n",
        "\n",
        "# Create instances of MyClass\n",
        "obj1 = MyClass()\n",
        "obj2 = MyClass()\n",
        "obj3 = MyClass()\n",
        "\n",
        "print(f\"Number of instances created: {MyClass.get_instance_count()}\")\n"
      ],
      "metadata": {
        "colab": {
          "base_uri": "https://localhost:8080/"
        },
        "id": "JIPt6pomj2uk",
        "outputId": "32292c6e-194c-40d1-bbbd-4a821fa45f3f"
      },
      "execution_count": 19,
      "outputs": [
        {
          "output_type": "stream",
          "name": "stdout",
          "text": [
            "Number of instances created: 3\n"
          ]
        }
      ]
    },
    {
      "cell_type": "code",
      "source": [
        "'''\n",
        "15. Implement a static method in a class that checks if a given year is a leap year.\n",
        "\n",
        "Ans.\n",
        "'''\n",
        "\n",
        "class YearUtils:\n",
        "\n",
        "    @staticmethod\n",
        "    def is_leap_year(year):\n",
        "        # Check if the year is divisible by 4, and if divisible by 100, also by 400\n",
        "        if (year % 4 == 0 and year % 100 != 0) or (year % 400 == 0):\n",
        "            return True\n",
        "        return False\n",
        "\n",
        "year = 2024\n",
        "if YearUtils.is_leap_year(year):\n",
        "    print(f\"{year} is a leap year.\")\n",
        "else:\n",
        "    print(f\"{year} is not a leap year.\")\n",
        "\n",
        "# Check another year\n",
        "year = 1900\n",
        "if YearUtils.is_leap_year(year):\n",
        "    print(f\"{year} is a leap year.\")\n",
        "else:\n",
        "    print(f\"{year} is not a leap year.\")\n"
      ],
      "metadata": {
        "colab": {
          "base_uri": "https://localhost:8080/"
        },
        "id": "0eZGgeGlkG2-",
        "outputId": "dfb7208a-1cbe-498a-9aff-4a3cfa0a6512"
      },
      "execution_count": 20,
      "outputs": [
        {
          "output_type": "stream",
          "name": "stdout",
          "text": [
            "2024 is a leap year.\n",
            "1900 is not a leap year.\n"
          ]
        }
      ]
    }
  ]
}