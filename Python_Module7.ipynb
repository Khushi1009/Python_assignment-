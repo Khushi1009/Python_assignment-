{
  "nbformat": 4,
  "nbformat_minor": 0,
  "metadata": {
    "colab": {
      "provenance": [],
      "authorship_tag": "ABX9TyOd+W0tKS5Kl+T3CSzwNHfC",
      "include_colab_link": true
    },
    "kernelspec": {
      "name": "python3",
      "display_name": "Python 3"
    },
    "language_info": {
      "name": "python"
    }
  },
  "cells": [
    {
      "cell_type": "markdown",
      "metadata": {
        "id": "view-in-github",
        "colab_type": "text"
      },
      "source": [
        "<a href=\"https://colab.research.google.com/github/Khushi1009/Python_assignment-/blob/main/Python_Module7.ipynb\" target=\"_parent\"><img src=\"https://colab.research.google.com/assets/colab-badge.svg\" alt=\"Open In Colab\"/></a>"
      ]
    },
    {
      "cell_type": "markdown",
      "source": [
        "**Files, exceptional handling, logging and memory management Questions**\n",
        "\n",
        "\n",
        "\n",
        "***1.What is the difference between interpreted and compiled languages***\n",
        "\n",
        "Ans.\n",
        "\n",
        "The key difference between interpreted and compiled languages is how they execute code. Interpreted languages translate and execute code line-by-line at runtime using an interpreter, making them slower but more flexible for debugging and testing.\n",
        "\n",
        "In contrast, compiled languages are translated into machine code by a compiler before execution, resulting in faster performance but requiring recompilation for changes. This distinction affects speed, error handling, and development workflows.\n",
        "\n",
        "\n",
        "***2.What is exception handling in Python?***\n",
        "\n",
        "Ans.\n",
        "\n",
        "-Exception handling in Python is a method to manage runtime errors gracefully, preventing programs from crashing unexpectedly.\n",
        "\n",
        "-It uses `try` blocks to execute code that might raise an exception, and `except` blocks to catch and handle those exceptions.\n",
        "\n",
        "-Optionally, an `else` block can be used to run code if no exception occurs, and a `finally` block ensures that certain cleanup actions, like closing files, are performed regardless of whether an exception was raised.\n",
        "\n",
        "  -For example, dividing by zero or entering invalid input can trigger exceptions, which can be caught and handled with descriptive error messages. This approach enhances program robustness, readability, and ensures smooth execution even when errors occur.\n",
        "\n",
        "\n",
        "\n",
        "**3.What is the purpose of the finally block in exception handlingt**\n",
        "\n",
        "Ans.\n",
        "\n",
        "The purpose of the finally block in exception handling is to ensure that a specific block of code is always executed, regardless of whether an exception occurs or not. It is typically used for cleanup operations, such as closing files, releasing system resources, or resetting variables, to maintain program stability and avoid resource leaks.\n",
        "\n",
        "**4.What is logging in Python**\n",
        "\n",
        "Ans.\n",
        "\n",
        "\n",
        "Logging in Python is a built-in mechanism for tracking events that happen while a program runs. It provides a way to record messages that are useful for debugging, monitoring, and understanding the behavior of applications. Instead of using print statements, logging offers a structured approach with different severity levels and the ability to direct messages to various outputs such as the console, files, or remote servers.\n",
        "\n",
        "Advanced Features\n",
        "\n",
        "-Writing to a File: Logs can be directed to a file using filename in basicConfig.\n",
        "\n",
        "-Custom Loggers: Create separate loggers for different parts of the application.\n",
        "\n",
        "-Filters and Handlers: Filter logs by criteria or use handlers to send logs to multiple destinations.\n",
        "\n",
        "**5.What is the significance of the __del__ method in Python?**\n",
        "\n",
        "Ans.\n",
        "\n",
        "1. **Purpose**: The `__del__` method is a destructor used for resource cleanup (e.g., closing files, releasing memory) before an object is destroyed.\n",
        "2. **Automatic Invocation**: Called automatically when an object is no longer referenced, typically during garbage collection.\n",
        "3. **Unpredictable Timing**: The exact timing of `__del__` invocation depends on Python’s garbage collector and may not occur as expected, especially with circular references or at interpreter shutdown.\n",
        "4. **Best Practices**:\n",
        "   - Avoid placing critical or complex logic in `__del__`.\n",
        "   - Prefer context managers (`with` statements) for predictable resource management.\n",
        "\n",
        "\n",
        "**6.What is the difference between import and from ... import in Python?**\n",
        "\n",
        "Ans.\n",
        "\n",
        "*import Statement*\n",
        "\n",
        "The import statement is used to import an entire module into your program. When you use import, you gain access to all the functions, classes, and variables defined in that module, but you must always use the module name as a prefix when calling them. This is useful for better namespace management and avoiding name conflicts in larger projects.\n",
        "\n",
        "\n",
        "*from ... import Statement*\n",
        "\n",
        "The from ... import statement allows you to import specific items (functions, classes, or variables) directly from a module. With this approach, you can access the imported elements directly without needing to use the module name as a prefix. This can make the code shorter and easier to read, especially if you only need a small part of a module's functionality.\n",
        "\n",
        "The main difference between the two is how much is imported and how we access it:\n",
        "\n",
        "- import brings the entire module into your namespace. You must always use the module name to reference its members. This can make it more explicit which module a function belongs to, enhancing clarity.\n",
        "-from ... import imports only specific objects, allowing you to use them directly without qualification (prefix), but it can lead to namespace conflicts if not handled carefully.\n",
        "\n",
        "**7.How can you handle multiple exceptions in Python?**\n",
        "\n",
        "Ans.\n",
        "\n",
        "In Python, we can handle multiple exceptions effectively to make your code robust and prevent it from crashing unexpectedly. One approach is to use multiple except blocks. This allows you to define specific behavior for each type of exception. For instance, you could catch a ValueError to handle invalid input and a ZeroDivisionError to deal with division by zero. Each except block is tailored to handle one type of exception, making the error handling precise and clear.\n",
        "\n",
        "Another approach is to use a single except block to handle multiple exceptions if they require the same handling. You can achieve this by grouping the exceptions into a tuple and specifying it in the except clause. For example, both ValueError and ZeroDivisionError can be grouped, and a single block can print a generic error message or log the issue.\n",
        "\n",
        "For cases where you want to catch all exceptions, you can use the base Exception class in a generic except block. However, this should be used cautiously because it captures all exceptions, including ones you might not intend to handle. This is typically useful for logging or re-raising exceptions after some processing.\n",
        "\n",
        "Python also provides the else and finally blocks for enhanced control. The else block is executed only if no exceptions occur in the try block, allowing you to define actions that should proceed smoothly when no errors are encountered. The finally block, on the other hand, is executed regardless of whether an exception was raised or not, making it ideal for cleanup tasks like closing files or releasing resources.\n",
        "\n",
        "**8.What is the purpose of the with statement when handling files in Python?**\n",
        "\n",
        "Ans.  The with statement in Python is used to simplify file handling by ensuring that resources, such as files, are properly managed. When working with files, the with statement automatically handles the opening and closing of the file, even if an error occurs during processing. This eliminates the need for explicitly calling file.close() and reduces the likelihood of resource leaks.\n",
        "\n",
        "Automatic Resource Management: The with statement ensures that the file is closed once the block of code inside it is executed, regardless of whether the execution was successful or if an exception occurred. This prevents issues like leaving files open unintentionally.\n",
        "\n",
        "**9.What is the difference between multithreading and multiprocessing?**\n",
        "\n",
        "Ans.\n",
        "\n",
        "\n",
        "Key Differences Between Multithreading and Multiprocessing:\n",
        "\n",
        "\n",
        "Concurrency Approach:\n",
        "\n",
        "\n",
        "\n",
        "*   Multithreading: Runs multiple threads within a single process.\n",
        "*   Multiprocessing: Runs multiple independent processes.\n",
        "\n",
        "Memory Usage:\n",
        "\n",
        "*   Multithreading: Threads share the same memory space.\n",
        "*  Multiprocessing: Each process has its own memory space.\n",
        "Global Interpreter Lock (GIL):\n",
        "\n",
        "*   \n",
        "Multithreading: Affected by GIL in CPython, limiting parallel execution for CPU-bound tasks.\n",
        "* Multiprocessing: Not affected by GIL, enabling true parallelism.\n",
        "\n",
        "Ideal Use Cases:\n",
        "\n",
        "*   Multithreading: Best for I/O-bound tasks like network requests and file operations.\n",
        "*   Multiprocessing: Best for CPU-bound tasks like data processing and heavy computations.\n",
        "\n",
        "Overhead:\n",
        "\n",
        "*  Multithreading: Lightweight with lower memory and initialization overhead.\n",
        "*  Multiprocessing: Higher resource usage due to separate memory and process initialization.\n",
        "\n",
        "\n",
        "Communication:\n",
        "\n",
        "*\n",
        "Multithreading: Faster communication but requires synchronization to avoid conflicts..\n",
        "*  Multiprocessing: Slower communication, typically done via inter-process communication (IPC).\n",
        "\n",
        "\n",
        "**10.What are the advantages of using logging in a program**\n",
        "\n",
        "Ans.\n",
        "\n",
        "\n",
        "\n",
        "\n",
        "\n",
        "*  Debugging Aid: Helps identify and diagnose errors or unexpected behavior.\n",
        "*  State Visibility: Captures application states for better understanding.\n",
        "*   Persistent Record: Maintains a historical record of events for analysis.\n",
        "*  Flexible Levels: Supports log levels (DEBUG, INFO, WARNING, ERROR, CRITICAL) for fine control.\n",
        "*  Centralized Monitoring: Enables aggregation in tools for real-time monitoring.\n",
        "*  Improved Maintainability: Makes code easier to understand and update.\n",
        "*   User Support: Helps support teams troubleshoot user issues effectively.\n",
        "*   Performance Insights: Highlights bottlenecks and scalability challenges.\n",
        "\n",
        "\n",
        "**11.What is memory management in Python**\n",
        "\n",
        "Ans.\n",
        "\n",
        "\n",
        "Memory management in Python refers to how the Python interpreter handles the allocation, use, and deallocation of memory during a program's execution. Python simplifies memory handling by automatically managing memory allocation and deallocation, reducing the risk of memory leaks.\n",
        "\n",
        "\n",
        "The Python Memory Manager is responsible for allocating memory to objects, using a private heap and memory pooling for optimization. Python employs garbage collection to free memory by identifying and cleaning up unused or inaccessible objects. It uses reference counting for most memory tracking and handles cyclic references through garbage collection.\n",
        "\n",
        "\n",
        "Python's dynamic typing allows memory to be allocated at runtime, and small object optimization helps reuse memory for frequently used small objects like integers or short strings. Modules like gc and sys offer developers tools to fine-tune garbage collection and monitor memory usage.\n",
        "\n",
        "\n",
        "While Python's memory management offers benefits like simplicity and efficiency, it has limitations such as the Global Interpreter Lock (GIL) affecting multithreading and non-deterministic garbage collection. Overall, Python's memory management makes coding easier while ensuring optimized memory usage.\n",
        "\n",
        "\n",
        "**12.What are the basic steps involved in exception handling in Python?**\n",
        "\n",
        "Ans.\n",
        "\n",
        "\n",
        "\n",
        "The basic steps involved in exception handling in Python are used to handle runtime errors gracefully without crashing the program. These steps ensure that a program can respond to unexpected situations appropriately. The steps are as follows:\n",
        "\n",
        "\n",
        "1. Use try Block\n",
        "\n",
        "The try block contains the code that might raise an exception. This is where you place the code you want to monitor for errors.\n",
        "\n",
        "2. Catch Exceptions with except\n",
        "\n",
        "The except block defines how the program should handle specific exceptions. You can specify the type of exception to catch or use a general except to catch any exception.\n",
        "\n",
        "3. Optionally Use Multiple except Blocks\n",
        "\n",
        "we can define multiple except blocks to catch different types of exceptions separately\n",
        "\n",
        "4. Use else (Optional)\n",
        "\n",
        "The else block executes only if no exception is raised in the try block. It allows you to run code that should only execute when the try block succeeds\n",
        "\n",
        "\n",
        "**13.Why is memory management important in Python?**\n",
        "\n",
        "Ans.\n",
        "\n",
        "Memory management is important in Python because it ensures that programs run efficiently, use system resources optimally, and avoid crashes caused by memory-related issues. Memory is a limited resource, and Python's memory management system allows programs to allocate memory only when necessary and deallocate it when no longer needed. This prevents memory leaks, which occur when memory is not properly released, by using techniques like garbage collection to clean up unused or unreachable objects.\n",
        "\n",
        "Python's automated memory management simplifies programming by handling memory allocation and deallocation automatically, reducing the burden on developers. This allows developers to focus on application logic rather than manually managing memory. Additionally, Python ensures that objects are destroyed when they are no longer needed, maintaining program stability and preventing application crashes due to memory shortages.\n",
        "\n",
        "Effective memory management also supports scalability, allowing Python applications to handle larger datasets, more simultaneous users, or higher workloads without consuming excessive system resources. Furthermore, memory management optimizes multitasking by ensuring that multiple threads or processes can run concurrently without conflicts.\n",
        "\n",
        "\n",
        "**14.What is the role of try and except in exception handling?**\n",
        "\n",
        " Ans.\n",
        "\n",
        " The try and except blocks are fundamental to exception handling in Python. The try block contains code that might raise an exception (error), while the except block specifies how to handle that exception if it occurs. This allows a program to gracefully handle unexpected situations without crashing. The try block monitors the code for errors, and if an error occurs, the corresponding except block runs, allowing the program to respond appropriately, such as by displaying a message or attempting recovery.\n",
        "\n",
        " **15. How does Python's garbage collection system work**\n",
        "\n",
        " Ans.\n",
        "\n",
        "\n",
        "Python's garbage collection system manages memory by automatically freeing up memory occupied by objects no longer in use. It works using reference counting, where memory is freed when an object's reference count drops to zero. However, reference counting can't handle circular references (when two objects refer to each other). To address this, Python uses cyclic garbage collection, which detects and removes these loops. Additionally, Python implements a generational approach, dividing objects into three generations (0, 1, 2), with more frequent checks in younger generations to optimize performance. Developers can manually control the garbage collection process using the gc module if necessary.\n",
        "\n",
        "**16. What is the purpose of the else block in exception handling?**\n",
        "\n",
        "Ans.\n",
        "\n",
        "The else block in exception handling is an optional part of Python's try-except structure. Its purpose is to execute code only if no exceptions are raised in the try block. This allows you to define operations that should only run when the code runs successfully without any errors.\n",
        "\n",
        "Unlike the except block, which handles errors, the else block runs when the try block completes without any exceptions. This helps separate normal execution logic from error-handling logic.\n",
        "\n",
        "**17. What are the common logging levels in Python?**\n",
        "\n",
        "Ans.\n",
        "\n",
        "Python's logging module has several common logging levels to categorize the severity of log messages:\n",
        "\n",
        "-DEBUG (10): Detailed information useful for diagnosing issues during development.\n",
        "\n",
        "-INFO (20): General information about program execution, like status updates.\n",
        "\n",
        "-WARNING (30): Indicates potential issues or minor problems that don't stop execution.\n",
        "\n",
        "-ERROR (40): Represents errors preventing a function from completing.\n",
        "\n",
        "-CRITICAL (50): The highest severity, indicating a catastrophic failure.\n",
        "\n",
        "These levels help control which messages are logged based on their importance. Developers can set a logging level using logging.basicConfig(level=...) to filter out messages below the set threshold.\n",
        "\n",
        "**18. What is the difference between os.fork() and multiprocessing in Python?**\n",
        "\n",
        "Ans.\n",
        "\n",
        "\n",
        "The primary difference between os.fork() and multiprocessing lies in their functionality, abstraction, and platform support. os.fork() is a low-level system call that creates a child process by duplicating the parent process. After the fork, both parent and child processes run the same code, but with separate memory spaces. It is Unix-specific and does not work on Windows. This method requires manual management of processes and inter-process communication (IPC), making it suitable for developers comfortable with low-level process handling.\n",
        "\n",
        "In contrast, the multiprocessing module is a high-level Python library designed for cross-platform use, making it functional on both Unix and Windows. It provides an abstraction over process creation and comes with built-in tools for process management, IPC, and resource sharing, such as queues and pipes. This module is more user-friendly and ideal for parallel processing tasks, particularly CPU-bound operations, where the overhead of thread-based solutions might be a limitation.\n",
        "\n",
        "For most practical purposes, the multiprocessing module is preferred due to its ease of use, better abstraction, and portability across platforms, whereas os.fork() is reserved for scenarios requiring low-level process control on Unix systems.\n",
        "\n",
        "\n",
        "**19.What is the importance of closing a file in Python?**\n",
        "\n",
        "Ans.\n",
        "\n",
        "Closing a file in Python is important for the following reasons:\n",
        "\n",
        "-Resource Management:\n",
        "When we open a file, the operating system allocates resources to manage it. If we don't close the file, these resources remain in use, potentially leading to memory leaks or other issues.\n",
        "\n",
        "-Data Integrity:\n",
        "Closing a file ensures that any pending data in the buffer is written to the file. If you don't close the file, data loss can occur.\n",
        "\n",
        "-File Locking:\n",
        "Closing a file releases any locks on the file, allowing other processes or threads to access it.\n",
        "\n",
        "-Error Handling:\n",
        "Closing a file can help detect errors, such as permission issues or disk space problems, that might occur during the file operation.\n",
        "\n",
        "\n",
        "**20.What is the difference between file.read() and file.readline() in Python?**\n",
        "\n",
        "Ans.\n",
        "\n",
        "In Python, the `read()` method is used to read a specified number of characters from a file or input stream, while the `readline()` method is used to read a single line from a file or input stream. The `read()` method will read the entire content of the file or stream if no argument is provided, returning a string.\n",
        "\n",
        "**21.What is the logging module in Python used for?**\n",
        "\n",
        "Ans.\n",
        "\n",
        "The logging module in Python is used for recording and managing log messages generated by a program. It provides a flexible framework to track the flow of execution, debug issues, monitor application performance, and handle unexpected events. Unlike simple print statements, the logging module allows developers to categorize messages with different severity levels (DEBUG, INFO, WARNING, ERROR, CRITICAL), format logs for clarity, and save logs to various destinations like files, consoles, or external systems.\n",
        "\n",
        "Logging is particularly useful in production environments for diagnosing problems, monitoring application behavior, and maintaining audit trails without disrupting the normal operation of the program. The module supports configuration of log formats, levels, and output handlers, making it a powerful tool for robust application development.\n",
        "\n",
        "**22.What is the os module in Python used for in file handling?**\n",
        "\n",
        "ANs.\n",
        "\n",
        "\n",
        "The os module in Python is used for interacting with the operating system and performing various file handling operations. It allows developers to create, delete, and manipulate files and directories seamlessly. With the os module, you can perform tasks such as creating directories (os.mkdir), removing files (os.remove), checking if a file or directory exists (os.path.exists), and listing the contents of a directory (os.listdir). It also provides functions to handle and manipulate file paths in a cross-platform way using os.path, ensuring compatibility across different operating systems. Additionally, the module enables retrieval of file metadata like size and permissions and allows management of the working directory (os.getcwd, os.chdir). The os module simplifies complex file system operations, making it an essential tool for file handling in Python.\n",
        "\n",
        "**23.What are the challenges associated with memory management in Python?**\n",
        "\n",
        "Ans.\n",
        "\n",
        "Memory management in Python, while largely automated, presents several challenges that developers may encounter, especially in resource-intensive or long-running applications. These challenges include:\n",
        "\n",
        "-Garbage Collection Overhead:\n",
        "Python's garbage collection system can introduce performance overhead, particularly during cyclic garbage collection. When the garbage collector runs, it may cause temporary pauses in the program, affecting real-time or performance-critical applications.\n",
        "\n",
        "-Circular References:\n",
        "While Python's garbage collector can handle circular references, their detection and cleanup can be complex and time-consuming, potentially leading to inefficiencies in memory usage.\n",
        "\n",
        "-Memory Leaks:\n",
        "Improper coding practices, such as retaining references to unused objects in global variables or data structures, can cause memory leaks, where memory that should be freed remains occupied.\n",
        "\n",
        "-Fragmentation:\n",
        "Repeated allocation and deallocation of memory can lead to fragmentation in the memory pool, reducing the efficiency of memory utilization over time.\n",
        "\n",
        "-Large Object Management:\n",
        "Python may struggle with managing memory for large objects, such as extensive datasets or images, leading to increased memory consumption and potential crashes in systems with limited resources.\n",
        "\n",
        "-Limited Control for Developers:\n",
        "Python's automatic memory management reduces manual effort but also limits developers' ability to fine-tune memory usage. This can be a challenge in applications requiring precise memory control.\n",
        "\n",
        "-Handling Native Extensions:\n",
        "When working with Python libraries that interface with native code (e.g., NumPy, Pandas), memory management may depend on the underlying C or C++ implementations, which Python's garbage collector does not control, leading to potential inconsistencies.\n",
        "\n",
        "-Scalability Issues:\n",
        "In highly scalable applications, Python's Global Interpreter Lock (GIL) and its memory model may pose challenges for efficient parallel processing and memory distribution.\n",
        "\n",
        "**24.How do you raise an exception manually in Python?**\n",
        "\n",
        "Ans.\n",
        "\n",
        "\n",
        "In Python, we can manually raise an exception using the raise statement. This is useful when you want to signal that an error or exceptional condition has occurred in your program.\n",
        "\n",
        "Syntax:\n",
        "\n",
        "raise ExceptionType(\"Custom error message\")\n",
        "\n",
        "Here:\n",
        "\n",
        "ExceptionType: The type of exception you want to raise (e.g., ValueError, TypeError, RuntimeError, or a custom exception).\n",
        "Custom error message: An optional message providing details about the exception.\n",
        "\n",
        "\n",
        "**25.Why is it important to use multithreading in certain applications?**\n",
        "\n",
        "Ans.\n",
        "\n",
        "Multithreading is important in certain applications because it allows a program to perform multiple tasks concurrently, improving responsiveness, resource utilization, and overall performance in specific scenarios. Here’s why multithreading is significant:\n",
        "\n",
        "1.Improved Responsiveness:\n",
        "In applications with user interfaces (e.g., GUI-based apps), multithreading helps maintain responsiveness by running long-running tasks (like file downloads or computations) in a separate thread while the main thread continues to handle user input.\n",
        "\n",
        "2.Concurrency for I/O-bound Tasks:\n",
        "For tasks that spend significant time waiting for external resources, such as reading/writing files or making network requests, multithreading allows other threads to continue execution while one thread waits, increasing program efficiency.\n",
        "\n",
        "3.Efficient Resource Utilization:\n",
        "Multithreading optimally utilizes system resources by allowing tasks to execute concurrently. Even on single-core processors, threads can execute in an interleaved manner, making better use of available CPU cycles.\n",
        "\n",
        "4.Scalability on Multicore Systems:\n",
        "On multicore processors, threads can run in parallel (with the Global Interpreter Lock—GIL—limitation in Python), improving performance for certain types of workloads, especially when using external libraries or implementing thread-safe operations.\n",
        "\n",
        "5.Simplified Design for Concurrent Operations:\n",
        "Multithreading simplifies the design of applications requiring simultaneous operations, such as real-time data processing, background computations, or streaming services.\n",
        "\n",
        "6.Faster Execution for Some Workloads:\n",
        "In scenarios where tasks can be broken down into independent units (e.g., fetching data from multiple APIs or processing images concurrently), multithreading can lead to faster overall execution times.\n",
        "\n"
      ],
      "metadata": {
        "id": "Ff1L-xlDi_17"
      }
    },
    {
      "cell_type": "code",
      "execution_count": 1,
      "metadata": {
        "id": "K-UyLSYtIYDY"
      },
      "outputs": [],
      "source": [
        "#PRACTICAL QUESTIONS\n",
        "\n",
        "#1.How can you open a file for writing in Python and write a string to it?\n",
        "\n",
        "#In Python, we can open a file for writing using the open() function with the mode \"w\" (write mode) and then write a string to it using the write() method. Here's a step-by-step explanation:\n",
        "\n",
        "# Steps:\n",
        "# Open the File: Use open(filename, mode) with \"w\" mode to open a file for writing. If the file does not exist, it will be created. If it exists, its contents will be overwritten.\n",
        "# Write Data: Use the file object's write(string) method to write a string to the file.\n",
        "# Close the File: Use the close() method or a with statement to close the file and ensure the data is saved.\n",
        "\n",
        "#Example Using open() and write():\n",
        "\n",
        "# Open a file in write mode\n",
        "file = open(\"example.txt\", \"w\")\n",
        "\n",
        "# Write a string to the file\n",
        "file.write(\"Hello, world!\")\n",
        "\n",
        "# Close the file\n",
        "file.close()\n"
      ]
    },
    {
      "cell_type": "code",
      "source": [
        "#2.Write a Python program to read the contents of a file and print each line\n",
        "\n",
        "# Open the file in read mode\n",
        "with open(\"example.txt\", \"r\") as file:\n",
        "    # Iterate through each line in the file\n",
        "    for line in file:\n",
        "        # Print the line after stripping extra whitespace\n",
        "        print(line.strip())\n"
      ],
      "metadata": {
        "id": "IigIGtNkBUbJ"
      },
      "execution_count": null,
      "outputs": []
    },
    {
      "cell_type": "code",
      "source": [
        "#3.How would you handle a case where the file doesn't exist while trying to open it for reading?\n",
        "\n",
        "# Open the file in read mode\n",
        "with open(\"example.txt\", \"r\") as file:\n",
        "    # Loop through each line in the file\n",
        "    for line in file:\n",
        "        print(line, end=\"\")  # Print each line as is without adding extra newlines\n"
      ],
      "metadata": {
        "id": "QIuoi9QtBrcs"
      },
      "execution_count": null,
      "outputs": []
    },
    {
      "cell_type": "code",
      "source": [
        "#4.Write a Python script that reads from one file and writes its content to another file.\n",
        "\n",
        "# Open the source file in read mode and the destination file in write mode\n",
        "try:\n",
        "    with open(\"source.txt\", \"r\") as source_file, open(\"destination.txt\", \"w\") as destination_file:\n",
        "        # Read from the source file and write to the destination file\n",
        "        for line in source_file:\n",
        "            destination_file.write(line)\n",
        "\n",
        "    print(\"Content has been successfully copied to destination.txt\")\n",
        "except FileNotFoundError:\n",
        "    print(\"The source file does not exist.\")\n",
        "except Exception as e:\n",
        "    print(f\"An error occurred: {e}\")\n",
        "\n",
        "\n"
      ],
      "metadata": {
        "id": "ZEIUfNFGCA4z"
      },
      "execution_count": null,
      "outputs": []
    },
    {
      "cell_type": "code",
      "source": [
        "#5.How would you catch and handle division by zero error in Python?\n",
        "\n",
        "try:\n",
        "    # Attempt to divide two numbers\n",
        "    numerator = int(input(\"Enter numerator: \"))\n",
        "    denominator = int(input(\"Enter denominator: \"))\n",
        "    result = numerator / denominator\n",
        "except ZeroDivisionError:\n",
        "    # Handle the division by zero error\n",
        "    print(\"Error: Cannot divide by zero.\")\n",
        "except ValueError:\n",
        "    # Handle invalid input (non-integer input) scenario\n",
        "    print(\"Error: Please enter valid integers.\")\n",
        "else:\n",
        "    # If no exception occurs\n",
        "    print(f\"Result is: {result}\")\n",
        "\n"
      ],
      "metadata": {
        "colab": {
          "base_uri": "https://localhost:8080/"
        },
        "id": "eW5pZK-3C590",
        "outputId": "c5fd2cc8-60d7-4b8c-da88-884b07f9637f"
      },
      "execution_count": 6,
      "outputs": [
        {
          "output_type": "stream",
          "name": "stdout",
          "text": [
            "Enter numerator: 20\n",
            "Enter denominator: 0\n",
            "Error: Cannot divide by zero.\n"
          ]
        }
      ]
    },
    {
      "cell_type": "code",
      "source": [
        "#6.Write a Python program that logs an error message to a log file when a division by zero exception occurs.\n",
        "\n",
        "import logging\n",
        "\n",
        "# Configure logging to write error messages to a log file\n",
        "logging.basicConfig(filename=\"error.log\", level=logging.ERROR,\n",
        "                    format=\"%(asctime)s - %(levelname)s - %(message)s\")\n",
        "\n",
        "\n",
        "def perform_division():\n",
        "    try:\n",
        "        # Ask user for input\n",
        "        numerator = int(input(\"Enter numerator: \"))\n",
        "        denominator = int(input(\"Enter denominator: \"))\n",
        "\n",
        "        # Perform division\n",
        "        result = numerator / denominator\n",
        "        print(f\"Result is: {result}\")\n",
        "    except ZeroDivisionError:\n",
        "        # Log the exception to a log file\n",
        "        logging.error(\"Division by zero occurred\")\n",
        "        print(\"Error: Cannot divide by zero.\")\n",
        "    except ValueError:\n",
        "        # Handle invalid non-integer input\n",
        "        logging.error(\"Invalid input. Non-integer value entered\")\n",
        "        print(\"Error: Please enter valid integers.\")\n",
        "\n",
        "\n",
        "# Call the function\n",
        "perform_division()\n",
        "\n"
      ],
      "metadata": {
        "colab": {
          "base_uri": "https://localhost:8080/"
        },
        "id": "00SbMCeEDikj",
        "outputId": "d3303519-8e6a-45d7-a18f-ebf36a57b19c"
      },
      "execution_count": 7,
      "outputs": [
        {
          "name": "stdout",
          "output_type": "stream",
          "text": [
            "Enter numerator: 30\n",
            "Enter denominator: 0\n"
          ]
        },
        {
          "output_type": "stream",
          "name": "stderr",
          "text": [
            "ERROR:root:Division by zero occurred\n"
          ]
        },
        {
          "output_type": "stream",
          "name": "stdout",
          "text": [
            "Error: Cannot divide by zero.\n"
          ]
        }
      ]
    },
    {
      "cell_type": "code",
      "source": [
        "#7.How do you log information at different levels (INFO, ERROR, WARNING) in Python using the logging module?\n",
        "\n",
        "import logging\n",
        "\n",
        "# Configure logging to write to a log file with all levels\n",
        "logging.basicConfig(\n",
        "    filename=\"app.log\",              # Log file name\n",
        "    level=logging.DEBUG,            # Log all levels from DEBUG and higher\n",
        "    format=\"%(asctime)s - %(levelname)s - %(message)s\"  # Log message format\n",
        ")\n",
        "\n",
        "# Log at various levels\n",
        "logging.debug(\"This is a debug message.\")\n",
        "logging.info(\"This is an info message.\")\n",
        "logging.warning(\"This is a warning message.\")\n",
        "logging.error(\"This is an error message.\")\n",
        "logging.critical(\"This is a critical message.\")\n",
        "\n",
        "print(\"Logging example messages to 'app.log'\")\n"
      ],
      "metadata": {
        "colab": {
          "base_uri": "https://localhost:8080/"
        },
        "id": "OaPKB2NJECdp",
        "outputId": "ea6f609a-75b2-47ff-d127-62965a5d0151"
      },
      "execution_count": 8,
      "outputs": [
        {
          "output_type": "stream",
          "name": "stderr",
          "text": [
            "WARNING:root:This is a warning message.\n",
            "ERROR:root:This is an error message.\n",
            "CRITICAL:root:This is a critical message.\n"
          ]
        },
        {
          "output_type": "stream",
          "name": "stdout",
          "text": [
            "Logging example messages to 'app.log'\n"
          ]
        }
      ]
    },
    {
      "cell_type": "code",
      "source": [
        "#8.Write a program to handle a file opening error using exception handling.\n",
        "\n",
        "def open_file(file_path):\n",
        "    try:\n",
        "        # Attempt to open the file\n",
        "        with open(file_path, 'r') as file:\n",
        "            # Read and print file content if successfully opened\n",
        "            content = file.read()\n",
        "            print(\"File opened successfully. Contents are:\")\n",
        "            print(content)\n",
        "    except FileNotFoundError:\n",
        "        # Handle the case where the file does not exist\n",
        "        print(f\"Error: The file '{file_path}' does not exist.\")\n",
        "    except PermissionError:\n",
        "        # Handle the case where the user does not have permission to read the file\n",
        "        print(f\"Error: Permission denied to open the file '{file_path}'.\")\n",
        "    except Exception as e:\n",
        "        # Handle other unexpected exceptions\n",
        "        print(f\"An unexpected error occurred: {e}\")\n",
        "\n",
        "\n",
        "# Example usage\n",
        "file_path = \"example.txt\"  # Set the file path you want to test\n",
        "open_file(file_path)\n"
      ],
      "metadata": {
        "colab": {
          "base_uri": "https://localhost:8080/"
        },
        "id": "L30cj5YWEZmR",
        "outputId": "4ec0272d-096e-4fd8-9bcb-8bfbab215ade"
      },
      "execution_count": 9,
      "outputs": [
        {
          "output_type": "stream",
          "name": "stdout",
          "text": [
            "File opened successfully. Contents are:\n",
            "Hello, world!\n"
          ]
        }
      ]
    },
    {
      "cell_type": "code",
      "source": [
        "#9.How can you read a file line by line and store its content in a list in Python?\n",
        "\n",
        "# Open and read file line by line into a list\n",
        "try:\n",
        "    with open(\"example.txt\", \"r\") as file:\n",
        "        lines = file.readlines()  # Read all lines into a list\n",
        "        print(\"File contents as a list:\")\n",
        "        print(lines)\n",
        "except FileNotFoundError:\n",
        "    print(\"Error: The file does not exist.\")\n",
        "except Exception as e:\n",
        "    print(f\"An unexpected error occurred: {e}\")\n"
      ],
      "metadata": {
        "colab": {
          "base_uri": "https://localhost:8080/"
        },
        "id": "mG0uvRWoEslN",
        "outputId": "931102ac-cbd5-4a28-86f7-c55c0093fde1"
      },
      "execution_count": 10,
      "outputs": [
        {
          "output_type": "stream",
          "name": "stdout",
          "text": [
            "File contents as a list:\n",
            "['Hello, world!']\n"
          ]
        }
      ]
    },
    {
      "cell_type": "code",
      "source": [
        "#10.How can you append data to an existing file in Python\n",
        "\n",
        "# Appending data to a file\n",
        "try:\n",
        "    with open(\"example.txt\", \"a\") as file:\n",
        "        file.write(\"This line will be appended to the file.\\n\")\n",
        "    print(\"Data successfully appended to the file.\")\n",
        "except Exception as e:\n",
        "    print(f\"An error occurred: {e}\")\n"
      ],
      "metadata": {
        "colab": {
          "base_uri": "https://localhost:8080/"
        },
        "id": "bgeFb0FsK4Ao",
        "outputId": "e6f239b6-2a5d-4818-c93c-6b81dd384fbd"
      },
      "execution_count": 11,
      "outputs": [
        {
          "output_type": "stream",
          "name": "stdout",
          "text": [
            "Data successfully appended to the file.\n"
          ]
        }
      ]
    },
    {
      "cell_type": "code",
      "source": [
        "#11.Write a Python program that uses a try-except block to handle an error when attempting to access a dictionary key that doesn't exist\n",
        "\n",
        "# Create a dictionary\n",
        "my_dict = {\n",
        "    \"name\": \"Alice\",\n",
        "    \"age\": 25,\n",
        "    \"city\": \"New York\"\n",
        "}\n",
        "\n",
        "# Attempt to access a key that might not exist\n",
        "try:\n",
        "    # Attempt to access a dictionary key\n",
        "    key_to_access = \"country\"  # Key that does NOT exist in the dictionary\n",
        "    print(f\"Accessing value for key: {key_to_access}\")\n",
        "    value = my_dict[key_to_access]  # Attempt to get value\n",
        "    print(f\"Value found: {value}\")\n",
        "except KeyError:\n",
        "    # Handle the KeyError exception\n",
        "    print(f\"Error: The key '{key_to_access}' does not exist in the dictionary.\")\n"
      ],
      "metadata": {
        "colab": {
          "base_uri": "https://localhost:8080/"
        },
        "id": "pI7O9DOTLVJI",
        "outputId": "ced6e091-21cf-4e12-c09d-b1abccfeacec"
      },
      "execution_count": 12,
      "outputs": [
        {
          "output_type": "stream",
          "name": "stdout",
          "text": [
            "Accessing value for key: country\n",
            "Error: The key 'country' does not exist in the dictionary.\n"
          ]
        }
      ]
    },
    {
      "cell_type": "code",
      "source": [
        "#12.Write a program that demonstrates using multiple except blocks to handle different types of exceptions.\n",
        "\n",
        "# Program demonstrating multiple except blocks\n",
        "def exception_handling_demo():\n",
        "    try:\n",
        "        # Prompt user for input\n",
        "        num1 = int(input(\"Enter the first number: \"))\n",
        "        num2 = int(input(\"Enter the second number: \"))\n",
        "\n",
        "        # Attempt to perform division\n",
        "        result = num1 / num2\n",
        "        print(f\"The result of {num1} / {num2} is: {result}\")\n",
        "\n",
        "    except ValueError:\n",
        "        # Handle invalid input (non-integer values)\n",
        "        print(\"Error: Please enter valid integers.\")\n",
        "    except ZeroDivisionError:\n",
        "        # Handle division by zero\n",
        "        print(\"Error: Division by zero is not allowed.\")\n",
        "    except Exception as e:\n",
        "        # Handle other unexpected exceptions\n",
        "        print(f\"An unexpected error occurred: {e}\")\n",
        "\n",
        "# Call the function\n",
        "exception_handling_demo()\n"
      ],
      "metadata": {
        "colab": {
          "base_uri": "https://localhost:8080/"
        },
        "id": "QAPGV_gcLkh8",
        "outputId": "f0727dff-0a23-4f3e-e486-0c8335164221"
      },
      "execution_count": 13,
      "outputs": [
        {
          "output_type": "stream",
          "name": "stdout",
          "text": [
            "Enter the first number: abs\n",
            "Error: Please enter valid integers.\n"
          ]
        }
      ]
    },
    {
      "cell_type": "code",
      "source": [
        "#13. How would you check if a file exists before attempting to read it in Python?\n",
        "\n",
        "import os\n",
        "\n",
        "# File path to check\n",
        "file_path = \"example.txt\"\n",
        "\n",
        "# Check if the file exists\n",
        "if os.path.exists(file_path):\n",
        "    with open(file_path, \"r\") as file:\n",
        "        content = file.read()\n",
        "        print(\"File content:\")\n",
        "        print(content)\n",
        "else:\n",
        "    print(f\"Error: The file '{file_path}' does not exist.\")\n"
      ],
      "metadata": {
        "colab": {
          "base_uri": "https://localhost:8080/"
        },
        "id": "VbEaBFigL5bA",
        "outputId": "45bb9eab-a700-4343-9035-93a01bf80e2a"
      },
      "execution_count": 14,
      "outputs": [
        {
          "output_type": "stream",
          "name": "stdout",
          "text": [
            "File content:\n",
            "Hello, world!This line will be appended to the file.\n",
            "\n"
          ]
        }
      ]
    },
    {
      "cell_type": "code",
      "source": [
        "#14.Write a program that uses the logging module to log both informational and error messages.\n",
        "\n",
        "import logging\n",
        "\n",
        "# Configure the logger\n",
        "logging.basicConfig(\n",
        "    level=logging.DEBUG,  # Set the logging level\n",
        "    format=\"%(asctime)s - %(levelname)s - %(message)s\",\n",
        "    handlers=[\n",
        "        logging.FileHandler(\"app.log\"),  # Log messages to a file\n",
        "        logging.StreamHandler()         # Display messages on the console\n",
        "    ]\n",
        ")\n",
        "\n",
        "def perform_operations():\n",
        "    try:\n",
        "        logging.info(\"Program started.\")\n",
        "\n",
        "        # Perform some operations\n",
        "        num1 = 10\n",
        "        num2 = 0\n",
        "\n",
        "        logging.info(\"Attempting to divide numbers.\")\n",
        "        result = num1 / num2  # This will raise ZeroDivisionError\n",
        "        logging.info(f\"Division result: {result}\")\n",
        "\n",
        "    except ZeroDivisionError:\n",
        "        logging.error(\"Error: Division by zero occurred.\")\n",
        "    except Exception as e:\n",
        "        logging.error(f\"An unexpected error occurred: {e}\")\n",
        "    finally:\n",
        "        logging.info(\"Program execution completed.\")\n",
        "\n",
        "# Run the function\n",
        "perform_operations()\n"
      ],
      "metadata": {
        "colab": {
          "base_uri": "https://localhost:8080/"
        },
        "id": "NYqhcutaMTzd",
        "outputId": "f8dd8a99-44ed-4bc7-e06a-fbe28c832748"
      },
      "execution_count": 15,
      "outputs": [
        {
          "output_type": "stream",
          "name": "stderr",
          "text": [
            "ERROR:root:Error: Division by zero occurred.\n"
          ]
        }
      ]
    },
    {
      "cell_type": "code",
      "source": [
        "#15.Write a Python program that prints the content of a file and handles the case when the file is empty.\n",
        "\n",
        "def read_file_and_check_empty(file_path):\n",
        "    try:\n",
        "        with open(file_path, \"r\") as file:\n",
        "            content = file.read()\n",
        "\n",
        "            if not content.strip():  # Check if the file content is empty or whitespace\n",
        "                print(f\"The file '{file_path}' is empty.\")\n",
        "            else:\n",
        "                print(\"File content:\")\n",
        "                print(content)\n",
        "\n",
        "    except FileNotFoundError:\n",
        "        print(f\"Error: The file '{file_path}' does not exist.\")\n",
        "    except Exception as e:\n",
        "        print(f\"An unexpected error occurred: {e}\")\n",
        "\n",
        "# Specify the file path\n",
        "file_path = \"example.txt\"\n",
        "\n",
        "# Call the function\n",
        "read_file_and_check_empty(file_path)\n"
      ],
      "metadata": {
        "colab": {
          "base_uri": "https://localhost:8080/"
        },
        "id": "prltEp-cNsjP",
        "outputId": "04afdf80-5db6-408c-d96a-367e3fdb4096"
      },
      "execution_count": 19,
      "outputs": [
        {
          "output_type": "stream",
          "name": "stdout",
          "text": [
            "File content:\n",
            "Hello, world!This line will be appended to the file.\n",
            "\n"
          ]
        }
      ]
    },
    {
      "cell_type": "code",
      "source": [
        "#16.Demonstrate how to use memory profiling to check the memory usage of a small program.\n",
        "\n",
        "import memory_profiler as mp\n",
        "\n",
        "@mp.profile\n",
        "def memory_intensive_function(large_list):\n",
        "    \"\"\"\n",
        "    A sample function that might use a lot of memory by creating large temporary lists.\n",
        "    \"\"\"\n",
        "    temp_list = [x * 2 for x in large_list]\n",
        "    result = [x + 1 for x in temp_list]\n",
        "    return result\n",
        "\n",
        "if __name__ == \"__main__\":\n",
        "    big_data = list(range(100000))  # A large list to test with\n",
        "    memory_intensive_function(big_data)"
      ],
      "metadata": {
        "id": "iAXZ07rdN9WE"
      },
      "execution_count": null,
      "outputs": []
    },
    {
      "cell_type": "code",
      "source": [
        "#17.Write a Python program to create and write a list of numbers to a file, one number per line.\n",
        "\n",
        "# Program to write a list of numbers to a file, one number per line\n",
        "\n",
        "def write_numbers_to_file(filename, numbers):\n",
        "    \"\"\"\n",
        "    Writes a list of numbers to a file, one number per line.\n",
        "\n",
        "    Args:\n",
        "    - filename (str): The name of the file to write to.\n",
        "    - numbers (list): A list of numbers to write to the file.\n",
        "    \"\"\"\n",
        "    try:\n",
        "        with open(filename, 'w') as file:\n",
        "            for number in numbers:\n",
        "                file.write(f\"{number}\\n\")\n",
        "        print(f\"Numbers successfully written to {filename}.\")\n",
        "    except Exception as e:\n",
        "        print(f\"An error occurred: {e}\")\n",
        "\n",
        "if __name__ == \"__main__\":\n",
        "    # Create a list of numbers\n",
        "    numbers = list(range(1, 11))  # Numbers from 1 to 10\n",
        "\n",
        "    # Specify the output file name\n",
        "    output_file = \"numbers.txt\"\n",
        "\n",
        "    # Call the function to write numbers to the file\n",
        "    write_numbers_to_file(output_file, numbers)\n"
      ],
      "metadata": {
        "colab": {
          "base_uri": "https://localhost:8080/"
        },
        "id": "hLW6yGcUOU3T",
        "outputId": "f7ab7d15-0e71-4042-85e9-2a56def905d2"
      },
      "execution_count": 21,
      "outputs": [
        {
          "output_type": "stream",
          "name": "stdout",
          "text": [
            "Numbers successfully written to numbers.txt.\n"
          ]
        }
      ]
    },
    {
      "cell_type": "code",
      "source": [
        "#18.How would you implement a basic logging setup that logs to a file with rotation after 1MB?\n",
        "\n",
        "import logging\n",
        "from logging.handlers import RotatingFileHandler\n",
        "\n",
        "def setup_logging():\n",
        "    \"\"\"\n",
        "    Sets up logging with a RotatingFileHandler that rotates the log file after 1 MB.\n",
        "    \"\"\"\n",
        "    log_file = \"app.log\"  # Name of the log file\n",
        "    max_size = 1 * 1024 * 1024  # 1 MB in bytes\n",
        "    backup_count = 5  # Number of backup log files to keep\n",
        "\n",
        "    # Create a logger\n",
        "    logger = logging.getLogger(\"RotatingLogExample\")\n",
        "    logger.setLevel(logging.DEBUG)\n",
        "\n",
        "    # Create a RotatingFileHandler\n",
        "    handler = RotatingFileHandler(log_file, maxBytes=max_size, backupCount=backup_count)\n",
        "    handler.setLevel(logging.DEBUG)\n",
        "\n",
        "    # Create a log formatter and add it to the handler\n",
        "    formatter = logging.Formatter(\"%(asctime)s - %(levelname)s - %(message)s\")\n",
        "    handler.setFormatter(formatter)\n",
        "\n",
        "    # Add the handler to the logger\n",
        "    logger.addHandler(handler)\n",
        "\n",
        "    return logger\n",
        "\n",
        "if __name__ == \"__main__\":\n",
        "    # Set up the logger\n",
        "    logger = setup_logging()\n",
        "\n",
        "    # Generate log messages to test rotation\n",
        "    for i in range(10000):\n",
        "        logger.debug(f\"Debug log message {i}\")\n",
        "        logger.info(f\"Info log message {i}\")\n",
        "        logger.warning(f\"Warning log message {i}\")\n",
        "        logger.error(f\"Error log message {i}\")\n",
        "        logger.critical(f\"Critical log message {i}\")\n"
      ],
      "metadata": {
        "id": "z-ClObNKOqRM"
      },
      "execution_count": null,
      "outputs": []
    },
    {
      "cell_type": "code",
      "source": [
        "#19.Write a program that handles both IndexError and KeyError using a try-except block.\n",
        "\n",
        "def handle_exceptions():\n",
        "    try:\n",
        "        # Code that might cause IndexError\n",
        "        my_list = [1, 2, 3]\n",
        "        print(\"Accessing list element:\", my_list[5])  # This will cause an IndexError\n",
        "\n",
        "        # Code that might cause KeyError\n",
        "        my_dict = {\"a\": 10, \"b\": 20}\n",
        "        print(\"Accessing dictionary key:\", my_dict[\"c\"])  # This will cause a KeyError\n",
        "\n",
        "    except IndexError as e:\n",
        "        print(f\"IndexError occurred: {e}\")\n",
        "    except KeyError as e:\n",
        "        print(f\"KeyError occurred: {e}\")\n",
        "    else:\n",
        "        print(\"No exceptions occurred!\")\n",
        "    finally:\n",
        "        print(\"Execution completed.\")\n",
        "\n",
        "if __name__ == \"__main__\":\n",
        "    handle_exceptions()\n"
      ],
      "metadata": {
        "colab": {
          "base_uri": "https://localhost:8080/"
        },
        "id": "txMEhOd_Pj1y",
        "outputId": "b9992966-21df-4c83-f6b5-bbe02bd20c31"
      },
      "execution_count": 23,
      "outputs": [
        {
          "output_type": "stream",
          "name": "stdout",
          "text": [
            "IndexError occurred: list index out of range\n",
            "Execution completed.\n"
          ]
        }
      ]
    },
    {
      "cell_type": "code",
      "source": [
        "#20.How would you open a file and read its contents using a context manager in Python?\n",
        "\n",
        "# Using a context manager to open and read a file\n",
        "def read_file_contents(filename):\n",
        "    try:\n",
        "        with open(filename, 'r') as file:  # Open the file using context manager\n",
        "            contents = file.read()  # Read entire contents of the file\n",
        "            print(\"File Contents:\")\n",
        "            print(contents)\n",
        "    except FileNotFoundError:\n",
        "        print(f\"Error: The file '{filename}' was not found.\")\n",
        "    except Exception as e:\n",
        "        print(f\"An error occurred: {e}\")\n",
        "\n",
        "# Call the function\n",
        "if __name__ == \"__main__\":\n",
        "    file_path = \"example.txt\"  # Specify the filename to read\n",
        "    read_file_contents(file_path)\n"
      ],
      "metadata": {
        "colab": {
          "base_uri": "https://localhost:8080/"
        },
        "id": "or5NEFBgP02y",
        "outputId": "ca184eb5-5ac5-457f-c476-05399e9dafe5"
      },
      "execution_count": 24,
      "outputs": [
        {
          "output_type": "stream",
          "name": "stdout",
          "text": [
            "File Contents:\n",
            "Hello, world!This line will be appended to the file.\n",
            "\n"
          ]
        }
      ]
    },
    {
      "cell_type": "code",
      "source": [
        "#21.Write a Python program that reads a file and prints the number of occurrences of a specific word\n",
        "\n",
        "def count_word_occurrences(filename, word_to_count):\n",
        "    \"\"\"\n",
        "    Reads a file and counts the occurrences of a specific word.\n",
        "\n",
        "    Args:\n",
        "    - filename (str): The name of the file to read.\n",
        "    - word_to_count (str): The word whose occurrences need to be counted.\n",
        "    \"\"\"\n",
        "    try:\n",
        "        with open(filename, 'r') as file:  # Open the file using a context manager\n",
        "            # Read all contents and split into words\n",
        "            contents = file.read().split()\n",
        "\n",
        "            # Count occurrences of the specific word\n",
        "            word_count = contents.count(word_to_count)\n",
        "\n",
        "            print(f\"The word '{word_to_count}' appears {word_count} times in the file '{filename}'.\")\n",
        "    except FileNotFoundError:\n",
        "        print(f\"Error: The file '{filename}' does not exist.\")\n",
        "    except Exception as e:\n",
        "        print(f\"An unexpected error occurred: {e}\")\n",
        "\n",
        "\n",
        "# Main execution\n",
        "if __name__ == \"__main__\":\n",
        "    file_path = \"example.txt\"  # Path to your text file\n",
        "    word = \"Python\"  # The word to count in the file\n",
        "\n",
        "    # Call the function to count word occurrences\n",
        "    count_word_occurrences(file_path, word)\n",
        "\n"
      ],
      "metadata": {
        "colab": {
          "base_uri": "https://localhost:8080/"
        },
        "id": "rwRQgDiJQi4z",
        "outputId": "efd822ee-aed9-4157-a449-891d7923eaad"
      },
      "execution_count": 25,
      "outputs": [
        {
          "output_type": "stream",
          "name": "stdout",
          "text": [
            "The word 'Python' appears 0 times in the file 'example.txt'.\n"
          ]
        }
      ]
    },
    {
      "cell_type": "code",
      "source": [
        "#22.How can you check if a file is empty before attempting to read its contents?\n",
        "\n",
        "import os\n",
        "\n",
        "def read_file_if_not_empty(filename):\n",
        "    \"\"\"\n",
        "    Reads the file only if it is not empty.\n",
        "    Args:\n",
        "        filename (str): Path to the file to check and read.\n",
        "    \"\"\"\n",
        "    try:\n",
        "        # Check if the file exists and check its size\n",
        "        if os.path.exists(filename) and os.stat(filename).st_size > 0:\n",
        "            with open(filename, 'r') as file:\n",
        "                contents = file.read()\n",
        "                print(\"File contents:\")\n",
        "                print(contents)\n",
        "        elif os.path.exists(filename):\n",
        "            print(\"The file is empty.\")\n",
        "        else:\n",
        "            print(f\"Error: The file '{filename}' does not exist.\")\n",
        "    except Exception as e:\n",
        "        print(f\"An error occurred: {e}\")\n",
        "\n",
        "# Main execution\n",
        "if __name__ == \"__main__\":\n",
        "    file_path = \"example.txt\"  # Specify your file path\n",
        "    read_file_if_not_empty(file_path)\n"
      ],
      "metadata": {
        "colab": {
          "base_uri": "https://localhost:8080/"
        },
        "id": "yqwvF2ypRLuX",
        "outputId": "ce06419f-7ef8-4b82-9f4f-89c992a7a7fb"
      },
      "execution_count": 26,
      "outputs": [
        {
          "output_type": "stream",
          "name": "stdout",
          "text": [
            "File contents:\n",
            "Hello, world!This line will be appended to the file.\n",
            "\n"
          ]
        }
      ]
    },
    {
      "cell_type": "code",
      "source": [
        "#23.Write a Python program that writes to a log file when an error occurs during file handling\n",
        "\n",
        "import logging\n",
        "\n",
        "# Set up logging to write errors to a log file\n",
        "logging.basicConfig(\n",
        "    filename='error_log.log',\n",
        "    level=logging.ERROR,\n",
        "    format='%(asctime)s - %(levelname)s - %(message)s'\n",
        ")\n",
        "\n",
        "def handle_file_operation(filename):\n",
        "    \"\"\"\n",
        "    Performs file operations and logs any errors encountered.\n",
        "    Args:\n",
        "        filename (str): Path to the file to handle.\n",
        "    \"\"\"\n",
        "    try:\n",
        "        # Attempt to open and read a file\n",
        "        with open(filename, 'r') as file:\n",
        "            contents = file.read()\n",
        "            print(\"File contents successfully read.\")\n",
        "            print(contents)\n",
        "    except FileNotFoundError:\n",
        "        logging.error(f\"File '{filename}' not found.\")\n",
        "        print(f\"Error: File '{filename}' not found.\")\n",
        "    except IOError as e:\n",
        "        logging.error(f\"I/O error occurred while handling file '{filename}': {e}\")\n",
        "        print(f\"Error: An I/O error occurred while handling the file.\")\n",
        "    except Exception as e:\n",
        "        logging.error(f\"Unexpected error: {e}\")\n",
        "        print(\"Error: An unexpected error occurred.\")\n",
        "\n",
        "\n",
        "# Main execution\n",
        "if __name__ == \"__main__\":\n",
        "    file_path = \"example.txt\"  # Replace with the file path you want to test\n",
        "    handle_file_operation(file_path)\n"
      ],
      "metadata": {
        "colab": {
          "base_uri": "https://localhost:8080/"
        },
        "id": "Vx5DK2TbRfal",
        "outputId": "850f8793-6cac-4112-ab40-2c82454d6786"
      },
      "execution_count": 27,
      "outputs": [
        {
          "output_type": "stream",
          "name": "stdout",
          "text": [
            "File contents successfully read.\n",
            "Hello, world!This line will be appended to the file.\n",
            "\n"
          ]
        }
      ]
    }
  ]
}