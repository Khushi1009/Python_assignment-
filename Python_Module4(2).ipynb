{
  "nbformat": 4,
  "nbformat_minor": 0,
  "metadata": {
    "colab": {
      "provenance": [],
      "authorship_tag": "ABX9TyPKTur5nLooz8hVJDOc3JOQ",
      "include_colab_link": true
    },
    "kernelspec": {
      "name": "python3",
      "display_name": "Python 3"
    },
    "language_info": {
      "name": "python"
    }
  },
  "cells": [
    {
      "cell_type": "markdown",
      "metadata": {
        "id": "view-in-github",
        "colab_type": "text"
      },
      "source": [
        "<a href=\"https://colab.research.google.com/github/Khushi1009/Python_assignment-/blob/main/Python_Module4(2).ipynb\" target=\"_parent\"><img src=\"https://colab.research.google.com/assets/colab-badge.svg\" alt=\"Open In Colab\"/></a>"
      ]
    },
    {
      "cell_type": "code",
      "source": [
        "#1.Write a code to reverse a string.\n",
        "\n",
        "def reverse_string(input_string):\n",
        "    return input_string[::-1]\n",
        "\n",
        "original_string = \"Hello, World!\"\n",
        "reversed_string = reverse_string(original_string)\n",
        "print(\"Original String:\", original_string)\n",
        "print(\"Reversed String:\", reversed_string)"
      ],
      "metadata": {
        "id": "of2RLQLlq4Id",
        "colab": {
          "base_uri": "https://localhost:8080/"
        },
        "outputId": "c45a1ef1-5d37-4eea-a1a9-a2d587fd50bc"
      },
      "execution_count": null,
      "outputs": [
        {
          "output_type": "stream",
          "name": "stdout",
          "text": [
            "Original String: Hello, World!\n",
            "Reversed String: !dlroW ,olleH\n"
          ]
        }
      ]
    },
    {
      "cell_type": "code",
      "source": [
        "#2.Write a code to count the number of vowels in a string\n",
        "def count_vowels(input_string):\n",
        "    vowels = \"aeiouAEIOU\"  # List of vowels (both lowercase and uppercase)\n",
        "    count = 0\n",
        "    for char in input_string:\n",
        "        if char in vowels:\n",
        "            count += 1\n",
        "    return count\n",
        "\n",
        "\n",
        "input_string = \"Hello, World!\"\n",
        "vowel_count = count_vowels(input_string)\n",
        "print(\"Input String:\", input_string)\n",
        "print(\"Number of Vowels:\", vowel_count)"
      ],
      "metadata": {
        "colab": {
          "base_uri": "https://localhost:8080/"
        },
        "id": "WzLk9W7CIbY1",
        "outputId": "192964d6-6cd7-4aee-9b55-74b995667dd2"
      },
      "execution_count": null,
      "outputs": [
        {
          "output_type": "stream",
          "name": "stdout",
          "text": [
            "Input String: Hello, World!\n",
            "Number of Vowels: 3\n"
          ]
        }
      ]
    },
    {
      "cell_type": "code",
      "source": [
        "#3.Write a code to check if a given string is a palindrome or not.\n",
        "def is_palindrome(input_string):\n",
        "    # Remove spaces and convert to lowercase for uniformity\n",
        "    cleaned_string = ''.join(char.lower() for char in input_string if char.isalnum())\n",
        "    return cleaned_string == cleaned_string[::-1]\n",
        "\n",
        "# Example usage\n",
        "input_string = \"A man, a plan, a canal, Panama\"\n",
        "if is_palindrome(input_string):\n",
        "    print(f'\"{input_string}\" is a palindrome!')\n",
        "else:\n",
        "    print(f'\"{input_string}\" is not a palindrome.')"
      ],
      "metadata": {
        "colab": {
          "base_uri": "https://localhost:8080/"
        },
        "id": "Uy-4eDbTIoTO",
        "outputId": "6fa8d098-1f22-4317-d1e8-cca95657e764"
      },
      "execution_count": null,
      "outputs": [
        {
          "output_type": "stream",
          "name": "stdout",
          "text": [
            "\"A man, a plan, a canal, Panama\" is a palindrome!\n"
          ]
        }
      ]
    },
    {
      "cell_type": "code",
      "source": [
        "#4.Write a code to check if two given strings are anagrams of each other.\n",
        "def are_anagrams(string1, string2):\n",
        "    # Remove spaces and convert to lowercase for uniformity\n",
        "    cleaned_string1 = ''.join(char.lower() for char in string1 if char.isalnum())\n",
        "    cleaned_string2 = ''.join(char.lower() for char in string2 if char.isalnum())\n",
        "\n",
        "    # Sort and compare\n",
        "    return sorted(cleaned_string1) == sorted(cleaned_string2)\n",
        "\n",
        "# Example usage\n",
        "string1 = \"Listen\"\n",
        "string2 = \"Silent\"\n",
        "if are_anagrams(string1, string2):\n",
        "    print(f'\"{string1}\" and \"{string2}\" are anagrams!')\n",
        "else:\n",
        "    print(f'\"{string1}\" and \"{string2}\" are not anagrams.')"
      ],
      "metadata": {
        "colab": {
          "base_uri": "https://localhost:8080/"
        },
        "id": "o_jZ5zO4I4Sp",
        "outputId": "0bfa5329-b0ed-4404-e91c-5d46c6afdc2f"
      },
      "execution_count": null,
      "outputs": [
        {
          "output_type": "stream",
          "name": "stdout",
          "text": [
            "\"Listen\" and \"Silent\" are anagrams!\n"
          ]
        }
      ]
    },
    {
      "cell_type": "code",
      "source": [
        "#5.Write a code to find all occurrences of a given substring within another string\n",
        "\n",
        "def find_all_occurrences(main_string, substring):\n",
        "    occurrences = []\n",
        "    start = 0\n",
        "    while start < len(main_string):\n",
        "        start = main_string.find(substring, start)\n",
        "        if start == -1:\n",
        "            break\n",
        "        occurrences.append(start)\n",
        "        start += 1  # Move to the next position after the found substring\n",
        "    return occurrences\n",
        "\n",
        "# Example usage\n",
        "main_string = \"This is a test. This test is simple.\"\n",
        "substring = \"test\"\n",
        "positions = find_all_occurrences(main_string, substring)\n",
        "\n",
        "print(f'Occurrences of \"{substring}\" in \"{main_string}\": {positions}')"
      ],
      "metadata": {
        "colab": {
          "base_uri": "https://localhost:8080/"
        },
        "id": "n8zfmbpSJGzA",
        "outputId": "e83c7f68-db58-4ab9-8867-3462519036b4"
      },
      "execution_count": null,
      "outputs": [
        {
          "output_type": "stream",
          "name": "stdout",
          "text": [
            "Occurrences of \"test\" in \"This is a test. This test is simple.\": [10, 21]\n"
          ]
        }
      ]
    },
    {
      "cell_type": "code",
      "source": [
        "#6. Write a code to perform basic string compression using the counts of repeated characters.\n",
        "\n",
        "def compress_string(input_string):\n",
        "    if not input_string:\n",
        "        return \"\"\n",
        "\n",
        "    compressed = []\n",
        "    count = 1\n",
        "\n",
        "    for i in range(1, len(input_string)):\n",
        "        if input_string[i] == input_string[i - 1]:\n",
        "            count += 1\n",
        "        else:\n",
        "            compressed.append(f\"{input_string[i - 1]}{count}\")\n",
        "            count = 1\n",
        "\n",
        "    # Add the last character group\n",
        "    compressed.append(f\"{input_string[-1]}{count}\")\n",
        "\n",
        "    # Convert the list to a string\n",
        "    compressed_string = ''.join(compressed)\n",
        "\n",
        "    # Return the compressed string only if it's shorter than the original\n",
        "    return compressed_string if len(compressed_string) < len(input_string) else input_string\n",
        "\n",
        "# Example usage\n",
        "original_string = \"aabcccccaaa\"\n",
        "compressed = compress_string(original_string)\n",
        "\n",
        "print(f\"Original String: {original_string}\")\n",
        "print(f\"Compressed String: {compressed}\")\n"
      ],
      "metadata": {
        "colab": {
          "base_uri": "https://localhost:8080/"
        },
        "id": "v8ZFSttWJXNA",
        "outputId": "c0299320-6182-448e-ed69-38622968703a"
      },
      "execution_count": null,
      "outputs": [
        {
          "output_type": "stream",
          "name": "stdout",
          "text": [
            "Original String: aabcccccaaa\n",
            "Compressed String: a2b1c5a3\n"
          ]
        }
      ]
    },
    {
      "cell_type": "code",
      "source": [
        "#7. Write a code to determine if a string has all unique characters.\n",
        "\n",
        "def has_all_unique_characters(input_string):\n",
        "    # Use a set to track seen characters\n",
        "    seen_characters = set()\n",
        "    for char in input_string:\n",
        "        if char in seen_characters:\n",
        "            return False  # Duplicate character found\n",
        "        seen_characters.add(char)\n",
        "    return True  # All characters are unique\n",
        "\n",
        "# Example usage\n",
        "input_string = \"abcdefg\"\n",
        "result = has_all_unique_characters(input_string)\n",
        "\n",
        "print(f\"Does '{input_string}' have all unique characters? {result}\")"
      ],
      "metadata": {
        "colab": {
          "base_uri": "https://localhost:8080/"
        },
        "id": "Bxc6IEJnJrAM",
        "outputId": "245755ec-4c3d-4684-8438-3c56639c4a3f"
      },
      "execution_count": null,
      "outputs": [
        {
          "output_type": "stream",
          "name": "stdout",
          "text": [
            "Does 'abcdefg' have all unique characters? True\n"
          ]
        }
      ]
    },
    {
      "cell_type": "code",
      "source": [
        "#8.Write a code to convert a given string to uppercase or lowercase\n",
        "\n",
        "def convert_case(input_string, to_upper=True):\n",
        "    if to_upper:\n",
        "        return input_string.upper()  # Convert to uppercase\n",
        "    else:\n",
        "        return input_string.lower()  # Convert to lowercase\n",
        "\n",
        "# Example usage\n",
        "input_string = \"Hello, World!\"\n",
        "\n",
        "# Convert to uppercase\n",
        "uppercase_string = convert_case(input_string, to_upper=True)\n",
        "print(\"Uppercase:\", uppercase_string)\n",
        "\n",
        "# Convert to lowercase\n",
        "lowercase_string = convert_case(input_string, to_upper=False)\n",
        "print(\"Lowercase:\", lowercase_string)"
      ],
      "metadata": {
        "colab": {
          "base_uri": "https://localhost:8080/"
        },
        "id": "pzbLUxj4J9XN",
        "outputId": "bde21042-4325-45fd-ff20-0f596e9ee441"
      },
      "execution_count": null,
      "outputs": [
        {
          "output_type": "stream",
          "name": "stdout",
          "text": [
            "Uppercase: HELLO, WORLD!\n",
            "Lowercase: hello, world!\n"
          ]
        }
      ]
    },
    {
      "cell_type": "code",
      "source": [
        "#9.Write a code to count the number of words in a string\n",
        "\n",
        "def count_words(input_string):\n",
        "    # Split the string by whitespace and filter out any empty strings\n",
        "    words = input_string.split()\n",
        "    return len(words)\n",
        "\n",
        "# Example usage\n",
        "input_string = \"Hello, how are you doing today?\"\n",
        "word_count = count_words(input_string)\n",
        "\n",
        "print(f\"Input String: \\\"{input_string}\\\"\")\n",
        "print(f\"Number of Words: {word_count}\")"
      ],
      "metadata": {
        "colab": {
          "base_uri": "https://localhost:8080/"
        },
        "id": "nyesro_gKwWD",
        "outputId": "a782935f-3af8-4a55-d264-3dcafb749614"
      },
      "execution_count": null,
      "outputs": [
        {
          "output_type": "stream",
          "name": "stdout",
          "text": [
            "Input String: \"Hello, how are you doing today?\"\n",
            "Number of Words: 6\n"
          ]
        }
      ]
    },
    {
      "cell_type": "code",
      "source": [
        "#10.Write a code to concatenate two strings without using the + operator.\n",
        "def concatenate_strings(str1, str2):\n",
        "    # Use the join method to concatenate strings\n",
        "    return ''.join([str1, str2])\n",
        "\n",
        "# Example usage\n",
        "string1 = \"Hello, \"\n",
        "string2 = \"World!\"\n",
        "result = concatenate_strings(string1, string2)\n",
        "\n",
        "print(f\"Concatenated String: {result}\")\n"
      ],
      "metadata": {
        "colab": {
          "base_uri": "https://localhost:8080/"
        },
        "id": "cWojxO7AMSoS",
        "outputId": "fba2c8da-3e62-4711-a14b-5010b144661d"
      },
      "execution_count": null,
      "outputs": [
        {
          "output_type": "stream",
          "name": "stdout",
          "text": [
            "Concatenated String: Hello, World!\n"
          ]
        }
      ]
    },
    {
      "cell_type": "code",
      "source": [
        "#11.Write a code to remove all occurrences of a specific element from a list.\n",
        "\n",
        "def remove_occurrences(input_list, element):\n",
        "    return [item for item in input_list if item != element]\n",
        "\n",
        "# Example usage\n",
        "my_list = [1, 2, 3, 4, 2, 5, 2]\n",
        "element_to_remove = 2\n",
        "result = remove_occurrences(my_list, element_to_remove)\n",
        "\n",
        "print(f\"Original List: {my_list}\")\n",
        "print(f\"List after removing {element_to_remove}: {result}\")"
      ],
      "metadata": {
        "colab": {
          "base_uri": "https://localhost:8080/"
        },
        "id": "-P8ZfSjWMsBF",
        "outputId": "c687ecd4-a062-4b17-baff-22f1f30b68a9"
      },
      "execution_count": null,
      "outputs": [
        {
          "output_type": "stream",
          "name": "stdout",
          "text": [
            "Original List: [1, 2, 3, 4, 2, 5, 2]\n",
            "List after removing 2: [1, 3, 4, 5]\n"
          ]
        }
      ]
    },
    {
      "cell_type": "code",
      "source": [
        "#12.implement a code to find the second largest number in a given list of integers\n",
        "def second_largest(numbers):\n",
        "    if len(numbers) < 2:\n",
        "        return None  # Return None if there are less than 2 elements\n",
        "    unique_numbers = list(set(numbers))  # Remove duplicates\n",
        "    unique_numbers.sort()  # Sort the list in ascending order\n",
        "    return unique_numbers[-2]  # Return the second last element\n",
        "\n",
        "# Example usage\n",
        "numbers = [10, 20, 4, 45, 99, 20]\n",
        "result = second_largest(numbers)\n",
        "\n",
        "print(f\"The second largest number is: {result}\")\n"
      ],
      "metadata": {
        "colab": {
          "base_uri": "https://localhost:8080/"
        },
        "id": "pM44hr9uNBZa",
        "outputId": "6effb11b-87ec-497f-a076-579f44aebe6a"
      },
      "execution_count": null,
      "outputs": [
        {
          "output_type": "stream",
          "name": "stdout",
          "text": [
            "The second largest number is: 45\n"
          ]
        }
      ]
    },
    {
      "cell_type": "code",
      "source": [
        "#13.Create a code to count the occurrences of each element in a list and return a dictionary with elements as keys and their counts as values\n",
        "def count_occurrences(input_list):\n",
        "    occurrences = {}  # Initialize an empty dictionary\n",
        "    for element in input_list:\n",
        "        if element in occurrences:\n",
        "            occurrences[element] += 1  # Increment the count if the element is already in the dictionary\n",
        "        else:\n",
        "            occurrences[element] = 1  # Initialize the count to 1 for the first occurrence\n",
        "    return occurrences\n",
        "\n",
        "# Example usage\n",
        "my_list = [1, 2, 2, 3, 4, 4, 4, 5, 1]\n",
        "result = count_occurrences(my_list)\n",
        "\n",
        "print(\"Occurrences:\", result)"
      ],
      "metadata": {
        "colab": {
          "base_uri": "https://localhost:8080/"
        },
        "id": "VrjrP8CeO7IP",
        "outputId": "73589a26-1f75-4b22-a59c-d3f167688521"
      },
      "execution_count": null,
      "outputs": [
        {
          "output_type": "stream",
          "name": "stdout",
          "text": [
            "Occurrences: {1: 2, 2: 2, 3: 1, 4: 3, 5: 1}\n"
          ]
        }
      ]
    },
    {
      "cell_type": "code",
      "source": [
        "#14.Write a code to reverse a list in-place without using any built-in reverse functions.\n",
        "\n",
        "def reverse_list_in_place(input_list):\n",
        "    left, right = 0, len(input_list) - 1  # Initialize pointers\n",
        "    while left < right:\n",
        "        # Swap the elements at left and right indices\n",
        "        input_list[left], input_list[right] = input_list[right], input_list[left]\n",
        "        # Move the pointers towards each other\n",
        "        left += 1\n",
        "        right -= 1\n",
        "\n",
        "# Example usage\n",
        "my_list = [1, 2, 3, 4, 5]\n",
        "reverse_list_in_place(my_list)\n",
        "\n",
        "print(\"Reversed List:\", my_list)"
      ],
      "metadata": {
        "colab": {
          "base_uri": "https://localhost:8080/"
        },
        "id": "0h0H6DKaPzt5",
        "outputId": "9d6e9a95-bf00-4ad6-d4a7-c939dbf9cecb"
      },
      "execution_count": null,
      "outputs": [
        {
          "output_type": "stream",
          "name": "stdout",
          "text": [
            "Reversed List: [5, 4, 3, 2, 1]\n"
          ]
        }
      ]
    },
    {
      "cell_type": "code",
      "source": [
        "#15.Implement a code to find and remove duplicates from a list while preserving the original order of elements\n",
        "def remove_duplicates(input_list):\n",
        "    seen = set()  # Set to track seen elements\n",
        "    result = []   # List to store the final result with no duplicates\n",
        "\n",
        "    for element in input_list:\n",
        "        if element not in seen:\n",
        "            result.append(element)  # Add the element to the result list\n",
        "            seen.add(element)  # Mark the element as seen\n",
        "\n",
        "    return result\n",
        "\n",
        "# Example usage\n",
        "my_list = [1, 2, 2, 3, 4, 4, 5, 1]\n",
        "result = remove_duplicates(my_list)\n",
        "\n",
        "print(\"List after removing duplicates:\", result)\n"
      ],
      "metadata": {
        "colab": {
          "base_uri": "https://localhost:8080/"
        },
        "id": "KkqROltuQEua",
        "outputId": "a2844505-e9e6-4b5e-9e7a-2e6c2cb6a4be"
      },
      "execution_count": null,
      "outputs": [
        {
          "output_type": "stream",
          "name": "stdout",
          "text": [
            "List after removing duplicates: [1, 2, 3, 4, 5]\n"
          ]
        }
      ]
    },
    {
      "cell_type": "code",
      "source": [
        "#16.Create a code to check if a given list is sorted (either in ascending or descending order) or not.\n",
        "\n",
        "def check_sorted(input_list):\n",
        "    if input_list == sorted(input_list):\n",
        "        return \"Sorted in ascending order\"\n",
        "    elif input_list == sorted(input_list, reverse=True):\n",
        "        return \"Sorted in descending order\"\n",
        "    else:\n",
        "        return \"Not sorted\"\n",
        "\n",
        "# Example usage\n",
        "my_list = [1, 2, 3, 4, 5]\n",
        "result = check_sorted(my_list)\n",
        "\n",
        "print(f\"List: {my_list}\")\n",
        "print(f\"Status: {result}\")"
      ],
      "metadata": {
        "colab": {
          "base_uri": "https://localhost:8080/"
        },
        "id": "HUfkTYQUQmA6",
        "outputId": "749be2cf-b5e5-400e-da01-f5939b15f3aa"
      },
      "execution_count": null,
      "outputs": [
        {
          "output_type": "stream",
          "name": "stdout",
          "text": [
            "List: [1, 2, 3, 4, 5]\n",
            "Status: Sorted in ascending order\n"
          ]
        }
      ]
    },
    {
      "cell_type": "code",
      "source": [
        "#17.Write a code to merge two sorted lists into a single sorted list.\n",
        "def merge_sorted_lists(list1, list2):\n",
        "    merged_list = []\n",
        "    i, j = 0, 0  # Pointers for both lists\n",
        "\n",
        "    # Merge the two lists by comparing elements\n",
        "    while i < len(list1) and j < len(list2):\n",
        "        if list1[i] < list2[j]:\n",
        "            merged_list.append(list1[i])  # Add smaller element from list1\n",
        "            i += 1\n",
        "        else:\n",
        "            merged_list.append(list2[j])  # Add smaller element from list2\n",
        "            j += 1\n",
        "\n",
        "    # If there are remaining elements in list1, add them\n",
        "    while i < len(list1):\n",
        "        merged_list.append(list1[i])\n",
        "        i += 1\n",
        "\n",
        "    # If there are remaining elements in list2, add them\n",
        "    while j < len(list2):\n",
        "        merged_list.append(list2[j])\n",
        "        j += 1\n",
        "\n",
        "    return merged_list\n",
        "\n",
        "# Example usage\n",
        "list1 = [1, 3, 5, 7]\n",
        "list2 = [2, 4, 6, 8]\n",
        "result = merge_sorted_lists(list1, list2)\n",
        "\n",
        "print(f\"Merged List: {result}\")\n"
      ],
      "metadata": {
        "colab": {
          "base_uri": "https://localhost:8080/"
        },
        "id": "f_zYhntrXmNB",
        "outputId": "ad7f2ca3-23c8-4d67-9909-537210dea639"
      },
      "execution_count": null,
      "outputs": [
        {
          "output_type": "stream",
          "name": "stdout",
          "text": [
            "Merged List: [1, 2, 3, 4, 5, 6, 7, 8]\n"
          ]
        }
      ]
    },
    {
      "cell_type": "code",
      "source": [
        "#18. Implement a code to find the intersection of two given lists.\n",
        "\n",
        "def intersection_of_lists(list1, list2):\n",
        "    # Convert both lists to sets and find the intersection\n",
        "    return list(set(list1) & set(list2))\n",
        "\n",
        "# Example usage\n",
        "list1 = [1, 2, 3, 4, 5]\n",
        "list2 = [4, 5, 6, 7, 8]\n",
        "result = intersection_of_lists(list1, list2)\n",
        "\n",
        "print(f\"Intersection of lists: {result}\")"
      ],
      "metadata": {
        "colab": {
          "base_uri": "https://localhost:8080/"
        },
        "id": "E61fF7LqX0-B",
        "outputId": "8d3e2d38-1be5-4c02-fd07-31e3b6cb20c5"
      },
      "execution_count": null,
      "outputs": [
        {
          "output_type": "stream",
          "name": "stdout",
          "text": [
            "Intersection of lists: [4, 5]\n"
          ]
        }
      ]
    },
    {
      "cell_type": "code",
      "source": [
        "#19.Create a code to find the union of two lists without duplicates.\n",
        "def union_of_lists(list1, list2):\n",
        "    # Convert both lists to sets and take the union\n",
        "    return list(set(list1) | set(list2))\n",
        "\n",
        "# Example usage\n",
        "list1 = [1, 2, 3, 4, 5]\n",
        "list2 = [4, 5, 6, 7, 8]\n",
        "result = union_of_lists(list1, list2)\n",
        "\n",
        "print(f\"Union of lists: {result}\")"
      ],
      "metadata": {
        "colab": {
          "base_uri": "https://localhost:8080/"
        },
        "id": "3T-8QNVJX-rV",
        "outputId": "587ca6ec-9fb0-4c0a-d273-90dfbd44ed02"
      },
      "execution_count": null,
      "outputs": [
        {
          "output_type": "stream",
          "name": "stdout",
          "text": [
            "Union of lists: [1, 2, 3, 4, 5, 6, 7, 8]\n"
          ]
        }
      ]
    },
    {
      "cell_type": "code",
      "source": [
        "#20.Write a code to shuffle a given list randomly without using any built-in shuffle functions.\n",
        "import random\n",
        "\n",
        "def shuffle_list(input_list):\n",
        "    # Fisher-Yates Shuffle Algorithm\n",
        "    n = len(input_list)\n",
        "    for i in range(n - 1, 0, -1):\n",
        "        # Pick a random index from 0 to i\n",
        "        j = random.randint(0, i)\n",
        "        # Swap elements at i and j\n",
        "        input_list[i], input_list[j] = input_list[j], input_list[i]\n",
        "    return input_list\n",
        "\n",
        "# Example usage\n",
        "my_list = [1, 2, 3, 4, 5]\n",
        "shuffled_list = shuffle_list(my_list)\n",
        "\n",
        "print(f\"Shuffled List: {shuffled_list}\")\n",
        "\n"
      ],
      "metadata": {
        "colab": {
          "base_uri": "https://localhost:8080/"
        },
        "id": "G9fxWUJBYPTJ",
        "outputId": "b962c086-20c9-4a44-96d1-ab1d70f3b2f9"
      },
      "execution_count": null,
      "outputs": [
        {
          "output_type": "stream",
          "name": "stdout",
          "text": [
            "Shuffled List: [2, 3, 4, 1, 5]\n"
          ]
        }
      ]
    },
    {
      "cell_type": "code",
      "source": [
        "#21.Write a code that takes two tuples as input and returns a new tuple containing elements that are common to both input tuples\n",
        "\n",
        "def common_elements(tuple1, tuple2):\n",
        "    # Convert both tuples to sets and find the intersection\n",
        "    common_set = set(tuple1) & set(tuple2)\n",
        "    # Convert the set back to a tuple and return it\n",
        "    return tuple(common_set)\n",
        "\n",
        "# Example usage\n",
        "tuple1 = (1, 2, 3, 4, 5)\n",
        "tuple2 = (4, 5, 6, 7, 8)\n",
        "result = common_elements(tuple1, tuple2)\n",
        "\n",
        "print(f\"Common elements: {result}\")\n"
      ],
      "metadata": {
        "colab": {
          "base_uri": "https://localhost:8080/"
        },
        "id": "sKWQHhG5YsgB",
        "outputId": "9e4f4957-0ad3-4323-d5b5-dd5471a4d8d0"
      },
      "execution_count": null,
      "outputs": [
        {
          "output_type": "stream",
          "name": "stdout",
          "text": [
            "Common elements: (4, 5)\n"
          ]
        }
      ]
    },
    {
      "cell_type": "code",
      "source": [
        "#22.Create a code that prompts the user to enter two sets of integers separated by commas. Then, print the intersection of these two sets\n",
        "\n",
        "def get_set_from_input(prompt):\n",
        "    # Prompt the user for input, split by commas, and convert to integers\n",
        "    user_input = input(prompt)\n",
        "    # Convert the input string into a list of integers, and then into a set\n",
        "    user_set = set(map(int, user_input.split(',')))\n",
        "    return user_set\n",
        "\n",
        "def main():\n",
        "    # Prompt the user for two sets\n",
        "    set1 = get_set_from_input(\"Enter the first set of integers (separated by commas): \")\n",
        "    set2 = get_set_from_input(\"Enter the second set of integers (separated by commas): \")\n",
        "\n",
        "    # Find the intersection of the two sets\n",
        "    intersection = set1 & set2\n",
        "\n",
        "    # Print the intersection\n",
        "    print(f\"The intersection of the two sets is: {intersection}\")\n",
        "\n",
        "# Run the program\n",
        "main()\n"
      ],
      "metadata": {
        "colab": {
          "base_uri": "https://localhost:8080/"
        },
        "id": "wSsKA1OTZUoD",
        "outputId": "31227b5b-17a5-4af9-f674-32a505f24202"
      },
      "execution_count": null,
      "outputs": [
        {
          "output_type": "stream",
          "name": "stdout",
          "text": [
            "Enter the first set of integers (separated by commas): 1,2,3,4,5\n",
            "Enter the second set of integers (separated by commas): 4,5,6,7\n",
            "The intersection of the two sets is: {4, 5}\n"
          ]
        }
      ]
    },
    {
      "cell_type": "code",
      "source": [
        "#23.Write a code to concatenate two tuples. The function should take two tuples as input and return a new tuple containing elements from both input tuples.\n",
        "def concatenate_tuples(tuple1, tuple2):\n",
        "    # Concatenate the two tuples and return the result\n",
        "    return tuple1 + tuple2\n",
        "\n",
        "# Example usage\n",
        "tuple1 = (1, 2, 3)\n",
        "tuple2 = (4, 5, 6)\n",
        "result = concatenate_tuples(tuple1, tuple2)\n",
        "\n",
        "print(f\"Concatenated Tuple: {result}\")\n",
        "\n"
      ],
      "metadata": {
        "id": "2eIMLYNOZtaW",
        "colab": {
          "base_uri": "https://localhost:8080/"
        },
        "outputId": "4cc63ec1-87a3-47fa-ccc4-ec8c25431835"
      },
      "execution_count": null,
      "outputs": [
        {
          "output_type": "stream",
          "name": "stdout",
          "text": [
            "Concatenated Tuple: (1, 2, 3, 4, 5, 6)\n"
          ]
        }
      ]
    },
    {
      "cell_type": "code",
      "source": [
        "#24.Develop a code that prompts the user to input two sets of strings. Then, print the elements that are present in the first set but not in the second set.\n",
        "def get_set_from_input(prompt):\n",
        "    # Prompt the user for input, split by commas, and convert to strings\n",
        "    user_input = input(prompt)\n",
        "    # Convert the input string into a list, then to a set\n",
        "    user_set = set(user_input.split(','))\n",
        "    return user_set\n",
        "\n",
        "def main():\n",
        "    # Prompt the user for two sets\n",
        "    set1 = get_set_from_input(\"Enter the first set of strings (separated by commas): \")\n",
        "    set2 = get_set_from_input(\"Enter the second set of strings (separated by commas): \")\n",
        "\n",
        "    # Find elements in set1 but not in set2\n",
        "    difference = set1 - set2\n",
        "\n",
        "    # Print the result\n",
        "    print(f\"Elements in the first set but not in the second set: {difference}\")\n",
        "\n",
        "# Run the program\n",
        "main()\n",
        "\n"
      ],
      "metadata": {
        "id": "arXr32rDaEB1",
        "colab": {
          "base_uri": "https://localhost:8080/"
        },
        "outputId": "36be4fae-8186-4c01-c862-d7e2dc874b7c"
      },
      "execution_count": null,
      "outputs": [
        {
          "output_type": "stream",
          "name": "stdout",
          "text": [
            "Enter the first set of strings (separated by commas): apple,orange, banana\n",
            "Enter the second set of strings (separated by commas): grape, bana\n",
            "Elements in the first set but not in the second set: {'orange', 'apple', ' banana'}\n"
          ]
        }
      ]
    },
    {
      "cell_type": "code",
      "source": [
        "#25.Create a code that takes a tuple and two integers as input. The function should return a new tuple containing elements from the original tuple within the specified range of indices\n",
        "\n",
        "def get_elements_in_range(input_tuple, start_index, end_index):\n",
        "    # Return the elements in the specified range, end_index is exclusive\n",
        "    return input_tuple[start_index:end_index]\n",
        "\n",
        "# Example usage\n",
        "input_tuple = (10, 20, 30, 40, 50, 60, 70)\n",
        "start_index = int(input(\"Enter the start index: \"))\n",
        "end_index = int(input(\"Enter the end index: \"))\n",
        "\n",
        "result = get_elements_in_range(input_tuple, start_index, end_index)\n",
        "\n",
        "print(f\"Elements from index {start_index} to {end_index} are: {result}\")\n"
      ],
      "metadata": {
        "colab": {
          "base_uri": "https://localhost:8080/"
        },
        "id": "YReLiiBaeAYJ",
        "outputId": "8d5d7ff8-7e31-4081-92c8-169d9a8f2589"
      },
      "execution_count": null,
      "outputs": [
        {
          "output_type": "stream",
          "name": "stdout",
          "text": [
            "Enter the start index: 2\n",
            "Enter the end index: 5\n",
            "Elements from index 2 to 5 are: (30, 40, 50)\n"
          ]
        }
      ]
    },
    {
      "cell_type": "code",
      "source": [
        "#26.Write a code that prompts the user to input two sets of characters. Then, print the union of these two sets.\n",
        "def get_set_from_input(prompt):\n",
        "    # Prompt the user for input, split by commas, and convert to a set\n",
        "    user_input = input(prompt)\n",
        "    user_set = set(user_input.split(','))\n",
        "    return user_set\n",
        "\n",
        "def main():\n",
        "    # Prompt the user for two sets\n",
        "    set1 = get_set_from_input(\"Enter the first set of characters (separated by commas): \")\n",
        "    set2 = get_set_from_input(\"Enter the second set of characters (separated by commas): \")\n",
        "\n",
        "    # Find the union of the two sets\n",
        "    union_set = set1 | set2  # Union operator\n",
        "\n",
        "    # Print the result\n",
        "    print(f\"The union of the two sets is: {union_set}\")\n",
        "\n",
        "# Run the program\n",
        "main()\n",
        "\n"
      ],
      "metadata": {
        "colab": {
          "base_uri": "https://localhost:8080/"
        },
        "id": "80Xk3Qv3eTHC",
        "outputId": "d73193d1-98ad-4bde-cccd-3b03dd482b0c"
      },
      "execution_count": null,
      "outputs": [
        {
          "output_type": "stream",
          "name": "stdout",
          "text": [
            "Enter the first set of characters (separated by commas): a,b,c\n",
            "Enter the second set of characters (separated by commas): c,d,e\n",
            "The union of the two sets is: {'b', 'd', 'a', 'c', 'e'}\n"
          ]
        }
      ]
    },
    {
      "cell_type": "code",
      "source": [
        "#27. Develop a code that takes a tuple of integers as input. The function should return the maximum and minimum values from the tuple using tuple unpacking\n",
        "def find_min_max(input_tuple):\n",
        "    # Find the minimum and maximum values\n",
        "    min_value = min(input_tuple)\n",
        "    max_value = max(input_tuple)\n",
        "    # Return the results as a tuple\n",
        "    return min_value, max_value\n",
        "\n",
        "# Example usage\n",
        "input_tuple = tuple(map(int, input(\"Enter integers separated by commas: \").split(',')))\n",
        "min_value, max_value = find_min_max(input_tuple)\n",
        "\n",
        "print(f\"Minimum value: {min_value}\")\n",
        "print(f\"Maximum value: {max_value}\")\n",
        "\n"
      ],
      "metadata": {
        "colab": {
          "base_uri": "https://localhost:8080/"
        },
        "id": "4cOqPhfBek3L",
        "outputId": "5c113c42-2743-4ac1-ef44-d4cad9dd5960"
      },
      "execution_count": null,
      "outputs": [
        {
          "output_type": "stream",
          "name": "stdout",
          "text": [
            "Enter integers separated by commas: 4,7,1,9,3\n",
            "Minimum value: 1\n",
            "Maximum value: 9\n"
          ]
        }
      ]
    },
    {
      "cell_type": "code",
      "source": [
        "#28.Create a code that defines two sets of integers. Then, print the union, intersection, and difference of these two sets\n",
        "\n",
        "def main():\n",
        "    # Define two sets of integers\n",
        "    set1 = {1, 2, 3, 4, 5}\n",
        "    set2 = {4, 5, 6, 7, 8}\n",
        "\n",
        "    # Calculate union, intersection, and difference\n",
        "    union_set = set1 | set2          # Union\n",
        "    intersection_set = set1 & set2  # Intersection\n",
        "    difference_set = set1 - set2    # Difference (elements in set1 but not in set2)\n",
        "\n",
        "    # Print the results\n",
        "    print(f\"Set 1: {set1}\")\n",
        "    print(f\"Set 2: {set2}\")\n",
        "    print(f\"Union: {union_set}\")\n",
        "    print(f\"Intersection: {intersection_set}\")\n",
        "    print(f\"Difference (Set1 - Set2): {difference_set}\")\n",
        "\n",
        "# Run the program\n",
        "main()\n"
      ],
      "metadata": {
        "colab": {
          "base_uri": "https://localhost:8080/"
        },
        "id": "wHdkGxuLe1wn",
        "outputId": "88a65753-d336-44d6-ff4e-5f6a6ed29669"
      },
      "execution_count": null,
      "outputs": [
        {
          "output_type": "stream",
          "name": "stdout",
          "text": [
            "Set 1: {1, 2, 3, 4, 5}\n",
            "Set 2: {4, 5, 6, 7, 8}\n",
            "Union: {1, 2, 3, 4, 5, 6, 7, 8}\n",
            "Intersection: {4, 5}\n",
            "Difference (Set1 - Set2): {1, 2, 3}\n"
          ]
        }
      ]
    },
    {
      "cell_type": "code",
      "source": [
        "#29.Write a code that takes a tuple and an element as input. The function should return the count of occurrences of the given element in the tuple\n",
        "\n",
        "def count_occurrences(input_tuple, element):\n",
        "    # Use the count() method of tuples to find the occurrences of the element\n",
        "    return input_tuple.count(element)\n",
        "\n",
        "# Example usage\n",
        "input_tuple = tuple(map(int, input(\"Enter elements of the tuple separated by commas: \").split(',')))\n",
        "element = int(input(\"Enter the element to count: \"))\n",
        "\n",
        "count = count_occurrences(input_tuple, element)\n",
        "\n",
        "print(f\"The element {element} occurs {count} times in the tuple.\")\n"
      ],
      "metadata": {
        "colab": {
          "base_uri": "https://localhost:8080/"
        },
        "id": "w6B4LSCtfEL-",
        "outputId": "ef66a813-5d72-4a64-ab07-032fd5b5c65e"
      },
      "execution_count": null,
      "outputs": [
        {
          "output_type": "stream",
          "name": "stdout",
          "text": [
            "Enter elements of the tuple separated by commas: 1,2,3,4,5,2\n",
            "Enter the element to count: 2\n",
            "The element 2 occurs 2 times in the tuple.\n"
          ]
        }
      ]
    },
    {
      "cell_type": "code",
      "source": [
        "#30.Develop a code that prompts the user to input two sets of strings. Then, print the symmetric difference of these two sets\n",
        "\n",
        "def get_set_from_input(prompt):\n",
        "    # Prompt the user for input, split by commas, and convert to a set\n",
        "    user_input = input(prompt)\n",
        "    user_set = set(user_input.split(','))\n",
        "    return user_set\n",
        "\n",
        "def main():\n",
        "    # Prompt the user for two sets of strings\n",
        "    set1 = get_set_from_input(\"Enter the first set of strings (separated by commas): \")\n",
        "    set2 = get_set_from_input(\"Enter the second set of strings (separated by commas): \")\n",
        "\n",
        "    # Calculate the symmetric difference\n",
        "    symmetric_diff = set1 ^ set2  # Symmetric difference operator\n",
        "\n",
        "    # Print the result\n",
        "    print(f\"The symmetric difference of the two sets is: {symmetric_diff}\")\n",
        "\n",
        "# Run the program\n",
        "main()\n"
      ],
      "metadata": {
        "colab": {
          "base_uri": "https://localhost:8080/"
        },
        "id": "zX08FeU1fYoM",
        "outputId": "1cbd444a-9445-49dd-ae33-654c0d912c6c"
      },
      "execution_count": null,
      "outputs": [
        {
          "output_type": "stream",
          "name": "stdout",
          "text": [
            "Enter the first set of strings (separated by commas): apple, banana, cherry\n",
            "Enter the second set of strings (separated by commas): banana\n",
            "The symmetric difference of the two sets is: {'apple', 'banana', ' cherry', ' banana'}\n"
          ]
        }
      ]
    },
    {
      "cell_type": "code",
      "source": [
        "#31.Write a code that takes a list of words as input and returns a dictionary where the keys are unique words and the values are the frequencies of those words in the input lis\n",
        "def word_frequencies(words_list):\n",
        "    # Create an empty dictionary to store word counts\n",
        "    frequency_dict = {}\n",
        "\n",
        "    # Loop through each word in the list\n",
        "    for word in words_list:\n",
        "        # Increment the count for each word\n",
        "        frequency_dict[word] = frequency_dict.get(word, 0) + 1\n",
        "\n",
        "    return frequency_dict\n",
        "\n",
        "# Example usage\n",
        "words = input(\"Enter words separated by spaces: \").split()\n",
        "frequencies = word_frequencies(words)\n",
        "\n",
        "print(\"Word Frequencies:\")\n",
        "for word, freq in frequencies.items():\n",
        "    print(f\"{word}: {freq}\")\n"
      ],
      "metadata": {
        "colab": {
          "base_uri": "https://localhost:8080/"
        },
        "id": "5_lIKFicfuoZ",
        "outputId": "3178668d-109f-4865-edbb-3b508ac42264"
      },
      "execution_count": null,
      "outputs": [
        {
          "output_type": "stream",
          "name": "stdout",
          "text": [
            "Enter words separated by spaces: pple banana apple orange banana apple\n",
            "Word Frequencies:\n",
            "pple: 1\n",
            "banana: 2\n",
            "apple: 2\n",
            "orange: 1\n"
          ]
        }
      ]
    },
    {
      "cell_type": "code",
      "source": [
        "#32.Write a code that takes two dictionaries as input and merges them into a single dictionary. If there are common keys, the values should be added together\n",
        "\n",
        "def merge_dictionaries(dict1, dict2):\n",
        "    # Create a new dictionary to store the merged result\n",
        "    merged_dict = dict1.copy()\n",
        "\n",
        "    # Iterate through the second dictionary\n",
        "    for key, value in dict2.items():\n",
        "        # Add the values if the key exists; otherwise, add the key-value pair\n",
        "        merged_dict[key] = merged_dict.get(key, 0) + value\n",
        "\n",
        "    return merged_dict\n",
        "\n",
        "# Example usage\n",
        "dict1 = {'a': 5, 'b': 10, 'c': 15}\n",
        "dict2 = {'b': 5, 'c': 10, 'd': 20}\n",
        "\n",
        "merged_result = merge_dictionaries(dict1, dict2)\n",
        "\n",
        "print(\"Merged Dictionary:\")\n",
        "print(merged_result)\n",
        "\n"
      ],
      "metadata": {
        "id": "SqMwDIQAgCSP",
        "colab": {
          "base_uri": "https://localhost:8080/"
        },
        "outputId": "5673bc0d-ab58-4509-bfed-12793cddf7e9"
      },
      "execution_count": 35,
      "outputs": [
        {
          "output_type": "stream",
          "name": "stdout",
          "text": [
            "Merged Dictionary:\n",
            "{'a': 5, 'b': 15, 'c': 25, 'd': 20}\n"
          ]
        }
      ]
    },
    {
      "cell_type": "code",
      "source": [
        "#33.Write a code to access a value in a nested dictionary. The function should take the dictionary and a list of keys as input, and return the corresponding value. If any of the keys do not exist in the dictionary, the function should return None\n",
        "def get_nested_value(nested_dict, keys):\n",
        "    \"\"\"\n",
        "    Access a value in a nested dictionary.\n",
        "\n",
        "    Parameters:\n",
        "    - nested_dict: The dictionary to search.\n",
        "    - keys: A list of keys specifying the path to the value.\n",
        "\n",
        "    Returns:\n",
        "    - The value if found, otherwise None.\n",
        "    \"\"\"\n",
        "    current = nested_dict\n",
        "    try:\n",
        "        for key in keys:\n",
        "            current = current[key]\n",
        "        return current\n",
        "    except (KeyError, TypeError):\n",
        "        return None\n",
        "\n",
        "# Example usage\n",
        "nested_dict = {\n",
        "    'a': {\n",
        "        'b': {\n",
        "            'c': 42\n",
        "        }\n",
        "    },\n",
        "    'x': {\n",
        "        'y': {\n",
        "            'z': 99\n",
        "        }\n",
        "    }\n",
        "}\n",
        "\n",
        "keys = input(\"Enter the list of keys separated by commas (e.g., a,b,c): \").split(',')\n",
        "\n",
        "value = get_nested_value(nested_dict, keys)\n",
        "\n",
        "if value is not None:\n",
        "    print(f\"Value found: {value}\")\n",
        "else:\n",
        "    print(\"Key path does not exist.\")\n",
        "\n"
      ],
      "metadata": {
        "colab": {
          "base_uri": "https://localhost:8080/"
        },
        "id": "7Nvhea6WhYo_",
        "outputId": "4ec05e82-1f23-429e-ac09-bcd67d0372ef"
      },
      "execution_count": 36,
      "outputs": [
        {
          "output_type": "stream",
          "name": "stdout",
          "text": [
            "Enter the list of keys separated by commas (e.g., a,b,c): q,c,d,\n",
            "Key path does not exist.\n"
          ]
        }
      ]
    },
    {
      "cell_type": "code",
      "source": [
        "#34.Write a code that takes a dictionary as input and returns a sorted version of it based on the values. You can choose whether to sort in ascending or descending order\n",
        "def sort_dict_by_values(input_dict, ascending=True):\n",
        "    \"\"\"\n",
        "    Sorts a dictionary by its values.\n",
        "\n",
        "    Parameters:\n",
        "    - input_dict: The dictionary to be sorted.\n",
        "    - ascending: A boolean indicating sort order (True for ascending, False for descending).\n",
        "\n",
        "    Returns:\n",
        "    - A new dictionary sorted by values.\n",
        "    \"\"\"\n",
        "    # Sort the dictionary by values\n",
        "    sorted_items = sorted(input_dict.items(), key=lambda item: item[1], reverse=not ascending)\n",
        "    # Convert the sorted items back into a dictionary\n",
        "    return dict(sorted_items)\n",
        "\n",
        "# Example usage\n",
        "input_dict = eval(input(\"Enter a dictionary (e.g., {'a': 3, 'b': 1, 'c': 2}): \"))\n",
        "order = input(\"Sort in ascending order? (yes/no): \").strip().lower()\n",
        "\n",
        "sorted_dict = sort_dict_by_values(input_dict, ascending=(order == 'yes'))\n",
        "\n",
        "print(\"Sorted Dictionary:\")\n",
        "print(sorted_dict)\n",
        "\n"
      ],
      "metadata": {
        "colab": {
          "base_uri": "https://localhost:8080/"
        },
        "id": "vtPSZggAhybP",
        "outputId": "1699642f-5e73-416f-8ed8-c7fdc542a10c"
      },
      "execution_count": 37,
      "outputs": [
        {
          "output_type": "stream",
          "name": "stdout",
          "text": [
            "Enter a dictionary (e.g., {'a': 3, 'b': 1, 'c': 2}): {'a': 3, 'b': 1, 'c': 2}\n",
            "Sort in ascending order? (yes/no): yes\n",
            "Sorted Dictionary:\n",
            "{'b': 1, 'c': 2, 'a': 3}\n"
          ]
        }
      ]
    },
    {
      "cell_type": "code",
      "source": [
        "#35.Write a code that inverts a dictionary, swapping keys and values. Ensure that the inverted dictionary correctly handles cases where multiple keys have the same value by storing the keys as a list in the inverted dictionary\n",
        "def invert_dictionary(input_dict):\n",
        "    \"\"\"\n",
        "    Inverts a dictionary, swapping keys and values.\n",
        "    If multiple keys share the same value, the inverted dictionary stores them as a list.\n",
        "\n",
        "    Parameters:\n",
        "    - input_dict: The dictionary to invert.\n",
        "\n",
        "    Returns:\n",
        "    - A dictionary with inverted keys and values.\n",
        "    \"\"\"\n",
        "    inverted_dict = {}\n",
        "    for key, value in input_dict.items():\n",
        "        # If the value is already a key in the inverted dictionary\n",
        "        if value in inverted_dict:\n",
        "            inverted_dict[value].append(key)\n",
        "        else:\n",
        "            inverted_dict[value] = [key]\n",
        "    return inverted_dict\n",
        "\n",
        "# Example usage\n",
        "input_dict = eval(input(\"Enter a dictionary (e.g., {'a': 1, 'b': 2, 'c': 1}): \"))\n",
        "inverted_dict = invert_dictionary(input_dict)\n",
        "\n",
        "print(\"Inverted Dictionary:\")\n",
        "print(inverted_dict)\n",
        "\n"
      ],
      "metadata": {
        "colab": {
          "base_uri": "https://localhost:8080/"
        },
        "id": "JN8ym69-iLUZ",
        "outputId": "f49817dd-90a9-43b6-98a4-9e5b0155c32c"
      },
      "execution_count": 38,
      "outputs": [
        {
          "output_type": "stream",
          "name": "stdout",
          "text": [
            "Enter a dictionary (e.g., {'a': 1, 'b': 2, 'c': 1}): {'a': 1, 'b': 2, 'c': 1}\n",
            "Inverted Dictionary:\n",
            "{1: ['a', 'c'], 2: ['b']}\n"
          ]
        }
      ]
    }
  ]
}