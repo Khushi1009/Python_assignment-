{
  "nbformat": 4,
  "nbformat_minor": 0,
  "metadata": {
    "colab": {
      "provenance": [],
      "authorship_tag": "ABX9TyPqRcP6DWFdd1rWBr/pqvFq",
      "include_colab_link": true
    },
    "kernelspec": {
      "name": "python3",
      "display_name": "Python 3"
    },
    "language_info": {
      "name": "python"
    }
  },
  "cells": [
    {
      "cell_type": "markdown",
      "metadata": {
        "id": "view-in-github",
        "colab_type": "text"
      },
      "source": [
        "<a href=\"https://colab.research.google.com/github/Khushi1009/Python_assignment-/blob/main/Python_Module3.ipynb\" target=\"_parent\"><img src=\"https://colab.research.google.com/assets/colab-badge.svg\" alt=\"Open In Colab\"/></a>"
      ]
    },
    {
      "cell_type": "markdown",
      "source": [
        "1.Explain the key features of Python that make it a popular choice for programming.\n",
        "\n",
        "Ans.\n",
        "\n",
        "1. Simplicity and Readability :Python emphasizes code readability, using a clean and straightforward syntax that makes it easy for developers to write and maintain.\n",
        "Its design philosophy prioritizes readability and reduces the learning curve for beginners.\n",
        "\n",
        "2. Interpreted Language :\n",
        "Python is an interpreted language, which means code is executed line by line without the need for compilation.\n",
        "This feature speeds up development and debugging processes.\n",
        "\n",
        "3. Versatility : Python supports multiple programming paradigms, including procedural, object-oriented, and functional programming.\n",
        "Its flexibility makes it suitable for diverse applications like web development, data analysis, artificial intelligence (AI), machine learning (ML), and more.\n",
        "\n",
        "4. Extensive Standard Library :\n",
        "Python comes with a comprehensive standard library that provides modules and functions for handling tasks like file I/O, string manipulation, internet protocols, and more.\n",
        "This reduces the need to write code from scratch.\n",
        "\n",
        "5. Scalability : Python is suitable for both small-scale scripts and large-scale enterprise applications, making it a scalable choice for various projects.\n",
        "\n",
        "2.Describe the role of predefined keywords in Python and provide examples of how they are used in a program.\n",
        "\n",
        "Ans.\n",
        "\n",
        "Role of Predefined Keywords in Python:\n",
        "\n",
        "Predefined keywords in Python are reserved words that have specific meanings and purposes. These keywords form the backbone of Python's syntax and cannot be used as identifiers (variable names, function names, etc.). They help define the structure and flow of a program by providing instructions to the Python interpreter.\n",
        "\n",
        "Key Characteristics of Python Keywords:\n",
        "\n",
        "_Fixed Purpose: Each keyword has a predefined role and cannot be redefined.\n",
        "\n",
        "-Case-Sensitive: Python keywords are case-sensitive (e.g., if is a keyword, but If is not).\n",
        "\n",
        "-Limited in Number: Python has a concise set of keywords to maintain simplicity. The exact number may vary across versions.\n",
        "\n",
        "\n"
      ],
      "metadata": {
        "id": "Q-NEK_aZcslt"
      }
    },
    {
      "cell_type": "code",
      "source": [
        "#example\n",
        "#Control Flow Keywords\n",
        "#if, elif, else: Used for conditional branching.\n",
        "\n",
        "x = 10\n",
        "if x > 5:\n",
        "    print(\"x is greater than 5\")\n",
        "elif x == 5:\n",
        "    print(\"x is equal to 5\")\n",
        "else:\n",
        "    print(\"x is less than 5\")"
      ],
      "metadata": {
        "colab": {
          "base_uri": "https://localhost:8080/"
        },
        "id": "HO_4Qp2CfdgS",
        "outputId": "c22a3cc8-3b37-4374-b013-fcd72eb48df5"
      },
      "execution_count": null,
      "outputs": [
        {
          "output_type": "stream",
          "name": "stdout",
          "text": [
            "x is greater than 5\n"
          ]
        }
      ]
    },
    {
      "cell_type": "markdown",
      "source": [
        "3.Compare and contrast mutable and immutable objects in Python with examples.\n",
        "\n",
        "Ans.\n",
        "\n",
        "\n",
        "1. Definition\n",
        "\n",
        "Mutable Objects: Can have their content (state) changed after creation without creating a new object.\n",
        "\n",
        "Immutable Objects: Cannot have their content changed after creation; any modification creates a new object.\n",
        "2. Examples\n",
        "\n",
        "Mutable: Lists, dictionaries, sets, bytearrays.\n",
        "\n",
        "Immutable: Integers, floats, strings, tuples, frozensets.\n",
        "3. Memory Behavior\n",
        "\n",
        "Mutable: Changes to the object are made in-place, and the object’s memory address (identity) remains the same.\n",
        "Example: Appending an element to a list modifies the original list at the same memory address.\n",
        "\n",
        "Immutable: Any operation that appears to modify the object actually creates a new object with a new memory address.\n",
        "Example: Concatenating a string creates a new string object.\n",
        "4. Use in Data Structures\n",
        "\n",
        "Mutable: Cannot be used as dictionary keys or elements of sets because their hash value can change, leading to inconsistency.\n",
        "Example: A list cannot be a dictionary key.\n",
        "\n",
        "Immutable: Can be used as dictionary keys or set elements because their hash value remains constant.\n",
        "Example: A tuple can be a dictionary key.\n",
        "5. Performance Implications\n",
        "\n",
        "Mutable: Generally more efficient for operations that involve frequent updates because they avoid creating new objects.\n",
        "\n",
        "Immutable: Safer for concurrent programming because their state cannot be altered by other threads or functions.\n",
        "\n"
      ],
      "metadata": {
        "id": "1MLDkZLeftLn"
      }
    },
    {
      "cell_type": "code",
      "source": [
        "#Mutable example\n",
        "\n",
        "my_list = [1, 2, 3]\n",
        "print(\"Original ID:\", id(my_list))  # Memory address of the list\n",
        "\n",
        "my_list.append(4)\n",
        "print(\"Modified List:\", my_list)   # [1, 2, 3, 4]\n",
        "print(\"Modified ID:\", id(my_list)) # Same memory address"
      ],
      "metadata": {
        "colab": {
          "base_uri": "https://localhost:8080/"
        },
        "id": "8RRuuCibgpB8",
        "outputId": "c46eb3e1-f7e0-4dc6-91bf-cc161038a787"
      },
      "execution_count": null,
      "outputs": [
        {
          "output_type": "stream",
          "name": "stdout",
          "text": [
            "Original ID: 140122525145920\n",
            "Modified List: [1, 2, 3, 4]\n",
            "Modified ID: 140122525145920\n"
          ]
        }
      ]
    },
    {
      "cell_type": "code",
      "source": [
        "#Immutable\n",
        "\n",
        "my_string = \"hello\"\n",
        "print(\"Original ID:\", id(my_string))  # Memory address of the string\n",
        "\n",
        "my_string += \" world\"\n",
        "print(\"Modified String:\", my_string)  # \"hello world\"\n",
        "print(\"Modified ID:\", id(my_string))  # Different memory address"
      ],
      "metadata": {
        "colab": {
          "base_uri": "https://localhost:8080/"
        },
        "id": "V2W-DZ_MgtXm",
        "outputId": "d92f2ecd-e29a-4d6e-c235-d19050e17afd"
      },
      "execution_count": null,
      "outputs": [
        {
          "output_type": "stream",
          "name": "stdout",
          "text": [
            "Original ID: 140122532016240\n",
            "Modified String: hello world\n",
            "Modified ID: 140122520047792\n"
          ]
        }
      ]
    },
    {
      "cell_type": "markdown",
      "source": [
        "1.Discuss the different types of operators in Python and provide examples of how they are used.\n",
        "\n",
        "Ans\n",
        "\n",
        "Types of Operators in Python\n",
        "Python provides a variety of operators to perform different kinds of operations on variables and values. Here’s an explanation of the main types, along with examples:\n",
        "\n",
        "**1. Arithmetic Operators**\n",
        "Arithmetic operators are used to perform basic mathematical calculations like addition, subtraction, multiplication, and division.\n",
        "\n",
        "-Addition (+): Combines two numbers. Example: 5 + 3 results in 8.\n",
        "\n",
        "-Subtraction (-): Finds the difference between two numbers. Example: 10 - 4 results in 6.\n",
        "\n",
        "-Multiplication (*): Multiplies two numbers. Example: 2 * 5 results in 10.\n",
        "\n",
        "-Division (/): Divides one number by another, returning a floating-point result. Example: 10 / 2 results in 5.0.\n",
        "\n",
        "-Floor Division (//): Divides one number by another and truncates the result to an integer. Example: 10 // 3 results in 3.\n",
        "\n",
        "-Modulus (%): Returns the remainder of a division. Example: 10 % 3 results in 1.\n",
        "Exponentiation (**): Raises one number to the power of another. Example: 2 ** 3 results in 8.\n",
        "\n",
        "\n",
        "\n",
        "**2. Assignment Operators**\n",
        "These are used to assign values to variables and optionally perform operations while assigning.\n",
        "\n",
        "Basic assignment (=): Assigns a value to a variable. Example: x = 5.\n",
        "\n",
        "Combined operators like +=, -=, *=, and /= modify the variable in place. For instance, x += 2 is equivalent to x = x + 2.\n",
        "\n",
        "**3. Comparison Operators**\n",
        "Comparison operators are used to compare two values. They return True or False depending on the result.\n",
        "\n",
        "Equality (==): Checks if two values are the same. Example: 5 == 5 returns True.\n",
        "\n",
        "Inequality (!=): Checks if two values are different. Example: 5 != 3 returns True.\n",
        "\n",
        "Greater than (>), Less than (<), Greater than or equal to (>=), and Less than or equal to (<=) are used for relational comparisons.\n",
        "\n",
        " **4. Logical Operators**\n",
        "Logical operators combine conditional statements or Boolean values.\n",
        "\n",
        "and: Returns True if both conditions are true. Example: (5 > 3 and 2 < 4) results in True.\n",
        "\n",
        "or: Returns True if at least one condition is true. Example: (5 > 3 or 2 > 4) results in True.\n",
        "\n",
        "not: Negates a condition. Example: not (5 > 3) results in False.\n",
        "\n",
        "**5. Bitwise Operators**\n",
        "Bitwise operators operate at the binary level of numbers.\n",
        "\n",
        "AND (&): Performs a bit-by-bit AND operation. Example: 5 & 3 (binary 101 & 011) results in 1.\n",
        "\n",
        "OR (|): Performs a bit-by-bit OR operation. Example: 5 | 3 (binary 101 | 011) results in 7.\n",
        "\n",
        "XOR (^): Performs a bit-by-bit exclusive OR operation. Example: 5 ^ 3 results in 6.\n",
        "\n",
        "NOT (~): Inverts the bits. Example: ~5 results in -6.\n",
        "\n",
        "Left Shift (<<): Shifts the bits to the left. Example: 5 << 1 results in 10.\n",
        "\n",
        "Right Shift (>>): Shifts the bits to the right. Example: 5 >> 1 results in 2.\n",
        "\n",
        "**6. Membership Operators**\n",
        "\n",
        "Membership operators test if a value is part of a sequence such as a list, string, or tuple.\n",
        "\n",
        "in: Returns True if the value exists in the sequence. Example: 'a' in 'apple' returns True.\n",
        "\n",
        "not in: Returns True if the value does not exist in the sequence. Example: 'z' not in 'apple' returns True.\n",
        "\n",
        "**7. Identity Operators**\n",
        "Identity operators check if two variables refer to the same object in memory.\n",
        "\n",
        "\n",
        "is: Returns True if two variables point to the same object. Example: x is y.\n",
        "\n",
        "is not: Returns True if two variables point to different objects. Example: x is not y."
      ],
      "metadata": {
        "id": "RDfuYIWuh0dt"
      }
    },
    {
      "cell_type": "code",
      "source": [
        "#example\n",
        "\n",
        "# Arithmetic Operators\n",
        "x = 10\n",
        "y = 3\n",
        "add_result = x + y           # Addition\n",
        "sub_result = x - y           # Subtraction\n",
        "mul_result = x * y           # Multiplication\n",
        "div_result = x / y           # Division\n",
        "mod_result = x % y           # Modulus\n",
        "exp_result = x ** y          # Exponentiation\n",
        "floor_div_result = x // y    # Floor Division\n",
        "\n",
        "print(f\"Arithmetic Results: {add_result}, {sub_result}, {mul_result}, {div_result}, {mod_result}, {exp_result}, {floor_div_result}\")\n",
        "\n",
        "# Assignment Operators\n",
        "z = 5\n",
        "z += 3                       # Add and assign\n",
        "z *= 2                       # Multiply and assign\n",
        "print(f\"Assignment Result: {z}\")\n",
        "\n",
        "# Comparison Operators\n",
        "is_equal = (x == y)          # Equal\n",
        "is_greater = (x > y)         # Greater than\n",
        "is_less_or_equal = (x <= y)  # Less than or equal\n",
        "print(f\"Comparison Results: {is_equal}, {is_greater}, {is_less_or_equal}\")\n",
        "\n",
        "# Logical Operators\n",
        "logical_and = (x > 5 and y < 10)  # Logical AND\n",
        "logical_or = (x < 5 or y < 10)   # Logical OR\n",
        "logical_not = not (x < 5)        # Logical NOT\n",
        "print(f\"Logical Results: {logical_and}, {logical_or}, {logical_not}\")\n",
        "\n",
        "# Bitwise Operators\n",
        "bitwise_and = x & y         # AND\n",
        "bitwise_or = x | y          # OR\n",
        "bitwise_xor = x ^ y         # XOR\n",
        "bitwise_not = ~x            # NOT\n",
        "left_shift = x << 1         # Left shift\n",
        "right_shift = x >> 1        # Right shift\n",
        "print(f\"Bitwise Results: {bitwise_and}, {bitwise_or}, {bitwise_xor}, {bitwise_not}, {left_shift}, {right_shift}\")\n",
        "\n",
        "# Membership Operators\n",
        "fruits = [\"apple\", \"banana\", \"cherry\"]\n",
        "is_in_list = \"apple\" in fruits      # Membership in\n",
        "is_not_in_list = \"grape\" not in fruits  # Membership not in\n",
        "print(f\"Membership Results: {is_in_list}, {is_not_in_list}\")\n",
        "\n",
        "# Identity Operators\n",
        "a = [1, 2, 3]\n",
        "b = a\n",
        "c = [1, 2, 3]\n",
        "is_same_object = (a is b)       # Identity operator\n",
        "is_different_object = (a is not c)  # Identity operator\n",
        "print(f\"Identity Results: {is_same_object}, {is_different_object}\")\n"
      ],
      "metadata": {
        "colab": {
          "base_uri": "https://localhost:8080/"
        },
        "id": "eDNGpFiIkQXB",
        "outputId": "dd8aeb0d-f5a7-4184-e4fb-2cd9b9724d5b"
      },
      "execution_count": null,
      "outputs": [
        {
          "output_type": "stream",
          "name": "stdout",
          "text": [
            "Arithmetic Results: 13, 7, 30, 3.3333333333333335, 1, 1000, 3\n",
            "Assignment Result: 16\n",
            "Comparison Results: False, True, False\n",
            "Logical Results: True, True, True\n",
            "Bitwise Results: 2, 11, 9, -11, 20, 5\n",
            "Membership Results: True, True\n",
            "Identity Results: True, True\n"
          ]
        }
      ]
    },
    {
      "cell_type": "markdown",
      "source": [
        "5.Explain the concept of type casting in Python with example.\n",
        "\n",
        "Ans.\n",
        "\n",
        "1. Explicit Type Casting\n",
        "\n",
        "This is when you manually convert one type to another using Python's built-in functions. Commonly used functions include:\n",
        "\n",
        "int(): Converts a value to an integer.\n",
        "\n",
        "float(): Converts a value to a float.\n",
        "\n",
        "str(): Converts a value to a string.\n",
        "\n",
        "list(): Converts an iterable (like a tuple) to a list.\n",
        "\n",
        "tuple(): Converts an iterable (like a list) to a tuple.\n",
        "\n",
        "\n",
        "2. Implicit Type Casting\n",
        "Python automatically converts one data type to another when required, especially during operations involving mixed data types. This ensures no data is lost in the process."
      ],
      "metadata": {
        "id": "_3KXA6FnkdEc"
      }
    },
    {
      "cell_type": "code",
      "source": [
        "#example\n",
        "\n",
        "# Converting string to integer\n",
        "num_str = \"123\"\n",
        "num_int = int(num_str)\n",
        "print(num_int, type(num_int))  # Output: 123 <class 'int'>\n",
        "\n",
        "# Converting integer to float\n",
        "num_float = float(num_int)\n",
        "print(num_float, type(num_float))  # Output: 123.0 <class 'float'>\n",
        "\n",
        "# Converting list to tuple\n",
        "list_data = [1, 2, 3]\n",
        "tuple_data = tuple(list_data)\n",
        "print(tuple_data, type(tuple_data))  # Output: (1, 2, 3) <class 'tuple'>"
      ],
      "metadata": {
        "colab": {
          "base_uri": "https://localhost:8080/"
        },
        "id": "M7h3-jsBk7XQ",
        "outputId": "16e590af-3bde-48f5-8ae5-170d1fab082e"
      },
      "execution_count": null,
      "outputs": [
        {
          "output_type": "stream",
          "name": "stdout",
          "text": [
            "123 <class 'int'>\n",
            "123.0 <class 'float'>\n",
            "(1, 2, 3) <class 'tuple'>\n"
          ]
        }
      ]
    },
    {
      "cell_type": "code",
      "source": [
        "#6.How do conditional statements work in Python? Illustrate with examples.\n",
        "'''\n",
        "Ans.\n",
        "\n",
        "\n",
        "Conditional Statements in Python\n",
        "Conditional statements allow a program to make decisions and execute specific blocks of code based on whether certain conditions are true or false.\n",
        " Python provides several types of conditional statements using keywords such as if, elif, and else.\n",
        "\n",
        "Types of Conditional Statements\n",
        "1. if Statement: The if statement evaluates a condition. If the condition is True, the code block under it executes; otherwise, it skips to the next statement.\n",
        "\n",
        "Syntax\n",
        "\n",
        "if condition:\n",
        "    Code to execute if condition is True\n",
        "'''\n",
        "\n",
        "age = 18\n",
        "if age >= 18:\n",
        "    print(\"You are eligible to vote.\")\n",
        "\n",
        "'''\n",
        "2. if-else Statement\n",
        "The if-else statement provides an alternative block of code to execute when the condition is False.\n",
        "\n",
        "Syntax:\n",
        "\n",
        "if condition:\n",
        "     Code to execute if condition is True\n",
        "else:\n",
        "     Code to execute if condition is False\n",
        "\n",
        "'''\n",
        "number = 10\n",
        "if number % 2 == 0:\n",
        "    print(\"Even number\")\n",
        "else:\n",
        "    print(\"Odd number\")\n",
        "\n",
        "'''\n",
        "3. if-elif-else Statement\n",
        "The if-elif-else structure is used when there are multiple conditions to check.\n",
        "The first condition that evaluates to True will execute its block, and the rest will be skipped.\n",
        "\n",
        "if condition1:\n",
        "     Code to execute if condition1 is True\n",
        "elif condition2:\n",
        "     Code to execute if condition2 is True\n",
        "else:\n",
        "     Code to execute if no conditions are True\n",
        "'''\n",
        "\n",
        "marks = 85\n",
        "if marks >= 90:\n",
        "    print(\"Grade: A+\")\n",
        "elif marks >= 75:\n",
        "    print(\"Grade: A\")\n",
        "elif marks >= 50:\n",
        "    print(\"Grade: B\")\n",
        "else:\n",
        "    print(\"Grade: F\")\n",
        "\n",
        "\n",
        "'''\n",
        "4. Nested if Statements\n",
        "An if statement can be nested inside another if statement to create complex decision structures.\n",
        "\n",
        "'''\n",
        "age = 20\n",
        "citizen = True\n",
        "if age >= 18:\n",
        "    if citizen:\n",
        "        print(\"You are eligible to vote.\")\n",
        "    else:\n",
        "        print(\"You must be a citizen to vote.\")\n",
        "else:\n",
        "    print(\"You are too young to vote.\")\n",
        "\n",
        "\n",
        "'''\n",
        "How Conditional Statements Work-\n",
        "The program evaluates the condition(s) from top to bottom.\n",
        "If a condition is True, its associated block of code executes, and the program exits the conditional structure.\n",
        "If none of the conditions are True, the else block (if present) executes\n",
        "'''\n"
      ],
      "metadata": {
        "colab": {
          "base_uri": "https://localhost:8080/",
          "height": 122
        },
        "id": "6aTZMyg7lVT5",
        "outputId": "836a398d-57b4-481b-eb58-b01732fc95ae"
      },
      "execution_count": null,
      "outputs": [
        {
          "output_type": "stream",
          "name": "stdout",
          "text": [
            "You are eligible to vote.\n",
            "Even number\n",
            "Grade: A\n",
            "You are eligible to vote.\n"
          ]
        },
        {
          "output_type": "execute_result",
          "data": {
            "text/plain": [
              "'\\nHow Conditional Statements Work-\\nThe program evaluates the condition(s) from top to bottom.\\nIf a condition is True, its associated block of code executes, and the program exits the conditional structure.\\nIf none of the conditions are True, the else block (if present) executes\\n'"
            ],
            "application/vnd.google.colaboratory.intrinsic+json": {
              "type": "string"
            }
          },
          "metadata": {},
          "execution_count": 7
        }
      ]
    },
    {
      "cell_type": "code",
      "source": [
        "'''\n",
        "7.Describe the different types of loops in Python and their use cases with examples.\n",
        "\n",
        "Ans.\n",
        "\n",
        "Types of Loops in Python\n",
        "Loops are constructs that allow repeating a block of code multiple times, either for a fixed number of iterations or until a specific condition is met.\n",
        "Python provides two primary loop types:\n",
        "\n",
        "1. for Loop\n",
        "The for loop is used to iterate over a sequence (like a list, tuple, string, or range). It automatically stops when the sequence ends.\n",
        "\n",
        "Use Case: When you know the number of iterations in advance or want to iterate over elements of a sequence.\n",
        "\n",
        "Syntax:\n",
        "\n",
        "for variable in sequence:\n",
        "    Code to execute\n",
        "'''\n",
        "\n",
        "fruits = [\"apple\", \"banana\", \"cherry\"]\n",
        "for fruit in fruits:\n",
        "    print(fruit)\n",
        "\n",
        "'''\n",
        "2. while Loop\n",
        "The while loop continues as long as its condition is True. It’s useful when the number of iterations isn’t known beforehand.\n",
        "\n",
        "Use Case: When the loop depends on a condition that may change during execution.\n",
        "\n",
        "Syntax:\n",
        "\n",
        "while condition:\n",
        "     Code to execute\n",
        "'''\n",
        "\n",
        "count = 0\n",
        "while count < 3:\n",
        "    print(f\"Count is {count}\")\n",
        "    count += 1"
      ],
      "metadata": {
        "colab": {
          "base_uri": "https://localhost:8080/"
        },
        "id": "tgxc5uyzxIhT",
        "outputId": "572d69cd-b793-4caa-de5e-695518e507ba"
      },
      "execution_count": null,
      "outputs": [
        {
          "output_type": "stream",
          "name": "stdout",
          "text": [
            "apple\n",
            "banana\n",
            "cherry\n",
            "Count is 0\n",
            "Count is 1\n",
            "Count is 2\n"
          ]
        }
      ]
    }
  ]
}